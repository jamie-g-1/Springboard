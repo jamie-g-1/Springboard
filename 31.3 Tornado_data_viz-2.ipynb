{
 "cells": [
  {
   "cell_type": "markdown",
   "id": "f9c0707a-c7d9-47f2-8b20-b9ae2fef78a9",
   "metadata": {},
   "source": [
    "In this notebook I'll be exploring and visualizing United States tornado data collected 1950-2021.\n",
    "Data was downloaded from \n",
    "https://www.kaggle.com/datasets/danbraswell/us-tornado-dataset-1950-2021\n",
    "on 5/2/24.\n",
    "\n",
    "From Kaggle:\n",
    "In the US, tornadoes were originally rated on the Fujita Scale, and since February 2007 on the Enhanced Fujita Scale. The two scales cover slightly different speed ranges, but for practical purposes are the same. The enhanced Fujita scale is shown below.\n",
    "\n",
    "| Rating\t|Wind Speed\t| Damage\n",
    "| ----      | -----     | -----\n",
    "|EF0\t    |65–85 mph\t|Light damage\n",
    "|EF1\t    |86–110 mph\t|Moderate damage\n",
    "|EF2\t    |111–135 mph\t|Considerable damage\n",
    "|EF3\t    |136–165 mph\t|Severe damage\n",
    "|EF4\t    |166–200 mph\t|Devastating damage\n",
    "|EF5\t    |>200 mph\t|Incredible damage\n"
   ]
  },
  {
   "cell_type": "markdown",
   "id": "3b0add12-9ef2-4ba6-9563-e4b16d0327f9",
   "metadata": {},
   "source": [
    "Column definitions:\n",
    "\n",
    "|Term  | Definition\n",
    "|---- | ----\n",
    "|yr | 4-digit year\n",
    "|mn | Month (1-12)\n",
    "|dy | Day of month\n",
    "|date | Datetime object (e.g. 1950-01-01)\n",
    "|st | State where tornado originated; 2-digit abbreviation\n",
    "|mag | F rating thru Jan 2007; EF rating after Jan 2007 (-9 if unknown rating)\n",
    "|inj | Number of injuries\n",
    "|fat | Number of fatalities\n",
    "|slat | Starting latitude in decimal degrees\n",
    "|slon | Starting longitude in decimal degrees\n",
    "|elat | Ending latitude in decimal degrees (value of 0 if missing)\n",
    "|elon | Ending longitude in decimal degrees (value of 0 if missing)\n",
    "|len | Length of track in miles\n",
    "|wid | Width in yards\n"
   ]
  },
  {
   "cell_type": "code",
   "execution_count": 1,
   "id": "45a4e864-90a3-4a7a-9f0d-32a75f6b533b",
   "metadata": {},
   "outputs": [],
   "source": [
    "import pandas as pd\n",
    "import numpy as np\n",
    "import matplotlib.pyplot as plt\n",
    "import seaborn as sns\n",
    "import plotly.express as px"
   ]
  },
  {
   "cell_type": "code",
   "execution_count": 2,
   "id": "6b92cca8-c8b0-4dc8-8ad9-bdcadc1da16a",
   "metadata": {},
   "outputs": [
    {
     "data": {
      "text/html": [
       "<div>\n",
       "<style scoped>\n",
       "    .dataframe tbody tr th:only-of-type {\n",
       "        vertical-align: middle;\n",
       "    }\n",
       "\n",
       "    .dataframe tbody tr th {\n",
       "        vertical-align: top;\n",
       "    }\n",
       "\n",
       "    .dataframe thead th {\n",
       "        text-align: right;\n",
       "    }\n",
       "</style>\n",
       "<table border=\"1\" class=\"dataframe\">\n",
       "  <thead>\n",
       "    <tr style=\"text-align: right;\">\n",
       "      <th></th>\n",
       "      <th>yr</th>\n",
       "      <th>mo</th>\n",
       "      <th>dy</th>\n",
       "      <th>date</th>\n",
       "      <th>st</th>\n",
       "      <th>mag</th>\n",
       "      <th>inj</th>\n",
       "      <th>fat</th>\n",
       "      <th>slat</th>\n",
       "      <th>slon</th>\n",
       "      <th>elat</th>\n",
       "      <th>elon</th>\n",
       "      <th>len</th>\n",
       "      <th>wid</th>\n",
       "    </tr>\n",
       "  </thead>\n",
       "  <tbody>\n",
       "    <tr>\n",
       "      <th>0</th>\n",
       "      <td>1950</td>\n",
       "      <td>1</td>\n",
       "      <td>3</td>\n",
       "      <td>1950-01-03</td>\n",
       "      <td>IL</td>\n",
       "      <td>3</td>\n",
       "      <td>3</td>\n",
       "      <td>0</td>\n",
       "      <td>39.10</td>\n",
       "      <td>-89.30</td>\n",
       "      <td>39.12</td>\n",
       "      <td>-89.23</td>\n",
       "      <td>3.6</td>\n",
       "      <td>130</td>\n",
       "    </tr>\n",
       "    <tr>\n",
       "      <th>1</th>\n",
       "      <td>1950</td>\n",
       "      <td>1</td>\n",
       "      <td>3</td>\n",
       "      <td>1950-01-03</td>\n",
       "      <td>MO</td>\n",
       "      <td>3</td>\n",
       "      <td>3</td>\n",
       "      <td>0</td>\n",
       "      <td>38.77</td>\n",
       "      <td>-90.22</td>\n",
       "      <td>38.83</td>\n",
       "      <td>-90.03</td>\n",
       "      <td>9.5</td>\n",
       "      <td>150</td>\n",
       "    </tr>\n",
       "    <tr>\n",
       "      <th>2</th>\n",
       "      <td>1950</td>\n",
       "      <td>1</td>\n",
       "      <td>3</td>\n",
       "      <td>1950-01-03</td>\n",
       "      <td>OH</td>\n",
       "      <td>1</td>\n",
       "      <td>1</td>\n",
       "      <td>0</td>\n",
       "      <td>40.88</td>\n",
       "      <td>-84.58</td>\n",
       "      <td>0.00</td>\n",
       "      <td>0.00</td>\n",
       "      <td>0.1</td>\n",
       "      <td>10</td>\n",
       "    </tr>\n",
       "    <tr>\n",
       "      <th>3</th>\n",
       "      <td>1950</td>\n",
       "      <td>1</td>\n",
       "      <td>13</td>\n",
       "      <td>1950-01-13</td>\n",
       "      <td>AR</td>\n",
       "      <td>3</td>\n",
       "      <td>1</td>\n",
       "      <td>1</td>\n",
       "      <td>34.40</td>\n",
       "      <td>-94.37</td>\n",
       "      <td>0.00</td>\n",
       "      <td>0.00</td>\n",
       "      <td>0.6</td>\n",
       "      <td>17</td>\n",
       "    </tr>\n",
       "    <tr>\n",
       "      <th>4</th>\n",
       "      <td>1950</td>\n",
       "      <td>1</td>\n",
       "      <td>25</td>\n",
       "      <td>1950-01-25</td>\n",
       "      <td>IL</td>\n",
       "      <td>2</td>\n",
       "      <td>0</td>\n",
       "      <td>0</td>\n",
       "      <td>41.17</td>\n",
       "      <td>-87.33</td>\n",
       "      <td>0.00</td>\n",
       "      <td>0.00</td>\n",
       "      <td>0.1</td>\n",
       "      <td>100</td>\n",
       "    </tr>\n",
       "  </tbody>\n",
       "</table>\n",
       "</div>"
      ],
      "text/plain": [
       "     yr  mo  dy        date  st  mag  inj  fat   slat   slon   elat   elon  \\\n",
       "0  1950   1   3  1950-01-03  IL    3    3    0  39.10 -89.30  39.12 -89.23   \n",
       "1  1950   1   3  1950-01-03  MO    3    3    0  38.77 -90.22  38.83 -90.03   \n",
       "2  1950   1   3  1950-01-03  OH    1    1    0  40.88 -84.58   0.00   0.00   \n",
       "3  1950   1  13  1950-01-13  AR    3    1    1  34.40 -94.37   0.00   0.00   \n",
       "4  1950   1  25  1950-01-25  IL    2    0    0  41.17 -87.33   0.00   0.00   \n",
       "\n",
       "   len  wid  \n",
       "0  3.6  130  \n",
       "1  9.5  150  \n",
       "2  0.1   10  \n",
       "3  0.6   17  \n",
       "4  0.1  100  "
      ]
     },
     "execution_count": 2,
     "metadata": {},
     "output_type": "execute_result"
    }
   ],
   "source": [
    "df = pd.read_csv('us_tornado_dataset_1950_2021.csv')\n",
    "df.head()"
   ]
  },
  {
   "cell_type": "code",
   "execution_count": 3,
   "id": "b776862f-53e5-415b-8c8f-d7934e4c8873",
   "metadata": {},
   "outputs": [
    {
     "data": {
      "text/plain": [
       "yr      0\n",
       "mo      0\n",
       "dy      0\n",
       "date    0\n",
       "st      0\n",
       "mag     0\n",
       "inj     0\n",
       "fat     0\n",
       "slat    0\n",
       "slon    0\n",
       "elat    0\n",
       "elon    0\n",
       "len     0\n",
       "wid     0\n",
       "dtype: int64"
      ]
     },
     "execution_count": 3,
     "metadata": {},
     "output_type": "execute_result"
    }
   ],
   "source": [
    "#Check if data contains nulls\n",
    "df.isnull().sum()"
   ]
  },
  {
   "cell_type": "code",
   "execution_count": 4,
   "id": "db0b0125-a359-49f5-81b8-788cfd92448b",
   "metadata": {},
   "outputs": [
    {
     "name": "stdout",
     "output_type": "stream",
     "text": [
      "<class 'pandas.core.frame.DataFrame'>\n",
      "RangeIndex: 67558 entries, 0 to 67557\n",
      "Data columns (total 14 columns):\n",
      " #   Column  Non-Null Count  Dtype  \n",
      "---  ------  --------------  -----  \n",
      " 0   yr      67558 non-null  int64  \n",
      " 1   mo      67558 non-null  int64  \n",
      " 2   dy      67558 non-null  int64  \n",
      " 3   date    67558 non-null  object \n",
      " 4   st      67558 non-null  object \n",
      " 5   mag     67558 non-null  int64  \n",
      " 6   inj     67558 non-null  int64  \n",
      " 7   fat     67558 non-null  int64  \n",
      " 8   slat    67558 non-null  float64\n",
      " 9   slon    67558 non-null  float64\n",
      " 10  elat    67558 non-null  float64\n",
      " 11  elon    67558 non-null  float64\n",
      " 12  len     67558 non-null  float64\n",
      " 13  wid     67558 non-null  int64  \n",
      "dtypes: float64(5), int64(7), object(2)\n",
      "memory usage: 7.2+ MB\n"
     ]
    }
   ],
   "source": [
    "df.info()"
   ]
  },
  {
   "cell_type": "code",
   "execution_count": 5,
   "id": "b7c34987-f22b-455d-a9ef-ab232c85938b",
   "metadata": {},
   "outputs": [
    {
     "data": {
      "text/html": [
       "<div>\n",
       "<style scoped>\n",
       "    .dataframe tbody tr th:only-of-type {\n",
       "        vertical-align: middle;\n",
       "    }\n",
       "\n",
       "    .dataframe tbody tr th {\n",
       "        vertical-align: top;\n",
       "    }\n",
       "\n",
       "    .dataframe thead th {\n",
       "        text-align: right;\n",
       "    }\n",
       "</style>\n",
       "<table border=\"1\" class=\"dataframe\">\n",
       "  <thead>\n",
       "    <tr style=\"text-align: right;\">\n",
       "      <th></th>\n",
       "      <th>count</th>\n",
       "      <th>mean</th>\n",
       "      <th>std</th>\n",
       "      <th>min</th>\n",
       "      <th>25%</th>\n",
       "      <th>50%</th>\n",
       "      <th>75%</th>\n",
       "      <th>max</th>\n",
       "    </tr>\n",
       "  </thead>\n",
       "  <tbody>\n",
       "    <tr>\n",
       "      <th>yr</th>\n",
       "      <td>67558.0</td>\n",
       "      <td>1991.341618</td>\n",
       "      <td>19.330015</td>\n",
       "      <td>1950.0000</td>\n",
       "      <td>1976.0000</td>\n",
       "      <td>1994.00</td>\n",
       "      <td>2008.00</td>\n",
       "      <td>2021.0000</td>\n",
       "    </tr>\n",
       "    <tr>\n",
       "      <th>mo</th>\n",
       "      <td>67558.0</td>\n",
       "      <td>5.976761</td>\n",
       "      <td>2.438192</td>\n",
       "      <td>1.0000</td>\n",
       "      <td>4.0000</td>\n",
       "      <td>6.00</td>\n",
       "      <td>7.00</td>\n",
       "      <td>12.0000</td>\n",
       "    </tr>\n",
       "    <tr>\n",
       "      <th>dy</th>\n",
       "      <td>67558.0</td>\n",
       "      <td>15.921016</td>\n",
       "      <td>8.736773</td>\n",
       "      <td>1.0000</td>\n",
       "      <td>8.0000</td>\n",
       "      <td>16.00</td>\n",
       "      <td>24.00</td>\n",
       "      <td>31.0000</td>\n",
       "    </tr>\n",
       "    <tr>\n",
       "      <th>mag</th>\n",
       "      <td>67558.0</td>\n",
       "      <td>0.691273</td>\n",
       "      <td>1.283375</td>\n",
       "      <td>-9.0000</td>\n",
       "      <td>0.0000</td>\n",
       "      <td>1.00</td>\n",
       "      <td>1.00</td>\n",
       "      <td>5.0000</td>\n",
       "    </tr>\n",
       "    <tr>\n",
       "      <th>inj</th>\n",
       "      <td>67558.0</td>\n",
       "      <td>1.437876</td>\n",
       "      <td>18.263956</td>\n",
       "      <td>0.0000</td>\n",
       "      <td>0.0000</td>\n",
       "      <td>0.00</td>\n",
       "      <td>0.00</td>\n",
       "      <td>1740.0000</td>\n",
       "    </tr>\n",
       "    <tr>\n",
       "      <th>fat</th>\n",
       "      <td>67558.0</td>\n",
       "      <td>0.090470</td>\n",
       "      <td>1.484106</td>\n",
       "      <td>0.0000</td>\n",
       "      <td>0.0000</td>\n",
       "      <td>0.00</td>\n",
       "      <td>0.00</td>\n",
       "      <td>158.0000</td>\n",
       "    </tr>\n",
       "    <tr>\n",
       "      <th>slat</th>\n",
       "      <td>67558.0</td>\n",
       "      <td>37.142412</td>\n",
       "      <td>5.093979</td>\n",
       "      <td>17.7212</td>\n",
       "      <td>33.2200</td>\n",
       "      <td>37.03</td>\n",
       "      <td>40.93</td>\n",
       "      <td>61.0200</td>\n",
       "    </tr>\n",
       "    <tr>\n",
       "      <th>slon</th>\n",
       "      <td>67558.0</td>\n",
       "      <td>-92.784618</td>\n",
       "      <td>8.689103</td>\n",
       "      <td>-163.5300</td>\n",
       "      <td>-98.4500</td>\n",
       "      <td>-93.60</td>\n",
       "      <td>-86.73</td>\n",
       "      <td>-64.7151</td>\n",
       "    </tr>\n",
       "    <tr>\n",
       "      <th>elat</th>\n",
       "      <td>67558.0</td>\n",
       "      <td>22.730695</td>\n",
       "      <td>18.588638</td>\n",
       "      <td>0.0000</td>\n",
       "      <td>0.0000</td>\n",
       "      <td>32.48</td>\n",
       "      <td>38.61</td>\n",
       "      <td>61.0200</td>\n",
       "    </tr>\n",
       "    <tr>\n",
       "      <th>elon</th>\n",
       "      <td>67558.0</td>\n",
       "      <td>-56.245590</td>\n",
       "      <td>45.489157</td>\n",
       "      <td>-163.5300</td>\n",
       "      <td>-94.7098</td>\n",
       "      <td>-84.42</td>\n",
       "      <td>0.00</td>\n",
       "      <td>0.0000</td>\n",
       "    </tr>\n",
       "    <tr>\n",
       "      <th>len</th>\n",
       "      <td>67558.0</td>\n",
       "      <td>3.478340</td>\n",
       "      <td>8.278775</td>\n",
       "      <td>0.0000</td>\n",
       "      <td>0.1000</td>\n",
       "      <td>0.80</td>\n",
       "      <td>3.13</td>\n",
       "      <td>234.7000</td>\n",
       "    </tr>\n",
       "    <tr>\n",
       "      <th>wid</th>\n",
       "      <td>67558.0</td>\n",
       "      <td>106.577030</td>\n",
       "      <td>205.802676</td>\n",
       "      <td>0.0000</td>\n",
       "      <td>20.0000</td>\n",
       "      <td>50.00</td>\n",
       "      <td>100.00</td>\n",
       "      <td>4576.0000</td>\n",
       "    </tr>\n",
       "  </tbody>\n",
       "</table>\n",
       "</div>"
      ],
      "text/plain": [
       "        count         mean         std        min        25%      50%  \\\n",
       "yr    67558.0  1991.341618   19.330015  1950.0000  1976.0000  1994.00   \n",
       "mo    67558.0     5.976761    2.438192     1.0000     4.0000     6.00   \n",
       "dy    67558.0    15.921016    8.736773     1.0000     8.0000    16.00   \n",
       "mag   67558.0     0.691273    1.283375    -9.0000     0.0000     1.00   \n",
       "inj   67558.0     1.437876   18.263956     0.0000     0.0000     0.00   \n",
       "fat   67558.0     0.090470    1.484106     0.0000     0.0000     0.00   \n",
       "slat  67558.0    37.142412    5.093979    17.7212    33.2200    37.03   \n",
       "slon  67558.0   -92.784618    8.689103  -163.5300   -98.4500   -93.60   \n",
       "elat  67558.0    22.730695   18.588638     0.0000     0.0000    32.48   \n",
       "elon  67558.0   -56.245590   45.489157  -163.5300   -94.7098   -84.42   \n",
       "len   67558.0     3.478340    8.278775     0.0000     0.1000     0.80   \n",
       "wid   67558.0   106.577030  205.802676     0.0000    20.0000    50.00   \n",
       "\n",
       "          75%        max  \n",
       "yr    2008.00  2021.0000  \n",
       "mo       7.00    12.0000  \n",
       "dy      24.00    31.0000  \n",
       "mag      1.00     5.0000  \n",
       "inj      0.00  1740.0000  \n",
       "fat      0.00   158.0000  \n",
       "slat    40.93    61.0200  \n",
       "slon   -86.73   -64.7151  \n",
       "elat    38.61    61.0200  \n",
       "elon     0.00     0.0000  \n",
       "len      3.13   234.7000  \n",
       "wid    100.00  4576.0000  "
      ]
     },
     "execution_count": 5,
     "metadata": {},
     "output_type": "execute_result"
    }
   ],
   "source": [
    "df.describe().T"
   ]
  },
  {
   "cell_type": "markdown",
   "id": "e85bfe7b-8f8a-4a46-ab36-b827cf770111",
   "metadata": {},
   "source": [
    "Half the entries in this dataset occurred in/after 1994. If tornado observations were evenly distributed through the years, we'd expect the mean to be 1985. Most tornados cause no injuries and no fatalities. Maximum recorded width of a tornado was 4,576 yards (=2.6 miles = 4.2 km)! However, the 'mag' column needs a closer look: I wouldn't expect a tornado to have a rating of -9."
   ]
  },
  {
   "cell_type": "code",
   "execution_count": 6,
   "id": "61d855c5-691b-4ba3-8fc0-caafd268aade",
   "metadata": {},
   "outputs": [
    {
     "data": {
      "text/plain": [
       "array([ 3,  1,  2,  4,  0,  5, -9])"
      ]
     },
     "execution_count": 6,
     "metadata": {},
     "output_type": "execute_result"
    }
   ],
   "source": [
    "df['mag'].unique()"
   ]
  },
  {
   "cell_type": "code",
   "execution_count": 7,
   "id": "20031637-762e-4db4-a392-5e9e89111b0f",
   "metadata": {},
   "outputs": [
    {
     "data": {
      "text/html": [
       "<div>\n",
       "<style scoped>\n",
       "    .dataframe tbody tr th:only-of-type {\n",
       "        vertical-align: middle;\n",
       "    }\n",
       "\n",
       "    .dataframe tbody tr th {\n",
       "        vertical-align: top;\n",
       "    }\n",
       "\n",
       "    .dataframe thead th {\n",
       "        text-align: right;\n",
       "    }\n",
       "</style>\n",
       "<table border=\"1\" class=\"dataframe\">\n",
       "  <thead>\n",
       "    <tr style=\"text-align: right;\">\n",
       "      <th></th>\n",
       "      <th>yr</th>\n",
       "      <th>mo</th>\n",
       "      <th>dy</th>\n",
       "      <th>date</th>\n",
       "      <th>st</th>\n",
       "      <th>mag</th>\n",
       "      <th>inj</th>\n",
       "      <th>fat</th>\n",
       "      <th>slat</th>\n",
       "      <th>slon</th>\n",
       "      <th>elat</th>\n",
       "      <th>elon</th>\n",
       "      <th>len</th>\n",
       "      <th>wid</th>\n",
       "    </tr>\n",
       "  </thead>\n",
       "  <tbody>\n",
       "    <tr>\n",
       "      <th>60343</th>\n",
       "      <td>2016</td>\n",
       "      <td>4</td>\n",
       "      <td>15</td>\n",
       "      <td>2016-04-15</td>\n",
       "      <td>CO</td>\n",
       "      <td>-9</td>\n",
       "      <td>0</td>\n",
       "      <td>0</td>\n",
       "      <td>38.3743</td>\n",
       "      <td>-102.8185</td>\n",
       "      <td>38.4299</td>\n",
       "      <td>-102.8225</td>\n",
       "      <td>3.85</td>\n",
       "      <td>150</td>\n",
       "    </tr>\n",
       "    <tr>\n",
       "      <th>60344</th>\n",
       "      <td>2016</td>\n",
       "      <td>4</td>\n",
       "      <td>15</td>\n",
       "      <td>2016-04-15</td>\n",
       "      <td>CO</td>\n",
       "      <td>-9</td>\n",
       "      <td>0</td>\n",
       "      <td>0</td>\n",
       "      <td>38.4046</td>\n",
       "      <td>-102.8083</td>\n",
       "      <td>38.4118</td>\n",
       "      <td>-102.8082</td>\n",
       "      <td>0.50</td>\n",
       "      <td>100</td>\n",
       "    </tr>\n",
       "    <tr>\n",
       "      <th>60345</th>\n",
       "      <td>2016</td>\n",
       "      <td>4</td>\n",
       "      <td>15</td>\n",
       "      <td>2016-04-15</td>\n",
       "      <td>CO</td>\n",
       "      <td>-9</td>\n",
       "      <td>0</td>\n",
       "      <td>0</td>\n",
       "      <td>38.4773</td>\n",
       "      <td>-102.7234</td>\n",
       "      <td>38.4944</td>\n",
       "      <td>-102.7191</td>\n",
       "      <td>1.20</td>\n",
       "      <td>100</td>\n",
       "    </tr>\n",
       "    <tr>\n",
       "      <th>60346</th>\n",
       "      <td>2016</td>\n",
       "      <td>4</td>\n",
       "      <td>15</td>\n",
       "      <td>2016-04-15</td>\n",
       "      <td>CO</td>\n",
       "      <td>-9</td>\n",
       "      <td>0</td>\n",
       "      <td>0</td>\n",
       "      <td>38.1773</td>\n",
       "      <td>-102.7907</td>\n",
       "      <td>38.1852</td>\n",
       "      <td>-102.7865</td>\n",
       "      <td>0.59</td>\n",
       "      <td>100</td>\n",
       "    </tr>\n",
       "    <tr>\n",
       "      <th>60480</th>\n",
       "      <td>2016</td>\n",
       "      <td>5</td>\n",
       "      <td>8</td>\n",
       "      <td>2016-05-08</td>\n",
       "      <td>OK</td>\n",
       "      <td>-9</td>\n",
       "      <td>0</td>\n",
       "      <td>0</td>\n",
       "      <td>34.5810</td>\n",
       "      <td>-98.0760</td>\n",
       "      <td>34.5810</td>\n",
       "      <td>-98.0530</td>\n",
       "      <td>1.30</td>\n",
       "      <td>40</td>\n",
       "    </tr>\n",
       "    <tr>\n",
       "      <th>...</th>\n",
       "      <td>...</td>\n",
       "      <td>...</td>\n",
       "      <td>...</td>\n",
       "      <td>...</td>\n",
       "      <td>...</td>\n",
       "      <td>...</td>\n",
       "      <td>...</td>\n",
       "      <td>...</td>\n",
       "      <td>...</td>\n",
       "      <td>...</td>\n",
       "      <td>...</td>\n",
       "      <td>...</td>\n",
       "      <td>...</td>\n",
       "      <td>...</td>\n",
       "    </tr>\n",
       "    <tr>\n",
       "      <th>67417</th>\n",
       "      <td>2021</td>\n",
       "      <td>12</td>\n",
       "      <td>15</td>\n",
       "      <td>2021-12-15</td>\n",
       "      <td>IA</td>\n",
       "      <td>-9</td>\n",
       "      <td>0</td>\n",
       "      <td>0</td>\n",
       "      <td>41.9551</td>\n",
       "      <td>-95.5749</td>\n",
       "      <td>42.0074</td>\n",
       "      <td>-95.5266</td>\n",
       "      <td>4.39</td>\n",
       "      <td>50</td>\n",
       "    </tr>\n",
       "    <tr>\n",
       "      <th>67418</th>\n",
       "      <td>2021</td>\n",
       "      <td>12</td>\n",
       "      <td>15</td>\n",
       "      <td>2021-12-15</td>\n",
       "      <td>IA</td>\n",
       "      <td>-9</td>\n",
       "      <td>0</td>\n",
       "      <td>0</td>\n",
       "      <td>42.5620</td>\n",
       "      <td>-95.4050</td>\n",
       "      <td>42.5850</td>\n",
       "      <td>-95.3880</td>\n",
       "      <td>1.81</td>\n",
       "      <td>50</td>\n",
       "    </tr>\n",
       "    <tr>\n",
       "      <th>67419</th>\n",
       "      <td>2021</td>\n",
       "      <td>12</td>\n",
       "      <td>15</td>\n",
       "      <td>2021-12-15</td>\n",
       "      <td>IA</td>\n",
       "      <td>-9</td>\n",
       "      <td>0</td>\n",
       "      <td>0</td>\n",
       "      <td>42.2525</td>\n",
       "      <td>-94.6317</td>\n",
       "      <td>42.2708</td>\n",
       "      <td>-94.6236</td>\n",
       "      <td>1.33</td>\n",
       "      <td>40</td>\n",
       "    </tr>\n",
       "    <tr>\n",
       "      <th>67420</th>\n",
       "      <td>2021</td>\n",
       "      <td>12</td>\n",
       "      <td>15</td>\n",
       "      <td>2021-12-15</td>\n",
       "      <td>IA</td>\n",
       "      <td>-9</td>\n",
       "      <td>0</td>\n",
       "      <td>0</td>\n",
       "      <td>42.5797</td>\n",
       "      <td>-94.5775</td>\n",
       "      <td>42.5920</td>\n",
       "      <td>-94.5657</td>\n",
       "      <td>1.04</td>\n",
       "      <td>40</td>\n",
       "    </tr>\n",
       "    <tr>\n",
       "      <th>67421</th>\n",
       "      <td>2021</td>\n",
       "      <td>12</td>\n",
       "      <td>15</td>\n",
       "      <td>2021-12-15</td>\n",
       "      <td>IA</td>\n",
       "      <td>-9</td>\n",
       "      <td>0</td>\n",
       "      <td>0</td>\n",
       "      <td>42.6852</td>\n",
       "      <td>-94.5062</td>\n",
       "      <td>42.7726</td>\n",
       "      <td>-94.4325</td>\n",
       "      <td>7.10</td>\n",
       "      <td>80</td>\n",
       "    </tr>\n",
       "  </tbody>\n",
       "</table>\n",
       "<p>605 rows × 14 columns</p>\n",
       "</div>"
      ],
      "text/plain": [
       "         yr  mo  dy        date  st  mag  inj  fat     slat      slon  \\\n",
       "60343  2016   4  15  2016-04-15  CO   -9    0    0  38.3743 -102.8185   \n",
       "60344  2016   4  15  2016-04-15  CO   -9    0    0  38.4046 -102.8083   \n",
       "60345  2016   4  15  2016-04-15  CO   -9    0    0  38.4773 -102.7234   \n",
       "60346  2016   4  15  2016-04-15  CO   -9    0    0  38.1773 -102.7907   \n",
       "60480  2016   5   8  2016-05-08  OK   -9    0    0  34.5810  -98.0760   \n",
       "...     ...  ..  ..         ...  ..  ...  ...  ...      ...       ...   \n",
       "67417  2021  12  15  2021-12-15  IA   -9    0    0  41.9551  -95.5749   \n",
       "67418  2021  12  15  2021-12-15  IA   -9    0    0  42.5620  -95.4050   \n",
       "67419  2021  12  15  2021-12-15  IA   -9    0    0  42.2525  -94.6317   \n",
       "67420  2021  12  15  2021-12-15  IA   -9    0    0  42.5797  -94.5775   \n",
       "67421  2021  12  15  2021-12-15  IA   -9    0    0  42.6852  -94.5062   \n",
       "\n",
       "          elat      elon   len  wid  \n",
       "60343  38.4299 -102.8225  3.85  150  \n",
       "60344  38.4118 -102.8082  0.50  100  \n",
       "60345  38.4944 -102.7191  1.20  100  \n",
       "60346  38.1852 -102.7865  0.59  100  \n",
       "60480  34.5810  -98.0530  1.30   40  \n",
       "...        ...       ...   ...  ...  \n",
       "67417  42.0074  -95.5266  4.39   50  \n",
       "67418  42.5850  -95.3880  1.81   50  \n",
       "67419  42.2708  -94.6236  1.33   40  \n",
       "67420  42.5920  -94.5657  1.04   40  \n",
       "67421  42.7726  -94.4325  7.10   80  \n",
       "\n",
       "[605 rows x 14 columns]"
      ]
     },
     "execution_count": 7,
     "metadata": {},
     "output_type": "execute_result"
    }
   ],
   "source": [
    "df.loc[df['mag'] == -9]"
   ]
  },
  {
   "cell_type": "markdown",
   "id": "d09fac36-d872-402c-89e2-7ec4d67a3d74",
   "metadata": {},
   "source": [
    "Further reading indicates that these 605 rows have unknown magnitude. I will drop them as they comprise less than 1% of the data."
   ]
  },
  {
   "cell_type": "code",
   "execution_count": 8,
   "id": "f69fa504-6336-40d8-8ad4-a09ee6db2cd1",
   "metadata": {},
   "outputs": [
    {
     "data": {
      "text/plain": [
       "(66953, 14)"
      ]
     },
     "execution_count": 8,
     "metadata": {},
     "output_type": "execute_result"
    }
   ],
   "source": [
    "df2 = df.loc[df['mag'] != -9]\n",
    "df2.shape"
   ]
  },
  {
   "cell_type": "code",
   "execution_count": 9,
   "id": "22ce2738-c811-45f0-b5a5-431af5a2f6f7",
   "metadata": {},
   "outputs": [
    {
     "data": {
      "text/plain": [
       "array([3, 1, 2, 4, 0, 5])"
      ]
     },
     "execution_count": 9,
     "metadata": {},
     "output_type": "execute_result"
    }
   ],
   "source": [
    "df2['mag'].unique()"
   ]
  },
  {
   "cell_type": "markdown",
   "id": "9f1f7437-a5d7-4efd-acf2-d208e5eb33bb",
   "metadata": {},
   "source": [
    "Additionally, wid = 0 indicates unknown width, and elat and elon are sometimes 0 to denote unknown values. I'll use slat and slon for analysis instead of elat/elon and will check whether wid = 0 can be dropped."
   ]
  },
  {
   "cell_type": "code",
   "execution_count": 10,
   "id": "751f396f-c092-49dd-bf7c-e0cfb10e890d",
   "metadata": {},
   "outputs": [
    {
     "data": {
      "text/html": [
       "<div>\n",
       "<style scoped>\n",
       "    .dataframe tbody tr th:only-of-type {\n",
       "        vertical-align: middle;\n",
       "    }\n",
       "\n",
       "    .dataframe tbody tr th {\n",
       "        vertical-align: top;\n",
       "    }\n",
       "\n",
       "    .dataframe thead th {\n",
       "        text-align: right;\n",
       "    }\n",
       "</style>\n",
       "<table border=\"1\" class=\"dataframe\">\n",
       "  <thead>\n",
       "    <tr style=\"text-align: right;\">\n",
       "      <th></th>\n",
       "      <th>yr</th>\n",
       "      <th>mo</th>\n",
       "      <th>dy</th>\n",
       "      <th>date</th>\n",
       "      <th>st</th>\n",
       "      <th>mag</th>\n",
       "      <th>inj</th>\n",
       "      <th>fat</th>\n",
       "      <th>slat</th>\n",
       "      <th>slon</th>\n",
       "      <th>elat</th>\n",
       "      <th>elon</th>\n",
       "      <th>len</th>\n",
       "      <th>wid</th>\n",
       "    </tr>\n",
       "  </thead>\n",
       "  <tbody>\n",
       "    <tr>\n",
       "      <th>39176</th>\n",
       "      <td>1999</td>\n",
       "      <td>1</td>\n",
       "      <td>1</td>\n",
       "      <td>1999-01-01</td>\n",
       "      <td>LA</td>\n",
       "      <td>1</td>\n",
       "      <td>0</td>\n",
       "      <td>0</td>\n",
       "      <td>32.42</td>\n",
       "      <td>-93.62</td>\n",
       "      <td>32.43</td>\n",
       "      <td>-93.62</td>\n",
       "      <td>1.1</td>\n",
       "      <td>0</td>\n",
       "    </tr>\n",
       "    <tr>\n",
       "      <th>39177</th>\n",
       "      <td>1999</td>\n",
       "      <td>1</td>\n",
       "      <td>1</td>\n",
       "      <td>1999-01-01</td>\n",
       "      <td>LA</td>\n",
       "      <td>2</td>\n",
       "      <td>1</td>\n",
       "      <td>0</td>\n",
       "      <td>32.38</td>\n",
       "      <td>-93.80</td>\n",
       "      <td>32.37</td>\n",
       "      <td>-93.73</td>\n",
       "      <td>3.2</td>\n",
       "      <td>0</td>\n",
       "    </tr>\n",
       "    <tr>\n",
       "      <th>39179</th>\n",
       "      <td>1999</td>\n",
       "      <td>1</td>\n",
       "      <td>1</td>\n",
       "      <td>1999-01-01</td>\n",
       "      <td>TX</td>\n",
       "      <td>0</td>\n",
       "      <td>1</td>\n",
       "      <td>0</td>\n",
       "      <td>30.85</td>\n",
       "      <td>-95.42</td>\n",
       "      <td>30.85</td>\n",
       "      <td>-95.42</td>\n",
       "      <td>0.3</td>\n",
       "      <td>0</td>\n",
       "    </tr>\n",
       "    <tr>\n",
       "      <th>39180</th>\n",
       "      <td>1999</td>\n",
       "      <td>1</td>\n",
       "      <td>1</td>\n",
       "      <td>1999-01-01</td>\n",
       "      <td>TX</td>\n",
       "      <td>0</td>\n",
       "      <td>0</td>\n",
       "      <td>0</td>\n",
       "      <td>30.72</td>\n",
       "      <td>-95.37</td>\n",
       "      <td>30.72</td>\n",
       "      <td>-95.37</td>\n",
       "      <td>0.3</td>\n",
       "      <td>0</td>\n",
       "    </tr>\n",
       "    <tr>\n",
       "      <th>39186</th>\n",
       "      <td>1999</td>\n",
       "      <td>1</td>\n",
       "      <td>1</td>\n",
       "      <td>1999-01-01</td>\n",
       "      <td>TX</td>\n",
       "      <td>1</td>\n",
       "      <td>7</td>\n",
       "      <td>0</td>\n",
       "      <td>30.75</td>\n",
       "      <td>-95.53</td>\n",
       "      <td>30.77</td>\n",
       "      <td>-95.50</td>\n",
       "      <td>2.5</td>\n",
       "      <td>0</td>\n",
       "    </tr>\n",
       "    <tr>\n",
       "      <th>...</th>\n",
       "      <td>...</td>\n",
       "      <td>...</td>\n",
       "      <td>...</td>\n",
       "      <td>...</td>\n",
       "      <td>...</td>\n",
       "      <td>...</td>\n",
       "      <td>...</td>\n",
       "      <td>...</td>\n",
       "      <td>...</td>\n",
       "      <td>...</td>\n",
       "      <td>...</td>\n",
       "      <td>...</td>\n",
       "      <td>...</td>\n",
       "      <td>...</td>\n",
       "    </tr>\n",
       "    <tr>\n",
       "      <th>48221</th>\n",
       "      <td>2006</td>\n",
       "      <td>1</td>\n",
       "      <td>13</td>\n",
       "      <td>2006-01-13</td>\n",
       "      <td>GA</td>\n",
       "      <td>0</td>\n",
       "      <td>0</td>\n",
       "      <td>0</td>\n",
       "      <td>30.92</td>\n",
       "      <td>-81.65</td>\n",
       "      <td>30.92</td>\n",
       "      <td>-81.65</td>\n",
       "      <td>0.1</td>\n",
       "      <td>0</td>\n",
       "    </tr>\n",
       "    <tr>\n",
       "      <th>48561</th>\n",
       "      <td>2006</td>\n",
       "      <td>4</td>\n",
       "      <td>14</td>\n",
       "      <td>2006-04-14</td>\n",
       "      <td>CA</td>\n",
       "      <td>1</td>\n",
       "      <td>0</td>\n",
       "      <td>0</td>\n",
       "      <td>37.65</td>\n",
       "      <td>-121.00</td>\n",
       "      <td>37.65</td>\n",
       "      <td>-121.00</td>\n",
       "      <td>0.5</td>\n",
       "      <td>0</td>\n",
       "    </tr>\n",
       "    <tr>\n",
       "      <th>48800</th>\n",
       "      <td>2006</td>\n",
       "      <td>6</td>\n",
       "      <td>8</td>\n",
       "      <td>2006-06-08</td>\n",
       "      <td>UT</td>\n",
       "      <td>0</td>\n",
       "      <td>0</td>\n",
       "      <td>0</td>\n",
       "      <td>38.98</td>\n",
       "      <td>-110.22</td>\n",
       "      <td>38.98</td>\n",
       "      <td>-110.22</td>\n",
       "      <td>0.5</td>\n",
       "      <td>0</td>\n",
       "    </tr>\n",
       "    <tr>\n",
       "      <th>48967</th>\n",
       "      <td>2006</td>\n",
       "      <td>7</td>\n",
       "      <td>29</td>\n",
       "      <td>2006-07-29</td>\n",
       "      <td>GA</td>\n",
       "      <td>0</td>\n",
       "      <td>0</td>\n",
       "      <td>0</td>\n",
       "      <td>31.85</td>\n",
       "      <td>-81.60</td>\n",
       "      <td>31.85</td>\n",
       "      <td>-81.60</td>\n",
       "      <td>0.0</td>\n",
       "      <td>0</td>\n",
       "    </tr>\n",
       "    <tr>\n",
       "      <th>48994</th>\n",
       "      <td>2006</td>\n",
       "      <td>8</td>\n",
       "      <td>10</td>\n",
       "      <td>2006-08-10</td>\n",
       "      <td>ND</td>\n",
       "      <td>0</td>\n",
       "      <td>0</td>\n",
       "      <td>0</td>\n",
       "      <td>46.93</td>\n",
       "      <td>-97.37</td>\n",
       "      <td>46.93</td>\n",
       "      <td>-97.37</td>\n",
       "      <td>25.0</td>\n",
       "      <td>0</td>\n",
       "    </tr>\n",
       "  </tbody>\n",
       "</table>\n",
       "<p>473 rows × 14 columns</p>\n",
       "</div>"
      ],
      "text/plain": [
       "         yr  mo  dy        date  st  mag  inj  fat   slat    slon   elat  \\\n",
       "39176  1999   1   1  1999-01-01  LA    1    0    0  32.42  -93.62  32.43   \n",
       "39177  1999   1   1  1999-01-01  LA    2    1    0  32.38  -93.80  32.37   \n",
       "39179  1999   1   1  1999-01-01  TX    0    1    0  30.85  -95.42  30.85   \n",
       "39180  1999   1   1  1999-01-01  TX    0    0    0  30.72  -95.37  30.72   \n",
       "39186  1999   1   1  1999-01-01  TX    1    7    0  30.75  -95.53  30.77   \n",
       "...     ...  ..  ..         ...  ..  ...  ...  ...    ...     ...    ...   \n",
       "48221  2006   1  13  2006-01-13  GA    0    0    0  30.92  -81.65  30.92   \n",
       "48561  2006   4  14  2006-04-14  CA    1    0    0  37.65 -121.00  37.65   \n",
       "48800  2006   6   8  2006-06-08  UT    0    0    0  38.98 -110.22  38.98   \n",
       "48967  2006   7  29  2006-07-29  GA    0    0    0  31.85  -81.60  31.85   \n",
       "48994  2006   8  10  2006-08-10  ND    0    0    0  46.93  -97.37  46.93   \n",
       "\n",
       "         elon   len  wid  \n",
       "39176  -93.62   1.1    0  \n",
       "39177  -93.73   3.2    0  \n",
       "39179  -95.42   0.3    0  \n",
       "39180  -95.37   0.3    0  \n",
       "39186  -95.50   2.5    0  \n",
       "...       ...   ...  ...  \n",
       "48221  -81.65   0.1    0  \n",
       "48561 -121.00   0.5    0  \n",
       "48800 -110.22   0.5    0  \n",
       "48967  -81.60   0.0    0  \n",
       "48994  -97.37  25.0    0  \n",
       "\n",
       "[473 rows x 14 columns]"
      ]
     },
     "execution_count": 10,
     "metadata": {},
     "output_type": "execute_result"
    }
   ],
   "source": [
    "df2.loc[df2['wid'] == 0]"
   ]
  },
  {
   "cell_type": "markdown",
   "id": "3eb727eb-8aea-4ec0-9529-bcf3ef38db0b",
   "metadata": {},
   "source": [
    "Only 473 tornados lack width data; ok to drop."
   ]
  },
  {
   "cell_type": "code",
   "execution_count": 11,
   "id": "794caec7-44a5-423f-a9fe-057f5bc42138",
   "metadata": {},
   "outputs": [
    {
     "data": {
      "text/plain": [
       "(66480, 14)"
      ]
     },
     "execution_count": 11,
     "metadata": {},
     "output_type": "execute_result"
    }
   ],
   "source": [
    "df3 = df2.loc[df2['wid'] != 0]\n",
    "df3.shape"
   ]
  },
  {
   "cell_type": "code",
   "execution_count": 1,
   "id": "bbd73ce3-2b61-4af7-8fd0-d353dc982de1",
   "metadata": {
    "scrolled": true
   },
   "outputs": [
    {
     "ename": "NameError",
     "evalue": "name 'px' is not defined",
     "output_type": "error",
     "traceback": [
      "\u001b[0;31m---------------------------------------------------------------------------\u001b[0m",
      "\u001b[0;31mNameError\u001b[0m                                 Traceback (most recent call last)",
      "Cell \u001b[0;32mIn[1], line 3\u001b[0m\n\u001b[1;32m      1\u001b[0m color_scale \u001b[38;5;241m=\u001b[39m [(\u001b[38;5;241m0\u001b[39m, \u001b[38;5;124m'\u001b[39m\u001b[38;5;124myellow\u001b[39m\u001b[38;5;124m'\u001b[39m), (\u001b[38;5;241m1\u001b[39m,\u001b[38;5;124m'\u001b[39m\u001b[38;5;124mred\u001b[39m\u001b[38;5;124m'\u001b[39m)]\n\u001b[0;32m----> 3\u001b[0m fig \u001b[38;5;241m=\u001b[39m px\u001b[38;5;241m.\u001b[39mscatter_mapbox(df3, \n\u001b[1;32m      4\u001b[0m                         lat\u001b[38;5;241m=\u001b[39m\u001b[38;5;124m\"\u001b[39m\u001b[38;5;124mslat\u001b[39m\u001b[38;5;124m\"\u001b[39m, \n\u001b[1;32m      5\u001b[0m                         lon\u001b[38;5;241m=\u001b[39m\u001b[38;5;124m\"\u001b[39m\u001b[38;5;124mslon\u001b[39m\u001b[38;5;124m\"\u001b[39m, \n\u001b[1;32m      6\u001b[0m                         hover_name\u001b[38;5;241m=\u001b[39m\u001b[38;5;124m\"\u001b[39m\u001b[38;5;124mmag\u001b[39m\u001b[38;5;124m\"\u001b[39m, \n\u001b[1;32m      7\u001b[0m                         hover_data\u001b[38;5;241m=\u001b[39m[\u001b[38;5;124m\"\u001b[39m\u001b[38;5;124mmag\u001b[39m\u001b[38;5;124m\"\u001b[39m, \u001b[38;5;124m\"\u001b[39m\u001b[38;5;124minj\u001b[39m\u001b[38;5;124m\"\u001b[39m,\u001b[38;5;124m\"\u001b[39m\u001b[38;5;124mfat\u001b[39m\u001b[38;5;124m\"\u001b[39m],\n\u001b[1;32m      8\u001b[0m                         color\u001b[38;5;241m=\u001b[39m\u001b[38;5;124m\"\u001b[39m\u001b[38;5;124mmag\u001b[39m\u001b[38;5;124m\"\u001b[39m,\n\u001b[1;32m      9\u001b[0m                         color_continuous_scale\u001b[38;5;241m=\u001b[39mcolor_scale,\n\u001b[1;32m     10\u001b[0m                         size\u001b[38;5;241m=\u001b[39m\u001b[38;5;124m\"\u001b[39m\u001b[38;5;124mwid\u001b[39m\u001b[38;5;124m\"\u001b[39m,\n\u001b[1;32m     11\u001b[0m                         zoom\u001b[38;5;241m=\u001b[39m\u001b[38;5;241m3\u001b[39m, \n\u001b[1;32m     12\u001b[0m                         height\u001b[38;5;241m=\u001b[39m\u001b[38;5;241m500\u001b[39m,\n\u001b[1;32m     13\u001b[0m                         width\u001b[38;5;241m=\u001b[39m\u001b[38;5;241m500\u001b[39m)\n\u001b[1;32m     15\u001b[0m fig\u001b[38;5;241m.\u001b[39mupdate_layout(mapbox_style\u001b[38;5;241m=\u001b[39m\u001b[38;5;124m\"\u001b[39m\u001b[38;5;124mopen-street-map\u001b[39m\u001b[38;5;124m\"\u001b[39m)\n\u001b[1;32m     16\u001b[0m fig\u001b[38;5;241m.\u001b[39mupdate_layout(margin\u001b[38;5;241m=\u001b[39m{\u001b[38;5;124m\"\u001b[39m\u001b[38;5;124mr\u001b[39m\u001b[38;5;124m\"\u001b[39m:\u001b[38;5;241m0\u001b[39m,\u001b[38;5;124m\"\u001b[39m\u001b[38;5;124mt\u001b[39m\u001b[38;5;124m\"\u001b[39m:\u001b[38;5;241m0\u001b[39m,\u001b[38;5;124m\"\u001b[39m\u001b[38;5;124ml\u001b[39m\u001b[38;5;124m\"\u001b[39m:\u001b[38;5;241m0\u001b[39m,\u001b[38;5;124m\"\u001b[39m\u001b[38;5;124mb\u001b[39m\u001b[38;5;124m\"\u001b[39m:\u001b[38;5;241m0\u001b[39m})\n",
      "\u001b[0;31mNameError\u001b[0m: name 'px' is not defined"
     ]
    }
   ],
   "source": [
    "color_scale = [(0, 'yellow'), (1,'red')]\n",
    "\n",
    "fig = px.scatter_mapbox(df3, \n",
    "                        lat=\"slat\", \n",
    "                        lon=\"slon\", \n",
    "                        hover_name=\"mag\", \n",
    "                        hover_data=[\"mag\", \"inj\",\"fat\"],\n",
    "                        color=\"mag\",\n",
    "                        color_continuous_scale=color_scale,\n",
    "                        size=\"wid\",\n",
    "                        zoom=3, \n",
    "                        height=500,\n",
    "                        width=500)\n",
    "\n",
    "fig.update_layout(mapbox_style=\"open-street-map\")\n",
    "fig.update_layout(margin={\"r\":0,\"t\":0,\"l\":0,\"b\":0})\n",
    "fig.show('png')"
   ]
  },
  {
   "cell_type": "markdown",
   "id": "f1c0ebe6-057b-4de4-88c6-85caa5d18842",
   "metadata": {},
   "source": [
    "The above map is interesting but a little too crowded to be very informative. We can see, however, that most tornados are less severe with smaller widths and are concentrated in the midwest and eastern USA. Let's look at just EF 4 and 5 tornados next"
   ]
  },
  {
   "cell_type": "code",
   "execution_count": 13,
   "id": "ce3480fd-a0ec-4b4d-bc4a-9a1305245b9c",
   "metadata": {},
   "outputs": [
    {
     "data": {
      "text/plain": [
       "(640, 14)"
      ]
     },
     "execution_count": 13,
     "metadata": {},
     "output_type": "execute_result"
    }
   ],
   "source": [
    "df_EF45 = df3.loc[df3['mag'] >= 4]\n",
    "df_EF45.shape"
   ]
  },
  {
   "cell_type": "code",
   "execution_count": 14,
   "id": "ca25a8f4-1f3e-45c1-b868-0745171969bc",
   "metadata": {},
   "outputs": [
    {
     "data": {
      "application/vnd.plotly.v1+json": {
       "config": {
        "plotlyServerURL": "https://plot.ly"
       },
       "data": [
        {
         "customdata": [
          [
           4,
           77,
           18
          ],
          [
           4,
           32,
           5
          ],
          [
           4,
           5,
           5
          ],
          [
           4,
           1,
           0
          ],
          [
           4,
           5,
           1
          ],
          [
           4,
           12,
           2
          ],
          [
           4,
           33,
           0
          ],
          [
           4,
           100,
           2
          ],
          [
           4,
           20,
           1
          ],
          [
           4,
           100,
           5
          ],
          [
           4,
           9,
           1
          ],
          [
           4,
           3,
           6
          ],
          [
           4,
           44,
           3
          ],
          [
           4,
           150,
           2
          ],
          [
           4,
           6,
           2
          ],
          [
           4,
           5,
           4
          ],
          [
           4,
           9,
           7
          ],
          [
           4,
           180,
           29
          ],
          [
           4,
           325,
           50
          ],
          [
           4,
           100,
           17
          ],
          [
           4,
           74,
           16
          ],
          [
           4,
           10,
           2
          ],
          [
           4,
           5,
           4
          ],
          [
           4,
           157,
           38
          ],
          [
           4,
           50,
           4
          ],
          [
           4,
           0,
           0
          ],
          [
           4,
           3,
           0
          ],
          [
           4,
           4,
           0
          ],
          [
           4,
           26,
           1
          ],
          [
           4,
           20,
           0
          ],
          [
           4,
           25,
           17
          ],
          [
           4,
           15,
           2
          ],
          [
           4,
           300,
           18
          ],
          [
           4,
           3,
           2
          ],
          [
           4,
           12,
           7
          ],
          [
           4,
           8,
           4
          ],
          [
           4,
           0,
           0
          ],
          [
           4,
           3,
           0
          ],
          [
           4,
           24,
           2
          ],
          [
           4,
           159,
           13
          ],
          [
           5,
           597,
           114
          ],
          [
           4,
           68,
           2
          ],
          [
           5,
           20,
           2
          ],
          [
           4,
           0,
           11
          ],
          [
           4,
           23,
           0
          ],
          [
           4,
           18,
           4
          ],
          [
           5,
           844,
           116
          ],
          [
           4,
           379,
           17
          ],
          [
           4,
           1228,
           94
          ],
          [
           5,
           2,
           1
          ],
          [
           4,
           50,
           9
          ],
          [
           5,
           270,
           38
          ],
          [
           4,
           0,
           2
          ],
          [
           4,
           2,
           0
          ],
          [
           4,
           0,
           0
          ],
          [
           4,
           65,
           0
          ],
          [
           4,
           2,
           0
          ],
          [
           4,
           23,
           6
          ],
          [
           4,
           0,
           1
          ],
          [
           4,
           20,
           5
          ],
          [
           5,
           280,
           20
          ],
          [
           5,
           273,
           80
          ],
          [
           4,
           18,
           2
          ],
          [
           4,
           0,
           0
          ],
          [
           4,
           0,
           0
          ],
          [
           4,
           29,
           2
          ],
          [
           4,
           19,
           2
          ],
          [
           4,
           0,
           0
          ],
          [
           4,
           13,
           1
          ],
          [
           4,
           36,
           6
          ],
          [
           4,
           31,
           1
          ],
          [
           4,
           29,
           2
          ],
          [
           4,
           25,
           1
          ],
          [
           5,
           292,
           17
          ],
          [
           4,
           59,
           0
          ],
          [
           4,
           60,
           3
          ],
          [
           4,
           50,
           7
          ],
          [
           4,
           200,
           25
          ],
          [
           4,
           22,
           0
          ],
          [
           4,
           116,
           3
          ],
          [
           4,
           0,
           0
          ],
          [
           4,
           2,
           0
          ],
          [
           4,
           20,
           10
          ],
          [
           4,
           6,
           2
          ],
          [
           4,
           3,
           3
          ],
          [
           4,
           21,
           0
          ],
          [
           4,
           70,
           4
          ],
          [
           4,
           0,
           1
          ],
          [
           4,
           7,
           0
          ],
          [
           4,
           6,
           0
          ],
          [
           4,
           8,
           1
          ],
          [
           4,
           80,
           21
          ],
          [
           4,
           0,
           0
          ],
          [
           5,
           207,
           44
          ],
          [
           4,
           2,
           0
          ],
          [
           4,
           75,
           7
          ],
          [
           4,
           5,
           4
          ],
          [
           4,
           50,
           2
          ],
          [
           5,
           103,
           10
          ],
          [
           4,
           6,
           0
          ],
          [
           4,
           6,
           2
          ],
          [
           4,
           81,
           1
          ],
          [
           4,
           15,
           4
          ],
          [
           4,
           12,
           3
          ],
          [
           4,
           45,
           1
          ],
          [
           4,
           200,
           11
          ],
          [
           5,
           6,
           1
          ],
          [
           4,
           9,
           2
          ],
          [
           4,
           7,
           0
          ],
          [
           4,
           50,
           3
          ],
          [
           4,
           3,
           4
          ],
          [
           5,
           74,
           21
          ],
          [
           4,
           5,
           15
          ],
          [
           4,
           345,
           21
          ],
          [
           4,
           31,
           6
          ],
          [
           4,
           12,
           7
          ],
          [
           4,
           1,
           0
          ],
          [
           4,
           5,
           0
          ],
          [
           4,
           0,
           0
          ],
          [
           4,
           1,
           1
          ],
          [
           4,
           0,
           0
          ],
          [
           4,
           3,
           0
          ],
          [
           4,
           13,
           5
          ],
          [
           4,
           106,
           16
          ],
          [
           5,
           81,
           5
          ],
          [
           4,
           12,
           0
          ],
          [
           4,
           92,
           1
          ],
          [
           4,
           7,
           0
          ],
          [
           4,
           58,
           16
          ],
          [
           4,
           12,
           0
          ],
          [
           4,
           0,
           0
          ],
          [
           4,
           1,
           0
          ],
          [
           4,
           7,
           0
          ],
          [
           4,
           200,
           8
          ],
          [
           4,
           9,
           0
          ],
          [
           4,
           1,
           0
          ],
          [
           4,
           1,
           0
          ],
          [
           4,
           0,
           0
          ],
          [
           4,
           3,
           0
          ],
          [
           4,
           34,
           0
          ],
          [
           4,
           35,
           0
          ],
          [
           4,
           6,
           2
          ],
          [
           4,
           7,
           2
          ],
          [
           4,
           70,
           1
          ],
          [
           4,
           20,
           3
          ],
          [
           4,
           6,
           10
          ],
          [
           4,
           24,
           3
          ],
          [
           5,
           111,
           7
          ],
          [
           4,
           28,
           1
          ],
          [
           4,
           9,
           3
          ],
          [
           4,
           11,
           0
          ],
          [
           5,
           50,
           4
          ],
          [
           4,
           224,
           11
          ],
          [
           4,
           0,
           0
          ],
          [
           4,
           30,
           0
          ],
          [
           4,
           2,
           0
          ],
          [
           4,
           165,
           22
          ],
          [
           4,
           7,
           0
          ],
          [
           4,
           200,
           6
          ],
          [
           4,
           3,
           1
          ],
          [
           4,
           75,
           6
          ],
          [
           4,
           44,
           0
          ],
          [
           4,
           125,
           4
          ],
          [
           4,
           41,
           5
          ],
          [
           4,
           294,
           23
          ],
          [
           4,
           835,
           25
          ],
          [
           4,
           123,
           28
          ],
          [
           4,
           252,
           31
          ],
          [
           4,
           321,
           36
          ],
          [
           4,
           8,
           1
          ],
          [
           4,
           142,
           5
          ],
          [
           4,
           293,
           21
          ],
          [
           4,
           50,
           3
          ],
          [
           4,
           104,
           13
          ],
          [
           4,
           236,
           18
          ],
          [
           4,
           200,
           18
          ],
          [
           4,
           0,
           0
          ],
          [
           4,
           11,
           0
          ],
          [
           4,
           0,
           0
          ],
          [
           4,
           175,
           3
          ],
          [
           4,
           175,
           3
          ],
          [
           4,
           158,
           6
          ],
          [
           4,
           0,
           0
          ],
          [
           4,
           53,
           4
          ],
          [
           5,
           1,
           0
          ],
          [
           4,
           76,
           4
          ],
          [
           4,
           0,
           1
          ],
          [
           4,
           17,
           1
          ],
          [
           5,
           518,
           58
          ],
          [
           4,
           530,
           11
          ],
          [
           4,
           2,
           0
          ],
          [
           4,
           2,
           1
          ],
          [
           5,
           450,
           16
          ],
          [
           4,
           0,
           0
          ],
          [
           5,
           172,
           6
          ],
          [
           4,
           2,
           0
          ],
          [
           4,
           216,
           3
          ],
          [
           4,
           25,
           2
          ],
          [
           4,
           100,
           1
          ],
          [
           4,
           450,
           24
          ],
          [
           4,
           500,
           33
          ],
          [
           4,
           8,
           0
          ],
          [
           4,
           2,
           0
          ],
          [
           4,
           0,
           0
          ],
          [
           4,
           1,
           0
          ],
          [
           4,
           35,
           5
          ],
          [
           4,
           22,
           6
          ],
          [
           4,
           0,
           0
          ],
          [
           4,
           0,
           0
          ],
          [
           4,
           1,
           4
          ],
          [
           4,
           10,
           2
          ],
          [
           4,
           52,
           3
          ],
          [
           4,
           16,
           5
          ],
          [
           4,
           30,
           2
          ],
          [
           4,
           270,
           14
          ],
          [
           4,
           364,
           6
          ],
          [
           4,
           33,
           1
          ],
          [
           5,
           93,
           7
          ],
          [
           4,
           24,
           7
          ],
          [
           4,
           364,
           35
          ],
          [
           5,
           156,
           5
          ],
          [
           5,
           462,
           13
          ],
          [
           5,
           150,
           9
          ],
          [
           4,
           3,
           2
          ],
          [
           4,
           241,
           32
          ],
          [
           4,
           14,
           2
          ],
          [
           4,
           22,
           2
          ],
          [
           4,
           14,
           4
          ],
          [
           4,
           6,
           0
          ],
          [
           4,
           0,
           0
          ],
          [
           4,
           70,
           12
          ],
          [
           4,
           24,
           0
          ],
          [
           4,
           13,
           1
          ],
          [
           4,
           51,
           5
          ],
          [
           4,
           42,
           16
          ],
          [
           4,
           78,
           4
          ],
          [
           4,
           85,
           3
          ],
          [
           5,
           500,
           26
          ],
          [
           4,
           0,
           0
          ],
          [
           4,
           84,
           4
          ],
          [
           5,
           510,
           47
          ],
          [
           4,
           182,
           13
          ],
          [
           4,
           795,
           58
          ],
          [
           4,
           5,
           1
          ],
          [
           4,
           0,
           0
          ],
          [
           4,
           72,
           2
          ],
          [
           4,
           58,
           6
          ],
          [
           4,
           137,
           3
          ],
          [
           4,
           0,
           0
          ],
          [
           4,
           0,
           0
          ],
          [
           4,
           8,
           0
          ],
          [
           4,
           6,
           5
          ],
          [
           4,
           1,
           0
          ],
          [
           4,
           20,
           0
          ],
          [
           4,
           20,
           0
          ],
          [
           4,
           77,
           6
          ],
          [
           4,
           30,
           7
          ],
          [
           4,
           12,
           5
          ],
          [
           4,
           5,
           0
          ],
          [
           4,
           3,
           1
          ],
          [
           4,
           1,
           0
          ],
          [
           5,
           0,
           0
          ],
          [
           4,
           19,
           0
          ],
          [
           4,
           4,
           2
          ],
          [
           4,
           289,
           3
          ],
          [
           4,
           25,
           5
          ],
          [
           4,
           199,
           7
          ],
          [
           4,
           36,
           4
          ],
          [
           4,
           0,
           2
          ],
          [
           4,
           178,
           3
          ],
          [
           5,
           190,
           16
          ],
          [
           5,
           267,
           28
          ],
          [
           5,
           272,
           28
          ],
          [
           4,
           26,
           4
          ],
          [
           4,
           30,
           6
          ],
          [
           4,
           67,
           9
          ],
          [
           4,
           17,
           0
          ],
          [
           4,
           104,
           0
          ],
          [
           4,
           12,
           1
          ],
          [
           4,
           17,
           4
          ],
          [
           4,
           190,
           11
          ],
          [
           4,
           285,
           18
          ],
          [
           5,
           210,
           3
          ],
          [
           5,
           86,
           6
          ],
          [
           4,
           2,
           0
          ],
          [
           4,
           56,
           0
          ],
          [
           4,
           0,
           0
          ],
          [
           4,
           225,
           3
          ],
          [
           4,
           81,
           3
          ],
          [
           4,
           122,
           4
          ],
          [
           4,
           28,
           7
          ],
          [
           4,
           113,
           10
          ],
          [
           5,
           270,
           31
          ],
          [
           4,
           39,
           2
          ],
          [
           5,
           1150,
           36
          ],
          [
           4,
           6,
           5
          ],
          [
           4,
           150,
           7
          ],
          [
           4,
           51,
           10
          ],
          [
           4,
           121,
           11
          ],
          [
           4,
           35,
           0
          ],
          [
           4,
           177,
           6
          ],
          [
           4,
           150,
           14
          ],
          [
           4,
           50,
           2
          ],
          [
           4,
           12,
           0
          ],
          [
           4,
           2,
           0
          ],
          [
           4,
           210,
           9
          ],
          [
           4,
           49,
           1
          ],
          [
           4,
           51,
           7
          ],
          [
           4,
           3,
           1
          ],
          [
           4,
           4,
           1
          ],
          [
           4,
           22,
           3
          ],
          [
           4,
           0,
           0
          ],
          [
           4,
           133,
           3
          ],
          [
           4,
           0,
           0
          ],
          [
           4,
           0,
           0
          ],
          [
           4,
           4,
           1
          ],
          [
           4,
           18,
           0
          ],
          [
           4,
           8,
           0
          ],
          [
           4,
           55,
           1
          ],
          [
           4,
           11,
           0
          ],
          [
           4,
           4,
           1
          ],
          [
           5,
           64,
           2
          ],
          [
           4,
           8,
           0
          ],
          [
           4,
           177,
           3
          ],
          [
           4,
           2,
           0
          ],
          [
           4,
           6,
           0
          ],
          [
           5,
           11,
           0
          ],
          [
           4,
           0,
           0
          ],
          [
           5,
           9,
           0
          ],
          [
           4,
           23,
           2
          ],
          [
           4,
           6,
           0
          ],
          [
           4,
           0,
           0
          ],
          [
           4,
           5,
           2
          ],
          [
           4,
           10,
           0
          ],
          [
           4,
           44,
           1
          ],
          [
           5,
           130,
           22
          ],
          [
           4,
           14,
           0
          ],
          [
           4,
           5,
           0
          ],
          [
           4,
           1,
           0
          ],
          [
           4,
           2,
           0
          ],
          [
           4,
           0,
           0
          ],
          [
           4,
           0,
           0
          ],
          [
           4,
           20,
           0
          ],
          [
           4,
           10,
           0
          ],
          [
           4,
           1,
           0
          ],
          [
           4,
           0,
           0
          ],
          [
           4,
           3,
           0
          ],
          [
           4,
           31,
           4
          ],
          [
           4,
           0,
           0
          ],
          [
           4,
           35,
           5
          ],
          [
           4,
           266,
           2
          ],
          [
           4,
           20,
           0
          ],
          [
           4,
           68,
           11
          ],
          [
           4,
           1740,
           42
          ],
          [
           4,
           25,
           1
          ],
          [
           4,
           26,
           3
          ],
          [
           4,
           1,
           0
          ],
          [
           4,
           500,
           3
          ],
          [
           4,
           0,
           0
          ],
          [
           4,
           0,
           0
          ],
          [
           4,
           110,
           3
          ],
          [
           4,
           140,
           0
          ],
          [
           4,
           25,
           2
          ],
          [
           4,
           0,
           0
          ],
          [
           4,
           32,
           0
          ],
          [
           4,
           53,
           3
          ],
          [
           4,
           32,
           1
          ],
          [
           4,
           30,
           0
          ],
          [
           4,
           2,
           0
          ],
          [
           4,
           0,
           0
          ],
          [
           4,
           12,
           0
          ],
          [
           4,
           23,
           3
          ],
          [
           4,
           28,
           2
          ],
          [
           5,
           29,
           0
          ],
          [
           4,
           170,
           10
          ],
          [
           4,
           181,
           10
          ],
          [
           4,
           11,
           0
          ],
          [
           4,
           20,
           2
          ],
          [
           4,
           4,
           0
          ],
          [
           4,
           0,
           0
          ],
          [
           4,
           25,
           0
          ],
          [
           4,
           13,
           2
          ],
          [
           4,
           12,
           5
          ],
          [
           4,
           149,
           3
          ],
          [
           4,
           153,
           16
          ],
          [
           4,
           36,
           0
          ],
          [
           4,
           24,
           0
          ],
          [
           4,
           395,
           4
          ],
          [
           4,
           49,
           5
          ],
          [
           4,
           100,
           7
          ],
          [
           4,
           37,
           3
          ],
          [
           4,
           19,
           1
          ],
          [
           4,
           14,
           1
          ],
          [
           4,
           60,
           1
          ],
          [
           4,
           64,
           3
          ],
          [
           5,
           200,
           9
          ],
          [
           4,
           0,
           0
          ],
          [
           4,
           2,
           0
          ],
          [
           4,
           82,
           12
          ],
          [
           4,
           125,
           16
          ],
          [
           5,
           310,
           18
          ],
          [
           4,
           0,
           0
          ],
          [
           4,
           0,
           0
          ],
          [
           4,
           40,
           4
          ],
          [
           4,
           30,
           7
          ],
          [
           4,
           8,
           0
          ],
          [
           4,
           2,
           0
          ],
          [
           4,
           0,
           0
          ],
          [
           4,
           350,
           6
          ],
          [
           4,
           121,
           30
          ],
          [
           4,
           0,
           0
          ],
          [
           4,
           1,
           0
          ],
          [
           4,
           154,
           4
          ],
          [
           4,
           7,
           1
          ],
          [
           4,
           55,
           0
          ],
          [
           4,
           6,
           1
          ],
          [
           4,
           52,
           4
          ],
          [
           4,
           35,
           2
          ],
          [
           4,
           0,
           0
          ],
          [
           4,
           0,
           0
          ],
          [
           4,
           0,
           0
          ],
          [
           4,
           3,
           0
          ],
          [
           4,
           40,
           0
          ],
          [
           4,
           20,
           0
          ],
          [
           4,
           463,
           21
          ],
          [
           4,
           0,
           0
          ],
          [
           5,
           60,
           1
          ],
          [
           5,
           0,
           1
          ],
          [
           4,
           8,
           0
          ],
          [
           4,
           0,
           0
          ],
          [
           4,
           21,
           2
          ],
          [
           4,
           2,
           0
          ],
          [
           4,
           6,
           0
          ],
          [
           4,
           12,
           1
          ],
          [
           4,
           9,
           0
          ],
          [
           4,
           37,
           0
          ],
          [
           4,
           51,
           1
          ],
          [
           4,
           60,
           6
          ],
          [
           4,
           1,
           0
          ],
          [
           5,
           350,
           29
          ],
          [
           4,
           5,
           0
          ],
          [
           4,
           0,
           1
          ],
          [
           5,
           225,
           17
          ],
          [
           4,
           6,
           0
          ],
          [
           4,
           22,
           0
          ],
          [
           4,
           24,
           1
          ],
          [
           4,
           64,
           2
          ],
          [
           4,
           6,
           0
          ],
          [
           4,
           1,
           0
          ],
          [
           4,
           3,
           0
          ],
          [
           4,
           0,
           0
          ],
          [
           4,
           10,
           0
          ],
          [
           4,
           3,
           0
          ],
          [
           5,
           35,
           1
          ],
          [
           4,
           7,
           0
          ],
          [
           4,
           122,
           12
          ],
          [
           4,
           16,
           0
          ],
          [
           4,
           46,
           0
          ],
          [
           4,
           86,
           5
          ],
          [
           4,
           10,
           1
          ],
          [
           4,
           20,
           0
          ],
          [
           4,
           100,
           7
          ],
          [
           4,
           0,
           0
          ],
          [
           4,
           6,
           1
          ],
          [
           4,
           5,
           0
          ],
          [
           4,
           4,
           0
          ],
          [
           4,
           246,
           4
          ],
          [
           4,
           150,
           22
          ],
          [
           4,
           20,
           3
          ],
          [
           4,
           48,
           3
          ],
          [
           4,
           70,
           3
          ],
          [
           4,
           2,
           0
          ],
          [
           4,
           7,
           0
          ],
          [
           4,
           45,
           0
          ],
          [
           4,
           55,
           1
          ],
          [
           4,
           32,
           3
          ],
          [
           4,
           0,
           0
          ],
          [
           4,
           2,
           0
          ],
          [
           4,
           1,
           0
          ],
          [
           4,
           24,
           3
          ],
          [
           4,
           7,
           0
          ],
          [
           4,
           0,
           0
          ],
          [
           4,
           0,
           0
          ],
          [
           4,
           1,
           0
          ],
          [
           4,
           35,
           7
          ],
          [
           4,
           10,
           0
          ],
          [
           5,
           12,
           0
          ],
          [
           4,
           18,
           0
          ],
          [
           4,
           11,
           0
          ],
          [
           4,
           0,
           0
          ],
          [
           4,
           180,
           5
          ],
          [
           4,
           100,
           6
          ],
          [
           4,
           40,
           10
          ],
          [
           4,
           0,
           0
          ],
          [
           4,
           15,
           1
          ],
          [
           4,
           5,
           1
          ],
          [
           5,
           12,
           27
          ],
          [
           4,
           19,
           1
          ],
          [
           5,
           259,
           32
          ],
          [
           4,
           12,
           2
          ],
          [
           5,
           36,
           3
          ],
          [
           4,
           2,
           0
          ],
          [
           4,
           150,
           6
          ],
          [
           4,
           5,
           0
          ],
          [
           4,
           4,
           0
          ],
          [
           4,
           106,
           6
          ],
          [
           4,
           0,
           0
          ],
          [
           4,
           102,
           7
          ],
          [
           4,
           3,
           0
          ],
          [
           4,
           1,
           0
          ],
          [
           4,
           65,
           4
          ],
          [
           4,
           150,
           6
          ],
          [
           4,
           11,
           1
          ],
          [
           4,
           26,
           2
          ],
          [
           5,
           583,
           36
          ],
          [
           4,
           0,
           3
          ],
          [
           4,
           6,
           1
          ],
          [
           4,
           0,
           0
          ],
          [
           4,
           15,
           1
          ],
          [
           4,
           100,
           1
          ],
          [
           4,
           144,
           11
          ],
          [
           4,
           28,
           1
          ],
          [
           4,
           2,
           0
          ],
          [
           4,
           2,
           0
          ],
          [
           4,
           22,
           0
          ],
          [
           4,
           48,
           0
          ],
          [
           4,
           21,
           2
          ],
          [
           4,
           16,
           0
          ],
          [
           4,
           122,
           3
          ],
          [
           4,
           0,
           0
          ],
          [
           4,
           0,
           0
          ],
          [
           4,
           17,
           4
          ],
          [
           4,
           30,
           2
          ],
          [
           4,
           30,
           4
          ],
          [
           4,
           13,
           0
          ],
          [
           4,
           86,
           11
          ],
          [
           4,
           33,
           2
          ],
          [
           4,
           134,
           0
          ],
          [
           4,
           0,
           1
          ],
          [
           4,
           4,
           0
          ],
          [
           4,
           1,
           0
          ],
          [
           4,
           38,
           1
          ],
          [
           4,
           6,
           3
          ],
          [
           4,
           3,
           0
          ],
          [
           4,
           0,
           0
          ],
          [
           4,
           40,
           0
          ],
          [
           4,
           0,
           0
          ],
          [
           4,
           6,
           0
          ],
          [
           4,
           0,
           0
          ],
          [
           4,
           2,
           1
          ],
          [
           4,
           50,
           9
          ],
          [
           5,
           63,
           11
          ],
          [
           4,
           18,
           1
          ],
          [
           4,
           139,
           13
          ],
          [
           4,
           51,
           0
          ],
          [
           4,
           5,
           3
          ],
          [
           4,
           12,
           1
          ],
          [
           4,
           23,
           4
          ],
          [
           4,
           350,
           21
          ],
          [
           4,
           9,
           0
          ],
          [
           4,
           2,
           0
          ],
          [
           5,
           70,
           9
          ],
          [
           4,
           0,
           0
          ],
          [
           4,
           46,
           8
          ],
          [
           4,
           58,
           2
          ],
          [
           4,
           5,
           0
          ],
          [
           4,
           146,
           10
          ],
          [
           4,
           32,
           1
          ],
          [
           4,
           49,
           2
          ],
          [
           4,
           0,
           0
          ],
          [
           4,
           28,
           7
          ],
          [
           4,
           20,
           0
          ],
          [
           4,
           5,
           1
          ],
          [
           4,
           14,
           1
          ],
          [
           4,
           1,
           0
          ],
          [
           4,
           13,
           0
          ],
          [
           4,
           0,
           0
          ],
          [
           4,
           0,
           0
          ],
          [
           4,
           0,
           0
          ],
          [
           4,
           5,
           0
          ],
          [
           4,
           0,
           1
          ],
          [
           4,
           48,
           6
          ],
          [
           4,
           30,
           7
          ],
          [
           4,
           54,
           13
          ],
          [
           4,
           50,
           14
          ],
          [
           4,
           85,
           22
          ],
          [
           4,
           1500,
           64
          ],
          [
           5,
           0,
           25
          ],
          [
           5,
           145,
           72
          ],
          [
           4,
           335,
           20
          ],
          [
           4,
           17,
           7
          ],
          [
           5,
           6,
           3
          ],
          [
           5,
           137,
           23
          ],
          [
           4,
           0,
           0
          ],
          [
           4,
           12,
           4
          ],
          [
           5,
           1150,
           158
          ],
          [
           4,
           27,
           4
          ],
          [
           4,
           61,
           0
          ],
          [
           4,
           48,
           1
          ],
          [
           5,
           181,
           9
          ],
          [
           4,
           0,
           0
          ],
          [
           4,
           108,
           8
          ],
          [
           4,
           0,
           11
          ],
          [
           4,
           8,
           4
          ],
          [
           4,
           0,
           0
          ],
          [
           4,
           71,
           0
          ],
          [
           4,
           54,
           6
          ],
          [
           4,
           0,
           0
          ],
          [
           4,
           10,
           2
          ],
          [
           5,
           212,
           24
          ],
          [
           4,
           0,
           0
          ],
          [
           4,
           15,
           0
          ],
          [
           4,
           2,
           2
          ],
          [
           4,
           125,
           3
          ],
          [
           4,
           193,
           16
          ],
          [
           4,
           84,
           10
          ],
          [
           4,
           0,
           0
          ],
          [
           4,
           0,
           0
          ],
          [
           4,
           20,
           1
          ],
          [
           4,
           0,
           1
          ],
          [
           4,
           2,
           0
          ],
          [
           4,
           11,
           2
          ],
          [
           4,
           36,
           9
          ],
          [
           4,
           468,
           10
          ],
          [
           4,
           0,
           1
          ],
          [
           4,
           8,
           0
          ],
          [
           4,
           12,
           1
          ],
          [
           4,
           25,
           2
          ],
          [
           4,
           90,
           23
          ],
          [
           4,
           166,
           0
          ],
          [
           4,
           4,
           0
          ],
          [
           4,
           87,
           19
          ],
          [
           4,
           3,
           4
          ],
          [
           4,
           98,
           7
          ],
          [
           4,
           60,
           5
          ],
          [
           4,
           1,
           1
          ],
          [
           4,
           2,
           1
          ],
          [
           4,
           0,
           0
          ],
          [
           4,
           14,
           8
          ],
          [
           4,
           515,
           57
          ]
         ],
         "hovertemplate": "<b>%{hovertext}</b><br><br>wid=%{marker.size}<br>slat=%{lat}<br>slon=%{lon}<br>mag=%{marker.color}<br>inj=%{customdata[1]}<br>fat=%{customdata[2]}<extra></extra>",
         "hovertext": [
          4,
          4,
          4,
          4,
          4,
          4,
          4,
          4,
          4,
          4,
          4,
          4,
          4,
          4,
          4,
          4,
          4,
          4,
          4,
          4,
          4,
          4,
          4,
          4,
          4,
          4,
          4,
          4,
          4,
          4,
          4,
          4,
          4,
          4,
          4,
          4,
          4,
          4,
          4,
          4,
          5,
          4,
          5,
          4,
          4,
          4,
          5,
          4,
          4,
          5,
          4,
          5,
          4,
          4,
          4,
          4,
          4,
          4,
          4,
          4,
          5,
          5,
          4,
          4,
          4,
          4,
          4,
          4,
          4,
          4,
          4,
          4,
          4,
          5,
          4,
          4,
          4,
          4,
          4,
          4,
          4,
          4,
          4,
          4,
          4,
          4,
          4,
          4,
          4,
          4,
          4,
          4,
          4,
          5,
          4,
          4,
          4,
          4,
          5,
          4,
          4,
          4,
          4,
          4,
          4,
          4,
          5,
          4,
          4,
          4,
          4,
          5,
          4,
          4,
          4,
          4,
          4,
          4,
          4,
          4,
          4,
          4,
          4,
          4,
          5,
          4,
          4,
          4,
          4,
          4,
          4,
          4,
          4,
          4,
          4,
          4,
          4,
          4,
          4,
          4,
          4,
          4,
          4,
          4,
          4,
          4,
          4,
          5,
          4,
          4,
          4,
          5,
          4,
          4,
          4,
          4,
          4,
          4,
          4,
          4,
          4,
          4,
          4,
          4,
          4,
          4,
          4,
          4,
          4,
          4,
          4,
          4,
          4,
          4,
          4,
          4,
          4,
          4,
          4,
          4,
          4,
          4,
          4,
          4,
          5,
          4,
          4,
          4,
          5,
          4,
          4,
          4,
          5,
          4,
          5,
          4,
          4,
          4,
          4,
          4,
          4,
          4,
          4,
          4,
          4,
          4,
          4,
          4,
          4,
          4,
          4,
          4,
          4,
          4,
          4,
          4,
          4,
          5,
          4,
          4,
          5,
          5,
          5,
          4,
          4,
          4,
          4,
          4,
          4,
          4,
          4,
          4,
          4,
          4,
          4,
          4,
          4,
          5,
          4,
          4,
          5,
          4,
          4,
          4,
          4,
          4,
          4,
          4,
          4,
          4,
          4,
          4,
          4,
          4,
          4,
          4,
          4,
          4,
          4,
          4,
          4,
          5,
          4,
          4,
          4,
          4,
          4,
          4,
          4,
          4,
          5,
          5,
          5,
          4,
          4,
          4,
          4,
          4,
          4,
          4,
          4,
          4,
          5,
          5,
          4,
          4,
          4,
          4,
          4,
          4,
          4,
          4,
          5,
          4,
          5,
          4,
          4,
          4,
          4,
          4,
          4,
          4,
          4,
          4,
          4,
          4,
          4,
          4,
          4,
          4,
          4,
          4,
          4,
          4,
          4,
          4,
          4,
          4,
          4,
          4,
          4,
          5,
          4,
          4,
          4,
          4,
          5,
          4,
          5,
          4,
          4,
          4,
          4,
          4,
          4,
          5,
          4,
          4,
          4,
          4,
          4,
          4,
          4,
          4,
          4,
          4,
          4,
          4,
          4,
          4,
          4,
          4,
          4,
          4,
          4,
          4,
          4,
          4,
          4,
          4,
          4,
          4,
          4,
          4,
          4,
          4,
          4,
          4,
          4,
          4,
          4,
          4,
          4,
          5,
          4,
          4,
          4,
          4,
          4,
          4,
          4,
          4,
          4,
          4,
          4,
          4,
          4,
          4,
          4,
          4,
          4,
          4,
          4,
          4,
          4,
          5,
          4,
          4,
          4,
          4,
          5,
          4,
          4,
          4,
          4,
          4,
          4,
          4,
          4,
          4,
          4,
          4,
          4,
          4,
          4,
          4,
          4,
          4,
          4,
          4,
          4,
          4,
          4,
          4,
          4,
          4,
          5,
          5,
          4,
          4,
          4,
          4,
          4,
          4,
          4,
          4,
          4,
          4,
          4,
          5,
          4,
          4,
          5,
          4,
          4,
          4,
          4,
          4,
          4,
          4,
          4,
          4,
          4,
          5,
          4,
          4,
          4,
          4,
          4,
          4,
          4,
          4,
          4,
          4,
          4,
          4,
          4,
          4,
          4,
          4,
          4,
          4,
          4,
          4,
          4,
          4,
          4,
          4,
          4,
          4,
          4,
          4,
          4,
          4,
          4,
          4,
          5,
          4,
          4,
          4,
          4,
          4,
          4,
          4,
          4,
          4,
          5,
          4,
          5,
          4,
          5,
          4,
          4,
          4,
          4,
          4,
          4,
          4,
          4,
          4,
          4,
          4,
          4,
          4,
          5,
          4,
          4,
          4,
          4,
          4,
          4,
          4,
          4,
          4,
          4,
          4,
          4,
          4,
          4,
          4,
          4,
          4,
          4,
          4,
          4,
          4,
          4,
          4,
          4,
          4,
          4,
          4,
          4,
          4,
          4,
          4,
          4,
          4,
          4,
          4,
          4,
          5,
          4,
          4,
          4,
          4,
          4,
          4,
          4,
          4,
          4,
          5,
          4,
          4,
          4,
          4,
          4,
          4,
          4,
          4,
          4,
          4,
          4,
          4,
          4,
          4,
          4,
          4,
          4,
          4,
          4,
          4,
          4,
          4,
          4,
          4,
          4,
          5,
          5,
          4,
          4,
          5,
          5,
          4,
          4,
          5,
          4,
          4,
          4,
          5,
          4,
          4,
          4,
          4,
          4,
          4,
          4,
          4,
          4,
          5,
          4,
          4,
          4,
          4,
          4,
          4,
          4,
          4,
          4,
          4,
          4,
          4,
          4,
          4,
          4,
          4,
          4,
          4,
          4,
          4,
          4,
          4,
          4,
          4,
          4,
          4,
          4,
          4,
          4,
          4
         ],
         "lat": [
          31.97,
          35.08,
          32.42,
          38.03,
          38.33,
          45.58,
          41.8,
          33.42,
          44.88,
          39.03,
          43.47,
          44.33,
          35.2,
          35.15,
          34.9,
          35.42,
          34.02,
          35,
          35.22,
          36.05,
          34.87,
          36.02,
          36.1,
          35.27,
          34.6,
          31.5,
          38.98,
          42.75,
          47.05,
          41.22,
          33.28,
          29.57,
          32.6,
          32.25,
          33.22,
          35.52,
          40.87,
          43.07,
          43.45,
          31.53,
          31.55,
          42.92,
          46.45,
          41.33,
          43.15,
          41.78,
          43.1,
          41.22,
          42.47,
          41.45,
          31.07,
          32.33,
          37.32,
          40.55,
          42.1,
          35.4,
          33.98,
          41.73,
          42.28,
          34.35,
          36.72,
          36.88,
          35,
          39.52,
          37.48,
          41.93,
          46.5,
          48.43,
          44.48,
          38.45,
          40.57,
          36.82,
          44.38,
          42.65,
          36.77,
          35.58,
          43.93,
          33.5,
          42.25,
          43,
          40.97,
          40.7,
          35.4,
          34,
          33.93,
          34.68,
          34.63,
          43.87,
          33.6,
          33.43,
          40.58,
          34.47,
          39.38,
          38.45,
          45.58,
          36.95,
          34.27,
          39.75,
          46.9,
          42.52,
          34.95,
          30.1,
          33.9,
          33.98,
          38.28,
          37.7,
          38.08,
          33.35,
          27.67,
          44.93,
          44.77,
          44.9,
          37.85,
          38.53,
          31.85,
          34.62,
          41.5,
          40.7,
          37.35,
          36.85,
          34.95,
          34.02,
          35.38,
          34.88,
          35.28,
          39.15,
          39.18,
          39.58,
          34.73,
          39.17,
          41.62,
          47.1,
          42.78,
          29.32,
          35.27,
          34.15,
          33.17,
          42.68,
          39.52,
          43.97,
          33.37,
          33.9,
          33.17,
          41.18,
          34.12,
          33.32,
          36.7,
          33.9,
          40.67,
          38.12,
          41.4,
          40.55,
          42.67,
          40.7,
          43.38,
          42.92,
          29.6,
          36.6,
          35.05,
          41.85,
          42.22,
          40.33,
          40.55,
          41.62,
          41.73,
          40.4,
          40.02,
          41.52,
          41.58,
          42.85,
          43.02,
          41.8,
          40.35,
          40.8,
          41.67,
          41.23,
          42.3,
          43.28,
          44.85,
          44.78,
          45.03,
          44.98,
          41.23,
          40.87,
          43,
          33.9,
          43.17,
          42.3,
          32.18,
          27.92,
          34.32,
          39.17,
          38.92,
          46.63,
          42.8,
          40.4,
          38.68,
          33.7,
          42.15,
          42.22,
          41.67,
          42.93,
          39.7,
          43.3,
          43.45,
          43.57,
          43.8,
          42.52,
          35.83,
          35.6,
          32.47,
          37.68,
          33.92,
          36.63,
          35.2,
          38.67,
          39.1,
          38.7,
          35.65,
          35.73,
          42.67,
          42.77,
          44.17,
          45.08,
          31.68,
          31.83,
          37.95,
          37.73,
          37.65,
          45.28,
          46.78,
          33.6,
          34.38,
          34,
          34.65,
          34.72,
          36.45,
          33.55,
          39.55,
          35.33,
          32.38,
          32.33,
          32.7,
          33.48,
          31.5,
          37.08,
          37.15,
          36.07,
          36.03,
          36.27,
          43.23,
          34.38,
          38.08,
          39.77,
          42.28,
          31.53,
          34.08,
          28.83,
          38.53,
          39.93,
          40.33,
          31.63,
          34.47,
          35.4,
          35.27,
          35.55,
          32.53,
          42.42,
          34.18,
          33.27,
          34.7,
          34.47,
          33.83,
          34.95,
          34.37,
          34.5,
          39.75,
          38.77,
          40.05,
          39.13,
          38.55,
          40.5,
          38.97,
          38.07,
          37.42,
          37.22,
          36.63,
          38.2,
          37.72,
          38.05,
          37.72,
          36.65,
          37.73,
          39.18,
          39.63,
          36.52,
          36.25,
          36.03,
          35,
          43.75,
          38.42,
          35.95,
          41.73,
          42.35,
          41.75,
          31.18,
          33.08,
          33.55,
          39.7,
          39.68,
          36.83,
          42.2,
          41.17,
          41.35,
          46.87,
          46.53,
          39.8,
          40.47,
          42.52,
          31.78,
          34.77,
          35.2,
          31.78,
          32.58,
          37.07,
          34.88,
          31.72,
          32.27,
          41.93,
          41.67,
          41.45,
          40.8,
          33.02,
          42.28,
          42.43,
          33.52,
          42.53,
          39.22,
          39.32,
          40.25,
          36.65,
          42.15,
          45.1,
          44.78,
          40.87,
          41.18,
          33.47,
          31.55,
          35.58,
          46.4,
          32.5,
          40.48,
          34.2,
          33.82,
          36.45,
          42.63,
          41.52,
          41.88,
          33.6,
          40.62,
          40.92,
          40.65,
          39.62,
          41.68,
          38.72,
          43.43,
          36.6,
          33.77,
          35.35,
          35.32,
          36.02,
          33.93,
          36.57,
          34.13,
          33.65,
          37.8,
          36.18,
          32.65,
          45.22,
          42.97,
          30.07,
          35.58,
          35.47,
          35.05,
          35.33,
          34.53,
          34.58,
          34.63,
          34.37,
          34.65,
          36.08,
          44.08,
          42.98,
          35.95,
          40.42,
          42.97,
          39.42,
          39.73,
          41.83,
          41.48,
          41.2,
          41.93,
          41.18,
          41.63,
          41.55,
          32.42,
          42.68,
          41.75,
          31.5,
          31,
          43.9,
          33.15,
          35.87,
          35.92,
          38.48,
          34.98,
          35.47,
          35.08,
          29.28,
          40.98,
          42.23,
          42.28,
          41.38,
          42.83,
          34.65,
          42.23,
          37.77,
          38.15,
          40.05,
          32.78,
          31.08,
          38.57,
          38.95,
          38.25,
          38.85,
          39.22,
          38.78,
          38.47,
          40.15,
          41.68,
          37.97,
          37.07,
          37.47,
          36.43,
          36.45,
          36.17,
          37.1,
          40.73,
          33.05,
          34.75,
          39.42,
          38.37,
          43.95,
          43.8,
          35.68,
          31.97,
          29.73,
          33.92,
          33.18,
          38.6,
          31.85,
          36.15,
          37.12,
          38.9,
          43.72,
          43.88,
          37.2,
          33.72,
          34.13,
          32.6,
          40.48,
          44.28,
          40.58,
          40.37,
          34.83,
          35,
          42.07,
          41.07,
          41.78,
          42.2,
          35.5,
          35.25,
          35.5,
          34.1436,
          35.82,
          38.15,
          43.7,
          35.78,
          34.15,
          35.77,
          34.62,
          33.9,
          34.52,
          36.1,
          35.95,
          30.37,
          30.82,
          43.95,
          33.42,
          35.87,
          35.22,
          35.87,
          43.75,
          40.05,
          39.78,
          35.58,
          36.28,
          32.53,
          40.85,
          41.03,
          39.23,
          37.32,
          35.93,
          35.88,
          35.13,
          35.57,
          30.68,
          48.6,
          44.9,
          39.65,
          33.05,
          38.5,
          40.85,
          38.57,
          33.92,
          33.47,
          32.43,
          37,
          38.55,
          45.68,
          46.95,
          40.78,
          39.07,
          37.42,
          39.23,
          35.52,
          37.27,
          35.33,
          42.5,
          44.28,
          37.25,
          40.32,
          39.88,
          40.8,
          46.78,
          37.25,
          39.45,
          37.68,
          38.13,
          32.12,
          31.28,
          37.36,
          47.72,
          35.1,
          35.68,
          35.27,
          34.67,
          34.4,
          37,
          31.41,
          38.94,
          42.55,
          39.13,
          33.93,
          35.7579,
          34.3439,
          32.4032,
          35.1808,
          35.289,
          45.448,
          41.5512,
          46.41,
          46.087,
          43.5755,
          47.54,
          43.44,
          46.11,
          31.7947,
          42.7293,
          38.7364,
          34.7948,
          34.0757,
          32.6174,
          33.2506,
          34.6208,
          33.6792,
          33.0297,
          34.3907,
          34.1043,
          34.8744,
          32.0296,
          32.7992,
          34.0455,
          35.5324,
          35.34,
          37.0524,
          35.2781,
          34.88,
          35.008,
          35.444,
          34.33,
          37.6945,
          38.4316,
          38.791,
          38.406,
          31.2802,
          32.412,
          38.1429,
          35.2531,
          35.284,
          42.3319,
          42.128,
          38.42,
          40.622,
          34.7787,
          32.88,
          41.893,
          42.127,
          41.9528,
          41.9742,
          44.0372,
          41.853,
          34.5955,
          32.796,
          34.559,
          38.9955,
          37.7238,
          32.2572,
          32.4472,
          39.8243,
          38.8381,
          36.1715,
          31.2763,
          31.4641,
          32.7045,
          31.0707,
          46.09,
          33.2533,
          35.7867,
          36.483
         ],
         "legendgroup": "",
         "lon": [
          -94,
          -96.4,
          -99.5,
          -99.12,
          -97.93,
          -89.58,
          -96.6,
          -98.75,
          -94.37,
          -99.88,
          -89.25,
          -89.3,
          -86.3,
          -86.58,
          -91.85,
          -91,
          -94.02,
          -91.25,
          -91.7,
          -89.82,
          -89.68,
          -89.2,
          -89.27,
          -88.98,
          -87,
          -97.45,
          -95.22,
          -95.85,
          -100.5,
          -96.58,
          -99.95,
          -98.7,
          -83.6,
          -88.38,
          -85.93,
          -84.78,
          -93.33,
          -93.52,
          -92.4,
          -100.58,
          -97.15,
          -82.6,
          -100.67,
          -99.13,
          -83.18,
          -83.57,
          -83.85,
          -83.9,
          -72.17,
          -94.7,
          -93.05,
          -90.9,
          -92.23,
          -95.38,
          -91.75,
          -97.37,
          -99.72,
          -97.73,
          -94.72,
          -87.05,
          -97.28,
          -97.15,
          -100.22,
          -98.53,
          -100.03,
          -103.8,
          -97,
          -102.33,
          -96.2,
          -90.92,
          -85.57,
          -96.97,
          -86.26,
          -86.22,
          -94.97,
          -88.47,
          -88.97,
          -86.97,
          -83.22,
          -83.68,
          -99.1,
          -101.22,
          -94.68,
          -96.65,
          -96.43,
          -79.2,
          -80.58,
          -90.18,
          -102.3,
          -101.63,
          -97.57,
          -101.3,
          -97.73,
          -95.5,
          -92.87,
          -91.17,
          -98.5,
          -89.7,
          -97.35,
          -83.73,
          -97.25,
          -93.73,
          -87.18,
          -86.52,
          -89.08,
          -89.48,
          -89.25,
          -93.25,
          -82.62,
          -91.47,
          -91.27,
          -92.33,
          -97.02,
          -90.6,
          -97.22,
          -96.58,
          -94.63,
          -93.15,
          -92.67,
          -95.25,
          -96.8,
          -95.7,
          -94.55,
          -95.3,
          -96.93,
          -96.33,
          -95.95,
          -85.8,
          -95.03,
          -94.93,
          -99.87,
          -104.7,
          -93,
          -94.78,
          -99.2,
          -98.45,
          -99.77,
          -98.45,
          -95.78,
          -92.45,
          -86.97,
          -86.9,
          -89.65,
          -88.1,
          -88.72,
          -86.43,
          -88.45,
          -98.5,
          -95.23,
          -95.3,
          -98.38,
          -98.37,
          -82.83,
          -95.45,
          -87.92,
          -94.23,
          -90.37,
          -98.1,
          -92.45,
          -90.93,
          -88.38,
          -86.83,
          -85.38,
          -85.7,
          -85.17,
          -86.38,
          -86.87,
          -86.07,
          -86.2,
          -84.65,
          -85.92,
          -85,
          -84.38,
          -84.2,
          -83.6,
          -82.25,
          -94.47,
          -92.82,
          -93.53,
          -93.75,
          -93.28,
          -93.38,
          -98.67,
          -98.6,
          -99.72,
          -102.15,
          -97.23,
          -92.2,
          -90.55,
          -82.8,
          -96.53,
          -95.18,
          -95.92,
          -94.37,
          -93.65,
          -92.53,
          -90.55,
          -87.17,
          -88.27,
          -88.92,
          -87.83,
          -84.8,
          -93.17,
          -93.17,
          -93.17,
          -93.43,
          -93.52,
          -94.18,
          -98.3,
          -99.38,
          -89.47,
          -91.13,
          -91.85,
          -88.3,
          -94.27,
          -84.37,
          -84.27,
          -82.8,
          -91.47,
          -91.18,
          -91.93,
          -93.12,
          -95.75,
          -88.08,
          -91.05,
          -86.63,
          -91.1,
          -90.55,
          -97.65,
          -103.75,
          -94.22,
          -102.63,
          -102.62,
          -101.98,
          -101.53,
          -89,
          -87.13,
          -101.9,
          -92.88,
          -96.93,
          -91.47,
          -90.73,
          -91.02,
          -94.48,
          -87.3,
          -85.07,
          -85.45,
          -88.78,
          -101.82,
          -101.4,
          -92.45,
          -97.55,
          -100.1,
          -86.08,
          -87.87,
          -96.83,
          -82.57,
          -99.22,
          -93.53,
          -92.48,
          -93.55,
          -97.48,
          -85.75,
          -97.97,
          -91.37,
          -95.32,
          -87.8,
          -73.42,
          -82.02,
          -88.2,
          -87.05,
          -87.48,
          -88.13,
          -84.3,
          -84.33,
          -85.05,
          -85.65,
          -85.27,
          -85.27,
          -85.72,
          -85.75,
          -87.13,
          -84.88,
          -86.75,
          -86.57,
          -85.47,
          -84.78,
          -85.75,
          -85.9,
          -85.07,
          -84.5,
          -85.37,
          -86.53,
          -84.48,
          -84.05,
          -85.08,
          -85.08,
          -85.57,
          -86.5,
          -88.83,
          -96.22,
          -96.65,
          -93.62,
          -91.48,
          -92.18,
          -90.53,
          -87.6,
          -92.12,
          -93.97,
          -92.67,
          -94.58,
          -97.57,
          -96.07,
          -100.22,
          -96.73,
          -102.97,
          -88.8,
          -87,
          -83.42,
          -90.02,
          -95.08,
          -94.7,
          -90.65,
          -90.22,
          -98.53,
          -98.52,
          -99.07,
          -97.28,
          -93.87,
          -88,
          -95.6,
          -89.75,
          -89.23,
          -85.55,
          -85.02,
          -86.93,
          -94.15,
          -94.3,
          -94,
          -89.25,
          -102.4,
          -96.7,
          -91.53,
          -90.1,
          -98.27,
          -97.42,
          -91,
          -90.12,
          -97.75,
          -101.88,
          -93.75,
          -95.15,
          -99.15,
          -98.65,
          -98.35,
          -94.6,
          -88.23,
          -72.67,
          -99.18,
          -93.92,
          -98.3,
          -79.73,
          -85.48,
          -89.95,
          -90.13,
          -88.2,
          -90.42,
          -95.7,
          -96.6,
          -98.37,
          -101.73,
          -94.28,
          -92.22,
          -95.57,
          -95.63,
          -89.13,
          -91.62,
          -92.02,
          -93.32,
          -90.13,
          -90.52,
          -92.45,
          -91.23,
          -78.25,
          -77.78,
          -80.63,
          -79.92,
          -79.6,
          -81.32,
          -79.75,
          -96.6,
          -88.75,
          -88.37,
          -96.5,
          -94.03,
          -89.98,
          -99.4,
          -99.15,
          -80.55,
          -80.52,
          -81.15,
          -79.95,
          -78.67,
          -79.03,
          -79.62,
          -88.77,
          -96.97,
          -93.6,
          -89.25,
          -103.68,
          -110.33,
          -89.58,
          -78.75,
          -86.9,
          -87.78,
          -80.73,
          -81.58,
          -81.93,
          -100.42,
          -94.72,
          -93.82,
          -93.17,
          -72.9,
          -74.53,
          -86.65,
          -91.42,
          -98.02,
          -97.43,
          -98.53,
          -97.83,
          -102.35,
          -88.47,
          -88.27,
          -88.47,
          -86.28,
          -84.92,
          -86.53,
          -87.48,
          -101.23,
          -88.35,
          -98.05,
          -97.15,
          -97.48,
          -97.55,
          -95.72,
          -96.52,
          -93.3,
          -84.57,
          -90.88,
          -95.95,
          -98.22,
          -97.67,
          -95.9,
          -96.02,
          -101.73,
          -90.23,
          -95.28,
          -84.67,
          -83.45,
          -85.07,
          -89.52,
          -95.83,
          -101.27,
          -98.52,
          -96.92,
          -97.28,
          -77.43,
          -86.15,
          -85.03,
          -96.75,
          -86.95,
          -87.82,
          -91.31,
          -90.3,
          -87.03,
          -87.48,
          -94.9,
          -94.42,
          -94.65,
          -73.43,
          -101.02,
          -100.6,
          -100.22,
          -79.3545,
          -92.35,
          -85.75,
          -88.62,
          -86.5,
          -93,
          -90.18,
          -92.35,
          -93.33,
          -92.52,
          -89.17,
          -89.67,
          -98.02,
          -97.62,
          -95.53,
          -87.35,
          -90.18,
          -88.02,
          -81.38,
          -97.68,
          -79.22,
          -85.95,
          -88.88,
          -90.55,
          -93.83,
          -94.9,
          -94.32,
          -84.37,
          -97.4,
          -97.95,
          -97.68,
          -97.85,
          -87.92,
          -99.1,
          -97.78,
          -95.67,
          -83.98,
          -87.7,
          -98.78,
          -97.08,
          -77.98,
          -86.43,
          -91.1,
          -90.2,
          -91.02,
          -77.18,
          -98.43,
          -99.3,
          -84.77,
          -94.83,
          -95.1,
          -94.48,
          -89.03,
          -89.03,
          -97.53,
          -97.32,
          -97.77,
          -97.98,
          -97.33,
          -94.25,
          -89.33,
          -98.38,
          -87.53,
          -92.18,
          -89.83,
          -95.1,
          -87.41,
          -85.92,
          -99.45,
          -97.61,
          -93.07,
          -88.86,
          -88.29,
          -85.84,
          -87.29,
          -95.14,
          -81.46,
          -100.29,
          -92.88,
          -96.71,
          -97.62,
          -86.848,
          -85.7105,
          -91.2993,
          -97.4273,
          -97.504,
          -99.7479,
          -83.538,
          -95.18,
          -95.437,
          -93.6404,
          -97.3,
          -95.951,
          -96.63,
          -92.808,
          -94.8557,
          -90.4863,
          -85.909,
          -87.0097,
          -86.193,
          -88.1814,
          -85.9814,
          -86.5699,
          -87.935,
          -85.9784,
          -88.1479,
          -85.1785,
          -89.5042,
          -89.1088,
          -88.445,
          -84.0504,
          -85.42,
          -94.5932,
          -93.9515,
          -97.732,
          -97.961,
          -98.287,
          -99.22,
          -88.65,
          -86.1893,
          -84.633,
          -98.257,
          -89.4665,
          -97.754,
          -99.4706,
          -97.3001,
          -97.628,
          -96.1086,
          -97.077,
          -89.45,
          -89.5678,
          -92.652,
          -89.43,
          -97.33,
          -96.8686,
          -97.1369,
          -97.04,
          -98.4032,
          -89.2896,
          -89.7055,
          -96.5894,
          -97.357,
          -97.4365,
          -90.0055,
          -96.018,
          -85.4818,
          -84.4632,
          -95.3665,
          -85.6628,
          -90.1732,
          -89.7579,
          -81.2899,
          -89.9646,
          -95.94,
          -85.1895,
          -90.5511,
          -89.135
         ],
         "marker": {
          "color": [
           4,
           4,
           4,
           4,
           4,
           4,
           4,
           4,
           4,
           4,
           4,
           4,
           4,
           4,
           4,
           4,
           4,
           4,
           4,
           4,
           4,
           4,
           4,
           4,
           4,
           4,
           4,
           4,
           4,
           4,
           4,
           4,
           4,
           4,
           4,
           4,
           4,
           4,
           4,
           4,
           5,
           4,
           5,
           4,
           4,
           4,
           5,
           4,
           4,
           5,
           4,
           5,
           4,
           4,
           4,
           4,
           4,
           4,
           4,
           4,
           5,
           5,
           4,
           4,
           4,
           4,
           4,
           4,
           4,
           4,
           4,
           4,
           4,
           5,
           4,
           4,
           4,
           4,
           4,
           4,
           4,
           4,
           4,
           4,
           4,
           4,
           4,
           4,
           4,
           4,
           4,
           4,
           4,
           5,
           4,
           4,
           4,
           4,
           5,
           4,
           4,
           4,
           4,
           4,
           4,
           4,
           5,
           4,
           4,
           4,
           4,
           5,
           4,
           4,
           4,
           4,
           4,
           4,
           4,
           4,
           4,
           4,
           4,
           4,
           5,
           4,
           4,
           4,
           4,
           4,
           4,
           4,
           4,
           4,
           4,
           4,
           4,
           4,
           4,
           4,
           4,
           4,
           4,
           4,
           4,
           4,
           4,
           5,
           4,
           4,
           4,
           5,
           4,
           4,
           4,
           4,
           4,
           4,
           4,
           4,
           4,
           4,
           4,
           4,
           4,
           4,
           4,
           4,
           4,
           4,
           4,
           4,
           4,
           4,
           4,
           4,
           4,
           4,
           4,
           4,
           4,
           4,
           4,
           4,
           5,
           4,
           4,
           4,
           5,
           4,
           4,
           4,
           5,
           4,
           5,
           4,
           4,
           4,
           4,
           4,
           4,
           4,
           4,
           4,
           4,
           4,
           4,
           4,
           4,
           4,
           4,
           4,
           4,
           4,
           4,
           4,
           4,
           5,
           4,
           4,
           5,
           5,
           5,
           4,
           4,
           4,
           4,
           4,
           4,
           4,
           4,
           4,
           4,
           4,
           4,
           4,
           4,
           5,
           4,
           4,
           5,
           4,
           4,
           4,
           4,
           4,
           4,
           4,
           4,
           4,
           4,
           4,
           4,
           4,
           4,
           4,
           4,
           4,
           4,
           4,
           4,
           5,
           4,
           4,
           4,
           4,
           4,
           4,
           4,
           4,
           5,
           5,
           5,
           4,
           4,
           4,
           4,
           4,
           4,
           4,
           4,
           4,
           5,
           5,
           4,
           4,
           4,
           4,
           4,
           4,
           4,
           4,
           5,
           4,
           5,
           4,
           4,
           4,
           4,
           4,
           4,
           4,
           4,
           4,
           4,
           4,
           4,
           4,
           4,
           4,
           4,
           4,
           4,
           4,
           4,
           4,
           4,
           4,
           4,
           4,
           4,
           5,
           4,
           4,
           4,
           4,
           5,
           4,
           5,
           4,
           4,
           4,
           4,
           4,
           4,
           5,
           4,
           4,
           4,
           4,
           4,
           4,
           4,
           4,
           4,
           4,
           4,
           4,
           4,
           4,
           4,
           4,
           4,
           4,
           4,
           4,
           4,
           4,
           4,
           4,
           4,
           4,
           4,
           4,
           4,
           4,
           4,
           4,
           4,
           4,
           4,
           4,
           4,
           5,
           4,
           4,
           4,
           4,
           4,
           4,
           4,
           4,
           4,
           4,
           4,
           4,
           4,
           4,
           4,
           4,
           4,
           4,
           4,
           4,
           4,
           5,
           4,
           4,
           4,
           4,
           5,
           4,
           4,
           4,
           4,
           4,
           4,
           4,
           4,
           4,
           4,
           4,
           4,
           4,
           4,
           4,
           4,
           4,
           4,
           4,
           4,
           4,
           4,
           4,
           4,
           4,
           5,
           5,
           4,
           4,
           4,
           4,
           4,
           4,
           4,
           4,
           4,
           4,
           4,
           5,
           4,
           4,
           5,
           4,
           4,
           4,
           4,
           4,
           4,
           4,
           4,
           4,
           4,
           5,
           4,
           4,
           4,
           4,
           4,
           4,
           4,
           4,
           4,
           4,
           4,
           4,
           4,
           4,
           4,
           4,
           4,
           4,
           4,
           4,
           4,
           4,
           4,
           4,
           4,
           4,
           4,
           4,
           4,
           4,
           4,
           4,
           5,
           4,
           4,
           4,
           4,
           4,
           4,
           4,
           4,
           4,
           5,
           4,
           5,
           4,
           5,
           4,
           4,
           4,
           4,
           4,
           4,
           4,
           4,
           4,
           4,
           4,
           4,
           4,
           5,
           4,
           4,
           4,
           4,
           4,
           4,
           4,
           4,
           4,
           4,
           4,
           4,
           4,
           4,
           4,
           4,
           4,
           4,
           4,
           4,
           4,
           4,
           4,
           4,
           4,
           4,
           4,
           4,
           4,
           4,
           4,
           4,
           4,
           4,
           4,
           4,
           5,
           4,
           4,
           4,
           4,
           4,
           4,
           4,
           4,
           4,
           5,
           4,
           4,
           4,
           4,
           4,
           4,
           4,
           4,
           4,
           4,
           4,
           4,
           4,
           4,
           4,
           4,
           4,
           4,
           4,
           4,
           4,
           4,
           4,
           4,
           4,
           5,
           5,
           4,
           4,
           5,
           5,
           4,
           4,
           5,
           4,
           4,
           4,
           5,
           4,
           4,
           4,
           4,
           4,
           4,
           4,
           4,
           4,
           5,
           4,
           4,
           4,
           4,
           4,
           4,
           4,
           4,
           4,
           4,
           4,
           4,
           4,
           4,
           4,
           4,
           4,
           4,
           4,
           4,
           4,
           4,
           4,
           4,
           4,
           4,
           4,
           4,
           4,
           4
          ],
          "coloraxis": "coloraxis",
          "size": [
           100,
           200,
           233,
           150,
           700,
           880,
           440,
           200,
           330,
           300,
           100,
           100,
           100,
           300,
           10,
           880,
           833,
           880,
           1760,
           880,
           427,
           200,
           200,
           177,
           100,
           200,
           440,
           400,
           150,
           110,
           50,
           1760,
           333,
           100,
           440,
           33,
           10,
           10,
           100,
           880,
           583,
           1760,
           600,
           440,
           833,
           200,
           833,
           100,
           900,
           100,
           300,
           500,
           100,
           900,
           200,
           10,
           440,
           400,
           440,
           200,
           500,
           1320,
           1100,
           500,
           100,
           10,
           150,
           100,
           10,
           500,
           47,
           880,
           400,
           400,
           400,
           100,
           440,
           200,
           400,
           100,
           500,
           440,
           880,
           200,
           200,
           150,
           150,
           300,
           880,
           100,
           333,
           300,
           400,
           440,
           100,
           500,
           880,
           220,
           500,
           50,
           440,
           200,
           200,
           100,
           250,
           300,
           200,
           10,
           300,
           600,
           880,
           880,
           300,
           200,
           1760,
           900,
           400,
           440,
           100,
           440,
           10,
           150,
           10,
           200,
           800,
           10,
           880,
           550,
           400,
           50,
           10,
           10,
           27,
           100,
           250,
           400,
           133,
           300,
           667,
           33,
           667,
           880,
           440,
           130,
           1000,
           100,
           250,
           500,
           400,
           880,
           10,
           880,
           833,
           400,
           50,
           100,
           67,
           300,
           200,
           200,
           400,
           500,
           10,
           177,
           1760,
           880,
           1667,
           10,
           333,
           100,
           300,
           10,
           300,
           400,
           200,
           400,
           200,
           200,
           200,
           300,
           1000,
           667,
           10,
           10,
           1760,
           200,
           647,
           200,
           900,
           300,
           300,
           200,
           880,
           333,
           1000,
           440,
           200,
           440,
           150,
           1200,
           200,
           50,
           500,
           400,
           500,
           100,
           267,
           200,
           10,
           300,
           300,
           200,
           400,
           100,
           300,
           550,
           300,
           400,
           300,
           250,
           500,
           600,
           150,
           33,
           200,
           500,
           800,
           440,
           700,
           133,
           833,
           880,
           880,
           880,
           880,
           100,
           250,
           1333,
           400,
           150,
           500,
           10,
           100,
           880,
           300,
           100,
           100,
           100,
           1320,
           1760,
           1320,
           10,
           77,
           200,
           220,
           150,
           200,
           440,
           880,
           440,
           440,
           100,
           400,
           300,
           300,
           500,
           800,
           313,
           50,
           500,
           500,
           500,
           500,
           400,
           200,
           200,
           10,
           1133,
           1400,
           1200,
           1200,
           1760,
           533,
           10,
           150,
           10,
           10,
           10,
           10,
           10,
           10,
           10,
           440,
           350,
           533,
           300,
           200,
           700,
           800,
           200,
           1760,
           400,
           400,
           400,
           100,
           200,
           500,
           250,
           400,
           1700,
           500,
           300,
           267,
           10,
           1320,
           880,
           800,
           300,
           117,
           880,
           440,
           440,
           880,
           880,
           100,
           440,
           440,
           300,
           880,
           1760,
           200,
           40,
           350,
           183,
           613,
           550,
           70,
           400,
           880,
           1000,
           440,
           77,
           300,
           1000,
           77,
           50,
           100,
           100,
           1760,
           250,
           400,
           500,
           880,
           1320,
           880,
           33,
           100,
           1400,
           250,
           140,
           1700,
           10,
           267,
           33,
           567,
           100,
           400,
           400,
           600,
           1333,
           880,
           200,
           500,
           500,
           250,
           400,
           440,
           1000,
           67,
           50,
           200,
           440,
           440,
           1407,
           1223,
           530,
           700,
           2600,
           1000,
           2113,
           880,
           60,
           10,
           200,
           250,
           450,
           1000,
           1000,
           400,
           350,
           450,
           440,
           3330,
           1000,
           800,
           440,
           73,
           250,
           1230,
           1000,
           2550,
           700,
           400,
           150,
           200,
           500,
           800,
           700,
           300,
           1760,
           150,
           200,
           100,
           1320,
           880,
           200,
           1320,
           1320,
           440,
           880,
           1233,
           300,
           200,
           300,
           200,
           1350,
           400,
           200,
           2640,
           600,
           300,
           500,
           440,
           1500,
           1300,
           1700,
           400,
           40,
           880,
           400,
           100,
           73,
           160,
           280,
           1583,
           880,
           1800,
           867,
           867,
           60,
           1760,
           250,
           880,
           880,
           800,
           500,
           250,
           880,
           1760,
           800,
           100,
           150,
           1000,
           880,
           1300,
           1000,
           400,
           500,
           250,
           300,
           200,
           600,
           2200,
           100,
           880,
           850,
           400,
           300,
           527,
           200,
           1407,
           1053,
           1407,
           200,
           200,
           440,
           650,
           1500,
           1320,
           400,
           1760,
           1320,
           1150,
           1200,
           400,
           500,
           400,
           200,
           1000,
           1250,
           270,
           880,
           880,
           1760,
           1430,
           580,
           1400,
           500,
           160,
           500,
           750,
           660,
           400,
           75,
           500,
           880,
           880,
           650,
           650,
           900,
           300,
           880,
           500,
           880,
           200,
           880,
           1000,
           700,
           1200,
           1000,
           500,
           4400,
           800,
           440,
           200,
           800,
           500,
           225,
           800,
           500,
           500,
           3000,
           1400,
           1320,
           125,
           880,
           660,
           880,
           1760,
           700,
           1320,
           2100,
           440,
           880,
           750,
           880,
           3080,
           880,
           2000,
           1200,
           400,
           1936,
           2288,
           1760,
           150,
           800,
           600,
           400,
           587,
           880,
           1320,
           880,
           880,
           1408,
           1260,
           1760,
           2600,
           1320,
           2200,
           800,
           1050,
           900,
           1320,
           1320,
           880,
           1600,
           2200,
           880,
           880,
           1760,
           500,
           325,
           800,
           880,
           400,
           1320,
           400,
           1100,
           1500,
           1900,
           2600,
           2429,
           200,
           880,
           1320,
           1320,
           400,
           530,
           500,
           500,
           880,
           700,
           1300,
           550,
           400,
           900,
           1100,
           1760,
           1600,
           1050,
           1760,
           900,
           1936,
           3960,
           1300,
           2275,
           650,
           1850,
           1800,
           2600
          ],
          "sizemode": "area",
          "sizeref": 11
         },
         "mode": "markers",
         "name": "",
         "showlegend": false,
         "subplot": "mapbox",
         "type": "scattermapbox"
        }
       ],
       "layout": {
        "coloraxis": {
         "colorbar": {
          "title": {
           "text": "mag"
          }
         },
         "colorscale": [
          [
           0,
           "orange"
          ],
          [
           1,
           "red"
          ]
         ]
        },
        "height": 800,
        "legend": {
         "itemsizing": "constant",
         "tracegroupgap": 0
        },
        "mapbox": {
         "center": {
          "lat": 37.919401718749995,
          "lon": -91.72353875
         },
         "domain": {
          "x": [
           0,
           1
          ],
          "y": [
           0,
           1
          ]
         },
         "style": "open-street-map",
         "zoom": 3
        },
        "margin": {
         "b": 0,
         "l": 0,
         "r": 0,
         "t": 0
        },
        "template": {
         "data": {
          "bar": [
           {
            "error_x": {
             "color": "#2a3f5f"
            },
            "error_y": {
             "color": "#2a3f5f"
            },
            "marker": {
             "line": {
              "color": "#E5ECF6",
              "width": 0.5
             },
             "pattern": {
              "fillmode": "overlay",
              "size": 10,
              "solidity": 0.2
             }
            },
            "type": "bar"
           }
          ],
          "barpolar": [
           {
            "marker": {
             "line": {
              "color": "#E5ECF6",
              "width": 0.5
             },
             "pattern": {
              "fillmode": "overlay",
              "size": 10,
              "solidity": 0.2
             }
            },
            "type": "barpolar"
           }
          ],
          "carpet": [
           {
            "aaxis": {
             "endlinecolor": "#2a3f5f",
             "gridcolor": "white",
             "linecolor": "white",
             "minorgridcolor": "white",
             "startlinecolor": "#2a3f5f"
            },
            "baxis": {
             "endlinecolor": "#2a3f5f",
             "gridcolor": "white",
             "linecolor": "white",
             "minorgridcolor": "white",
             "startlinecolor": "#2a3f5f"
            },
            "type": "carpet"
           }
          ],
          "choropleth": [
           {
            "colorbar": {
             "outlinewidth": 0,
             "ticks": ""
            },
            "type": "choropleth"
           }
          ],
          "contour": [
           {
            "colorbar": {
             "outlinewidth": 0,
             "ticks": ""
            },
            "colorscale": [
             [
              0,
              "#0d0887"
             ],
             [
              0.1111111111111111,
              "#46039f"
             ],
             [
              0.2222222222222222,
              "#7201a8"
             ],
             [
              0.3333333333333333,
              "#9c179e"
             ],
             [
              0.4444444444444444,
              "#bd3786"
             ],
             [
              0.5555555555555556,
              "#d8576b"
             ],
             [
              0.6666666666666666,
              "#ed7953"
             ],
             [
              0.7777777777777778,
              "#fb9f3a"
             ],
             [
              0.8888888888888888,
              "#fdca26"
             ],
             [
              1,
              "#f0f921"
             ]
            ],
            "type": "contour"
           }
          ],
          "contourcarpet": [
           {
            "colorbar": {
             "outlinewidth": 0,
             "ticks": ""
            },
            "type": "contourcarpet"
           }
          ],
          "heatmap": [
           {
            "colorbar": {
             "outlinewidth": 0,
             "ticks": ""
            },
            "colorscale": [
             [
              0,
              "#0d0887"
             ],
             [
              0.1111111111111111,
              "#46039f"
             ],
             [
              0.2222222222222222,
              "#7201a8"
             ],
             [
              0.3333333333333333,
              "#9c179e"
             ],
             [
              0.4444444444444444,
              "#bd3786"
             ],
             [
              0.5555555555555556,
              "#d8576b"
             ],
             [
              0.6666666666666666,
              "#ed7953"
             ],
             [
              0.7777777777777778,
              "#fb9f3a"
             ],
             [
              0.8888888888888888,
              "#fdca26"
             ],
             [
              1,
              "#f0f921"
             ]
            ],
            "type": "heatmap"
           }
          ],
          "heatmapgl": [
           {
            "colorbar": {
             "outlinewidth": 0,
             "ticks": ""
            },
            "colorscale": [
             [
              0,
              "#0d0887"
             ],
             [
              0.1111111111111111,
              "#46039f"
             ],
             [
              0.2222222222222222,
              "#7201a8"
             ],
             [
              0.3333333333333333,
              "#9c179e"
             ],
             [
              0.4444444444444444,
              "#bd3786"
             ],
             [
              0.5555555555555556,
              "#d8576b"
             ],
             [
              0.6666666666666666,
              "#ed7953"
             ],
             [
              0.7777777777777778,
              "#fb9f3a"
             ],
             [
              0.8888888888888888,
              "#fdca26"
             ],
             [
              1,
              "#f0f921"
             ]
            ],
            "type": "heatmapgl"
           }
          ],
          "histogram": [
           {
            "marker": {
             "pattern": {
              "fillmode": "overlay",
              "size": 10,
              "solidity": 0.2
             }
            },
            "type": "histogram"
           }
          ],
          "histogram2d": [
           {
            "colorbar": {
             "outlinewidth": 0,
             "ticks": ""
            },
            "colorscale": [
             [
              0,
              "#0d0887"
             ],
             [
              0.1111111111111111,
              "#46039f"
             ],
             [
              0.2222222222222222,
              "#7201a8"
             ],
             [
              0.3333333333333333,
              "#9c179e"
             ],
             [
              0.4444444444444444,
              "#bd3786"
             ],
             [
              0.5555555555555556,
              "#d8576b"
             ],
             [
              0.6666666666666666,
              "#ed7953"
             ],
             [
              0.7777777777777778,
              "#fb9f3a"
             ],
             [
              0.8888888888888888,
              "#fdca26"
             ],
             [
              1,
              "#f0f921"
             ]
            ],
            "type": "histogram2d"
           }
          ],
          "histogram2dcontour": [
           {
            "colorbar": {
             "outlinewidth": 0,
             "ticks": ""
            },
            "colorscale": [
             [
              0,
              "#0d0887"
             ],
             [
              0.1111111111111111,
              "#46039f"
             ],
             [
              0.2222222222222222,
              "#7201a8"
             ],
             [
              0.3333333333333333,
              "#9c179e"
             ],
             [
              0.4444444444444444,
              "#bd3786"
             ],
             [
              0.5555555555555556,
              "#d8576b"
             ],
             [
              0.6666666666666666,
              "#ed7953"
             ],
             [
              0.7777777777777778,
              "#fb9f3a"
             ],
             [
              0.8888888888888888,
              "#fdca26"
             ],
             [
              1,
              "#f0f921"
             ]
            ],
            "type": "histogram2dcontour"
           }
          ],
          "mesh3d": [
           {
            "colorbar": {
             "outlinewidth": 0,
             "ticks": ""
            },
            "type": "mesh3d"
           }
          ],
          "parcoords": [
           {
            "line": {
             "colorbar": {
              "outlinewidth": 0,
              "ticks": ""
             }
            },
            "type": "parcoords"
           }
          ],
          "pie": [
           {
            "automargin": true,
            "type": "pie"
           }
          ],
          "scatter": [
           {
            "fillpattern": {
             "fillmode": "overlay",
             "size": 10,
             "solidity": 0.2
            },
            "type": "scatter"
           }
          ],
          "scatter3d": [
           {
            "line": {
             "colorbar": {
              "outlinewidth": 0,
              "ticks": ""
             }
            },
            "marker": {
             "colorbar": {
              "outlinewidth": 0,
              "ticks": ""
             }
            },
            "type": "scatter3d"
           }
          ],
          "scattercarpet": [
           {
            "marker": {
             "colorbar": {
              "outlinewidth": 0,
              "ticks": ""
             }
            },
            "type": "scattercarpet"
           }
          ],
          "scattergeo": [
           {
            "marker": {
             "colorbar": {
              "outlinewidth": 0,
              "ticks": ""
             }
            },
            "type": "scattergeo"
           }
          ],
          "scattergl": [
           {
            "marker": {
             "colorbar": {
              "outlinewidth": 0,
              "ticks": ""
             }
            },
            "type": "scattergl"
           }
          ],
          "scattermapbox": [
           {
            "marker": {
             "colorbar": {
              "outlinewidth": 0,
              "ticks": ""
             }
            },
            "type": "scattermapbox"
           }
          ],
          "scatterpolar": [
           {
            "marker": {
             "colorbar": {
              "outlinewidth": 0,
              "ticks": ""
             }
            },
            "type": "scatterpolar"
           }
          ],
          "scatterpolargl": [
           {
            "marker": {
             "colorbar": {
              "outlinewidth": 0,
              "ticks": ""
             }
            },
            "type": "scatterpolargl"
           }
          ],
          "scatterternary": [
           {
            "marker": {
             "colorbar": {
              "outlinewidth": 0,
              "ticks": ""
             }
            },
            "type": "scatterternary"
           }
          ],
          "surface": [
           {
            "colorbar": {
             "outlinewidth": 0,
             "ticks": ""
            },
            "colorscale": [
             [
              0,
              "#0d0887"
             ],
             [
              0.1111111111111111,
              "#46039f"
             ],
             [
              0.2222222222222222,
              "#7201a8"
             ],
             [
              0.3333333333333333,
              "#9c179e"
             ],
             [
              0.4444444444444444,
              "#bd3786"
             ],
             [
              0.5555555555555556,
              "#d8576b"
             ],
             [
              0.6666666666666666,
              "#ed7953"
             ],
             [
              0.7777777777777778,
              "#fb9f3a"
             ],
             [
              0.8888888888888888,
              "#fdca26"
             ],
             [
              1,
              "#f0f921"
             ]
            ],
            "type": "surface"
           }
          ],
          "table": [
           {
            "cells": {
             "fill": {
              "color": "#EBF0F8"
             },
             "line": {
              "color": "white"
             }
            },
            "header": {
             "fill": {
              "color": "#C8D4E3"
             },
             "line": {
              "color": "white"
             }
            },
            "type": "table"
           }
          ]
         },
         "layout": {
          "annotationdefaults": {
           "arrowcolor": "#2a3f5f",
           "arrowhead": 0,
           "arrowwidth": 1
          },
          "autotypenumbers": "strict",
          "coloraxis": {
           "colorbar": {
            "outlinewidth": 0,
            "ticks": ""
           }
          },
          "colorscale": {
           "diverging": [
            [
             0,
             "#8e0152"
            ],
            [
             0.1,
             "#c51b7d"
            ],
            [
             0.2,
             "#de77ae"
            ],
            [
             0.3,
             "#f1b6da"
            ],
            [
             0.4,
             "#fde0ef"
            ],
            [
             0.5,
             "#f7f7f7"
            ],
            [
             0.6,
             "#e6f5d0"
            ],
            [
             0.7,
             "#b8e186"
            ],
            [
             0.8,
             "#7fbc41"
            ],
            [
             0.9,
             "#4d9221"
            ],
            [
             1,
             "#276419"
            ]
           ],
           "sequential": [
            [
             0,
             "#0d0887"
            ],
            [
             0.1111111111111111,
             "#46039f"
            ],
            [
             0.2222222222222222,
             "#7201a8"
            ],
            [
             0.3333333333333333,
             "#9c179e"
            ],
            [
             0.4444444444444444,
             "#bd3786"
            ],
            [
             0.5555555555555556,
             "#d8576b"
            ],
            [
             0.6666666666666666,
             "#ed7953"
            ],
            [
             0.7777777777777778,
             "#fb9f3a"
            ],
            [
             0.8888888888888888,
             "#fdca26"
            ],
            [
             1,
             "#f0f921"
            ]
           ],
           "sequentialminus": [
            [
             0,
             "#0d0887"
            ],
            [
             0.1111111111111111,
             "#46039f"
            ],
            [
             0.2222222222222222,
             "#7201a8"
            ],
            [
             0.3333333333333333,
             "#9c179e"
            ],
            [
             0.4444444444444444,
             "#bd3786"
            ],
            [
             0.5555555555555556,
             "#d8576b"
            ],
            [
             0.6666666666666666,
             "#ed7953"
            ],
            [
             0.7777777777777778,
             "#fb9f3a"
            ],
            [
             0.8888888888888888,
             "#fdca26"
            ],
            [
             1,
             "#f0f921"
            ]
           ]
          },
          "colorway": [
           "#636efa",
           "#EF553B",
           "#00cc96",
           "#ab63fa",
           "#FFA15A",
           "#19d3f3",
           "#FF6692",
           "#B6E880",
           "#FF97FF",
           "#FECB52"
          ],
          "font": {
           "color": "#2a3f5f"
          },
          "geo": {
           "bgcolor": "white",
           "lakecolor": "white",
           "landcolor": "#E5ECF6",
           "showlakes": true,
           "showland": true,
           "subunitcolor": "white"
          },
          "hoverlabel": {
           "align": "left"
          },
          "hovermode": "closest",
          "mapbox": {
           "style": "light"
          },
          "paper_bgcolor": "white",
          "plot_bgcolor": "#E5ECF6",
          "polar": {
           "angularaxis": {
            "gridcolor": "white",
            "linecolor": "white",
            "ticks": ""
           },
           "bgcolor": "#E5ECF6",
           "radialaxis": {
            "gridcolor": "white",
            "linecolor": "white",
            "ticks": ""
           }
          },
          "scene": {
           "xaxis": {
            "backgroundcolor": "#E5ECF6",
            "gridcolor": "white",
            "gridwidth": 2,
            "linecolor": "white",
            "showbackground": true,
            "ticks": "",
            "zerolinecolor": "white"
           },
           "yaxis": {
            "backgroundcolor": "#E5ECF6",
            "gridcolor": "white",
            "gridwidth": 2,
            "linecolor": "white",
            "showbackground": true,
            "ticks": "",
            "zerolinecolor": "white"
           },
           "zaxis": {
            "backgroundcolor": "#E5ECF6",
            "gridcolor": "white",
            "gridwidth": 2,
            "linecolor": "white",
            "showbackground": true,
            "ticks": "",
            "zerolinecolor": "white"
           }
          },
          "shapedefaults": {
           "line": {
            "color": "#2a3f5f"
           }
          },
          "ternary": {
           "aaxis": {
            "gridcolor": "white",
            "linecolor": "white",
            "ticks": ""
           },
           "baxis": {
            "gridcolor": "white",
            "linecolor": "white",
            "ticks": ""
           },
           "bgcolor": "#E5ECF6",
           "caxis": {
            "gridcolor": "white",
            "linecolor": "white",
            "ticks": ""
           }
          },
          "title": {
           "x": 0.05
          },
          "xaxis": {
           "automargin": true,
           "gridcolor": "white",
           "linecolor": "white",
           "ticks": "",
           "title": {
            "standoff": 15
           },
           "zerolinecolor": "white",
           "zerolinewidth": 2
          },
          "yaxis": {
           "automargin": true,
           "gridcolor": "white",
           "linecolor": "white",
           "ticks": "",
           "title": {
            "standoff": 15
           },
           "zerolinecolor": "white",
           "zerolinewidth": 2
          }
         }
        },
        "width": 800
       }
      },
      "image/png": "[encoded data removed]",
      "text/html": [
       "<div>                            <div id=\"83ba2db8-3ed0-4b1c-a626-898d9d37d6c8\" class=\"plotly-graph-div\" style=\"height:800px; width:800px;\"></div>            <script type=\"text/javascript\">                require([\"plotly\"], function(Plotly) {                    window.PLOTLYENV=window.PLOTLYENV || {};                                    if (document.getElementById(\"83ba2db8-3ed0-4b1c-a626-898d9d37d6c8\")) {                    Plotly.newPlot(                        \"83ba2db8-3ed0-4b1c-a626-898d9d37d6c8\",                        [{\"customdata\":[[4,77,18],[4,32,5],[4,5,5],[4,1,0],[4,5,1],[4,12,2],[4,33,0],[4,100,2],[4,20,1],[4,100,5],[4,9,1],[4,3,6],[4,44,3],[4,150,2],[4,6,2],[4,5,4],[4,9,7],[4,180,29],[4,325,50],[4,100,17],[4,74,16],[4,10,2],[4,5,4],[4,157,38],[4,50,4],[4,0,0],[4,3,0],[4,4,0],[4,26,1],[4,20,0],[4,25,17],[4,15,2],[4,300,18],[4,3,2],[4,12,7],[4,8,4],[4,0,0],[4,3,0],[4,24,2],[4,159,13],[5,597,114],[4,68,2],[5,20,2],[4,0,11],[4,23,0],[4,18,4],[5,844,116],[4,379,17],[4,1228,94],[5,2,1],[4,50,9],[5,270,38],[4,0,2],[4,2,0],[4,0,0],[4,65,0],[4,2,0],[4,23,6],[4,0,1],[4,20,5],[5,280,20],[5,273,80],[4,18,2],[4,0,0],[4,0,0],[4,29,2],[4,19,2],[4,0,0],[4,13,1],[4,36,6],[4,31,1],[4,29,2],[4,25,1],[5,292,17],[4,59,0],[4,60,3],[4,50,7],[4,200,25],[4,22,0],[4,116,3],[4,0,0],[4,2,0],[4,20,10],[4,6,2],[4,3,3],[4,21,0],[4,70,4],[4,0,1],[4,7,0],[4,6,0],[4,8,1],[4,80,21],[4,0,0],[5,207,44],[4,2,0],[4,75,7],[4,5,4],[4,50,2],[5,103,10],[4,6,0],[4,6,2],[4,81,1],[4,15,4],[4,12,3],[4,45,1],[4,200,11],[5,6,1],[4,9,2],[4,7,0],[4,50,3],[4,3,4],[5,74,21],[4,5,15],[4,345,21],[4,31,6],[4,12,7],[4,1,0],[4,5,0],[4,0,0],[4,1,1],[4,0,0],[4,3,0],[4,13,5],[4,106,16],[5,81,5],[4,12,0],[4,92,1],[4,7,0],[4,58,16],[4,12,0],[4,0,0],[4,1,0],[4,7,0],[4,200,8],[4,9,0],[4,1,0],[4,1,0],[4,0,0],[4,3,0],[4,34,0],[4,35,0],[4,6,2],[4,7,2],[4,70,1],[4,20,3],[4,6,10],[4,24,3],[5,111,7],[4,28,1],[4,9,3],[4,11,0],[5,50,4],[4,224,11],[4,0,0],[4,30,0],[4,2,0],[4,165,22],[4,7,0],[4,200,6],[4,3,1],[4,75,6],[4,44,0],[4,125,4],[4,41,5],[4,294,23],[4,835,25],[4,123,28],[4,252,31],[4,321,36],[4,8,1],[4,142,5],[4,293,21],[4,50,3],[4,104,13],[4,236,18],[4,200,18],[4,0,0],[4,11,0],[4,0,0],[4,175,3],[4,175,3],[4,158,6],[4,0,0],[4,53,4],[5,1,0],[4,76,4],[4,0,1],[4,17,1],[5,518,58],[4,530,11],[4,2,0],[4,2,1],[5,450,16],[4,0,0],[5,172,6],[4,2,0],[4,216,3],[4,25,2],[4,100,1],[4,450,24],[4,500,33],[4,8,0],[4,2,0],[4,0,0],[4,1,0],[4,35,5],[4,22,6],[4,0,0],[4,0,0],[4,1,4],[4,10,2],[4,52,3],[4,16,5],[4,30,2],[4,270,14],[4,364,6],[4,33,1],[5,93,7],[4,24,7],[4,364,35],[5,156,5],[5,462,13],[5,150,9],[4,3,2],[4,241,32],[4,14,2],[4,22,2],[4,14,4],[4,6,0],[4,0,0],[4,70,12],[4,24,0],[4,13,1],[4,51,5],[4,42,16],[4,78,4],[4,85,3],[5,500,26],[4,0,0],[4,84,4],[5,510,47],[4,182,13],[4,795,58],[4,5,1],[4,0,0],[4,72,2],[4,58,6],[4,137,3],[4,0,0],[4,0,0],[4,8,0],[4,6,5],[4,1,0],[4,20,0],[4,20,0],[4,77,6],[4,30,7],[4,12,5],[4,5,0],[4,3,1],[4,1,0],[5,0,0],[4,19,0],[4,4,2],[4,289,3],[4,25,5],[4,199,7],[4,36,4],[4,0,2],[4,178,3],[5,190,16],[5,267,28],[5,272,28],[4,26,4],[4,30,6],[4,67,9],[4,17,0],[4,104,0],[4,12,1],[4,17,4],[4,190,11],[4,285,18],[5,210,3],[5,86,6],[4,2,0],[4,56,0],[4,0,0],[4,225,3],[4,81,3],[4,122,4],[4,28,7],[4,113,10],[5,270,31],[4,39,2],[5,1150,36],[4,6,5],[4,150,7],[4,51,10],[4,121,11],[4,35,0],[4,177,6],[4,150,14],[4,50,2],[4,12,0],[4,2,0],[4,210,9],[4,49,1],[4,51,7],[4,3,1],[4,4,1],[4,22,3],[4,0,0],[4,133,3],[4,0,0],[4,0,0],[4,4,1],[4,18,0],[4,8,0],[4,55,1],[4,11,0],[4,4,1],[5,64,2],[4,8,0],[4,177,3],[4,2,0],[4,6,0],[5,11,0],[4,0,0],[5,9,0],[4,23,2],[4,6,0],[4,0,0],[4,5,2],[4,10,0],[4,44,1],[5,130,22],[4,14,0],[4,5,0],[4,1,0],[4,2,0],[4,0,0],[4,0,0],[4,20,0],[4,10,0],[4,1,0],[4,0,0],[4,3,0],[4,31,4],[4,0,0],[4,35,5],[4,266,2],[4,20,0],[4,68,11],[4,1740,42],[4,25,1],[4,26,3],[4,1,0],[4,500,3],[4,0,0],[4,0,0],[4,110,3],[4,140,0],[4,25,2],[4,0,0],[4,32,0],[4,53,3],[4,32,1],[4,30,0],[4,2,0],[4,0,0],[4,12,0],[4,23,3],[4,28,2],[5,29,0],[4,170,10],[4,181,10],[4,11,0],[4,20,2],[4,4,0],[4,0,0],[4,25,0],[4,13,2],[4,12,5],[4,149,3],[4,153,16],[4,36,0],[4,24,0],[4,395,4],[4,49,5],[4,100,7],[4,37,3],[4,19,1],[4,14,1],[4,60,1],[4,64,3],[5,200,9],[4,0,0],[4,2,0],[4,82,12],[4,125,16],[5,310,18],[4,0,0],[4,0,0],[4,40,4],[4,30,7],[4,8,0],[4,2,0],[4,0,0],[4,350,6],[4,121,30],[4,0,0],[4,1,0],[4,154,4],[4,7,1],[4,55,0],[4,6,1],[4,52,4],[4,35,2],[4,0,0],[4,0,0],[4,0,0],[4,3,0],[4,40,0],[4,20,0],[4,463,21],[4,0,0],[5,60,1],[5,0,1],[4,8,0],[4,0,0],[4,21,2],[4,2,0],[4,6,0],[4,12,1],[4,9,0],[4,37,0],[4,51,1],[4,60,6],[4,1,0],[5,350,29],[4,5,0],[4,0,1],[5,225,17],[4,6,0],[4,22,0],[4,24,1],[4,64,2],[4,6,0],[4,1,0],[4,3,0],[4,0,0],[4,10,0],[4,3,0],[5,35,1],[4,7,0],[4,122,12],[4,16,0],[4,46,0],[4,86,5],[4,10,1],[4,20,0],[4,100,7],[4,0,0],[4,6,1],[4,5,0],[4,4,0],[4,246,4],[4,150,22],[4,20,3],[4,48,3],[4,70,3],[4,2,0],[4,7,0],[4,45,0],[4,55,1],[4,32,3],[4,0,0],[4,2,0],[4,1,0],[4,24,3],[4,7,0],[4,0,0],[4,0,0],[4,1,0],[4,35,7],[4,10,0],[5,12,0],[4,18,0],[4,11,0],[4,0,0],[4,180,5],[4,100,6],[4,40,10],[4,0,0],[4,15,1],[4,5,1],[5,12,27],[4,19,1],[5,259,32],[4,12,2],[5,36,3],[4,2,0],[4,150,6],[4,5,0],[4,4,0],[4,106,6],[4,0,0],[4,102,7],[4,3,0],[4,1,0],[4,65,4],[4,150,6],[4,11,1],[4,26,2],[5,583,36],[4,0,3],[4,6,1],[4,0,0],[4,15,1],[4,100,1],[4,144,11],[4,28,1],[4,2,0],[4,2,0],[4,22,0],[4,48,0],[4,21,2],[4,16,0],[4,122,3],[4,0,0],[4,0,0],[4,17,4],[4,30,2],[4,30,4],[4,13,0],[4,86,11],[4,33,2],[4,134,0],[4,0,1],[4,4,0],[4,1,0],[4,38,1],[4,6,3],[4,3,0],[4,0,0],[4,40,0],[4,0,0],[4,6,0],[4,0,0],[4,2,1],[4,50,9],[5,63,11],[4,18,1],[4,139,13],[4,51,0],[4,5,3],[4,12,1],[4,23,4],[4,350,21],[4,9,0],[4,2,0],[5,70,9],[4,0,0],[4,46,8],[4,58,2],[4,5,0],[4,146,10],[4,32,1],[4,49,2],[4,0,0],[4,28,7],[4,20,0],[4,5,1],[4,14,1],[4,1,0],[4,13,0],[4,0,0],[4,0,0],[4,0,0],[4,5,0],[4,0,1],[4,48,6],[4,30,7],[4,54,13],[4,50,14],[4,85,22],[4,1500,64],[5,0,25],[5,145,72],[4,335,20],[4,17,7],[5,6,3],[5,137,23],[4,0,0],[4,12,4],[5,1150,158],[4,27,4],[4,61,0],[4,48,1],[5,181,9],[4,0,0],[4,108,8],[4,0,11],[4,8,4],[4,0,0],[4,71,0],[4,54,6],[4,0,0],[4,10,2],[5,212,24],[4,0,0],[4,15,0],[4,2,2],[4,125,3],[4,193,16],[4,84,10],[4,0,0],[4,0,0],[4,20,1],[4,0,1],[4,2,0],[4,11,2],[4,36,9],[4,468,10],[4,0,1],[4,8,0],[4,12,1],[4,25,2],[4,90,23],[4,166,0],[4,4,0],[4,87,19],[4,3,4],[4,98,7],[4,60,5],[4,1,1],[4,2,1],[4,0,0],[4,14,8],[4,515,57]],\"hovertemplate\":\"<b>%{hovertext}</b><br><br>wid=%{marker.size}<br>slat=%{lat}<br>slon=%{lon}<br>mag=%{marker.color}<br>inj=%{customdata[1]}<br>fat=%{customdata[2]}<extra></extra>\",\"hovertext\":[4.0,4.0,4.0,4.0,4.0,4.0,4.0,4.0,4.0,4.0,4.0,4.0,4.0,4.0,4.0,4.0,4.0,4.0,4.0,4.0,4.0,4.0,4.0,4.0,4.0,4.0,4.0,4.0,4.0,4.0,4.0,4.0,4.0,4.0,4.0,4.0,4.0,4.0,4.0,4.0,5.0,4.0,5.0,4.0,4.0,4.0,5.0,4.0,4.0,5.0,4.0,5.0,4.0,4.0,4.0,4.0,4.0,4.0,4.0,4.0,5.0,5.0,4.0,4.0,4.0,4.0,4.0,4.0,4.0,4.0,4.0,4.0,4.0,5.0,4.0,4.0,4.0,4.0,4.0,4.0,4.0,4.0,4.0,4.0,4.0,4.0,4.0,4.0,4.0,4.0,4.0,4.0,4.0,5.0,4.0,4.0,4.0,4.0,5.0,4.0,4.0,4.0,4.0,4.0,4.0,4.0,5.0,4.0,4.0,4.0,4.0,5.0,4.0,4.0,4.0,4.0,4.0,4.0,4.0,4.0,4.0,4.0,4.0,4.0,5.0,4.0,4.0,4.0,4.0,4.0,4.0,4.0,4.0,4.0,4.0,4.0,4.0,4.0,4.0,4.0,4.0,4.0,4.0,4.0,4.0,4.0,4.0,5.0,4.0,4.0,4.0,5.0,4.0,4.0,4.0,4.0,4.0,4.0,4.0,4.0,4.0,4.0,4.0,4.0,4.0,4.0,4.0,4.0,4.0,4.0,4.0,4.0,4.0,4.0,4.0,4.0,4.0,4.0,4.0,4.0,4.0,4.0,4.0,4.0,5.0,4.0,4.0,4.0,5.0,4.0,4.0,4.0,5.0,4.0,5.0,4.0,4.0,4.0,4.0,4.0,4.0,4.0,4.0,4.0,4.0,4.0,4.0,4.0,4.0,4.0,4.0,4.0,4.0,4.0,4.0,4.0,4.0,5.0,4.0,4.0,5.0,5.0,5.0,4.0,4.0,4.0,4.0,4.0,4.0,4.0,4.0,4.0,4.0,4.0,4.0,4.0,4.0,5.0,4.0,4.0,5.0,4.0,4.0,4.0,4.0,4.0,4.0,4.0,4.0,4.0,4.0,4.0,4.0,4.0,4.0,4.0,4.0,4.0,4.0,4.0,4.0,5.0,4.0,4.0,4.0,4.0,4.0,4.0,4.0,4.0,5.0,5.0,5.0,4.0,4.0,4.0,4.0,4.0,4.0,4.0,4.0,4.0,5.0,5.0,4.0,4.0,4.0,4.0,4.0,4.0,4.0,4.0,5.0,4.0,5.0,4.0,4.0,4.0,4.0,4.0,4.0,4.0,4.0,4.0,4.0,4.0,4.0,4.0,4.0,4.0,4.0,4.0,4.0,4.0,4.0,4.0,4.0,4.0,4.0,4.0,4.0,5.0,4.0,4.0,4.0,4.0,5.0,4.0,5.0,4.0,4.0,4.0,4.0,4.0,4.0,5.0,4.0,4.0,4.0,4.0,4.0,4.0,4.0,4.0,4.0,4.0,4.0,4.0,4.0,4.0,4.0,4.0,4.0,4.0,4.0,4.0,4.0,4.0,4.0,4.0,4.0,4.0,4.0,4.0,4.0,4.0,4.0,4.0,4.0,4.0,4.0,4.0,4.0,5.0,4.0,4.0,4.0,4.0,4.0,4.0,4.0,4.0,4.0,4.0,4.0,4.0,4.0,4.0,4.0,4.0,4.0,4.0,4.0,4.0,4.0,5.0,4.0,4.0,4.0,4.0,5.0,4.0,4.0,4.0,4.0,4.0,4.0,4.0,4.0,4.0,4.0,4.0,4.0,4.0,4.0,4.0,4.0,4.0,4.0,4.0,4.0,4.0,4.0,4.0,4.0,4.0,5.0,5.0,4.0,4.0,4.0,4.0,4.0,4.0,4.0,4.0,4.0,4.0,4.0,5.0,4.0,4.0,5.0,4.0,4.0,4.0,4.0,4.0,4.0,4.0,4.0,4.0,4.0,5.0,4.0,4.0,4.0,4.0,4.0,4.0,4.0,4.0,4.0,4.0,4.0,4.0,4.0,4.0,4.0,4.0,4.0,4.0,4.0,4.0,4.0,4.0,4.0,4.0,4.0,4.0,4.0,4.0,4.0,4.0,4.0,4.0,5.0,4.0,4.0,4.0,4.0,4.0,4.0,4.0,4.0,4.0,5.0,4.0,5.0,4.0,5.0,4.0,4.0,4.0,4.0,4.0,4.0,4.0,4.0,4.0,4.0,4.0,4.0,4.0,5.0,4.0,4.0,4.0,4.0,4.0,4.0,4.0,4.0,4.0,4.0,4.0,4.0,4.0,4.0,4.0,4.0,4.0,4.0,4.0,4.0,4.0,4.0,4.0,4.0,4.0,4.0,4.0,4.0,4.0,4.0,4.0,4.0,4.0,4.0,4.0,4.0,5.0,4.0,4.0,4.0,4.0,4.0,4.0,4.0,4.0,4.0,5.0,4.0,4.0,4.0,4.0,4.0,4.0,4.0,4.0,4.0,4.0,4.0,4.0,4.0,4.0,4.0,4.0,4.0,4.0,4.0,4.0,4.0,4.0,4.0,4.0,4.0,5.0,5.0,4.0,4.0,5.0,5.0,4.0,4.0,5.0,4.0,4.0,4.0,5.0,4.0,4.0,4.0,4.0,4.0,4.0,4.0,4.0,4.0,5.0,4.0,4.0,4.0,4.0,4.0,4.0,4.0,4.0,4.0,4.0,4.0,4.0,4.0,4.0,4.0,4.0,4.0,4.0,4.0,4.0,4.0,4.0,4.0,4.0,4.0,4.0,4.0,4.0,4.0,4.0],\"lat\":[31.97,35.08,32.42,38.03,38.33,45.58,41.8,33.42,44.88,39.03,43.47,44.33,35.2,35.15,34.9,35.42,34.02,35.0,35.22,36.05,34.87,36.02,36.1,35.27,34.6,31.5,38.98,42.75,47.05,41.22,33.28,29.57,32.6,32.25,33.22,35.52,40.87,43.07,43.45,31.53,31.55,42.92,46.45,41.33,43.15,41.78,43.1,41.22,42.47,41.45,31.07,32.33,37.32,40.55,42.1,35.4,33.98,41.73,42.28,34.35,36.72,36.88,35.0,39.52,37.48,41.93,46.5,48.43,44.48,38.45,40.57,36.82,44.38,42.65,36.77,35.58,43.93,33.5,42.25,43.0,40.97,40.7,35.4,34.0,33.93,34.68,34.63,43.87,33.6,33.43,40.58,34.47,39.38,38.45,45.58,36.95,34.27,39.75,46.9,42.52,34.95,30.1,33.9,33.98,38.28,37.7,38.08,33.35,27.67,44.93,44.77,44.9,37.85,38.53,31.85,34.62,41.5,40.7,37.35,36.85,34.95,34.02,35.38,34.88,35.28,39.15,39.18,39.58,34.73,39.17,41.62,47.1,42.78,29.32,35.27,34.15,33.17,42.68,39.52,43.97,33.37,33.9,33.17,41.18,34.12,33.32,36.7,33.9,40.67,38.12,41.4,40.55,42.67,40.7,43.38,42.92,29.6,36.6,35.05,41.85,42.22,40.33,40.55,41.62,41.73,40.4,40.02,41.52,41.58,42.85,43.02,41.8,40.35,40.8,41.67,41.23,42.3,43.28,44.85,44.78,45.03,44.98,41.23,40.87,43.0,33.9,43.17,42.3,32.18,27.92,34.32,39.17,38.92,46.63,42.8,40.4,38.68,33.7,42.15,42.22,41.67,42.93,39.7,43.3,43.45,43.57,43.8,42.52,35.83,35.6,32.47,37.68,33.92,36.63,35.2,38.67,39.1,38.7,35.65,35.73,42.67,42.77,44.17,45.08,31.68,31.83,37.95,37.73,37.65,45.28,46.78,33.6,34.38,34.0,34.65,34.72,36.45,33.55,39.55,35.33,32.38,32.33,32.7,33.48,31.5,37.08,37.15,36.07,36.03,36.27,43.23,34.38,38.08,39.77,42.28,31.53,34.08,28.83,38.53,39.93,40.33,31.63,34.47,35.4,35.27,35.55,32.53,42.42,34.18,33.27,34.7,34.47,33.83,34.95,34.37,34.5,39.75,38.77,40.05,39.13,38.55,40.5,38.97,38.07,37.42,37.22,36.63,38.2,37.72,38.05,37.72,36.65,37.73,39.18,39.63,36.52,36.25,36.03,35.0,43.75,38.42,35.95,41.73,42.35,41.75,31.18,33.08,33.55,39.7,39.68,36.83,42.2,41.17,41.35,46.87,46.53,39.8,40.47,42.52,31.78,34.77,35.2,31.78,32.58,37.07,34.88,31.72,32.27,41.93,41.67,41.45,40.8,33.02,42.28,42.43,33.52,42.53,39.22,39.32,40.25,36.65,42.15,45.1,44.78,40.87,41.18,33.47,31.55,35.58,46.4,32.5,40.48,34.2,33.82,36.45,42.63,41.52,41.88,33.6,40.62,40.92,40.65,39.62,41.68,38.72,43.43,36.6,33.77,35.35,35.32,36.02,33.93,36.57,34.13,33.65,37.8,36.18,32.65,45.22,42.97,30.07,35.58,35.47,35.05,35.33,34.53,34.58,34.63,34.37,34.65,36.08,44.08,42.98,35.95,40.42,42.97,39.42,39.73,41.83,41.48,41.2,41.93,41.18,41.63,41.55,32.42,42.68,41.75,31.5,31.0,43.9,33.15,35.87,35.92,38.48,34.98,35.47,35.08,29.28,40.98,42.23,42.28,41.38,42.83,34.65,42.23,37.77,38.15,40.05,32.78,31.08,38.57,38.95,38.25,38.85,39.22,38.78,38.47,40.15,41.68,37.97,37.07,37.47,36.43,36.45,36.17,37.1,40.73,33.05,34.75,39.42,38.37,43.95,43.8,35.68,31.97,29.73,33.92,33.18,38.6,31.85,36.15,37.12,38.9,43.72,43.88,37.2,33.72,34.13,32.6,40.48,44.28,40.58,40.37,34.83,35.0,42.07,41.07,41.78,42.2,35.5,35.25,35.5,34.1436,35.82,38.15,43.7,35.78,34.15,35.77,34.62,33.9,34.52,36.1,35.95,30.37,30.82,43.95,33.42,35.87,35.22,35.87,43.75,40.05,39.78,35.58,36.28,32.53,40.85,41.03,39.23,37.32,35.93,35.88,35.13,35.57,30.68,48.6,44.9,39.65,33.05,38.5,40.85,38.57,33.92,33.47,32.43,37.0,38.55,45.68,46.95,40.78,39.07,37.42,39.23,35.52,37.27,35.33,42.5,44.28,37.25,40.32,39.88,40.8,46.78,37.25,39.45,37.68,38.13,32.12,31.28,37.36,47.72,35.1,35.68,35.27,34.67,34.4,37.0,31.41,38.94,42.55,39.13,33.93,35.7579,34.3439,32.4032,35.1808,35.289,45.448,41.5512,46.41,46.087,43.5755,47.54,43.44,46.11,31.7947,42.7293,38.7364,34.7948,34.0757,32.6174,33.2506,34.6208,33.6792,33.0297,34.3907,34.1043,34.8744,32.0296,32.7992,34.0455,35.5324,35.34,37.0524,35.2781,34.88,35.008,35.444,34.33,37.6945,38.4316,38.791,38.406,31.2802,32.412,38.1429,35.2531,35.284,42.3319,42.128,38.42,40.622,34.7787,32.88,41.893,42.127,41.9528,41.9742,44.0372,41.853,34.5955,32.796,34.559,38.9955,37.7238,32.2572,32.4472,39.8243,38.8381,36.1715,31.2763,31.4641,32.7045,31.0707,46.09,33.2533,35.7867,36.483],\"legendgroup\":\"\",\"lon\":[-94.0,-96.4,-99.5,-99.12,-97.93,-89.58,-96.6,-98.75,-94.37,-99.88,-89.25,-89.3,-86.3,-86.58,-91.85,-91.0,-94.02,-91.25,-91.7,-89.82,-89.68,-89.2,-89.27,-88.98,-87.0,-97.45,-95.22,-95.85,-100.5,-96.58,-99.95,-98.7,-83.6,-88.38,-85.93,-84.78,-93.33,-93.52,-92.4,-100.58,-97.15,-82.6,-100.67,-99.13,-83.18,-83.57,-83.85,-83.9,-72.17,-94.7,-93.05,-90.9,-92.23,-95.38,-91.75,-97.37,-99.72,-97.73,-94.72,-87.05,-97.28,-97.15,-100.22,-98.53,-100.03,-103.8,-97.0,-102.33,-96.2,-90.92,-85.57,-96.97,-86.26,-86.22,-94.97,-88.47,-88.97,-86.97,-83.22,-83.68,-99.1,-101.22,-94.68,-96.65,-96.43,-79.2,-80.58,-90.18,-102.3,-101.63,-97.57,-101.3,-97.73,-95.5,-92.87,-91.17,-98.5,-89.7,-97.35,-83.73,-97.25,-93.73,-87.18,-86.52,-89.08,-89.48,-89.25,-93.25,-82.62,-91.47,-91.27,-92.33,-97.02,-90.6,-97.22,-96.58,-94.63,-93.15,-92.67,-95.25,-96.8,-95.7,-94.55,-95.3,-96.93,-96.33,-95.95,-85.8,-95.03,-94.93,-99.87,-104.7,-93.0,-94.78,-99.2,-98.45,-99.77,-98.45,-95.78,-92.45,-86.97,-86.9,-89.65,-88.1,-88.72,-86.43,-88.45,-98.5,-95.23,-95.3,-98.38,-98.37,-82.83,-95.45,-87.92,-94.23,-90.37,-98.1,-92.45,-90.93,-88.38,-86.83,-85.38,-85.7,-85.17,-86.38,-86.87,-86.07,-86.2,-84.65,-85.92,-85.0,-84.38,-84.2,-83.6,-82.25,-94.47,-92.82,-93.53,-93.75,-93.28,-93.38,-98.67,-98.6,-99.72,-102.15,-97.23,-92.2,-90.55,-82.8,-96.53,-95.18,-95.92,-94.37,-93.65,-92.53,-90.55,-87.17,-88.27,-88.92,-87.83,-84.8,-93.17,-93.17,-93.17,-93.43,-93.52,-94.18,-98.3,-99.38,-89.47,-91.13,-91.85,-88.3,-94.27,-84.37,-84.27,-82.8,-91.47,-91.18,-91.93,-93.12,-95.75,-88.08,-91.05,-86.63,-91.1,-90.55,-97.65,-103.75,-94.22,-102.63,-102.62,-101.98,-101.53,-89.0,-87.13,-101.9,-92.88,-96.93,-91.47,-90.73,-91.02,-94.48,-87.3,-85.07,-85.45,-88.78,-101.82,-101.4,-92.45,-97.55,-100.1,-86.08,-87.87,-96.83,-82.57,-99.22,-93.53,-92.48,-93.55,-97.48,-85.75,-97.97,-91.37,-95.32,-87.8,-73.42,-82.02,-88.2,-87.05,-87.48,-88.13,-84.3,-84.33,-85.05,-85.65,-85.27,-85.27,-85.72,-85.75,-87.13,-84.88,-86.75,-86.57,-85.47,-84.78,-85.75,-85.9,-85.07,-84.5,-85.37,-86.53,-84.48,-84.05,-85.08,-85.08,-85.57,-86.5,-88.83,-96.22,-96.65,-93.62,-91.48,-92.18,-90.53,-87.6,-92.12,-93.97,-92.67,-94.58,-97.57,-96.07,-100.22,-96.73,-102.97,-88.8,-87.0,-83.42,-90.02,-95.08,-94.7,-90.65,-90.22,-98.53,-98.52,-99.07,-97.28,-93.87,-88.0,-95.6,-89.75,-89.23,-85.55,-85.02,-86.93,-94.15,-94.3,-94.0,-89.25,-102.4,-96.7,-91.53,-90.1,-98.27,-97.42,-91.0,-90.12,-97.75,-101.88,-93.75,-95.15,-99.15,-98.65,-98.35,-94.6,-88.23,-72.67,-99.18,-93.92,-98.3,-79.73,-85.48,-89.95,-90.13,-88.2,-90.42,-95.7,-96.6,-98.37,-101.73,-94.28,-92.22,-95.57,-95.63,-89.13,-91.62,-92.02,-93.32,-90.13,-90.52,-92.45,-91.23,-78.25,-77.78,-80.63,-79.92,-79.6,-81.32,-79.75,-96.6,-88.75,-88.37,-96.5,-94.03,-89.98,-99.4,-99.15,-80.55,-80.52,-81.15,-79.95,-78.67,-79.03,-79.62,-88.77,-96.97,-93.6,-89.25,-103.68,-110.33,-89.58,-78.75,-86.9,-87.78,-80.73,-81.58,-81.93,-100.42,-94.72,-93.82,-93.17,-72.9,-74.53,-86.65,-91.42,-98.02,-97.43,-98.53,-97.83,-102.35,-88.47,-88.27,-88.47,-86.28,-84.92,-86.53,-87.48,-101.23,-88.35,-98.05,-97.15,-97.48,-97.55,-95.72,-96.52,-93.3,-84.57,-90.88,-95.95,-98.22,-97.67,-95.9,-96.02,-101.73,-90.23,-95.28,-84.67,-83.45,-85.07,-89.52,-95.83,-101.27,-98.52,-96.92,-97.28,-77.43,-86.15,-85.03,-96.75,-86.95,-87.82,-91.31,-90.3,-87.03,-87.48,-94.9,-94.42,-94.65,-73.43,-101.02,-100.6,-100.22,-79.3545,-92.35,-85.75,-88.62,-86.5,-93.0,-90.18,-92.35,-93.33,-92.52,-89.17,-89.67,-98.02,-97.62,-95.53,-87.35,-90.18,-88.02,-81.38,-97.68,-79.22,-85.95,-88.88,-90.55,-93.83,-94.9,-94.32,-84.37,-97.4,-97.95,-97.68,-97.85,-87.92,-99.1,-97.78,-95.67,-83.98,-87.7,-98.78,-97.08,-77.98,-86.43,-91.1,-90.2,-91.02,-77.18,-98.43,-99.3,-84.77,-94.83,-95.1,-94.48,-89.03,-89.03,-97.53,-97.32,-97.77,-97.98,-97.33,-94.25,-89.33,-98.38,-87.53,-92.18,-89.83,-95.1,-87.41,-85.92,-99.45,-97.61,-93.07,-88.86,-88.29,-85.84,-87.29,-95.14,-81.46,-100.29,-92.88,-96.71,-97.62,-86.848,-85.7105,-91.2993,-97.4273,-97.504,-99.7479,-83.538,-95.18,-95.437,-93.6404,-97.3,-95.951,-96.63,-92.808,-94.8557,-90.4863,-85.909,-87.0097,-86.193,-88.1814,-85.9814,-86.5699,-87.935,-85.9784,-88.1479,-85.1785,-89.5042,-89.1088,-88.445,-84.0504,-85.42,-94.5932,-93.9515,-97.732,-97.961,-98.287,-99.22,-88.65,-86.1893,-84.633,-98.257,-89.4665,-97.754,-99.4706,-97.3001,-97.628,-96.1086,-97.077,-89.45,-89.5678,-92.652,-89.43,-97.33,-96.8686,-97.1369,-97.04,-98.4032,-89.2896,-89.7055,-96.5894,-97.357,-97.4365,-90.0055,-96.018,-85.4818,-84.4632,-95.3665,-85.6628,-90.1732,-89.7579,-81.2899,-89.9646,-95.94,-85.1895,-90.5511,-89.135],\"marker\":{\"color\":[4,4,4,4,4,4,4,4,4,4,4,4,4,4,4,4,4,4,4,4,4,4,4,4,4,4,4,4,4,4,4,4,4,4,4,4,4,4,4,4,5,4,5,4,4,4,5,4,4,5,4,5,4,4,4,4,4,4,4,4,5,5,4,4,4,4,4,4,4,4,4,4,4,5,4,4,4,4,4,4,4,4,4,4,4,4,4,4,4,4,4,4,4,5,4,4,4,4,5,4,4,4,4,4,4,4,5,4,4,4,4,5,4,4,4,4,4,4,4,4,4,4,4,4,5,4,4,4,4,4,4,4,4,4,4,4,4,4,4,4,4,4,4,4,4,4,4,5,4,4,4,5,4,4,4,4,4,4,4,4,4,4,4,4,4,4,4,4,4,4,4,4,4,4,4,4,4,4,4,4,4,4,4,4,5,4,4,4,5,4,4,4,5,4,5,4,4,4,4,4,4,4,4,4,4,4,4,4,4,4,4,4,4,4,4,4,4,5,4,4,5,5,5,4,4,4,4,4,4,4,4,4,4,4,4,4,4,5,4,4,5,4,4,4,4,4,4,4,4,4,4,4,4,4,4,4,4,4,4,4,4,5,4,4,4,4,4,4,4,4,5,5,5,4,4,4,4,4,4,4,4,4,5,5,4,4,4,4,4,4,4,4,5,4,5,4,4,4,4,4,4,4,4,4,4,4,4,4,4,4,4,4,4,4,4,4,4,4,4,4,4,5,4,4,4,4,5,4,5,4,4,4,4,4,4,5,4,4,4,4,4,4,4,4,4,4,4,4,4,4,4,4,4,4,4,4,4,4,4,4,4,4,4,4,4,4,4,4,4,4,4,4,4,5,4,4,4,4,4,4,4,4,4,4,4,4,4,4,4,4,4,4,4,4,4,5,4,4,4,4,5,4,4,4,4,4,4,4,4,4,4,4,4,4,4,4,4,4,4,4,4,4,4,4,4,4,5,5,4,4,4,4,4,4,4,4,4,4,4,5,4,4,5,4,4,4,4,4,4,4,4,4,4,5,4,4,4,4,4,4,4,4,4,4,4,4,4,4,4,4,4,4,4,4,4,4,4,4,4,4,4,4,4,4,4,4,5,4,4,4,4,4,4,4,4,4,5,4,5,4,5,4,4,4,4,4,4,4,4,4,4,4,4,4,5,4,4,4,4,4,4,4,4,4,4,4,4,4,4,4,4,4,4,4,4,4,4,4,4,4,4,4,4,4,4,4,4,4,4,4,4,5,4,4,4,4,4,4,4,4,4,5,4,4,4,4,4,4,4,4,4,4,4,4,4,4,4,4,4,4,4,4,4,4,4,4,4,5,5,4,4,5,5,4,4,5,4,4,4,5,4,4,4,4,4,4,4,4,4,5,4,4,4,4,4,4,4,4,4,4,4,4,4,4,4,4,4,4,4,4,4,4,4,4,4,4,4,4,4,4],\"coloraxis\":\"coloraxis\",\"size\":[100,200,233,150,700,880,440,200,330,300,100,100,100,300,10,880,833,880,1760,880,427,200,200,177,100,200,440,400,150,110,50,1760,333,100,440,33,10,10,100,880,583,1760,600,440,833,200,833,100,900,100,300,500,100,900,200,10,440,400,440,200,500,1320,1100,500,100,10,150,100,10,500,47,880,400,400,400,100,440,200,400,100,500,440,880,200,200,150,150,300,880,100,333,300,400,440,100,500,880,220,500,50,440,200,200,100,250,300,200,10,300,600,880,880,300,200,1760,900,400,440,100,440,10,150,10,200,800,10,880,550,400,50,10,10,27,100,250,400,133,300,667,33,667,880,440,130,1000,100,250,500,400,880,10,880,833,400,50,100,67,300,200,200,400,500,10,177,1760,880,1667,10,333,100,300,10,300,400,200,400,200,200,200,300,1000,667,10,10,1760,200,647,200,900,300,300,200,880,333,1000,440,200,440,150,1200,200,50,500,400,500,100,267,200,10,300,300,200,400,100,300,550,300,400,300,250,500,600,150,33,200,500,800,440,700,133,833,880,880,880,880,100,250,1333,400,150,500,10,100,880,300,100,100,100,1320,1760,1320,10,77,200,220,150,200,440,880,440,440,100,400,300,300,500,800,313,50,500,500,500,500,400,200,200,10,1133,1400,1200,1200,1760,533,10,150,10,10,10,10,10,10,10,440,350,533,300,200,700,800,200,1760,400,400,400,100,200,500,250,400,1700,500,300,267,10,1320,880,800,300,117,880,440,440,880,880,100,440,440,300,880,1760,200,40,350,183,613,550,70,400,880,1000,440,77,300,1000,77,50,100,100,1760,250,400,500,880,1320,880,33,100,1400,250,140,1700,10,267,33,567,100,400,400,600,1333,880,200,500,500,250,400,440,1000,67,50,200,440,440,1407,1223,530,700,2600,1000,2113,880,60,10,200,250,450,1000,1000,400,350,450,440,3330,1000,800,440,73,250,1230,1000,2550,700,400,150,200,500,800,700,300,1760,150,200,100,1320,880,200,1320,1320,440,880,1233,300,200,300,200,1350,400,200,2640,600,300,500,440,1500,1300,1700,400,40,880,400,100,73,160,280,1583,880,1800,867,867,60,1760,250,880,880,800,500,250,880,1760,800,100,150,1000,880,1300,1000,400,500,250,300,200,600,2200,100,880,850,400,300,527,200,1407,1053,1407,200,200,440,650,1500,1320,400,1760,1320,1150,1200,400,500,400,200,1000,1250,270,880,880,1760,1430,580,1400,500,160,500,750,660,400,75,500,880,880,650,650,900,300,880,500,880,200,880,1000,700,1200,1000,500,4400,800,440,200,800,500,225,800,500,500,3000,1400,1320,125,880,660,880,1760,700,1320,2100,440,880,750,880,3080,880,2000,1200,400,1936,2288,1760,150,800,600,400,587,880,1320,880,880,1408,1260,1760,2600,1320,2200,800,1050,900,1320,1320,880,1600,2200,880,880,1760,500,325,800,880,400,1320,400,1100,1500,1900,2600,2429,200,880,1320,1320,400,530,500,500,880,700,1300,550,400,900,1100,1760,1600,1050,1760,900,1936,3960,1300,2275,650,1850,1800,2600],\"sizemode\":\"area\",\"sizeref\":11.0},\"mode\":\"markers\",\"name\":\"\",\"showlegend\":false,\"subplot\":\"mapbox\",\"type\":\"scattermapbox\"}],                        {\"template\":{\"data\":{\"histogram2dcontour\":[{\"type\":\"histogram2dcontour\",\"colorbar\":{\"outlinewidth\":0,\"ticks\":\"\"},\"colorscale\":[[0.0,\"#0d0887\"],[0.1111111111111111,\"#46039f\"],[0.2222222222222222,\"#7201a8\"],[0.3333333333333333,\"#9c179e\"],[0.4444444444444444,\"#bd3786\"],[0.5555555555555556,\"#d8576b\"],[0.6666666666666666,\"#ed7953\"],[0.7777777777777778,\"#fb9f3a\"],[0.8888888888888888,\"#fdca26\"],[1.0,\"#f0f921\"]]}],\"choropleth\":[{\"type\":\"choropleth\",\"colorbar\":{\"outlinewidth\":0,\"ticks\":\"\"}}],\"histogram2d\":[{\"type\":\"histogram2d\",\"colorbar\":{\"outlinewidth\":0,\"ticks\":\"\"},\"colorscale\":[[0.0,\"#0d0887\"],[0.1111111111111111,\"#46039f\"],[0.2222222222222222,\"#7201a8\"],[0.3333333333333333,\"#9c179e\"],[0.4444444444444444,\"#bd3786\"],[0.5555555555555556,\"#d8576b\"],[0.6666666666666666,\"#ed7953\"],[0.7777777777777778,\"#fb9f3a\"],[0.8888888888888888,\"#fdca26\"],[1.0,\"#f0f921\"]]}],\"heatmap\":[{\"type\":\"heatmap\",\"colorbar\":{\"outlinewidth\":0,\"ticks\":\"\"},\"colorscale\":[[0.0,\"#0d0887\"],[0.1111111111111111,\"#46039f\"],[0.2222222222222222,\"#7201a8\"],[0.3333333333333333,\"#9c179e\"],[0.4444444444444444,\"#bd3786\"],[0.5555555555555556,\"#d8576b\"],[0.6666666666666666,\"#ed7953\"],[0.7777777777777778,\"#fb9f3a\"],[0.8888888888888888,\"#fdca26\"],[1.0,\"#f0f921\"]]}],\"heatmapgl\":[{\"type\":\"heatmapgl\",\"colorbar\":{\"outlinewidth\":0,\"ticks\":\"\"},\"colorscale\":[[0.0,\"#0d0887\"],[0.1111111111111111,\"#46039f\"],[0.2222222222222222,\"#7201a8\"],[0.3333333333333333,\"#9c179e\"],[0.4444444444444444,\"#bd3786\"],[0.5555555555555556,\"#d8576b\"],[0.6666666666666666,\"#ed7953\"],[0.7777777777777778,\"#fb9f3a\"],[0.8888888888888888,\"#fdca26\"],[1.0,\"#f0f921\"]]}],\"contourcarpet\":[{\"type\":\"contourcarpet\",\"colorbar\":{\"outlinewidth\":0,\"ticks\":\"\"}}],\"contour\":[{\"type\":\"contour\",\"colorbar\":{\"outlinewidth\":0,\"ticks\":\"\"},\"colorscale\":[[0.0,\"#0d0887\"],[0.1111111111111111,\"#46039f\"],[0.2222222222222222,\"#7201a8\"],[0.3333333333333333,\"#9c179e\"],[0.4444444444444444,\"#bd3786\"],[0.5555555555555556,\"#d8576b\"],[0.6666666666666666,\"#ed7953\"],[0.7777777777777778,\"#fb9f3a\"],[0.8888888888888888,\"#fdca26\"],[1.0,\"#f0f921\"]]}],\"surface\":[{\"type\":\"surface\",\"colorbar\":{\"outlinewidth\":0,\"ticks\":\"\"},\"colorscale\":[[0.0,\"#0d0887\"],[0.1111111111111111,\"#46039f\"],[0.2222222222222222,\"#7201a8\"],[0.3333333333333333,\"#9c179e\"],[0.4444444444444444,\"#bd3786\"],[0.5555555555555556,\"#d8576b\"],[0.6666666666666666,\"#ed7953\"],[0.7777777777777778,\"#fb9f3a\"],[0.8888888888888888,\"#fdca26\"],[1.0,\"#f0f921\"]]}],\"mesh3d\":[{\"type\":\"mesh3d\",\"colorbar\":{\"outlinewidth\":0,\"ticks\":\"\"}}],\"scatter\":[{\"fillpattern\":{\"fillmode\":\"overlay\",\"size\":10,\"solidity\":0.2},\"type\":\"scatter\"}],\"parcoords\":[{\"type\":\"parcoords\",\"line\":{\"colorbar\":{\"outlinewidth\":0,\"ticks\":\"\"}}}],\"scatterpolargl\":[{\"type\":\"scatterpolargl\",\"marker\":{\"colorbar\":{\"outlinewidth\":0,\"ticks\":\"\"}}}],\"bar\":[{\"error_x\":{\"color\":\"#2a3f5f\"},\"error_y\":{\"color\":\"#2a3f5f\"},\"marker\":{\"line\":{\"color\":\"#E5ECF6\",\"width\":0.5},\"pattern\":{\"fillmode\":\"overlay\",\"size\":10,\"solidity\":0.2}},\"type\":\"bar\"}],\"scattergeo\":[{\"type\":\"scattergeo\",\"marker\":{\"colorbar\":{\"outlinewidth\":0,\"ticks\":\"\"}}}],\"scatterpolar\":[{\"type\":\"scatterpolar\",\"marker\":{\"colorbar\":{\"outlinewidth\":0,\"ticks\":\"\"}}}],\"histogram\":[{\"marker\":{\"pattern\":{\"fillmode\":\"overlay\",\"size\":10,\"solidity\":0.2}},\"type\":\"histogram\"}],\"scattergl\":[{\"type\":\"scattergl\",\"marker\":{\"colorbar\":{\"outlinewidth\":0,\"ticks\":\"\"}}}],\"scatter3d\":[{\"type\":\"scatter3d\",\"line\":{\"colorbar\":{\"outlinewidth\":0,\"ticks\":\"\"}},\"marker\":{\"colorbar\":{\"outlinewidth\":0,\"ticks\":\"\"}}}],\"scattermapbox\":[{\"type\":\"scattermapbox\",\"marker\":{\"colorbar\":{\"outlinewidth\":0,\"ticks\":\"\"}}}],\"scatterternary\":[{\"type\":\"scatterternary\",\"marker\":{\"colorbar\":{\"outlinewidth\":0,\"ticks\":\"\"}}}],\"scattercarpet\":[{\"type\":\"scattercarpet\",\"marker\":{\"colorbar\":{\"outlinewidth\":0,\"ticks\":\"\"}}}],\"carpet\":[{\"aaxis\":{\"endlinecolor\":\"#2a3f5f\",\"gridcolor\":\"white\",\"linecolor\":\"white\",\"minorgridcolor\":\"white\",\"startlinecolor\":\"#2a3f5f\"},\"baxis\":{\"endlinecolor\":\"#2a3f5f\",\"gridcolor\":\"white\",\"linecolor\":\"white\",\"minorgridcolor\":\"white\",\"startlinecolor\":\"#2a3f5f\"},\"type\":\"carpet\"}],\"table\":[{\"cells\":{\"fill\":{\"color\":\"#EBF0F8\"},\"line\":{\"color\":\"white\"}},\"header\":{\"fill\":{\"color\":\"#C8D4E3\"},\"line\":{\"color\":\"white\"}},\"type\":\"table\"}],\"barpolar\":[{\"marker\":{\"line\":{\"color\":\"#E5ECF6\",\"width\":0.5},\"pattern\":{\"fillmode\":\"overlay\",\"size\":10,\"solidity\":0.2}},\"type\":\"barpolar\"}],\"pie\":[{\"automargin\":true,\"type\":\"pie\"}]},\"layout\":{\"autotypenumbers\":\"strict\",\"colorway\":[\"#636efa\",\"#EF553B\",\"#00cc96\",\"#ab63fa\",\"#FFA15A\",\"#19d3f3\",\"#FF6692\",\"#B6E880\",\"#FF97FF\",\"#FECB52\"],\"font\":{\"color\":\"#2a3f5f\"},\"hovermode\":\"closest\",\"hoverlabel\":{\"align\":\"left\"},\"paper_bgcolor\":\"white\",\"plot_bgcolor\":\"#E5ECF6\",\"polar\":{\"bgcolor\":\"#E5ECF6\",\"angularaxis\":{\"gridcolor\":\"white\",\"linecolor\":\"white\",\"ticks\":\"\"},\"radialaxis\":{\"gridcolor\":\"white\",\"linecolor\":\"white\",\"ticks\":\"\"}},\"ternary\":{\"bgcolor\":\"#E5ECF6\",\"aaxis\":{\"gridcolor\":\"white\",\"linecolor\":\"white\",\"ticks\":\"\"},\"baxis\":{\"gridcolor\":\"white\",\"linecolor\":\"white\",\"ticks\":\"\"},\"caxis\":{\"gridcolor\":\"white\",\"linecolor\":\"white\",\"ticks\":\"\"}},\"coloraxis\":{\"colorbar\":{\"outlinewidth\":0,\"ticks\":\"\"}},\"colorscale\":{\"sequential\":[[0.0,\"#0d0887\"],[0.1111111111111111,\"#46039f\"],[0.2222222222222222,\"#7201a8\"],[0.3333333333333333,\"#9c179e\"],[0.4444444444444444,\"#bd3786\"],[0.5555555555555556,\"#d8576b\"],[0.6666666666666666,\"#ed7953\"],[0.7777777777777778,\"#fb9f3a\"],[0.8888888888888888,\"#fdca26\"],[1.0,\"#f0f921\"]],\"sequentialminus\":[[0.0,\"#0d0887\"],[0.1111111111111111,\"#46039f\"],[0.2222222222222222,\"#7201a8\"],[0.3333333333333333,\"#9c179e\"],[0.4444444444444444,\"#bd3786\"],[0.5555555555555556,\"#d8576b\"],[0.6666666666666666,\"#ed7953\"],[0.7777777777777778,\"#fb9f3a\"],[0.8888888888888888,\"#fdca26\"],[1.0,\"#f0f921\"]],\"diverging\":[[0,\"#8e0152\"],[0.1,\"#c51b7d\"],[0.2,\"#de77ae\"],[0.3,\"#f1b6da\"],[0.4,\"#fde0ef\"],[0.5,\"#f7f7f7\"],[0.6,\"#e6f5d0\"],[0.7,\"#b8e186\"],[0.8,\"#7fbc41\"],[0.9,\"#4d9221\"],[1,\"#276419\"]]},\"xaxis\":{\"gridcolor\":\"white\",\"linecolor\":\"white\",\"ticks\":\"\",\"title\":{\"standoff\":15},\"zerolinecolor\":\"white\",\"automargin\":true,\"zerolinewidth\":2},\"yaxis\":{\"gridcolor\":\"white\",\"linecolor\":\"white\",\"ticks\":\"\",\"title\":{\"standoff\":15},\"zerolinecolor\":\"white\",\"automargin\":true,\"zerolinewidth\":2},\"scene\":{\"xaxis\":{\"backgroundcolor\":\"#E5ECF6\",\"gridcolor\":\"white\",\"linecolor\":\"white\",\"showbackground\":true,\"ticks\":\"\",\"zerolinecolor\":\"white\",\"gridwidth\":2},\"yaxis\":{\"backgroundcolor\":\"#E5ECF6\",\"gridcolor\":\"white\",\"linecolor\":\"white\",\"showbackground\":true,\"ticks\":\"\",\"zerolinecolor\":\"white\",\"gridwidth\":2},\"zaxis\":{\"backgroundcolor\":\"#E5ECF6\",\"gridcolor\":\"white\",\"linecolor\":\"white\",\"showbackground\":true,\"ticks\":\"\",\"zerolinecolor\":\"white\",\"gridwidth\":2}},\"shapedefaults\":{\"line\":{\"color\":\"#2a3f5f\"}},\"annotationdefaults\":{\"arrowcolor\":\"#2a3f5f\",\"arrowhead\":0,\"arrowwidth\":1},\"geo\":{\"bgcolor\":\"white\",\"landcolor\":\"#E5ECF6\",\"subunitcolor\":\"white\",\"showland\":true,\"showlakes\":true,\"lakecolor\":\"white\"},\"title\":{\"x\":0.05},\"mapbox\":{\"style\":\"light\"}}},\"mapbox\":{\"domain\":{\"x\":[0.0,1.0],\"y\":[0.0,1.0]},\"center\":{\"lat\":37.919401718749995,\"lon\":-91.72353875},\"zoom\":3,\"style\":\"open-street-map\"},\"coloraxis\":{\"colorbar\":{\"title\":{\"text\":\"mag\"}},\"colorscale\":[[0,\"orange\"],[1,\"red\"]]},\"legend\":{\"tracegroupgap\":0,\"itemsizing\":\"constant\"},\"margin\":{\"t\":0,\"r\":0,\"l\":0,\"b\":0},\"height\":800,\"width\":800},                        {\"responsive\": true}                    ).then(function(){\n",
       "                            \n",
       "var gd = document.getElementById('83ba2db8-3ed0-4b1c-a626-898d9d37d6c8');\n",
       "var x = new MutationObserver(function (mutations, observer) {{\n",
       "        var display = window.getComputedStyle(gd).display;\n",
       "        if (!display || display === 'none') {{\n",
       "            console.log([gd, 'removed!']);\n",
       "            Plotly.purge(gd);\n",
       "            observer.disconnect();\n",
       "        }}\n",
       "}});\n",
       "\n",
       "// Listen for the removal of the full notebook cells\n",
       "var notebookContainer = gd.closest('#notebook-container');\n",
       "if (notebookContainer) {{\n",
       "    x.observe(notebookContainer, {childList: true});\n",
       "}}\n",
       "\n",
       "// Listen for the clearing of the current output cell\n",
       "var outputEl = gd.closest('.output');\n",
       "if (outputEl) {{\n",
       "    x.observe(outputEl, {childList: true});\n",
       "}}\n",
       "\n",
       "                        })                };                });            </script>        </div>"
      ]
     },
     "metadata": {},
     "output_type": "display_data"
    }
   ],
   "source": [
    "color_scale = [(0, 'orange'), (1,'red')]\n",
    "\n",
    "fig = px.scatter_mapbox(df_EF45, \n",
    "                        lat=\"slat\", \n",
    "                        lon=\"slon\", \n",
    "                        hover_name=\"mag\", \n",
    "                        hover_data=[\"mag\", \"inj\",\"fat\"],\n",
    "                        color=\"mag\",\n",
    "                        color_continuous_scale=color_scale,\n",
    "                        size=\"wid\",\n",
    "                        zoom=3, \n",
    "                        height=800,\n",
    "                        width=800)\n",
    "\n",
    "fig.update_layout(mapbox_style=\"open-street-map\")\n",
    "fig.update_layout(margin={\"r\":0,\"t\":0,\"l\":0,\"b\":0})\n",
    "fig.show()"
   ]
  },
  {
   "cell_type": "markdown",
   "id": "8daf2b6f-e313-4c8e-918f-452a4baa0c94",
   "metadata": {},
   "source": [
    "This map shows that more severe tornados, as expected, have wider paths and are concentrated in Tornado Alley, but also in the American southeast. I'll now use color to indicate time to investigate shifts in tornado location."
   ]
  },
  {
   "cell_type": "code",
   "execution_count": 15,
   "id": "cb828f47-5b71-4032-b25b-1785d58a4d3f",
   "metadata": {},
   "outputs": [
    {
     "data": {
      "application/vnd.plotly.v1+json": {
       "config": {
        "plotlyServerURL": "https://plot.ly"
       },
       "data": [
        {
         "customdata": [
          [
           4,
           77,
           18
          ],
          [
           4,
           32,
           5
          ],
          [
           4,
           5,
           5
          ],
          [
           4,
           1,
           0
          ],
          [
           4,
           5,
           1
          ],
          [
           4,
           12,
           2
          ],
          [
           4,
           33,
           0
          ],
          [
           4,
           100,
           2
          ],
          [
           4,
           20,
           1
          ],
          [
           4,
           100,
           5
          ],
          [
           4,
           9,
           1
          ],
          [
           4,
           3,
           6
          ],
          [
           4,
           44,
           3
          ],
          [
           4,
           150,
           2
          ],
          [
           4,
           6,
           2
          ],
          [
           4,
           5,
           4
          ],
          [
           4,
           9,
           7
          ],
          [
           4,
           180,
           29
          ],
          [
           4,
           325,
           50
          ],
          [
           4,
           100,
           17
          ],
          [
           4,
           74,
           16
          ],
          [
           4,
           10,
           2
          ],
          [
           4,
           5,
           4
          ],
          [
           4,
           157,
           38
          ],
          [
           4,
           50,
           4
          ],
          [
           4,
           0,
           0
          ],
          [
           4,
           3,
           0
          ],
          [
           4,
           4,
           0
          ],
          [
           4,
           26,
           1
          ],
          [
           4,
           20,
           0
          ],
          [
           4,
           25,
           17
          ],
          [
           4,
           15,
           2
          ],
          [
           4,
           300,
           18
          ],
          [
           4,
           3,
           2
          ],
          [
           4,
           12,
           7
          ],
          [
           4,
           8,
           4
          ],
          [
           4,
           0,
           0
          ],
          [
           4,
           3,
           0
          ],
          [
           4,
           24,
           2
          ],
          [
           4,
           159,
           13
          ],
          [
           5,
           597,
           114
          ],
          [
           4,
           68,
           2
          ],
          [
           5,
           20,
           2
          ],
          [
           4,
           0,
           11
          ],
          [
           4,
           23,
           0
          ],
          [
           4,
           18,
           4
          ],
          [
           5,
           844,
           116
          ],
          [
           4,
           379,
           17
          ],
          [
           4,
           1228,
           94
          ],
          [
           5,
           2,
           1
          ],
          [
           4,
           50,
           9
          ],
          [
           5,
           270,
           38
          ],
          [
           4,
           0,
           2
          ],
          [
           4,
           2,
           0
          ],
          [
           4,
           0,
           0
          ],
          [
           4,
           65,
           0
          ],
          [
           4,
           2,
           0
          ],
          [
           4,
           23,
           6
          ],
          [
           4,
           0,
           1
          ],
          [
           4,
           20,
           5
          ],
          [
           5,
           280,
           20
          ],
          [
           5,
           273,
           80
          ],
          [
           4,
           18,
           2
          ],
          [
           4,
           0,
           0
          ],
          [
           4,
           0,
           0
          ],
          [
           4,
           29,
           2
          ],
          [
           4,
           19,
           2
          ],
          [
           4,
           0,
           0
          ],
          [
           4,
           13,
           1
          ],
          [
           4,
           36,
           6
          ],
          [
           4,
           31,
           1
          ],
          [
           4,
           29,
           2
          ],
          [
           4,
           25,
           1
          ],
          [
           5,
           292,
           17
          ],
          [
           4,
           59,
           0
          ],
          [
           4,
           60,
           3
          ],
          [
           4,
           50,
           7
          ],
          [
           4,
           200,
           25
          ],
          [
           4,
           22,
           0
          ],
          [
           4,
           116,
           3
          ],
          [
           4,
           0,
           0
          ],
          [
           4,
           2,
           0
          ],
          [
           4,
           20,
           10
          ],
          [
           4,
           6,
           2
          ],
          [
           4,
           3,
           3
          ],
          [
           4,
           21,
           0
          ],
          [
           4,
           70,
           4
          ],
          [
           4,
           0,
           1
          ],
          [
           4,
           7,
           0
          ],
          [
           4,
           6,
           0
          ],
          [
           4,
           8,
           1
          ],
          [
           4,
           80,
           21
          ],
          [
           4,
           0,
           0
          ],
          [
           5,
           207,
           44
          ],
          [
           4,
           2,
           0
          ],
          [
           4,
           75,
           7
          ],
          [
           4,
           5,
           4
          ],
          [
           4,
           50,
           2
          ],
          [
           5,
           103,
           10
          ],
          [
           4,
           6,
           0
          ],
          [
           4,
           6,
           2
          ],
          [
           4,
           81,
           1
          ],
          [
           4,
           15,
           4
          ],
          [
           4,
           12,
           3
          ],
          [
           4,
           45,
           1
          ],
          [
           4,
           200,
           11
          ],
          [
           5,
           6,
           1
          ],
          [
           4,
           9,
           2
          ],
          [
           4,
           7,
           0
          ],
          [
           4,
           50,
           3
          ],
          [
           4,
           3,
           4
          ],
          [
           5,
           74,
           21
          ],
          [
           4,
           5,
           15
          ],
          [
           4,
           345,
           21
          ],
          [
           4,
           31,
           6
          ],
          [
           4,
           12,
           7
          ],
          [
           4,
           1,
           0
          ],
          [
           4,
           5,
           0
          ],
          [
           4,
           0,
           0
          ],
          [
           4,
           1,
           1
          ],
          [
           4,
           0,
           0
          ],
          [
           4,
           3,
           0
          ],
          [
           4,
           13,
           5
          ],
          [
           4,
           106,
           16
          ],
          [
           5,
           81,
           5
          ],
          [
           4,
           12,
           0
          ],
          [
           4,
           92,
           1
          ],
          [
           4,
           7,
           0
          ],
          [
           4,
           58,
           16
          ],
          [
           4,
           12,
           0
          ],
          [
           4,
           0,
           0
          ],
          [
           4,
           1,
           0
          ],
          [
           4,
           7,
           0
          ],
          [
           4,
           200,
           8
          ],
          [
           4,
           9,
           0
          ],
          [
           4,
           1,
           0
          ],
          [
           4,
           1,
           0
          ],
          [
           4,
           0,
           0
          ],
          [
           4,
           3,
           0
          ],
          [
           4,
           34,
           0
          ],
          [
           4,
           35,
           0
          ],
          [
           4,
           6,
           2
          ],
          [
           4,
           7,
           2
          ],
          [
           4,
           70,
           1
          ],
          [
           4,
           20,
           3
          ],
          [
           4,
           6,
           10
          ],
          [
           4,
           24,
           3
          ],
          [
           5,
           111,
           7
          ],
          [
           4,
           28,
           1
          ],
          [
           4,
           9,
           3
          ],
          [
           4,
           11,
           0
          ],
          [
           5,
           50,
           4
          ],
          [
           4,
           224,
           11
          ],
          [
           4,
           0,
           0
          ],
          [
           4,
           30,
           0
          ],
          [
           4,
           2,
           0
          ],
          [
           4,
           165,
           22
          ],
          [
           4,
           7,
           0
          ],
          [
           4,
           200,
           6
          ],
          [
           4,
           3,
           1
          ],
          [
           4,
           75,
           6
          ],
          [
           4,
           44,
           0
          ],
          [
           4,
           125,
           4
          ],
          [
           4,
           41,
           5
          ],
          [
           4,
           294,
           23
          ],
          [
           4,
           835,
           25
          ],
          [
           4,
           123,
           28
          ],
          [
           4,
           252,
           31
          ],
          [
           4,
           321,
           36
          ],
          [
           4,
           8,
           1
          ],
          [
           4,
           142,
           5
          ],
          [
           4,
           293,
           21
          ],
          [
           4,
           50,
           3
          ],
          [
           4,
           104,
           13
          ],
          [
           4,
           236,
           18
          ],
          [
           4,
           200,
           18
          ],
          [
           4,
           0,
           0
          ],
          [
           4,
           11,
           0
          ],
          [
           4,
           0,
           0
          ],
          [
           4,
           175,
           3
          ],
          [
           4,
           175,
           3
          ],
          [
           4,
           158,
           6
          ],
          [
           4,
           0,
           0
          ],
          [
           4,
           53,
           4
          ],
          [
           5,
           1,
           0
          ],
          [
           4,
           76,
           4
          ],
          [
           4,
           0,
           1
          ],
          [
           4,
           17,
           1
          ],
          [
           5,
           518,
           58
          ],
          [
           4,
           530,
           11
          ],
          [
           4,
           2,
           0
          ],
          [
           4,
           2,
           1
          ],
          [
           5,
           450,
           16
          ],
          [
           4,
           0,
           0
          ],
          [
           5,
           172,
           6
          ],
          [
           4,
           2,
           0
          ],
          [
           4,
           216,
           3
          ],
          [
           4,
           25,
           2
          ],
          [
           4,
           100,
           1
          ],
          [
           4,
           450,
           24
          ],
          [
           4,
           500,
           33
          ],
          [
           4,
           8,
           0
          ],
          [
           4,
           2,
           0
          ],
          [
           4,
           0,
           0
          ],
          [
           4,
           1,
           0
          ],
          [
           4,
           35,
           5
          ],
          [
           4,
           22,
           6
          ],
          [
           4,
           0,
           0
          ],
          [
           4,
           0,
           0
          ],
          [
           4,
           1,
           4
          ],
          [
           4,
           10,
           2
          ],
          [
           4,
           52,
           3
          ],
          [
           4,
           16,
           5
          ],
          [
           4,
           30,
           2
          ],
          [
           4,
           270,
           14
          ],
          [
           4,
           364,
           6
          ],
          [
           4,
           33,
           1
          ],
          [
           5,
           93,
           7
          ],
          [
           4,
           24,
           7
          ],
          [
           4,
           364,
           35
          ],
          [
           5,
           156,
           5
          ],
          [
           5,
           462,
           13
          ],
          [
           5,
           150,
           9
          ],
          [
           4,
           3,
           2
          ],
          [
           4,
           241,
           32
          ],
          [
           4,
           14,
           2
          ],
          [
           4,
           22,
           2
          ],
          [
           4,
           14,
           4
          ],
          [
           4,
           6,
           0
          ],
          [
           4,
           0,
           0
          ],
          [
           4,
           70,
           12
          ],
          [
           4,
           24,
           0
          ],
          [
           4,
           13,
           1
          ],
          [
           4,
           51,
           5
          ],
          [
           4,
           42,
           16
          ],
          [
           4,
           78,
           4
          ],
          [
           4,
           85,
           3
          ],
          [
           5,
           500,
           26
          ],
          [
           4,
           0,
           0
          ],
          [
           4,
           84,
           4
          ],
          [
           5,
           510,
           47
          ],
          [
           4,
           182,
           13
          ],
          [
           4,
           795,
           58
          ],
          [
           4,
           5,
           1
          ],
          [
           4,
           0,
           0
          ],
          [
           4,
           72,
           2
          ],
          [
           4,
           58,
           6
          ],
          [
           4,
           137,
           3
          ],
          [
           4,
           0,
           0
          ],
          [
           4,
           0,
           0
          ],
          [
           4,
           8,
           0
          ],
          [
           4,
           6,
           5
          ],
          [
           4,
           1,
           0
          ],
          [
           4,
           20,
           0
          ],
          [
           4,
           20,
           0
          ],
          [
           4,
           77,
           6
          ],
          [
           4,
           30,
           7
          ],
          [
           4,
           12,
           5
          ],
          [
           4,
           5,
           0
          ],
          [
           4,
           3,
           1
          ],
          [
           4,
           1,
           0
          ],
          [
           5,
           0,
           0
          ],
          [
           4,
           19,
           0
          ],
          [
           4,
           4,
           2
          ],
          [
           4,
           289,
           3
          ],
          [
           4,
           25,
           5
          ],
          [
           4,
           199,
           7
          ],
          [
           4,
           36,
           4
          ],
          [
           4,
           0,
           2
          ],
          [
           4,
           178,
           3
          ],
          [
           5,
           190,
           16
          ],
          [
           5,
           267,
           28
          ],
          [
           5,
           272,
           28
          ],
          [
           4,
           26,
           4
          ],
          [
           4,
           30,
           6
          ],
          [
           4,
           67,
           9
          ],
          [
           4,
           17,
           0
          ],
          [
           4,
           104,
           0
          ],
          [
           4,
           12,
           1
          ],
          [
           4,
           17,
           4
          ],
          [
           4,
           190,
           11
          ],
          [
           4,
           285,
           18
          ],
          [
           5,
           210,
           3
          ],
          [
           5,
           86,
           6
          ],
          [
           4,
           2,
           0
          ],
          [
           4,
           56,
           0
          ],
          [
           4,
           0,
           0
          ],
          [
           4,
           225,
           3
          ],
          [
           4,
           81,
           3
          ],
          [
           4,
           122,
           4
          ],
          [
           4,
           28,
           7
          ],
          [
           4,
           113,
           10
          ],
          [
           5,
           270,
           31
          ],
          [
           4,
           39,
           2
          ],
          [
           5,
           1150,
           36
          ],
          [
           4,
           6,
           5
          ],
          [
           4,
           150,
           7
          ],
          [
           4,
           51,
           10
          ],
          [
           4,
           121,
           11
          ],
          [
           4,
           35,
           0
          ],
          [
           4,
           177,
           6
          ],
          [
           4,
           150,
           14
          ],
          [
           4,
           50,
           2
          ],
          [
           4,
           12,
           0
          ],
          [
           4,
           2,
           0
          ],
          [
           4,
           210,
           9
          ],
          [
           4,
           49,
           1
          ],
          [
           4,
           51,
           7
          ],
          [
           4,
           3,
           1
          ],
          [
           4,
           4,
           1
          ],
          [
           4,
           22,
           3
          ],
          [
           4,
           0,
           0
          ],
          [
           4,
           133,
           3
          ],
          [
           4,
           0,
           0
          ],
          [
           4,
           0,
           0
          ],
          [
           4,
           4,
           1
          ],
          [
           4,
           18,
           0
          ],
          [
           4,
           8,
           0
          ],
          [
           4,
           55,
           1
          ],
          [
           4,
           11,
           0
          ],
          [
           4,
           4,
           1
          ],
          [
           5,
           64,
           2
          ],
          [
           4,
           8,
           0
          ],
          [
           4,
           177,
           3
          ],
          [
           4,
           2,
           0
          ],
          [
           4,
           6,
           0
          ],
          [
           5,
           11,
           0
          ],
          [
           4,
           0,
           0
          ],
          [
           5,
           9,
           0
          ],
          [
           4,
           23,
           2
          ],
          [
           4,
           6,
           0
          ],
          [
           4,
           0,
           0
          ],
          [
           4,
           5,
           2
          ],
          [
           4,
           10,
           0
          ],
          [
           4,
           44,
           1
          ],
          [
           5,
           130,
           22
          ],
          [
           4,
           14,
           0
          ],
          [
           4,
           5,
           0
          ],
          [
           4,
           1,
           0
          ],
          [
           4,
           2,
           0
          ],
          [
           4,
           0,
           0
          ],
          [
           4,
           0,
           0
          ],
          [
           4,
           20,
           0
          ],
          [
           4,
           10,
           0
          ],
          [
           4,
           1,
           0
          ],
          [
           4,
           0,
           0
          ],
          [
           4,
           3,
           0
          ],
          [
           4,
           31,
           4
          ],
          [
           4,
           0,
           0
          ],
          [
           4,
           35,
           5
          ],
          [
           4,
           266,
           2
          ],
          [
           4,
           20,
           0
          ],
          [
           4,
           68,
           11
          ],
          [
           4,
           1740,
           42
          ],
          [
           4,
           25,
           1
          ],
          [
           4,
           26,
           3
          ],
          [
           4,
           1,
           0
          ],
          [
           4,
           500,
           3
          ],
          [
           4,
           0,
           0
          ],
          [
           4,
           0,
           0
          ],
          [
           4,
           110,
           3
          ],
          [
           4,
           140,
           0
          ],
          [
           4,
           25,
           2
          ],
          [
           4,
           0,
           0
          ],
          [
           4,
           32,
           0
          ],
          [
           4,
           53,
           3
          ],
          [
           4,
           32,
           1
          ],
          [
           4,
           30,
           0
          ],
          [
           4,
           2,
           0
          ],
          [
           4,
           0,
           0
          ],
          [
           4,
           12,
           0
          ],
          [
           4,
           23,
           3
          ],
          [
           4,
           28,
           2
          ],
          [
           5,
           29,
           0
          ],
          [
           4,
           170,
           10
          ],
          [
           4,
           181,
           10
          ],
          [
           4,
           11,
           0
          ],
          [
           4,
           20,
           2
          ],
          [
           4,
           4,
           0
          ],
          [
           4,
           0,
           0
          ],
          [
           4,
           25,
           0
          ],
          [
           4,
           13,
           2
          ],
          [
           4,
           12,
           5
          ],
          [
           4,
           149,
           3
          ],
          [
           4,
           153,
           16
          ],
          [
           4,
           36,
           0
          ],
          [
           4,
           24,
           0
          ],
          [
           4,
           395,
           4
          ],
          [
           4,
           49,
           5
          ],
          [
           4,
           100,
           7
          ],
          [
           4,
           37,
           3
          ],
          [
           4,
           19,
           1
          ],
          [
           4,
           14,
           1
          ],
          [
           4,
           60,
           1
          ],
          [
           4,
           64,
           3
          ],
          [
           5,
           200,
           9
          ],
          [
           4,
           0,
           0
          ],
          [
           4,
           2,
           0
          ],
          [
           4,
           82,
           12
          ],
          [
           4,
           125,
           16
          ],
          [
           5,
           310,
           18
          ],
          [
           4,
           0,
           0
          ],
          [
           4,
           0,
           0
          ],
          [
           4,
           40,
           4
          ],
          [
           4,
           30,
           7
          ],
          [
           4,
           8,
           0
          ],
          [
           4,
           2,
           0
          ],
          [
           4,
           0,
           0
          ],
          [
           4,
           350,
           6
          ],
          [
           4,
           121,
           30
          ],
          [
           4,
           0,
           0
          ],
          [
           4,
           1,
           0
          ],
          [
           4,
           154,
           4
          ],
          [
           4,
           7,
           1
          ],
          [
           4,
           55,
           0
          ],
          [
           4,
           6,
           1
          ],
          [
           4,
           52,
           4
          ],
          [
           4,
           35,
           2
          ],
          [
           4,
           0,
           0
          ],
          [
           4,
           0,
           0
          ],
          [
           4,
           0,
           0
          ],
          [
           4,
           3,
           0
          ],
          [
           4,
           40,
           0
          ],
          [
           4,
           20,
           0
          ],
          [
           4,
           463,
           21
          ],
          [
           4,
           0,
           0
          ],
          [
           5,
           60,
           1
          ],
          [
           5,
           0,
           1
          ],
          [
           4,
           8,
           0
          ],
          [
           4,
           0,
           0
          ],
          [
           4,
           21,
           2
          ],
          [
           4,
           2,
           0
          ],
          [
           4,
           6,
           0
          ],
          [
           4,
           12,
           1
          ],
          [
           4,
           9,
           0
          ],
          [
           4,
           37,
           0
          ],
          [
           4,
           51,
           1
          ],
          [
           4,
           60,
           6
          ],
          [
           4,
           1,
           0
          ],
          [
           5,
           350,
           29
          ],
          [
           4,
           5,
           0
          ],
          [
           4,
           0,
           1
          ],
          [
           5,
           225,
           17
          ],
          [
           4,
           6,
           0
          ],
          [
           4,
           22,
           0
          ],
          [
           4,
           24,
           1
          ],
          [
           4,
           64,
           2
          ],
          [
           4,
           6,
           0
          ],
          [
           4,
           1,
           0
          ],
          [
           4,
           3,
           0
          ],
          [
           4,
           0,
           0
          ],
          [
           4,
           10,
           0
          ],
          [
           4,
           3,
           0
          ],
          [
           5,
           35,
           1
          ],
          [
           4,
           7,
           0
          ],
          [
           4,
           122,
           12
          ],
          [
           4,
           16,
           0
          ],
          [
           4,
           46,
           0
          ],
          [
           4,
           86,
           5
          ],
          [
           4,
           10,
           1
          ],
          [
           4,
           20,
           0
          ],
          [
           4,
           100,
           7
          ],
          [
           4,
           0,
           0
          ],
          [
           4,
           6,
           1
          ],
          [
           4,
           5,
           0
          ],
          [
           4,
           4,
           0
          ],
          [
           4,
           246,
           4
          ],
          [
           4,
           150,
           22
          ],
          [
           4,
           20,
           3
          ],
          [
           4,
           48,
           3
          ],
          [
           4,
           70,
           3
          ],
          [
           4,
           2,
           0
          ],
          [
           4,
           7,
           0
          ],
          [
           4,
           45,
           0
          ],
          [
           4,
           55,
           1
          ],
          [
           4,
           32,
           3
          ],
          [
           4,
           0,
           0
          ],
          [
           4,
           2,
           0
          ],
          [
           4,
           1,
           0
          ],
          [
           4,
           24,
           3
          ],
          [
           4,
           7,
           0
          ],
          [
           4,
           0,
           0
          ],
          [
           4,
           0,
           0
          ],
          [
           4,
           1,
           0
          ],
          [
           4,
           35,
           7
          ],
          [
           4,
           10,
           0
          ],
          [
           5,
           12,
           0
          ],
          [
           4,
           18,
           0
          ],
          [
           4,
           11,
           0
          ],
          [
           4,
           0,
           0
          ],
          [
           4,
           180,
           5
          ],
          [
           4,
           100,
           6
          ],
          [
           4,
           40,
           10
          ],
          [
           4,
           0,
           0
          ],
          [
           4,
           15,
           1
          ],
          [
           4,
           5,
           1
          ],
          [
           5,
           12,
           27
          ],
          [
           4,
           19,
           1
          ],
          [
           5,
           259,
           32
          ],
          [
           4,
           12,
           2
          ],
          [
           5,
           36,
           3
          ],
          [
           4,
           2,
           0
          ],
          [
           4,
           150,
           6
          ],
          [
           4,
           5,
           0
          ],
          [
           4,
           4,
           0
          ],
          [
           4,
           106,
           6
          ],
          [
           4,
           0,
           0
          ],
          [
           4,
           102,
           7
          ],
          [
           4,
           3,
           0
          ],
          [
           4,
           1,
           0
          ],
          [
           4,
           65,
           4
          ],
          [
           4,
           150,
           6
          ],
          [
           4,
           11,
           1
          ],
          [
           4,
           26,
           2
          ],
          [
           5,
           583,
           36
          ],
          [
           4,
           0,
           3
          ],
          [
           4,
           6,
           1
          ],
          [
           4,
           0,
           0
          ],
          [
           4,
           15,
           1
          ],
          [
           4,
           100,
           1
          ],
          [
           4,
           144,
           11
          ],
          [
           4,
           28,
           1
          ],
          [
           4,
           2,
           0
          ],
          [
           4,
           2,
           0
          ],
          [
           4,
           22,
           0
          ],
          [
           4,
           48,
           0
          ],
          [
           4,
           21,
           2
          ],
          [
           4,
           16,
           0
          ],
          [
           4,
           122,
           3
          ],
          [
           4,
           0,
           0
          ],
          [
           4,
           0,
           0
          ],
          [
           4,
           17,
           4
          ],
          [
           4,
           30,
           2
          ],
          [
           4,
           30,
           4
          ],
          [
           4,
           13,
           0
          ],
          [
           4,
           86,
           11
          ],
          [
           4,
           33,
           2
          ],
          [
           4,
           134,
           0
          ],
          [
           4,
           0,
           1
          ],
          [
           4,
           4,
           0
          ],
          [
           4,
           1,
           0
          ],
          [
           4,
           38,
           1
          ],
          [
           4,
           6,
           3
          ],
          [
           4,
           3,
           0
          ],
          [
           4,
           0,
           0
          ],
          [
           4,
           40,
           0
          ],
          [
           4,
           0,
           0
          ],
          [
           4,
           6,
           0
          ],
          [
           4,
           0,
           0
          ],
          [
           4,
           2,
           1
          ],
          [
           4,
           50,
           9
          ],
          [
           5,
           63,
           11
          ],
          [
           4,
           18,
           1
          ],
          [
           4,
           139,
           13
          ],
          [
           4,
           51,
           0
          ],
          [
           4,
           5,
           3
          ],
          [
           4,
           12,
           1
          ],
          [
           4,
           23,
           4
          ],
          [
           4,
           350,
           21
          ],
          [
           4,
           9,
           0
          ],
          [
           4,
           2,
           0
          ],
          [
           5,
           70,
           9
          ],
          [
           4,
           0,
           0
          ],
          [
           4,
           46,
           8
          ],
          [
           4,
           58,
           2
          ],
          [
           4,
           5,
           0
          ],
          [
           4,
           146,
           10
          ],
          [
           4,
           32,
           1
          ],
          [
           4,
           49,
           2
          ],
          [
           4,
           0,
           0
          ],
          [
           4,
           28,
           7
          ],
          [
           4,
           20,
           0
          ],
          [
           4,
           5,
           1
          ],
          [
           4,
           14,
           1
          ],
          [
           4,
           1,
           0
          ],
          [
           4,
           13,
           0
          ],
          [
           4,
           0,
           0
          ],
          [
           4,
           0,
           0
          ],
          [
           4,
           0,
           0
          ],
          [
           4,
           5,
           0
          ],
          [
           4,
           0,
           1
          ],
          [
           4,
           48,
           6
          ],
          [
           4,
           30,
           7
          ],
          [
           4,
           54,
           13
          ],
          [
           4,
           50,
           14
          ],
          [
           4,
           85,
           22
          ],
          [
           4,
           1500,
           64
          ],
          [
           5,
           0,
           25
          ],
          [
           5,
           145,
           72
          ],
          [
           4,
           335,
           20
          ],
          [
           4,
           17,
           7
          ],
          [
           5,
           6,
           3
          ],
          [
           5,
           137,
           23
          ],
          [
           4,
           0,
           0
          ],
          [
           4,
           12,
           4
          ],
          [
           5,
           1150,
           158
          ],
          [
           4,
           27,
           4
          ],
          [
           4,
           61,
           0
          ],
          [
           4,
           48,
           1
          ],
          [
           5,
           181,
           9
          ],
          [
           4,
           0,
           0
          ],
          [
           4,
           108,
           8
          ],
          [
           4,
           0,
           11
          ],
          [
           4,
           8,
           4
          ],
          [
           4,
           0,
           0
          ],
          [
           4,
           71,
           0
          ],
          [
           4,
           54,
           6
          ],
          [
           4,
           0,
           0
          ],
          [
           4,
           10,
           2
          ],
          [
           5,
           212,
           24
          ],
          [
           4,
           0,
           0
          ],
          [
           4,
           15,
           0
          ],
          [
           4,
           2,
           2
          ],
          [
           4,
           125,
           3
          ],
          [
           4,
           193,
           16
          ],
          [
           4,
           84,
           10
          ],
          [
           4,
           0,
           0
          ],
          [
           4,
           0,
           0
          ],
          [
           4,
           20,
           1
          ],
          [
           4,
           0,
           1
          ],
          [
           4,
           2,
           0
          ],
          [
           4,
           11,
           2
          ],
          [
           4,
           36,
           9
          ],
          [
           4,
           468,
           10
          ],
          [
           4,
           0,
           1
          ],
          [
           4,
           8,
           0
          ],
          [
           4,
           12,
           1
          ],
          [
           4,
           25,
           2
          ],
          [
           4,
           90,
           23
          ],
          [
           4,
           166,
           0
          ],
          [
           4,
           4,
           0
          ],
          [
           4,
           87,
           19
          ],
          [
           4,
           3,
           4
          ],
          [
           4,
           98,
           7
          ],
          [
           4,
           60,
           5
          ],
          [
           4,
           1,
           1
          ],
          [
           4,
           2,
           1
          ],
          [
           4,
           0,
           0
          ],
          [
           4,
           14,
           8
          ],
          [
           4,
           515,
           57
          ]
         ],
         "hovertemplate": "<b>%{hovertext}</b><br><br>wid=%{marker.size}<br>slat=%{lat}<br>slon=%{lon}<br>mag=%{customdata[0]}<br>inj=%{customdata[1]}<br>fat=%{customdata[2]}<br>yr=%{marker.color}<extra></extra>",
         "hovertext": [
          4,
          4,
          4,
          4,
          4,
          4,
          4,
          4,
          4,
          4,
          4,
          4,
          4,
          4,
          4,
          4,
          4,
          4,
          4,
          4,
          4,
          4,
          4,
          4,
          4,
          4,
          4,
          4,
          4,
          4,
          4,
          4,
          4,
          4,
          4,
          4,
          4,
          4,
          4,
          4,
          5,
          4,
          5,
          4,
          4,
          4,
          5,
          4,
          4,
          5,
          4,
          5,
          4,
          4,
          4,
          4,
          4,
          4,
          4,
          4,
          5,
          5,
          4,
          4,
          4,
          4,
          4,
          4,
          4,
          4,
          4,
          4,
          4,
          5,
          4,
          4,
          4,
          4,
          4,
          4,
          4,
          4,
          4,
          4,
          4,
          4,
          4,
          4,
          4,
          4,
          4,
          4,
          4,
          5,
          4,
          4,
          4,
          4,
          5,
          4,
          4,
          4,
          4,
          4,
          4,
          4,
          5,
          4,
          4,
          4,
          4,
          5,
          4,
          4,
          4,
          4,
          4,
          4,
          4,
          4,
          4,
          4,
          4,
          4,
          5,
          4,
          4,
          4,
          4,
          4,
          4,
          4,
          4,
          4,
          4,
          4,
          4,
          4,
          4,
          4,
          4,
          4,
          4,
          4,
          4,
          4,
          4,
          5,
          4,
          4,
          4,
          5,
          4,
          4,
          4,
          4,
          4,
          4,
          4,
          4,
          4,
          4,
          4,
          4,
          4,
          4,
          4,
          4,
          4,
          4,
          4,
          4,
          4,
          4,
          4,
          4,
          4,
          4,
          4,
          4,
          4,
          4,
          4,
          4,
          5,
          4,
          4,
          4,
          5,
          4,
          4,
          4,
          5,
          4,
          5,
          4,
          4,
          4,
          4,
          4,
          4,
          4,
          4,
          4,
          4,
          4,
          4,
          4,
          4,
          4,
          4,
          4,
          4,
          4,
          4,
          4,
          4,
          5,
          4,
          4,
          5,
          5,
          5,
          4,
          4,
          4,
          4,
          4,
          4,
          4,
          4,
          4,
          4,
          4,
          4,
          4,
          4,
          5,
          4,
          4,
          5,
          4,
          4,
          4,
          4,
          4,
          4,
          4,
          4,
          4,
          4,
          4,
          4,
          4,
          4,
          4,
          4,
          4,
          4,
          4,
          4,
          5,
          4,
          4,
          4,
          4,
          4,
          4,
          4,
          4,
          5,
          5,
          5,
          4,
          4,
          4,
          4,
          4,
          4,
          4,
          4,
          4,
          5,
          5,
          4,
          4,
          4,
          4,
          4,
          4,
          4,
          4,
          5,
          4,
          5,
          4,
          4,
          4,
          4,
          4,
          4,
          4,
          4,
          4,
          4,
          4,
          4,
          4,
          4,
          4,
          4,
          4,
          4,
          4,
          4,
          4,
          4,
          4,
          4,
          4,
          4,
          5,
          4,
          4,
          4,
          4,
          5,
          4,
          5,
          4,
          4,
          4,
          4,
          4,
          4,
          5,
          4,
          4,
          4,
          4,
          4,
          4,
          4,
          4,
          4,
          4,
          4,
          4,
          4,
          4,
          4,
          4,
          4,
          4,
          4,
          4,
          4,
          4,
          4,
          4,
          4,
          4,
          4,
          4,
          4,
          4,
          4,
          4,
          4,
          4,
          4,
          4,
          4,
          5,
          4,
          4,
          4,
          4,
          4,
          4,
          4,
          4,
          4,
          4,
          4,
          4,
          4,
          4,
          4,
          4,
          4,
          4,
          4,
          4,
          4,
          5,
          4,
          4,
          4,
          4,
          5,
          4,
          4,
          4,
          4,
          4,
          4,
          4,
          4,
          4,
          4,
          4,
          4,
          4,
          4,
          4,
          4,
          4,
          4,
          4,
          4,
          4,
          4,
          4,
          4,
          4,
          5,
          5,
          4,
          4,
          4,
          4,
          4,
          4,
          4,
          4,
          4,
          4,
          4,
          5,
          4,
          4,
          5,
          4,
          4,
          4,
          4,
          4,
          4,
          4,
          4,
          4,
          4,
          5,
          4,
          4,
          4,
          4,
          4,
          4,
          4,
          4,
          4,
          4,
          4,
          4,
          4,
          4,
          4,
          4,
          4,
          4,
          4,
          4,
          4,
          4,
          4,
          4,
          4,
          4,
          4,
          4,
          4,
          4,
          4,
          4,
          5,
          4,
          4,
          4,
          4,
          4,
          4,
          4,
          4,
          4,
          5,
          4,
          5,
          4,
          5,
          4,
          4,
          4,
          4,
          4,
          4,
          4,
          4,
          4,
          4,
          4,
          4,
          4,
          5,
          4,
          4,
          4,
          4,
          4,
          4,
          4,
          4,
          4,
          4,
          4,
          4,
          4,
          4,
          4,
          4,
          4,
          4,
          4,
          4,
          4,
          4,
          4,
          4,
          4,
          4,
          4,
          4,
          4,
          4,
          4,
          4,
          4,
          4,
          4,
          4,
          5,
          4,
          4,
          4,
          4,
          4,
          4,
          4,
          4,
          4,
          5,
          4,
          4,
          4,
          4,
          4,
          4,
          4,
          4,
          4,
          4,
          4,
          4,
          4,
          4,
          4,
          4,
          4,
          4,
          4,
          4,
          4,
          4,
          4,
          4,
          4,
          5,
          5,
          4,
          4,
          5,
          5,
          4,
          4,
          5,
          4,
          4,
          4,
          5,
          4,
          4,
          4,
          4,
          4,
          4,
          4,
          4,
          4,
          5,
          4,
          4,
          4,
          4,
          4,
          4,
          4,
          4,
          4,
          4,
          4,
          4,
          4,
          4,
          4,
          4,
          4,
          4,
          4,
          4,
          4,
          4,
          4,
          4,
          4,
          4,
          4,
          4,
          4,
          4
         ],
         "lat": [
          31.97,
          35.08,
          32.42,
          38.03,
          38.33,
          45.58,
          41.8,
          33.42,
          44.88,
          39.03,
          43.47,
          44.33,
          35.2,
          35.15,
          34.9,
          35.42,
          34.02,
          35,
          35.22,
          36.05,
          34.87,
          36.02,
          36.1,
          35.27,
          34.6,
          31.5,
          38.98,
          42.75,
          47.05,
          41.22,
          33.28,
          29.57,
          32.6,
          32.25,
          33.22,
          35.52,
          40.87,
          43.07,
          43.45,
          31.53,
          31.55,
          42.92,
          46.45,
          41.33,
          43.15,
          41.78,
          43.1,
          41.22,
          42.47,
          41.45,
          31.07,
          32.33,
          37.32,
          40.55,
          42.1,
          35.4,
          33.98,
          41.73,
          42.28,
          34.35,
          36.72,
          36.88,
          35,
          39.52,
          37.48,
          41.93,
          46.5,
          48.43,
          44.48,
          38.45,
          40.57,
          36.82,
          44.38,
          42.65,
          36.77,
          35.58,
          43.93,
          33.5,
          42.25,
          43,
          40.97,
          40.7,
          35.4,
          34,
          33.93,
          34.68,
          34.63,
          43.87,
          33.6,
          33.43,
          40.58,
          34.47,
          39.38,
          38.45,
          45.58,
          36.95,
          34.27,
          39.75,
          46.9,
          42.52,
          34.95,
          30.1,
          33.9,
          33.98,
          38.28,
          37.7,
          38.08,
          33.35,
          27.67,
          44.93,
          44.77,
          44.9,
          37.85,
          38.53,
          31.85,
          34.62,
          41.5,
          40.7,
          37.35,
          36.85,
          34.95,
          34.02,
          35.38,
          34.88,
          35.28,
          39.15,
          39.18,
          39.58,
          34.73,
          39.17,
          41.62,
          47.1,
          42.78,
          29.32,
          35.27,
          34.15,
          33.17,
          42.68,
          39.52,
          43.97,
          33.37,
          33.9,
          33.17,
          41.18,
          34.12,
          33.32,
          36.7,
          33.9,
          40.67,
          38.12,
          41.4,
          40.55,
          42.67,
          40.7,
          43.38,
          42.92,
          29.6,
          36.6,
          35.05,
          41.85,
          42.22,
          40.33,
          40.55,
          41.62,
          41.73,
          40.4,
          40.02,
          41.52,
          41.58,
          42.85,
          43.02,
          41.8,
          40.35,
          40.8,
          41.67,
          41.23,
          42.3,
          43.28,
          44.85,
          44.78,
          45.03,
          44.98,
          41.23,
          40.87,
          43,
          33.9,
          43.17,
          42.3,
          32.18,
          27.92,
          34.32,
          39.17,
          38.92,
          46.63,
          42.8,
          40.4,
          38.68,
          33.7,
          42.15,
          42.22,
          41.67,
          42.93,
          39.7,
          43.3,
          43.45,
          43.57,
          43.8,
          42.52,
          35.83,
          35.6,
          32.47,
          37.68,
          33.92,
          36.63,
          35.2,
          38.67,
          39.1,
          38.7,
          35.65,
          35.73,
          42.67,
          42.77,
          44.17,
          45.08,
          31.68,
          31.83,
          37.95,
          37.73,
          37.65,
          45.28,
          46.78,
          33.6,
          34.38,
          34,
          34.65,
          34.72,
          36.45,
          33.55,
          39.55,
          35.33,
          32.38,
          32.33,
          32.7,
          33.48,
          31.5,
          37.08,
          37.15,
          36.07,
          36.03,
          36.27,
          43.23,
          34.38,
          38.08,
          39.77,
          42.28,
          31.53,
          34.08,
          28.83,
          38.53,
          39.93,
          40.33,
          31.63,
          34.47,
          35.4,
          35.27,
          35.55,
          32.53,
          42.42,
          34.18,
          33.27,
          34.7,
          34.47,
          33.83,
          34.95,
          34.37,
          34.5,
          39.75,
          38.77,
          40.05,
          39.13,
          38.55,
          40.5,
          38.97,
          38.07,
          37.42,
          37.22,
          36.63,
          38.2,
          37.72,
          38.05,
          37.72,
          36.65,
          37.73,
          39.18,
          39.63,
          36.52,
          36.25,
          36.03,
          35,
          43.75,
          38.42,
          35.95,
          41.73,
          42.35,
          41.75,
          31.18,
          33.08,
          33.55,
          39.7,
          39.68,
          36.83,
          42.2,
          41.17,
          41.35,
          46.87,
          46.53,
          39.8,
          40.47,
          42.52,
          31.78,
          34.77,
          35.2,
          31.78,
          32.58,
          37.07,
          34.88,
          31.72,
          32.27,
          41.93,
          41.67,
          41.45,
          40.8,
          33.02,
          42.28,
          42.43,
          33.52,
          42.53,
          39.22,
          39.32,
          40.25,
          36.65,
          42.15,
          45.1,
          44.78,
          40.87,
          41.18,
          33.47,
          31.55,
          35.58,
          46.4,
          32.5,
          40.48,
          34.2,
          33.82,
          36.45,
          42.63,
          41.52,
          41.88,
          33.6,
          40.62,
          40.92,
          40.65,
          39.62,
          41.68,
          38.72,
          43.43,
          36.6,
          33.77,
          35.35,
          35.32,
          36.02,
          33.93,
          36.57,
          34.13,
          33.65,
          37.8,
          36.18,
          32.65,
          45.22,
          42.97,
          30.07,
          35.58,
          35.47,
          35.05,
          35.33,
          34.53,
          34.58,
          34.63,
          34.37,
          34.65,
          36.08,
          44.08,
          42.98,
          35.95,
          40.42,
          42.97,
          39.42,
          39.73,
          41.83,
          41.48,
          41.2,
          41.93,
          41.18,
          41.63,
          41.55,
          32.42,
          42.68,
          41.75,
          31.5,
          31,
          43.9,
          33.15,
          35.87,
          35.92,
          38.48,
          34.98,
          35.47,
          35.08,
          29.28,
          40.98,
          42.23,
          42.28,
          41.38,
          42.83,
          34.65,
          42.23,
          37.77,
          38.15,
          40.05,
          32.78,
          31.08,
          38.57,
          38.95,
          38.25,
          38.85,
          39.22,
          38.78,
          38.47,
          40.15,
          41.68,
          37.97,
          37.07,
          37.47,
          36.43,
          36.45,
          36.17,
          37.1,
          40.73,
          33.05,
          34.75,
          39.42,
          38.37,
          43.95,
          43.8,
          35.68,
          31.97,
          29.73,
          33.92,
          33.18,
          38.6,
          31.85,
          36.15,
          37.12,
          38.9,
          43.72,
          43.88,
          37.2,
          33.72,
          34.13,
          32.6,
          40.48,
          44.28,
          40.58,
          40.37,
          34.83,
          35,
          42.07,
          41.07,
          41.78,
          42.2,
          35.5,
          35.25,
          35.5,
          34.1436,
          35.82,
          38.15,
          43.7,
          35.78,
          34.15,
          35.77,
          34.62,
          33.9,
          34.52,
          36.1,
          35.95,
          30.37,
          30.82,
          43.95,
          33.42,
          35.87,
          35.22,
          35.87,
          43.75,
          40.05,
          39.78,
          35.58,
          36.28,
          32.53,
          40.85,
          41.03,
          39.23,
          37.32,
          35.93,
          35.88,
          35.13,
          35.57,
          30.68,
          48.6,
          44.9,
          39.65,
          33.05,
          38.5,
          40.85,
          38.57,
          33.92,
          33.47,
          32.43,
          37,
          38.55,
          45.68,
          46.95,
          40.78,
          39.07,
          37.42,
          39.23,
          35.52,
          37.27,
          35.33,
          42.5,
          44.28,
          37.25,
          40.32,
          39.88,
          40.8,
          46.78,
          37.25,
          39.45,
          37.68,
          38.13,
          32.12,
          31.28,
          37.36,
          47.72,
          35.1,
          35.68,
          35.27,
          34.67,
          34.4,
          37,
          31.41,
          38.94,
          42.55,
          39.13,
          33.93,
          35.7579,
          34.3439,
          32.4032,
          35.1808,
          35.289,
          45.448,
          41.5512,
          46.41,
          46.087,
          43.5755,
          47.54,
          43.44,
          46.11,
          31.7947,
          42.7293,
          38.7364,
          34.7948,
          34.0757,
          32.6174,
          33.2506,
          34.6208,
          33.6792,
          33.0297,
          34.3907,
          34.1043,
          34.8744,
          32.0296,
          32.7992,
          34.0455,
          35.5324,
          35.34,
          37.0524,
          35.2781,
          34.88,
          35.008,
          35.444,
          34.33,
          37.6945,
          38.4316,
          38.791,
          38.406,
          31.2802,
          32.412,
          38.1429,
          35.2531,
          35.284,
          42.3319,
          42.128,
          38.42,
          40.622,
          34.7787,
          32.88,
          41.893,
          42.127,
          41.9528,
          41.9742,
          44.0372,
          41.853,
          34.5955,
          32.796,
          34.559,
          38.9955,
          37.7238,
          32.2572,
          32.4472,
          39.8243,
          38.8381,
          36.1715,
          31.2763,
          31.4641,
          32.7045,
          31.0707,
          46.09,
          33.2533,
          35.7867,
          36.483
         ],
         "legendgroup": "",
         "lon": [
          -94,
          -96.4,
          -99.5,
          -99.12,
          -97.93,
          -89.58,
          -96.6,
          -98.75,
          -94.37,
          -99.88,
          -89.25,
          -89.3,
          -86.3,
          -86.58,
          -91.85,
          -91,
          -94.02,
          -91.25,
          -91.7,
          -89.82,
          -89.68,
          -89.2,
          -89.27,
          -88.98,
          -87,
          -97.45,
          -95.22,
          -95.85,
          -100.5,
          -96.58,
          -99.95,
          -98.7,
          -83.6,
          -88.38,
          -85.93,
          -84.78,
          -93.33,
          -93.52,
          -92.4,
          -100.58,
          -97.15,
          -82.6,
          -100.67,
          -99.13,
          -83.18,
          -83.57,
          -83.85,
          -83.9,
          -72.17,
          -94.7,
          -93.05,
          -90.9,
          -92.23,
          -95.38,
          -91.75,
          -97.37,
          -99.72,
          -97.73,
          -94.72,
          -87.05,
          -97.28,
          -97.15,
          -100.22,
          -98.53,
          -100.03,
          -103.8,
          -97,
          -102.33,
          -96.2,
          -90.92,
          -85.57,
          -96.97,
          -86.26,
          -86.22,
          -94.97,
          -88.47,
          -88.97,
          -86.97,
          -83.22,
          -83.68,
          -99.1,
          -101.22,
          -94.68,
          -96.65,
          -96.43,
          -79.2,
          -80.58,
          -90.18,
          -102.3,
          -101.63,
          -97.57,
          -101.3,
          -97.73,
          -95.5,
          -92.87,
          -91.17,
          -98.5,
          -89.7,
          -97.35,
          -83.73,
          -97.25,
          -93.73,
          -87.18,
          -86.52,
          -89.08,
          -89.48,
          -89.25,
          -93.25,
          -82.62,
          -91.47,
          -91.27,
          -92.33,
          -97.02,
          -90.6,
          -97.22,
          -96.58,
          -94.63,
          -93.15,
          -92.67,
          -95.25,
          -96.8,
          -95.7,
          -94.55,
          -95.3,
          -96.93,
          -96.33,
          -95.95,
          -85.8,
          -95.03,
          -94.93,
          -99.87,
          -104.7,
          -93,
          -94.78,
          -99.2,
          -98.45,
          -99.77,
          -98.45,
          -95.78,
          -92.45,
          -86.97,
          -86.9,
          -89.65,
          -88.1,
          -88.72,
          -86.43,
          -88.45,
          -98.5,
          -95.23,
          -95.3,
          -98.38,
          -98.37,
          -82.83,
          -95.45,
          -87.92,
          -94.23,
          -90.37,
          -98.1,
          -92.45,
          -90.93,
          -88.38,
          -86.83,
          -85.38,
          -85.7,
          -85.17,
          -86.38,
          -86.87,
          -86.07,
          -86.2,
          -84.65,
          -85.92,
          -85,
          -84.38,
          -84.2,
          -83.6,
          -82.25,
          -94.47,
          -92.82,
          -93.53,
          -93.75,
          -93.28,
          -93.38,
          -98.67,
          -98.6,
          -99.72,
          -102.15,
          -97.23,
          -92.2,
          -90.55,
          -82.8,
          -96.53,
          -95.18,
          -95.92,
          -94.37,
          -93.65,
          -92.53,
          -90.55,
          -87.17,
          -88.27,
          -88.92,
          -87.83,
          -84.8,
          -93.17,
          -93.17,
          -93.17,
          -93.43,
          -93.52,
          -94.18,
          -98.3,
          -99.38,
          -89.47,
          -91.13,
          -91.85,
          -88.3,
          -94.27,
          -84.37,
          -84.27,
          -82.8,
          -91.47,
          -91.18,
          -91.93,
          -93.12,
          -95.75,
          -88.08,
          -91.05,
          -86.63,
          -91.1,
          -90.55,
          -97.65,
          -103.75,
          -94.22,
          -102.63,
          -102.62,
          -101.98,
          -101.53,
          -89,
          -87.13,
          -101.9,
          -92.88,
          -96.93,
          -91.47,
          -90.73,
          -91.02,
          -94.48,
          -87.3,
          -85.07,
          -85.45,
          -88.78,
          -101.82,
          -101.4,
          -92.45,
          -97.55,
          -100.1,
          -86.08,
          -87.87,
          -96.83,
          -82.57,
          -99.22,
          -93.53,
          -92.48,
          -93.55,
          -97.48,
          -85.75,
          -97.97,
          -91.37,
          -95.32,
          -87.8,
          -73.42,
          -82.02,
          -88.2,
          -87.05,
          -87.48,
          -88.13,
          -84.3,
          -84.33,
          -85.05,
          -85.65,
          -85.27,
          -85.27,
          -85.72,
          -85.75,
          -87.13,
          -84.88,
          -86.75,
          -86.57,
          -85.47,
          -84.78,
          -85.75,
          -85.9,
          -85.07,
          -84.5,
          -85.37,
          -86.53,
          -84.48,
          -84.05,
          -85.08,
          -85.08,
          -85.57,
          -86.5,
          -88.83,
          -96.22,
          -96.65,
          -93.62,
          -91.48,
          -92.18,
          -90.53,
          -87.6,
          -92.12,
          -93.97,
          -92.67,
          -94.58,
          -97.57,
          -96.07,
          -100.22,
          -96.73,
          -102.97,
          -88.8,
          -87,
          -83.42,
          -90.02,
          -95.08,
          -94.7,
          -90.65,
          -90.22,
          -98.53,
          -98.52,
          -99.07,
          -97.28,
          -93.87,
          -88,
          -95.6,
          -89.75,
          -89.23,
          -85.55,
          -85.02,
          -86.93,
          -94.15,
          -94.3,
          -94,
          -89.25,
          -102.4,
          -96.7,
          -91.53,
          -90.1,
          -98.27,
          -97.42,
          -91,
          -90.12,
          -97.75,
          -101.88,
          -93.75,
          -95.15,
          -99.15,
          -98.65,
          -98.35,
          -94.6,
          -88.23,
          -72.67,
          -99.18,
          -93.92,
          -98.3,
          -79.73,
          -85.48,
          -89.95,
          -90.13,
          -88.2,
          -90.42,
          -95.7,
          -96.6,
          -98.37,
          -101.73,
          -94.28,
          -92.22,
          -95.57,
          -95.63,
          -89.13,
          -91.62,
          -92.02,
          -93.32,
          -90.13,
          -90.52,
          -92.45,
          -91.23,
          -78.25,
          -77.78,
          -80.63,
          -79.92,
          -79.6,
          -81.32,
          -79.75,
          -96.6,
          -88.75,
          -88.37,
          -96.5,
          -94.03,
          -89.98,
          -99.4,
          -99.15,
          -80.55,
          -80.52,
          -81.15,
          -79.95,
          -78.67,
          -79.03,
          -79.62,
          -88.77,
          -96.97,
          -93.6,
          -89.25,
          -103.68,
          -110.33,
          -89.58,
          -78.75,
          -86.9,
          -87.78,
          -80.73,
          -81.58,
          -81.93,
          -100.42,
          -94.72,
          -93.82,
          -93.17,
          -72.9,
          -74.53,
          -86.65,
          -91.42,
          -98.02,
          -97.43,
          -98.53,
          -97.83,
          -102.35,
          -88.47,
          -88.27,
          -88.47,
          -86.28,
          -84.92,
          -86.53,
          -87.48,
          -101.23,
          -88.35,
          -98.05,
          -97.15,
          -97.48,
          -97.55,
          -95.72,
          -96.52,
          -93.3,
          -84.57,
          -90.88,
          -95.95,
          -98.22,
          -97.67,
          -95.9,
          -96.02,
          -101.73,
          -90.23,
          -95.28,
          -84.67,
          -83.45,
          -85.07,
          -89.52,
          -95.83,
          -101.27,
          -98.52,
          -96.92,
          -97.28,
          -77.43,
          -86.15,
          -85.03,
          -96.75,
          -86.95,
          -87.82,
          -91.31,
          -90.3,
          -87.03,
          -87.48,
          -94.9,
          -94.42,
          -94.65,
          -73.43,
          -101.02,
          -100.6,
          -100.22,
          -79.3545,
          -92.35,
          -85.75,
          -88.62,
          -86.5,
          -93,
          -90.18,
          -92.35,
          -93.33,
          -92.52,
          -89.17,
          -89.67,
          -98.02,
          -97.62,
          -95.53,
          -87.35,
          -90.18,
          -88.02,
          -81.38,
          -97.68,
          -79.22,
          -85.95,
          -88.88,
          -90.55,
          -93.83,
          -94.9,
          -94.32,
          -84.37,
          -97.4,
          -97.95,
          -97.68,
          -97.85,
          -87.92,
          -99.1,
          -97.78,
          -95.67,
          -83.98,
          -87.7,
          -98.78,
          -97.08,
          -77.98,
          -86.43,
          -91.1,
          -90.2,
          -91.02,
          -77.18,
          -98.43,
          -99.3,
          -84.77,
          -94.83,
          -95.1,
          -94.48,
          -89.03,
          -89.03,
          -97.53,
          -97.32,
          -97.77,
          -97.98,
          -97.33,
          -94.25,
          -89.33,
          -98.38,
          -87.53,
          -92.18,
          -89.83,
          -95.1,
          -87.41,
          -85.92,
          -99.45,
          -97.61,
          -93.07,
          -88.86,
          -88.29,
          -85.84,
          -87.29,
          -95.14,
          -81.46,
          -100.29,
          -92.88,
          -96.71,
          -97.62,
          -86.848,
          -85.7105,
          -91.2993,
          -97.4273,
          -97.504,
          -99.7479,
          -83.538,
          -95.18,
          -95.437,
          -93.6404,
          -97.3,
          -95.951,
          -96.63,
          -92.808,
          -94.8557,
          -90.4863,
          -85.909,
          -87.0097,
          -86.193,
          -88.1814,
          -85.9814,
          -86.5699,
          -87.935,
          -85.9784,
          -88.1479,
          -85.1785,
          -89.5042,
          -89.1088,
          -88.445,
          -84.0504,
          -85.42,
          -94.5932,
          -93.9515,
          -97.732,
          -97.961,
          -98.287,
          -99.22,
          -88.65,
          -86.1893,
          -84.633,
          -98.257,
          -89.4665,
          -97.754,
          -99.4706,
          -97.3001,
          -97.628,
          -96.1086,
          -97.077,
          -89.45,
          -89.5678,
          -92.652,
          -89.43,
          -97.33,
          -96.8686,
          -97.1369,
          -97.04,
          -98.4032,
          -89.2896,
          -89.7055,
          -96.5894,
          -97.357,
          -97.4365,
          -90.0055,
          -96.018,
          -85.4818,
          -84.4632,
          -95.3665,
          -85.6628,
          -90.1732,
          -89.7579,
          -81.2899,
          -89.9646,
          -95.94,
          -85.1895,
          -90.5511,
          -89.135
         ],
         "marker": {
          "color": [
           1950,
           1950,
           1950,
           1950,
           1950,
           1950,
           1950,
           1951,
           1951,
           1951,
           1951,
           1951,
           1952,
           1952,
           1952,
           1952,
           1952,
           1952,
           1952,
           1952,
           1952,
           1952,
           1952,
           1952,
           1952,
           1952,
           1952,
           1952,
           1952,
           1952,
           1953,
           1953,
           1953,
           1953,
           1953,
           1953,
           1953,
           1953,
           1953,
           1953,
           1953,
           1953,
           1953,
           1953,
           1953,
           1953,
           1953,
           1953,
           1953,
           1953,
           1953,
           1953,
           1954,
           1954,
           1954,
           1954,
           1954,
           1954,
           1954,
           1955,
           1955,
           1955,
           1955,
           1955,
           1955,
           1955,
           1955,
           1955,
           1955,
           1956,
           1956,
           1956,
           1956,
           1956,
           1956,
           1956,
           1956,
           1956,
           1956,
           1956,
           1956,
           1956,
           1957,
           1957,
           1957,
           1957,
           1957,
           1957,
           1957,
           1957,
           1957,
           1957,
           1957,
           1957,
           1957,
           1957,
           1957,
           1957,
           1957,
           1957,
           1957,
           1957,
           1957,
           1957,
           1957,
           1957,
           1957,
           1957,
           1958,
           1958,
           1958,
           1958,
           1958,
           1959,
           1959,
           1959,
           1959,
           1959,
           1959,
           1959,
           1960,
           1960,
           1960,
           1960,
           1960,
           1960,
           1960,
           1961,
           1961,
           1961,
           1961,
           1961,
           1961,
           1961,
           1962,
           1962,
           1962,
           1962,
           1962,
           1962,
           1963,
           1963,
           1963,
           1963,
           1963,
           1964,
           1964,
           1964,
           1964,
           1964,
           1964,
           1964,
           1964,
           1964,
           1964,
           1964,
           1964,
           1965,
           1965,
           1965,
           1965,
           1965,
           1965,
           1965,
           1965,
           1965,
           1965,
           1965,
           1965,
           1965,
           1965,
           1965,
           1965,
           1965,
           1965,
           1965,
           1965,
           1965,
           1965,
           1965,
           1965,
           1965,
           1965,
           1965,
           1965,
           1965,
           1965,
           1965,
           1966,
           1966,
           1966,
           1966,
           1966,
           1966,
           1966,
           1967,
           1967,
           1967,
           1967,
           1967,
           1967,
           1967,
           1967,
           1967,
           1967,
           1967,
           1967,
           1967,
           1967,
           1967,
           1967,
           1967,
           1968,
           1968,
           1968,
           1968,
           1968,
           1968,
           1968,
           1968,
           1968,
           1968,
           1968,
           1968,
           1969,
           1969,
           1969,
           1969,
           1969,
           1969,
           1969,
           1970,
           1970,
           1970,
           1970,
           1970,
           1970,
           1970,
           1970,
           1970,
           1971,
           1971,
           1971,
           1971,
           1971,
           1971,
           1971,
           1971,
           1971,
           1971,
           1971,
           1972,
           1972,
           1972,
           1972,
           1973,
           1973,
           1973,
           1973,
           1973,
           1973,
           1973,
           1973,
           1973,
           1973,
           1973,
           1973,
           1973,
           1973,
           1974,
           1974,
           1974,
           1974,
           1974,
           1974,
           1974,
           1974,
           1974,
           1974,
           1974,
           1974,
           1974,
           1974,
           1974,
           1974,
           1974,
           1974,
           1974,
           1974,
           1974,
           1974,
           1974,
           1974,
           1974,
           1974,
           1974,
           1974,
           1974,
           1974,
           1974,
           1974,
           1974,
           1974,
           1974,
           1974,
           1975,
           1975,
           1975,
           1975,
           1975,
           1975,
           1975,
           1975,
           1975,
           1975,
           1975,
           1976,
           1976,
           1976,
           1976,
           1976,
           1976,
           1976,
           1976,
           1976,
           1976,
           1976,
           1976,
           1976,
           1976,
           1976,
           1976,
           1977,
           1977,
           1977,
           1977,
           1977,
           1977,
           1977,
           1977,
           1977,
           1977,
           1977,
           1977,
           1978,
           1978,
           1978,
           1978,
           1978,
           1978,
           1978,
           1979,
           1979,
           1979,
           1979,
           1979,
           1979,
           1979,
           1980,
           1980,
           1980,
           1980,
           1980,
           1981,
           1981,
           1981,
           1981,
           1981,
           1981,
           1981,
           1982,
           1982,
           1982,
           1982,
           1982,
           1982,
           1982,
           1983,
           1983,
           1983,
           1983,
           1984,
           1984,
           1984,
           1984,
           1984,
           1984,
           1984,
           1984,
           1984,
           1984,
           1984,
           1984,
           1984,
           1984,
           1984,
           1985,
           1985,
           1985,
           1985,
           1985,
           1985,
           1985,
           1985,
           1985,
           1986,
           1986,
           1986,
           1987,
           1987,
           1987,
           1988,
           1988,
           1988,
           1989,
           1989,
           1989,
           1989,
           1989,
           1989,
           1989,
           1989,
           1989,
           1989,
           1989,
           1990,
           1990,
           1990,
           1990,
           1990,
           1990,
           1990,
           1990,
           1990,
           1990,
           1990,
           1990,
           1990,
           1990,
           1990,
           1991,
           1991,
           1991,
           1991,
           1991,
           1991,
           1991,
           1992,
           1992,
           1992,
           1992,
           1992,
           1992,
           1992,
           1992,
           1992,
           1992,
           1992,
           1992,
           1992,
           1992,
           1993,
           1993,
           1993,
           1993,
           1993,
           1993,
           1994,
           1994,
           1994,
           1994,
           1994,
           1995,
           1995,
           1995,
           1995,
           1995,
           1995,
           1995,
           1995,
           1995,
           1995,
           1995,
           1995,
           1996,
           1996,
           1996,
           1997,
           1997,
           1997,
           1997,
           1997,
           1997,
           1997,
           1997,
           1997,
           1997,
           1998,
           1998,
           1998,
           1998,
           1998,
           1998,
           1998,
           1998,
           1999,
           1999,
           1999,
           1999,
           1999,
           1999,
           1999,
           1999,
           1999,
           1999,
           1999,
           1999,
           1999,
           2000,
           2000,
           2000,
           2001,
           2001,
           2001,
           2001,
           2001,
           2001,
           2002,
           2002,
           2002,
           2002,
           2002,
           2003,
           2003,
           2003,
           2003,
           2003,
           2003,
           2003,
           2003,
           2004,
           2004,
           2004,
           2004,
           2004,
           2005,
           2006,
           2006,
           2007,
           2007,
           2007,
           2007,
           2007,
           2008,
           2008,
           2008,
           2008,
           2008,
           2008,
           2008,
           2008,
           2008,
           2008,
           2009,
           2009,
           2010,
           2010,
           2010,
           2010,
           2010,
           2010,
           2010,
           2010,
           2010,
           2010,
           2010,
           2010,
           2010,
           2011,
           2011,
           2011,
           2011,
           2011,
           2011,
           2011,
           2011,
           2011,
           2011,
           2011,
           2011,
           2011,
           2011,
           2011,
           2011,
           2011,
           2011,
           2011,
           2011,
           2011,
           2011,
           2011,
           2012,
           2012,
           2012,
           2012,
           2013,
           2013,
           2013,
           2013,
           2013,
           2013,
           2013,
           2013,
           2013,
           2014,
           2014,
           2014,
           2014,
           2014,
           2014,
           2014,
           2015,
           2015,
           2015,
           2016,
           2016,
           2017,
           2017,
           2019,
           2019,
           2019,
           2020,
           2020,
           2020,
           2020,
           2020,
           2020,
           2021,
           2021,
           2021
          ],
          "coloraxis": "coloraxis",
          "size": [
           100,
           200,
           233,
           150,
           700,
           880,
           440,
           200,
           330,
           300,
           100,
           100,
           100,
           300,
           10,
           880,
           833,
           880,
           1760,
           880,
           427,
           200,
           200,
           177,
           100,
           200,
           440,
           400,
           150,
           110,
           50,
           1760,
           333,
           100,
           440,
           33,
           10,
           10,
           100,
           880,
           583,
           1760,
           600,
           440,
           833,
           200,
           833,
           100,
           900,
           100,
           300,
           500,
           100,
           900,
           200,
           10,
           440,
           400,
           440,
           200,
           500,
           1320,
           1100,
           500,
           100,
           10,
           150,
           100,
           10,
           500,
           47,
           880,
           400,
           400,
           400,
           100,
           440,
           200,
           400,
           100,
           500,
           440,
           880,
           200,
           200,
           150,
           150,
           300,
           880,
           100,
           333,
           300,
           400,
           440,
           100,
           500,
           880,
           220,
           500,
           50,
           440,
           200,
           200,
           100,
           250,
           300,
           200,
           10,
           300,
           600,
           880,
           880,
           300,
           200,
           1760,
           900,
           400,
           440,
           100,
           440,
           10,
           150,
           10,
           200,
           800,
           10,
           880,
           550,
           400,
           50,
           10,
           10,
           27,
           100,
           250,
           400,
           133,
           300,
           667,
           33,
           667,
           880,
           440,
           130,
           1000,
           100,
           250,
           500,
           400,
           880,
           10,
           880,
           833,
           400,
           50,
           100,
           67,
           300,
           200,
           200,
           400,
           500,
           10,
           177,
           1760,
           880,
           1667,
           10,
           333,
           100,
           300,
           10,
           300,
           400,
           200,
           400,
           200,
           200,
           200,
           300,
           1000,
           667,
           10,
           10,
           1760,
           200,
           647,
           200,
           900,
           300,
           300,
           200,
           880,
           333,
           1000,
           440,
           200,
           440,
           150,
           1200,
           200,
           50,
           500,
           400,
           500,
           100,
           267,
           200,
           10,
           300,
           300,
           200,
           400,
           100,
           300,
           550,
           300,
           400,
           300,
           250,
           500,
           600,
           150,
           33,
           200,
           500,
           800,
           440,
           700,
           133,
           833,
           880,
           880,
           880,
           880,
           100,
           250,
           1333,
           400,
           150,
           500,
           10,
           100,
           880,
           300,
           100,
           100,
           100,
           1320,
           1760,
           1320,
           10,
           77,
           200,
           220,
           150,
           200,
           440,
           880,
           440,
           440,
           100,
           400,
           300,
           300,
           500,
           800,
           313,
           50,
           500,
           500,
           500,
           500,
           400,
           200,
           200,
           10,
           1133,
           1400,
           1200,
           1200,
           1760,
           533,
           10,
           150,
           10,
           10,
           10,
           10,
           10,
           10,
           10,
           440,
           350,
           533,
           300,
           200,
           700,
           800,
           200,
           1760,
           400,
           400,
           400,
           100,
           200,
           500,
           250,
           400,
           1700,
           500,
           300,
           267,
           10,
           1320,
           880,
           800,
           300,
           117,
           880,
           440,
           440,
           880,
           880,
           100,
           440,
           440,
           300,
           880,
           1760,
           200,
           40,
           350,
           183,
           613,
           550,
           70,
           400,
           880,
           1000,
           440,
           77,
           300,
           1000,
           77,
           50,
           100,
           100,
           1760,
           250,
           400,
           500,
           880,
           1320,
           880,
           33,
           100,
           1400,
           250,
           140,
           1700,
           10,
           267,
           33,
           567,
           100,
           400,
           400,
           600,
           1333,
           880,
           200,
           500,
           500,
           250,
           400,
           440,
           1000,
           67,
           50,
           200,
           440,
           440,
           1407,
           1223,
           530,
           700,
           2600,
           1000,
           2113,
           880,
           60,
           10,
           200,
           250,
           450,
           1000,
           1000,
           400,
           350,
           450,
           440,
           3330,
           1000,
           800,
           440,
           73,
           250,
           1230,
           1000,
           2550,
           700,
           400,
           150,
           200,
           500,
           800,
           700,
           300,
           1760,
           150,
           200,
           100,
           1320,
           880,
           200,
           1320,
           1320,
           440,
           880,
           1233,
           300,
           200,
           300,
           200,
           1350,
           400,
           200,
           2640,
           600,
           300,
           500,
           440,
           1500,
           1300,
           1700,
           400,
           40,
           880,
           400,
           100,
           73,
           160,
           280,
           1583,
           880,
           1800,
           867,
           867,
           60,
           1760,
           250,
           880,
           880,
           800,
           500,
           250,
           880,
           1760,
           800,
           100,
           150,
           1000,
           880,
           1300,
           1000,
           400,
           500,
           250,
           300,
           200,
           600,
           2200,
           100,
           880,
           850,
           400,
           300,
           527,
           200,
           1407,
           1053,
           1407,
           200,
           200,
           440,
           650,
           1500,
           1320,
           400,
           1760,
           1320,
           1150,
           1200,
           400,
           500,
           400,
           200,
           1000,
           1250,
           270,
           880,
           880,
           1760,
           1430,
           580,
           1400,
           500,
           160,
           500,
           750,
           660,
           400,
           75,
           500,
           880,
           880,
           650,
           650,
           900,
           300,
           880,
           500,
           880,
           200,
           880,
           1000,
           700,
           1200,
           1000,
           500,
           4400,
           800,
           440,
           200,
           800,
           500,
           225,
           800,
           500,
           500,
           3000,
           1400,
           1320,
           125,
           880,
           660,
           880,
           1760,
           700,
           1320,
           2100,
           440,
           880,
           750,
           880,
           3080,
           880,
           2000,
           1200,
           400,
           1936,
           2288,
           1760,
           150,
           800,
           600,
           400,
           587,
           880,
           1320,
           880,
           880,
           1408,
           1260,
           1760,
           2600,
           1320,
           2200,
           800,
           1050,
           900,
           1320,
           1320,
           880,
           1600,
           2200,
           880,
           880,
           1760,
           500,
           325,
           800,
           880,
           400,
           1320,
           400,
           1100,
           1500,
           1900,
           2600,
           2429,
           200,
           880,
           1320,
           1320,
           400,
           530,
           500,
           500,
           880,
           700,
           1300,
           550,
           400,
           900,
           1100,
           1760,
           1600,
           1050,
           1760,
           900,
           1936,
           3960,
           1300,
           2275,
           650,
           1850,
           1800,
           2600
          ],
          "sizemode": "area",
          "sizeref": 11
         },
         "mode": "markers",
         "name": "",
         "showlegend": false,
         "subplot": "mapbox",
         "type": "scattermapbox"
        }
       ],
       "layout": {
        "coloraxis": {
         "colorbar": {
          "title": {
           "text": "yr"
          }
         },
         "colorscale": [
          [
           0,
           "blue"
          ],
          [
           1,
           "orange"
          ]
         ]
        },
        "height": 800,
        "legend": {
         "itemsizing": "constant",
         "tracegroupgap": 0
        },
        "mapbox": {
         "bearing": 0,
         "center": {
          "lat": 36.40904372840252,
          "lon": -89.56342679262593
         },
         "domain": {
          "x": [
           0,
           1
          ],
          "y": [
           0,
           1
          ]
         },
         "pitch": 0,
         "style": "open-street-map",
         "zoom": 3.185206514660556
        },
        "margin": {
         "b": 0,
         "l": 0,
         "r": 0,
         "t": 0
        },
        "template": {
         "data": {
          "bar": [
           {
            "error_x": {
             "color": "#2a3f5f"
            },
            "error_y": {
             "color": "#2a3f5f"
            },
            "marker": {
             "line": {
              "color": "#E5ECF6",
              "width": 0.5
             },
             "pattern": {
              "fillmode": "overlay",
              "size": 10,
              "solidity": 0.2
             }
            },
            "type": "bar"
           }
          ],
          "barpolar": [
           {
            "marker": {
             "line": {
              "color": "#E5ECF6",
              "width": 0.5
             },
             "pattern": {
              "fillmode": "overlay",
              "size": 10,
              "solidity": 0.2
             }
            },
            "type": "barpolar"
           }
          ],
          "carpet": [
           {
            "aaxis": {
             "endlinecolor": "#2a3f5f",
             "gridcolor": "white",
             "linecolor": "white",
             "minorgridcolor": "white",
             "startlinecolor": "#2a3f5f"
            },
            "baxis": {
             "endlinecolor": "#2a3f5f",
             "gridcolor": "white",
             "linecolor": "white",
             "minorgridcolor": "white",
             "startlinecolor": "#2a3f5f"
            },
            "type": "carpet"
           }
          ],
          "choropleth": [
           {
            "colorbar": {
             "outlinewidth": 0,
             "ticks": ""
            },
            "type": "choropleth"
           }
          ],
          "contour": [
           {
            "colorbar": {
             "outlinewidth": 0,
             "ticks": ""
            },
            "colorscale": [
             [
              0,
              "#0d0887"
             ],
             [
              0.1111111111111111,
              "#46039f"
             ],
             [
              0.2222222222222222,
              "#7201a8"
             ],
             [
              0.3333333333333333,
              "#9c179e"
             ],
             [
              0.4444444444444444,
              "#bd3786"
             ],
             [
              0.5555555555555556,
              "#d8576b"
             ],
             [
              0.6666666666666666,
              "#ed7953"
             ],
             [
              0.7777777777777778,
              "#fb9f3a"
             ],
             [
              0.8888888888888888,
              "#fdca26"
             ],
             [
              1,
              "#f0f921"
             ]
            ],
            "type": "contour"
           }
          ],
          "contourcarpet": [
           {
            "colorbar": {
             "outlinewidth": 0,
             "ticks": ""
            },
            "type": "contourcarpet"
           }
          ],
          "heatmap": [
           {
            "colorbar": {
             "outlinewidth": 0,
             "ticks": ""
            },
            "colorscale": [
             [
              0,
              "#0d0887"
             ],
             [
              0.1111111111111111,
              "#46039f"
             ],
             [
              0.2222222222222222,
              "#7201a8"
             ],
             [
              0.3333333333333333,
              "#9c179e"
             ],
             [
              0.4444444444444444,
              "#bd3786"
             ],
             [
              0.5555555555555556,
              "#d8576b"
             ],
             [
              0.6666666666666666,
              "#ed7953"
             ],
             [
              0.7777777777777778,
              "#fb9f3a"
             ],
             [
              0.8888888888888888,
              "#fdca26"
             ],
             [
              1,
              "#f0f921"
             ]
            ],
            "type": "heatmap"
           }
          ],
          "heatmapgl": [
           {
            "colorbar": {
             "outlinewidth": 0,
             "ticks": ""
            },
            "colorscale": [
             [
              0,
              "#0d0887"
             ],
             [
              0.1111111111111111,
              "#46039f"
             ],
             [
              0.2222222222222222,
              "#7201a8"
             ],
             [
              0.3333333333333333,
              "#9c179e"
             ],
             [
              0.4444444444444444,
              "#bd3786"
             ],
             [
              0.5555555555555556,
              "#d8576b"
             ],
             [
              0.6666666666666666,
              "#ed7953"
             ],
             [
              0.7777777777777778,
              "#fb9f3a"
             ],
             [
              0.8888888888888888,
              "#fdca26"
             ],
             [
              1,
              "#f0f921"
             ]
            ],
            "type": "heatmapgl"
           }
          ],
          "histogram": [
           {
            "marker": {
             "pattern": {
              "fillmode": "overlay",
              "size": 10,
              "solidity": 0.2
             }
            },
            "type": "histogram"
           }
          ],
          "histogram2d": [
           {
            "colorbar": {
             "outlinewidth": 0,
             "ticks": ""
            },
            "colorscale": [
             [
              0,
              "#0d0887"
             ],
             [
              0.1111111111111111,
              "#46039f"
             ],
             [
              0.2222222222222222,
              "#7201a8"
             ],
             [
              0.3333333333333333,
              "#9c179e"
             ],
             [
              0.4444444444444444,
              "#bd3786"
             ],
             [
              0.5555555555555556,
              "#d8576b"
             ],
             [
              0.6666666666666666,
              "#ed7953"
             ],
             [
              0.7777777777777778,
              "#fb9f3a"
             ],
             [
              0.8888888888888888,
              "#fdca26"
             ],
             [
              1,
              "#f0f921"
             ]
            ],
            "type": "histogram2d"
           }
          ],
          "histogram2dcontour": [
           {
            "colorbar": {
             "outlinewidth": 0,
             "ticks": ""
            },
            "colorscale": [
             [
              0,
              "#0d0887"
             ],
             [
              0.1111111111111111,
              "#46039f"
             ],
             [
              0.2222222222222222,
              "#7201a8"
             ],
             [
              0.3333333333333333,
              "#9c179e"
             ],
             [
              0.4444444444444444,
              "#bd3786"
             ],
             [
              0.5555555555555556,
              "#d8576b"
             ],
             [
              0.6666666666666666,
              "#ed7953"
             ],
             [
              0.7777777777777778,
              "#fb9f3a"
             ],
             [
              0.8888888888888888,
              "#fdca26"
             ],
             [
              1,
              "#f0f921"
             ]
            ],
            "type": "histogram2dcontour"
           }
          ],
          "mesh3d": [
           {
            "colorbar": {
             "outlinewidth": 0,
             "ticks": ""
            },
            "type": "mesh3d"
           }
          ],
          "parcoords": [
           {
            "line": {
             "colorbar": {
              "outlinewidth": 0,
              "ticks": ""
             }
            },
            "type": "parcoords"
           }
          ],
          "pie": [
           {
            "automargin": true,
            "type": "pie"
           }
          ],
          "scatter": [
           {
            "fillpattern": {
             "fillmode": "overlay",
             "size": 10,
             "solidity": 0.2
            },
            "type": "scatter"
           }
          ],
          "scatter3d": [
           {
            "line": {
             "colorbar": {
              "outlinewidth": 0,
              "ticks": ""
             }
            },
            "marker": {
             "colorbar": {
              "outlinewidth": 0,
              "ticks": ""
             }
            },
            "type": "scatter3d"
           }
          ],
          "scattercarpet": [
           {
            "marker": {
             "colorbar": {
              "outlinewidth": 0,
              "ticks": ""
             }
            },
            "type": "scattercarpet"
           }
          ],
          "scattergeo": [
           {
            "marker": {
             "colorbar": {
              "outlinewidth": 0,
              "ticks": ""
             }
            },
            "type": "scattergeo"
           }
          ],
          "scattergl": [
           {
            "marker": {
             "colorbar": {
              "outlinewidth": 0,
              "ticks": ""
             }
            },
            "type": "scattergl"
           }
          ],
          "scattermapbox": [
           {
            "marker": {
             "colorbar": {
              "outlinewidth": 0,
              "ticks": ""
             }
            },
            "type": "scattermapbox"
           }
          ],
          "scatterpolar": [
           {
            "marker": {
             "colorbar": {
              "outlinewidth": 0,
              "ticks": ""
             }
            },
            "type": "scatterpolar"
           }
          ],
          "scatterpolargl": [
           {
            "marker": {
             "colorbar": {
              "outlinewidth": 0,
              "ticks": ""
             }
            },
            "type": "scatterpolargl"
           }
          ],
          "scatterternary": [
           {
            "marker": {
             "colorbar": {
              "outlinewidth": 0,
              "ticks": ""
             }
            },
            "type": "scatterternary"
           }
          ],
          "surface": [
           {
            "colorbar": {
             "outlinewidth": 0,
             "ticks": ""
            },
            "colorscale": [
             [
              0,
              "#0d0887"
             ],
             [
              0.1111111111111111,
              "#46039f"
             ],
             [
              0.2222222222222222,
              "#7201a8"
             ],
             [
              0.3333333333333333,
              "#9c179e"
             ],
             [
              0.4444444444444444,
              "#bd3786"
             ],
             [
              0.5555555555555556,
              "#d8576b"
             ],
             [
              0.6666666666666666,
              "#ed7953"
             ],
             [
              0.7777777777777778,
              "#fb9f3a"
             ],
             [
              0.8888888888888888,
              "#fdca26"
             ],
             [
              1,
              "#f0f921"
             ]
            ],
            "type": "surface"
           }
          ],
          "table": [
           {
            "cells": {
             "fill": {
              "color": "#EBF0F8"
             },
             "line": {
              "color": "white"
             }
            },
            "header": {
             "fill": {
              "color": "#C8D4E3"
             },
             "line": {
              "color": "white"
             }
            },
            "type": "table"
           }
          ]
         },
         "layout": {
          "annotationdefaults": {
           "arrowcolor": "#2a3f5f",
           "arrowhead": 0,
           "arrowwidth": 1
          },
          "autotypenumbers": "strict",
          "coloraxis": {
           "colorbar": {
            "outlinewidth": 0,
            "ticks": ""
           }
          },
          "colorscale": {
           "diverging": [
            [
             0,
             "#8e0152"
            ],
            [
             0.1,
             "#c51b7d"
            ],
            [
             0.2,
             "#de77ae"
            ],
            [
             0.3,
             "#f1b6da"
            ],
            [
             0.4,
             "#fde0ef"
            ],
            [
             0.5,
             "#f7f7f7"
            ],
            [
             0.6,
             "#e6f5d0"
            ],
            [
             0.7,
             "#b8e186"
            ],
            [
             0.8,
             "#7fbc41"
            ],
            [
             0.9,
             "#4d9221"
            ],
            [
             1,
             "#276419"
            ]
           ],
           "sequential": [
            [
             0,
             "#0d0887"
            ],
            [
             0.1111111111111111,
             "#46039f"
            ],
            [
             0.2222222222222222,
             "#7201a8"
            ],
            [
             0.3333333333333333,
             "#9c179e"
            ],
            [
             0.4444444444444444,
             "#bd3786"
            ],
            [
             0.5555555555555556,
             "#d8576b"
            ],
            [
             0.6666666666666666,
             "#ed7953"
            ],
            [
             0.7777777777777778,
             "#fb9f3a"
            ],
            [
             0.8888888888888888,
             "#fdca26"
            ],
            [
             1,
             "#f0f921"
            ]
           ],
           "sequentialminus": [
            [
             0,
             "#0d0887"
            ],
            [
             0.1111111111111111,
             "#46039f"
            ],
            [
             0.2222222222222222,
             "#7201a8"
            ],
            [
             0.3333333333333333,
             "#9c179e"
            ],
            [
             0.4444444444444444,
             "#bd3786"
            ],
            [
             0.5555555555555556,
             "#d8576b"
            ],
            [
             0.6666666666666666,
             "#ed7953"
            ],
            [
             0.7777777777777778,
             "#fb9f3a"
            ],
            [
             0.8888888888888888,
             "#fdca26"
            ],
            [
             1,
             "#f0f921"
            ]
           ]
          },
          "colorway": [
           "#636efa",
           "#EF553B",
           "#00cc96",
           "#ab63fa",
           "#FFA15A",
           "#19d3f3",
           "#FF6692",
           "#B6E880",
           "#FF97FF",
           "#FECB52"
          ],
          "font": {
           "color": "#2a3f5f"
          },
          "geo": {
           "bgcolor": "white",
           "lakecolor": "white",
           "landcolor": "#E5ECF6",
           "showlakes": true,
           "showland": true,
           "subunitcolor": "white"
          },
          "hoverlabel": {
           "align": "left"
          },
          "hovermode": "closest",
          "mapbox": {
           "style": "light"
          },
          "paper_bgcolor": "white",
          "plot_bgcolor": "#E5ECF6",
          "polar": {
           "angularaxis": {
            "gridcolor": "white",
            "linecolor": "white",
            "ticks": ""
           },
           "bgcolor": "#E5ECF6",
           "radialaxis": {
            "gridcolor": "white",
            "linecolor": "white",
            "ticks": ""
           }
          },
          "scene": {
           "xaxis": {
            "backgroundcolor": "#E5ECF6",
            "gridcolor": "white",
            "gridwidth": 2,
            "linecolor": "white",
            "showbackground": true,
            "ticks": "",
            "zerolinecolor": "white"
           },
           "yaxis": {
            "backgroundcolor": "#E5ECF6",
            "gridcolor": "white",
            "gridwidth": 2,
            "linecolor": "white",
            "showbackground": true,
            "ticks": "",
            "zerolinecolor": "white"
           },
           "zaxis": {
            "backgroundcolor": "#E5ECF6",
            "gridcolor": "white",
            "gridwidth": 2,
            "linecolor": "white",
            "showbackground": true,
            "ticks": "",
            "zerolinecolor": "white"
           }
          },
          "shapedefaults": {
           "line": {
            "color": "#2a3f5f"
           }
          },
          "ternary": {
           "aaxis": {
            "gridcolor": "white",
            "linecolor": "white",
            "ticks": ""
           },
           "baxis": {
            "gridcolor": "white",
            "linecolor": "white",
            "ticks": ""
           },
           "bgcolor": "#E5ECF6",
           "caxis": {
            "gridcolor": "white",
            "linecolor": "white",
            "ticks": ""
           }
          },
          "title": {
           "x": 0.05
          },
          "xaxis": {
           "automargin": true,
           "gridcolor": "white",
           "linecolor": "white",
           "ticks": "",
           "title": {
            "standoff": 15
           },
           "zerolinecolor": "white",
           "zerolinewidth": 2
          },
          "yaxis": {
           "automargin": true,
           "gridcolor": "white",
           "linecolor": "white",
           "ticks": "",
           "title": {
            "standoff": 15
           },
           "zerolinecolor": "white",
           "zerolinewidth": 2
          }
         }
        },
        "width": 800
       }
      },
      "image/png": "[encoded data removed]",
      "text/html": [
       "<div>                            <div id=\"6b961cbf-5c22-4e27-abe7-01acc9f959af\" class=\"plotly-graph-div\" style=\"height:800px; width:800px;\"></div>            <script type=\"text/javascript\">                require([\"plotly\"], function(Plotly) {                    window.PLOTLYENV=window.PLOTLYENV || {};                                    if (document.getElementById(\"6b961cbf-5c22-4e27-abe7-01acc9f959af\")) {                    Plotly.newPlot(                        \"6b961cbf-5c22-4e27-abe7-01acc9f959af\",                        [{\"customdata\":[[4,77,18],[4,32,5],[4,5,5],[4,1,0],[4,5,1],[4,12,2],[4,33,0],[4,100,2],[4,20,1],[4,100,5],[4,9,1],[4,3,6],[4,44,3],[4,150,2],[4,6,2],[4,5,4],[4,9,7],[4,180,29],[4,325,50],[4,100,17],[4,74,16],[4,10,2],[4,5,4],[4,157,38],[4,50,4],[4,0,0],[4,3,0],[4,4,0],[4,26,1],[4,20,0],[4,25,17],[4,15,2],[4,300,18],[4,3,2],[4,12,7],[4,8,4],[4,0,0],[4,3,0],[4,24,2],[4,159,13],[5,597,114],[4,68,2],[5,20,2],[4,0,11],[4,23,0],[4,18,4],[5,844,116],[4,379,17],[4,1228,94],[5,2,1],[4,50,9],[5,270,38],[4,0,2],[4,2,0],[4,0,0],[4,65,0],[4,2,0],[4,23,6],[4,0,1],[4,20,5],[5,280,20],[5,273,80],[4,18,2],[4,0,0],[4,0,0],[4,29,2],[4,19,2],[4,0,0],[4,13,1],[4,36,6],[4,31,1],[4,29,2],[4,25,1],[5,292,17],[4,59,0],[4,60,3],[4,50,7],[4,200,25],[4,22,0],[4,116,3],[4,0,0],[4,2,0],[4,20,10],[4,6,2],[4,3,3],[4,21,0],[4,70,4],[4,0,1],[4,7,0],[4,6,0],[4,8,1],[4,80,21],[4,0,0],[5,207,44],[4,2,0],[4,75,7],[4,5,4],[4,50,2],[5,103,10],[4,6,0],[4,6,2],[4,81,1],[4,15,4],[4,12,3],[4,45,1],[4,200,11],[5,6,1],[4,9,2],[4,7,0],[4,50,3],[4,3,4],[5,74,21],[4,5,15],[4,345,21],[4,31,6],[4,12,7],[4,1,0],[4,5,0],[4,0,0],[4,1,1],[4,0,0],[4,3,0],[4,13,5],[4,106,16],[5,81,5],[4,12,0],[4,92,1],[4,7,0],[4,58,16],[4,12,0],[4,0,0],[4,1,0],[4,7,0],[4,200,8],[4,9,0],[4,1,0],[4,1,0],[4,0,0],[4,3,0],[4,34,0],[4,35,0],[4,6,2],[4,7,2],[4,70,1],[4,20,3],[4,6,10],[4,24,3],[5,111,7],[4,28,1],[4,9,3],[4,11,0],[5,50,4],[4,224,11],[4,0,0],[4,30,0],[4,2,0],[4,165,22],[4,7,0],[4,200,6],[4,3,1],[4,75,6],[4,44,0],[4,125,4],[4,41,5],[4,294,23],[4,835,25],[4,123,28],[4,252,31],[4,321,36],[4,8,1],[4,142,5],[4,293,21],[4,50,3],[4,104,13],[4,236,18],[4,200,18],[4,0,0],[4,11,0],[4,0,0],[4,175,3],[4,175,3],[4,158,6],[4,0,0],[4,53,4],[5,1,0],[4,76,4],[4,0,1],[4,17,1],[5,518,58],[4,530,11],[4,2,0],[4,2,1],[5,450,16],[4,0,0],[5,172,6],[4,2,0],[4,216,3],[4,25,2],[4,100,1],[4,450,24],[4,500,33],[4,8,0],[4,2,0],[4,0,0],[4,1,0],[4,35,5],[4,22,6],[4,0,0],[4,0,0],[4,1,4],[4,10,2],[4,52,3],[4,16,5],[4,30,2],[4,270,14],[4,364,6],[4,33,1],[5,93,7],[4,24,7],[4,364,35],[5,156,5],[5,462,13],[5,150,9],[4,3,2],[4,241,32],[4,14,2],[4,22,2],[4,14,4],[4,6,0],[4,0,0],[4,70,12],[4,24,0],[4,13,1],[4,51,5],[4,42,16],[4,78,4],[4,85,3],[5,500,26],[4,0,0],[4,84,4],[5,510,47],[4,182,13],[4,795,58],[4,5,1],[4,0,0],[4,72,2],[4,58,6],[4,137,3],[4,0,0],[4,0,0],[4,8,0],[4,6,5],[4,1,0],[4,20,0],[4,20,0],[4,77,6],[4,30,7],[4,12,5],[4,5,0],[4,3,1],[4,1,0],[5,0,0],[4,19,0],[4,4,2],[4,289,3],[4,25,5],[4,199,7],[4,36,4],[4,0,2],[4,178,3],[5,190,16],[5,267,28],[5,272,28],[4,26,4],[4,30,6],[4,67,9],[4,17,0],[4,104,0],[4,12,1],[4,17,4],[4,190,11],[4,285,18],[5,210,3],[5,86,6],[4,2,0],[4,56,0],[4,0,0],[4,225,3],[4,81,3],[4,122,4],[4,28,7],[4,113,10],[5,270,31],[4,39,2],[5,1150,36],[4,6,5],[4,150,7],[4,51,10],[4,121,11],[4,35,0],[4,177,6],[4,150,14],[4,50,2],[4,12,0],[4,2,0],[4,210,9],[4,49,1],[4,51,7],[4,3,1],[4,4,1],[4,22,3],[4,0,0],[4,133,3],[4,0,0],[4,0,0],[4,4,1],[4,18,0],[4,8,0],[4,55,1],[4,11,0],[4,4,1],[5,64,2],[4,8,0],[4,177,3],[4,2,0],[4,6,0],[5,11,0],[4,0,0],[5,9,0],[4,23,2],[4,6,0],[4,0,0],[4,5,2],[4,10,0],[4,44,1],[5,130,22],[4,14,0],[4,5,0],[4,1,0],[4,2,0],[4,0,0],[4,0,0],[4,20,0],[4,10,0],[4,1,0],[4,0,0],[4,3,0],[4,31,4],[4,0,0],[4,35,5],[4,266,2],[4,20,0],[4,68,11],[4,1740,42],[4,25,1],[4,26,3],[4,1,0],[4,500,3],[4,0,0],[4,0,0],[4,110,3],[4,140,0],[4,25,2],[4,0,0],[4,32,0],[4,53,3],[4,32,1],[4,30,0],[4,2,0],[4,0,0],[4,12,0],[4,23,3],[4,28,2],[5,29,0],[4,170,10],[4,181,10],[4,11,0],[4,20,2],[4,4,0],[4,0,0],[4,25,0],[4,13,2],[4,12,5],[4,149,3],[4,153,16],[4,36,0],[4,24,0],[4,395,4],[4,49,5],[4,100,7],[4,37,3],[4,19,1],[4,14,1],[4,60,1],[4,64,3],[5,200,9],[4,0,0],[4,2,0],[4,82,12],[4,125,16],[5,310,18],[4,0,0],[4,0,0],[4,40,4],[4,30,7],[4,8,0],[4,2,0],[4,0,0],[4,350,6],[4,121,30],[4,0,0],[4,1,0],[4,154,4],[4,7,1],[4,55,0],[4,6,1],[4,52,4],[4,35,2],[4,0,0],[4,0,0],[4,0,0],[4,3,0],[4,40,0],[4,20,0],[4,463,21],[4,0,0],[5,60,1],[5,0,1],[4,8,0],[4,0,0],[4,21,2],[4,2,0],[4,6,0],[4,12,1],[4,9,0],[4,37,0],[4,51,1],[4,60,6],[4,1,0],[5,350,29],[4,5,0],[4,0,1],[5,225,17],[4,6,0],[4,22,0],[4,24,1],[4,64,2],[4,6,0],[4,1,0],[4,3,0],[4,0,0],[4,10,0],[4,3,0],[5,35,1],[4,7,0],[4,122,12],[4,16,0],[4,46,0],[4,86,5],[4,10,1],[4,20,0],[4,100,7],[4,0,0],[4,6,1],[4,5,0],[4,4,0],[4,246,4],[4,150,22],[4,20,3],[4,48,3],[4,70,3],[4,2,0],[4,7,0],[4,45,0],[4,55,1],[4,32,3],[4,0,0],[4,2,0],[4,1,0],[4,24,3],[4,7,0],[4,0,0],[4,0,0],[4,1,0],[4,35,7],[4,10,0],[5,12,0],[4,18,0],[4,11,0],[4,0,0],[4,180,5],[4,100,6],[4,40,10],[4,0,0],[4,15,1],[4,5,1],[5,12,27],[4,19,1],[5,259,32],[4,12,2],[5,36,3],[4,2,0],[4,150,6],[4,5,0],[4,4,0],[4,106,6],[4,0,0],[4,102,7],[4,3,0],[4,1,0],[4,65,4],[4,150,6],[4,11,1],[4,26,2],[5,583,36],[4,0,3],[4,6,1],[4,0,0],[4,15,1],[4,100,1],[4,144,11],[4,28,1],[4,2,0],[4,2,0],[4,22,0],[4,48,0],[4,21,2],[4,16,0],[4,122,3],[4,0,0],[4,0,0],[4,17,4],[4,30,2],[4,30,4],[4,13,0],[4,86,11],[4,33,2],[4,134,0],[4,0,1],[4,4,0],[4,1,0],[4,38,1],[4,6,3],[4,3,0],[4,0,0],[4,40,0],[4,0,0],[4,6,0],[4,0,0],[4,2,1],[4,50,9],[5,63,11],[4,18,1],[4,139,13],[4,51,0],[4,5,3],[4,12,1],[4,23,4],[4,350,21],[4,9,0],[4,2,0],[5,70,9],[4,0,0],[4,46,8],[4,58,2],[4,5,0],[4,146,10],[4,32,1],[4,49,2],[4,0,0],[4,28,7],[4,20,0],[4,5,1],[4,14,1],[4,1,0],[4,13,0],[4,0,0],[4,0,0],[4,0,0],[4,5,0],[4,0,1],[4,48,6],[4,30,7],[4,54,13],[4,50,14],[4,85,22],[4,1500,64],[5,0,25],[5,145,72],[4,335,20],[4,17,7],[5,6,3],[5,137,23],[4,0,0],[4,12,4],[5,1150,158],[4,27,4],[4,61,0],[4,48,1],[5,181,9],[4,0,0],[4,108,8],[4,0,11],[4,8,4],[4,0,0],[4,71,0],[4,54,6],[4,0,0],[4,10,2],[5,212,24],[4,0,0],[4,15,0],[4,2,2],[4,125,3],[4,193,16],[4,84,10],[4,0,0],[4,0,0],[4,20,1],[4,0,1],[4,2,0],[4,11,2],[4,36,9],[4,468,10],[4,0,1],[4,8,0],[4,12,1],[4,25,2],[4,90,23],[4,166,0],[4,4,0],[4,87,19],[4,3,4],[4,98,7],[4,60,5],[4,1,1],[4,2,1],[4,0,0],[4,14,8],[4,515,57]],\"hovertemplate\":\"<b>%{hovertext}</b><br><br>wid=%{marker.size}<br>slat=%{lat}<br>slon=%{lon}<br>mag=%{customdata[0]}<br>inj=%{customdata[1]}<br>fat=%{customdata[2]}<br>yr=%{marker.color}<extra></extra>\",\"hovertext\":[4.0,4.0,4.0,4.0,4.0,4.0,4.0,4.0,4.0,4.0,4.0,4.0,4.0,4.0,4.0,4.0,4.0,4.0,4.0,4.0,4.0,4.0,4.0,4.0,4.0,4.0,4.0,4.0,4.0,4.0,4.0,4.0,4.0,4.0,4.0,4.0,4.0,4.0,4.0,4.0,5.0,4.0,5.0,4.0,4.0,4.0,5.0,4.0,4.0,5.0,4.0,5.0,4.0,4.0,4.0,4.0,4.0,4.0,4.0,4.0,5.0,5.0,4.0,4.0,4.0,4.0,4.0,4.0,4.0,4.0,4.0,4.0,4.0,5.0,4.0,4.0,4.0,4.0,4.0,4.0,4.0,4.0,4.0,4.0,4.0,4.0,4.0,4.0,4.0,4.0,4.0,4.0,4.0,5.0,4.0,4.0,4.0,4.0,5.0,4.0,4.0,4.0,4.0,4.0,4.0,4.0,5.0,4.0,4.0,4.0,4.0,5.0,4.0,4.0,4.0,4.0,4.0,4.0,4.0,4.0,4.0,4.0,4.0,4.0,5.0,4.0,4.0,4.0,4.0,4.0,4.0,4.0,4.0,4.0,4.0,4.0,4.0,4.0,4.0,4.0,4.0,4.0,4.0,4.0,4.0,4.0,4.0,5.0,4.0,4.0,4.0,5.0,4.0,4.0,4.0,4.0,4.0,4.0,4.0,4.0,4.0,4.0,4.0,4.0,4.0,4.0,4.0,4.0,4.0,4.0,4.0,4.0,4.0,4.0,4.0,4.0,4.0,4.0,4.0,4.0,4.0,4.0,4.0,4.0,5.0,4.0,4.0,4.0,5.0,4.0,4.0,4.0,5.0,4.0,5.0,4.0,4.0,4.0,4.0,4.0,4.0,4.0,4.0,4.0,4.0,4.0,4.0,4.0,4.0,4.0,4.0,4.0,4.0,4.0,4.0,4.0,4.0,5.0,4.0,4.0,5.0,5.0,5.0,4.0,4.0,4.0,4.0,4.0,4.0,4.0,4.0,4.0,4.0,4.0,4.0,4.0,4.0,5.0,4.0,4.0,5.0,4.0,4.0,4.0,4.0,4.0,4.0,4.0,4.0,4.0,4.0,4.0,4.0,4.0,4.0,4.0,4.0,4.0,4.0,4.0,4.0,5.0,4.0,4.0,4.0,4.0,4.0,4.0,4.0,4.0,5.0,5.0,5.0,4.0,4.0,4.0,4.0,4.0,4.0,4.0,4.0,4.0,5.0,5.0,4.0,4.0,4.0,4.0,4.0,4.0,4.0,4.0,5.0,4.0,5.0,4.0,4.0,4.0,4.0,4.0,4.0,4.0,4.0,4.0,4.0,4.0,4.0,4.0,4.0,4.0,4.0,4.0,4.0,4.0,4.0,4.0,4.0,4.0,4.0,4.0,4.0,5.0,4.0,4.0,4.0,4.0,5.0,4.0,5.0,4.0,4.0,4.0,4.0,4.0,4.0,5.0,4.0,4.0,4.0,4.0,4.0,4.0,4.0,4.0,4.0,4.0,4.0,4.0,4.0,4.0,4.0,4.0,4.0,4.0,4.0,4.0,4.0,4.0,4.0,4.0,4.0,4.0,4.0,4.0,4.0,4.0,4.0,4.0,4.0,4.0,4.0,4.0,4.0,5.0,4.0,4.0,4.0,4.0,4.0,4.0,4.0,4.0,4.0,4.0,4.0,4.0,4.0,4.0,4.0,4.0,4.0,4.0,4.0,4.0,4.0,5.0,4.0,4.0,4.0,4.0,5.0,4.0,4.0,4.0,4.0,4.0,4.0,4.0,4.0,4.0,4.0,4.0,4.0,4.0,4.0,4.0,4.0,4.0,4.0,4.0,4.0,4.0,4.0,4.0,4.0,4.0,5.0,5.0,4.0,4.0,4.0,4.0,4.0,4.0,4.0,4.0,4.0,4.0,4.0,5.0,4.0,4.0,5.0,4.0,4.0,4.0,4.0,4.0,4.0,4.0,4.0,4.0,4.0,5.0,4.0,4.0,4.0,4.0,4.0,4.0,4.0,4.0,4.0,4.0,4.0,4.0,4.0,4.0,4.0,4.0,4.0,4.0,4.0,4.0,4.0,4.0,4.0,4.0,4.0,4.0,4.0,4.0,4.0,4.0,4.0,4.0,5.0,4.0,4.0,4.0,4.0,4.0,4.0,4.0,4.0,4.0,5.0,4.0,5.0,4.0,5.0,4.0,4.0,4.0,4.0,4.0,4.0,4.0,4.0,4.0,4.0,4.0,4.0,4.0,5.0,4.0,4.0,4.0,4.0,4.0,4.0,4.0,4.0,4.0,4.0,4.0,4.0,4.0,4.0,4.0,4.0,4.0,4.0,4.0,4.0,4.0,4.0,4.0,4.0,4.0,4.0,4.0,4.0,4.0,4.0,4.0,4.0,4.0,4.0,4.0,4.0,5.0,4.0,4.0,4.0,4.0,4.0,4.0,4.0,4.0,4.0,5.0,4.0,4.0,4.0,4.0,4.0,4.0,4.0,4.0,4.0,4.0,4.0,4.0,4.0,4.0,4.0,4.0,4.0,4.0,4.0,4.0,4.0,4.0,4.0,4.0,4.0,5.0,5.0,4.0,4.0,5.0,5.0,4.0,4.0,5.0,4.0,4.0,4.0,5.0,4.0,4.0,4.0,4.0,4.0,4.0,4.0,4.0,4.0,5.0,4.0,4.0,4.0,4.0,4.0,4.0,4.0,4.0,4.0,4.0,4.0,4.0,4.0,4.0,4.0,4.0,4.0,4.0,4.0,4.0,4.0,4.0,4.0,4.0,4.0,4.0,4.0,4.0,4.0,4.0],\"lat\":[31.97,35.08,32.42,38.03,38.33,45.58,41.8,33.42,44.88,39.03,43.47,44.33,35.2,35.15,34.9,35.42,34.02,35.0,35.22,36.05,34.87,36.02,36.1,35.27,34.6,31.5,38.98,42.75,47.05,41.22,33.28,29.57,32.6,32.25,33.22,35.52,40.87,43.07,43.45,31.53,31.55,42.92,46.45,41.33,43.15,41.78,43.1,41.22,42.47,41.45,31.07,32.33,37.32,40.55,42.1,35.4,33.98,41.73,42.28,34.35,36.72,36.88,35.0,39.52,37.48,41.93,46.5,48.43,44.48,38.45,40.57,36.82,44.38,42.65,36.77,35.58,43.93,33.5,42.25,43.0,40.97,40.7,35.4,34.0,33.93,34.68,34.63,43.87,33.6,33.43,40.58,34.47,39.38,38.45,45.58,36.95,34.27,39.75,46.9,42.52,34.95,30.1,33.9,33.98,38.28,37.7,38.08,33.35,27.67,44.93,44.77,44.9,37.85,38.53,31.85,34.62,41.5,40.7,37.35,36.85,34.95,34.02,35.38,34.88,35.28,39.15,39.18,39.58,34.73,39.17,41.62,47.1,42.78,29.32,35.27,34.15,33.17,42.68,39.52,43.97,33.37,33.9,33.17,41.18,34.12,33.32,36.7,33.9,40.67,38.12,41.4,40.55,42.67,40.7,43.38,42.92,29.6,36.6,35.05,41.85,42.22,40.33,40.55,41.62,41.73,40.4,40.02,41.52,41.58,42.85,43.02,41.8,40.35,40.8,41.67,41.23,42.3,43.28,44.85,44.78,45.03,44.98,41.23,40.87,43.0,33.9,43.17,42.3,32.18,27.92,34.32,39.17,38.92,46.63,42.8,40.4,38.68,33.7,42.15,42.22,41.67,42.93,39.7,43.3,43.45,43.57,43.8,42.52,35.83,35.6,32.47,37.68,33.92,36.63,35.2,38.67,39.1,38.7,35.65,35.73,42.67,42.77,44.17,45.08,31.68,31.83,37.95,37.73,37.65,45.28,46.78,33.6,34.38,34.0,34.65,34.72,36.45,33.55,39.55,35.33,32.38,32.33,32.7,33.48,31.5,37.08,37.15,36.07,36.03,36.27,43.23,34.38,38.08,39.77,42.28,31.53,34.08,28.83,38.53,39.93,40.33,31.63,34.47,35.4,35.27,35.55,32.53,42.42,34.18,33.27,34.7,34.47,33.83,34.95,34.37,34.5,39.75,38.77,40.05,39.13,38.55,40.5,38.97,38.07,37.42,37.22,36.63,38.2,37.72,38.05,37.72,36.65,37.73,39.18,39.63,36.52,36.25,36.03,35.0,43.75,38.42,35.95,41.73,42.35,41.75,31.18,33.08,33.55,39.7,39.68,36.83,42.2,41.17,41.35,46.87,46.53,39.8,40.47,42.52,31.78,34.77,35.2,31.78,32.58,37.07,34.88,31.72,32.27,41.93,41.67,41.45,40.8,33.02,42.28,42.43,33.52,42.53,39.22,39.32,40.25,36.65,42.15,45.1,44.78,40.87,41.18,33.47,31.55,35.58,46.4,32.5,40.48,34.2,33.82,36.45,42.63,41.52,41.88,33.6,40.62,40.92,40.65,39.62,41.68,38.72,43.43,36.6,33.77,35.35,35.32,36.02,33.93,36.57,34.13,33.65,37.8,36.18,32.65,45.22,42.97,30.07,35.58,35.47,35.05,35.33,34.53,34.58,34.63,34.37,34.65,36.08,44.08,42.98,35.95,40.42,42.97,39.42,39.73,41.83,41.48,41.2,41.93,41.18,41.63,41.55,32.42,42.68,41.75,31.5,31.0,43.9,33.15,35.87,35.92,38.48,34.98,35.47,35.08,29.28,40.98,42.23,42.28,41.38,42.83,34.65,42.23,37.77,38.15,40.05,32.78,31.08,38.57,38.95,38.25,38.85,39.22,38.78,38.47,40.15,41.68,37.97,37.07,37.47,36.43,36.45,36.17,37.1,40.73,33.05,34.75,39.42,38.37,43.95,43.8,35.68,31.97,29.73,33.92,33.18,38.6,31.85,36.15,37.12,38.9,43.72,43.88,37.2,33.72,34.13,32.6,40.48,44.28,40.58,40.37,34.83,35.0,42.07,41.07,41.78,42.2,35.5,35.25,35.5,34.1436,35.82,38.15,43.7,35.78,34.15,35.77,34.62,33.9,34.52,36.1,35.95,30.37,30.82,43.95,33.42,35.87,35.22,35.87,43.75,40.05,39.78,35.58,36.28,32.53,40.85,41.03,39.23,37.32,35.93,35.88,35.13,35.57,30.68,48.6,44.9,39.65,33.05,38.5,40.85,38.57,33.92,33.47,32.43,37.0,38.55,45.68,46.95,40.78,39.07,37.42,39.23,35.52,37.27,35.33,42.5,44.28,37.25,40.32,39.88,40.8,46.78,37.25,39.45,37.68,38.13,32.12,31.28,37.36,47.72,35.1,35.68,35.27,34.67,34.4,37.0,31.41,38.94,42.55,39.13,33.93,35.7579,34.3439,32.4032,35.1808,35.289,45.448,41.5512,46.41,46.087,43.5755,47.54,43.44,46.11,31.7947,42.7293,38.7364,34.7948,34.0757,32.6174,33.2506,34.6208,33.6792,33.0297,34.3907,34.1043,34.8744,32.0296,32.7992,34.0455,35.5324,35.34,37.0524,35.2781,34.88,35.008,35.444,34.33,37.6945,38.4316,38.791,38.406,31.2802,32.412,38.1429,35.2531,35.284,42.3319,42.128,38.42,40.622,34.7787,32.88,41.893,42.127,41.9528,41.9742,44.0372,41.853,34.5955,32.796,34.559,38.9955,37.7238,32.2572,32.4472,39.8243,38.8381,36.1715,31.2763,31.4641,32.7045,31.0707,46.09,33.2533,35.7867,36.483],\"legendgroup\":\"\",\"lon\":[-94.0,-96.4,-99.5,-99.12,-97.93,-89.58,-96.6,-98.75,-94.37,-99.88,-89.25,-89.3,-86.3,-86.58,-91.85,-91.0,-94.02,-91.25,-91.7,-89.82,-89.68,-89.2,-89.27,-88.98,-87.0,-97.45,-95.22,-95.85,-100.5,-96.58,-99.95,-98.7,-83.6,-88.38,-85.93,-84.78,-93.33,-93.52,-92.4,-100.58,-97.15,-82.6,-100.67,-99.13,-83.18,-83.57,-83.85,-83.9,-72.17,-94.7,-93.05,-90.9,-92.23,-95.38,-91.75,-97.37,-99.72,-97.73,-94.72,-87.05,-97.28,-97.15,-100.22,-98.53,-100.03,-103.8,-97.0,-102.33,-96.2,-90.92,-85.57,-96.97,-86.26,-86.22,-94.97,-88.47,-88.97,-86.97,-83.22,-83.68,-99.1,-101.22,-94.68,-96.65,-96.43,-79.2,-80.58,-90.18,-102.3,-101.63,-97.57,-101.3,-97.73,-95.5,-92.87,-91.17,-98.5,-89.7,-97.35,-83.73,-97.25,-93.73,-87.18,-86.52,-89.08,-89.48,-89.25,-93.25,-82.62,-91.47,-91.27,-92.33,-97.02,-90.6,-97.22,-96.58,-94.63,-93.15,-92.67,-95.25,-96.8,-95.7,-94.55,-95.3,-96.93,-96.33,-95.95,-85.8,-95.03,-94.93,-99.87,-104.7,-93.0,-94.78,-99.2,-98.45,-99.77,-98.45,-95.78,-92.45,-86.97,-86.9,-89.65,-88.1,-88.72,-86.43,-88.45,-98.5,-95.23,-95.3,-98.38,-98.37,-82.83,-95.45,-87.92,-94.23,-90.37,-98.1,-92.45,-90.93,-88.38,-86.83,-85.38,-85.7,-85.17,-86.38,-86.87,-86.07,-86.2,-84.65,-85.92,-85.0,-84.38,-84.2,-83.6,-82.25,-94.47,-92.82,-93.53,-93.75,-93.28,-93.38,-98.67,-98.6,-99.72,-102.15,-97.23,-92.2,-90.55,-82.8,-96.53,-95.18,-95.92,-94.37,-93.65,-92.53,-90.55,-87.17,-88.27,-88.92,-87.83,-84.8,-93.17,-93.17,-93.17,-93.43,-93.52,-94.18,-98.3,-99.38,-89.47,-91.13,-91.85,-88.3,-94.27,-84.37,-84.27,-82.8,-91.47,-91.18,-91.93,-93.12,-95.75,-88.08,-91.05,-86.63,-91.1,-90.55,-97.65,-103.75,-94.22,-102.63,-102.62,-101.98,-101.53,-89.0,-87.13,-101.9,-92.88,-96.93,-91.47,-90.73,-91.02,-94.48,-87.3,-85.07,-85.45,-88.78,-101.82,-101.4,-92.45,-97.55,-100.1,-86.08,-87.87,-96.83,-82.57,-99.22,-93.53,-92.48,-93.55,-97.48,-85.75,-97.97,-91.37,-95.32,-87.8,-73.42,-82.02,-88.2,-87.05,-87.48,-88.13,-84.3,-84.33,-85.05,-85.65,-85.27,-85.27,-85.72,-85.75,-87.13,-84.88,-86.75,-86.57,-85.47,-84.78,-85.75,-85.9,-85.07,-84.5,-85.37,-86.53,-84.48,-84.05,-85.08,-85.08,-85.57,-86.5,-88.83,-96.22,-96.65,-93.62,-91.48,-92.18,-90.53,-87.6,-92.12,-93.97,-92.67,-94.58,-97.57,-96.07,-100.22,-96.73,-102.97,-88.8,-87.0,-83.42,-90.02,-95.08,-94.7,-90.65,-90.22,-98.53,-98.52,-99.07,-97.28,-93.87,-88.0,-95.6,-89.75,-89.23,-85.55,-85.02,-86.93,-94.15,-94.3,-94.0,-89.25,-102.4,-96.7,-91.53,-90.1,-98.27,-97.42,-91.0,-90.12,-97.75,-101.88,-93.75,-95.15,-99.15,-98.65,-98.35,-94.6,-88.23,-72.67,-99.18,-93.92,-98.3,-79.73,-85.48,-89.95,-90.13,-88.2,-90.42,-95.7,-96.6,-98.37,-101.73,-94.28,-92.22,-95.57,-95.63,-89.13,-91.62,-92.02,-93.32,-90.13,-90.52,-92.45,-91.23,-78.25,-77.78,-80.63,-79.92,-79.6,-81.32,-79.75,-96.6,-88.75,-88.37,-96.5,-94.03,-89.98,-99.4,-99.15,-80.55,-80.52,-81.15,-79.95,-78.67,-79.03,-79.62,-88.77,-96.97,-93.6,-89.25,-103.68,-110.33,-89.58,-78.75,-86.9,-87.78,-80.73,-81.58,-81.93,-100.42,-94.72,-93.82,-93.17,-72.9,-74.53,-86.65,-91.42,-98.02,-97.43,-98.53,-97.83,-102.35,-88.47,-88.27,-88.47,-86.28,-84.92,-86.53,-87.48,-101.23,-88.35,-98.05,-97.15,-97.48,-97.55,-95.72,-96.52,-93.3,-84.57,-90.88,-95.95,-98.22,-97.67,-95.9,-96.02,-101.73,-90.23,-95.28,-84.67,-83.45,-85.07,-89.52,-95.83,-101.27,-98.52,-96.92,-97.28,-77.43,-86.15,-85.03,-96.75,-86.95,-87.82,-91.31,-90.3,-87.03,-87.48,-94.9,-94.42,-94.65,-73.43,-101.02,-100.6,-100.22,-79.3545,-92.35,-85.75,-88.62,-86.5,-93.0,-90.18,-92.35,-93.33,-92.52,-89.17,-89.67,-98.02,-97.62,-95.53,-87.35,-90.18,-88.02,-81.38,-97.68,-79.22,-85.95,-88.88,-90.55,-93.83,-94.9,-94.32,-84.37,-97.4,-97.95,-97.68,-97.85,-87.92,-99.1,-97.78,-95.67,-83.98,-87.7,-98.78,-97.08,-77.98,-86.43,-91.1,-90.2,-91.02,-77.18,-98.43,-99.3,-84.77,-94.83,-95.1,-94.48,-89.03,-89.03,-97.53,-97.32,-97.77,-97.98,-97.33,-94.25,-89.33,-98.38,-87.53,-92.18,-89.83,-95.1,-87.41,-85.92,-99.45,-97.61,-93.07,-88.86,-88.29,-85.84,-87.29,-95.14,-81.46,-100.29,-92.88,-96.71,-97.62,-86.848,-85.7105,-91.2993,-97.4273,-97.504,-99.7479,-83.538,-95.18,-95.437,-93.6404,-97.3,-95.951,-96.63,-92.808,-94.8557,-90.4863,-85.909,-87.0097,-86.193,-88.1814,-85.9814,-86.5699,-87.935,-85.9784,-88.1479,-85.1785,-89.5042,-89.1088,-88.445,-84.0504,-85.42,-94.5932,-93.9515,-97.732,-97.961,-98.287,-99.22,-88.65,-86.1893,-84.633,-98.257,-89.4665,-97.754,-99.4706,-97.3001,-97.628,-96.1086,-97.077,-89.45,-89.5678,-92.652,-89.43,-97.33,-96.8686,-97.1369,-97.04,-98.4032,-89.2896,-89.7055,-96.5894,-97.357,-97.4365,-90.0055,-96.018,-85.4818,-84.4632,-95.3665,-85.6628,-90.1732,-89.7579,-81.2899,-89.9646,-95.94,-85.1895,-90.5511,-89.135],\"marker\":{\"color\":[1950,1950,1950,1950,1950,1950,1950,1951,1951,1951,1951,1951,1952,1952,1952,1952,1952,1952,1952,1952,1952,1952,1952,1952,1952,1952,1952,1952,1952,1952,1953,1953,1953,1953,1953,1953,1953,1953,1953,1953,1953,1953,1953,1953,1953,1953,1953,1953,1953,1953,1953,1953,1954,1954,1954,1954,1954,1954,1954,1955,1955,1955,1955,1955,1955,1955,1955,1955,1955,1956,1956,1956,1956,1956,1956,1956,1956,1956,1956,1956,1956,1956,1957,1957,1957,1957,1957,1957,1957,1957,1957,1957,1957,1957,1957,1957,1957,1957,1957,1957,1957,1957,1957,1957,1957,1957,1957,1957,1958,1958,1958,1958,1958,1959,1959,1959,1959,1959,1959,1959,1960,1960,1960,1960,1960,1960,1960,1961,1961,1961,1961,1961,1961,1961,1962,1962,1962,1962,1962,1962,1963,1963,1963,1963,1963,1964,1964,1964,1964,1964,1964,1964,1964,1964,1964,1964,1964,1965,1965,1965,1965,1965,1965,1965,1965,1965,1965,1965,1965,1965,1965,1965,1965,1965,1965,1965,1965,1965,1965,1965,1965,1965,1965,1965,1965,1965,1965,1965,1966,1966,1966,1966,1966,1966,1966,1967,1967,1967,1967,1967,1967,1967,1967,1967,1967,1967,1967,1967,1967,1967,1967,1967,1968,1968,1968,1968,1968,1968,1968,1968,1968,1968,1968,1968,1969,1969,1969,1969,1969,1969,1969,1970,1970,1970,1970,1970,1970,1970,1970,1970,1971,1971,1971,1971,1971,1971,1971,1971,1971,1971,1971,1972,1972,1972,1972,1973,1973,1973,1973,1973,1973,1973,1973,1973,1973,1973,1973,1973,1973,1974,1974,1974,1974,1974,1974,1974,1974,1974,1974,1974,1974,1974,1974,1974,1974,1974,1974,1974,1974,1974,1974,1974,1974,1974,1974,1974,1974,1974,1974,1974,1974,1974,1974,1974,1974,1975,1975,1975,1975,1975,1975,1975,1975,1975,1975,1975,1976,1976,1976,1976,1976,1976,1976,1976,1976,1976,1976,1976,1976,1976,1976,1976,1977,1977,1977,1977,1977,1977,1977,1977,1977,1977,1977,1977,1978,1978,1978,1978,1978,1978,1978,1979,1979,1979,1979,1979,1979,1979,1980,1980,1980,1980,1980,1981,1981,1981,1981,1981,1981,1981,1982,1982,1982,1982,1982,1982,1982,1983,1983,1983,1983,1984,1984,1984,1984,1984,1984,1984,1984,1984,1984,1984,1984,1984,1984,1984,1985,1985,1985,1985,1985,1985,1985,1985,1985,1986,1986,1986,1987,1987,1987,1988,1988,1988,1989,1989,1989,1989,1989,1989,1989,1989,1989,1989,1989,1990,1990,1990,1990,1990,1990,1990,1990,1990,1990,1990,1990,1990,1990,1990,1991,1991,1991,1991,1991,1991,1991,1992,1992,1992,1992,1992,1992,1992,1992,1992,1992,1992,1992,1992,1992,1993,1993,1993,1993,1993,1993,1994,1994,1994,1994,1994,1995,1995,1995,1995,1995,1995,1995,1995,1995,1995,1995,1995,1996,1996,1996,1997,1997,1997,1997,1997,1997,1997,1997,1997,1997,1998,1998,1998,1998,1998,1998,1998,1998,1999,1999,1999,1999,1999,1999,1999,1999,1999,1999,1999,1999,1999,2000,2000,2000,2001,2001,2001,2001,2001,2001,2002,2002,2002,2002,2002,2003,2003,2003,2003,2003,2003,2003,2003,2004,2004,2004,2004,2004,2005,2006,2006,2007,2007,2007,2007,2007,2008,2008,2008,2008,2008,2008,2008,2008,2008,2008,2009,2009,2010,2010,2010,2010,2010,2010,2010,2010,2010,2010,2010,2010,2010,2011,2011,2011,2011,2011,2011,2011,2011,2011,2011,2011,2011,2011,2011,2011,2011,2011,2011,2011,2011,2011,2011,2011,2012,2012,2012,2012,2013,2013,2013,2013,2013,2013,2013,2013,2013,2014,2014,2014,2014,2014,2014,2014,2015,2015,2015,2016,2016,2017,2017,2019,2019,2019,2020,2020,2020,2020,2020,2020,2021,2021,2021],\"coloraxis\":\"coloraxis\",\"size\":[100,200,233,150,700,880,440,200,330,300,100,100,100,300,10,880,833,880,1760,880,427,200,200,177,100,200,440,400,150,110,50,1760,333,100,440,33,10,10,100,880,583,1760,600,440,833,200,833,100,900,100,300,500,100,900,200,10,440,400,440,200,500,1320,1100,500,100,10,150,100,10,500,47,880,400,400,400,100,440,200,400,100,500,440,880,200,200,150,150,300,880,100,333,300,400,440,100,500,880,220,500,50,440,200,200,100,250,300,200,10,300,600,880,880,300,200,1760,900,400,440,100,440,10,150,10,200,800,10,880,550,400,50,10,10,27,100,250,400,133,300,667,33,667,880,440,130,1000,100,250,500,400,880,10,880,833,400,50,100,67,300,200,200,400,500,10,177,1760,880,1667,10,333,100,300,10,300,400,200,400,200,200,200,300,1000,667,10,10,1760,200,647,200,900,300,300,200,880,333,1000,440,200,440,150,1200,200,50,500,400,500,100,267,200,10,300,300,200,400,100,300,550,300,400,300,250,500,600,150,33,200,500,800,440,700,133,833,880,880,880,880,100,250,1333,400,150,500,10,100,880,300,100,100,100,1320,1760,1320,10,77,200,220,150,200,440,880,440,440,100,400,300,300,500,800,313,50,500,500,500,500,400,200,200,10,1133,1400,1200,1200,1760,533,10,150,10,10,10,10,10,10,10,440,350,533,300,200,700,800,200,1760,400,400,400,100,200,500,250,400,1700,500,300,267,10,1320,880,800,300,117,880,440,440,880,880,100,440,440,300,880,1760,200,40,350,183,613,550,70,400,880,1000,440,77,300,1000,77,50,100,100,1760,250,400,500,880,1320,880,33,100,1400,250,140,1700,10,267,33,567,100,400,400,600,1333,880,200,500,500,250,400,440,1000,67,50,200,440,440,1407,1223,530,700,2600,1000,2113,880,60,10,200,250,450,1000,1000,400,350,450,440,3330,1000,800,440,73,250,1230,1000,2550,700,400,150,200,500,800,700,300,1760,150,200,100,1320,880,200,1320,1320,440,880,1233,300,200,300,200,1350,400,200,2640,600,300,500,440,1500,1300,1700,400,40,880,400,100,73,160,280,1583,880,1800,867,867,60,1760,250,880,880,800,500,250,880,1760,800,100,150,1000,880,1300,1000,400,500,250,300,200,600,2200,100,880,850,400,300,527,200,1407,1053,1407,200,200,440,650,1500,1320,400,1760,1320,1150,1200,400,500,400,200,1000,1250,270,880,880,1760,1430,580,1400,500,160,500,750,660,400,75,500,880,880,650,650,900,300,880,500,880,200,880,1000,700,1200,1000,500,4400,800,440,200,800,500,225,800,500,500,3000,1400,1320,125,880,660,880,1760,700,1320,2100,440,880,750,880,3080,880,2000,1200,400,1936,2288,1760,150,800,600,400,587,880,1320,880,880,1408,1260,1760,2600,1320,2200,800,1050,900,1320,1320,880,1600,2200,880,880,1760,500,325,800,880,400,1320,400,1100,1500,1900,2600,2429,200,880,1320,1320,400,530,500,500,880,700,1300,550,400,900,1100,1760,1600,1050,1760,900,1936,3960,1300,2275,650,1850,1800,2600],\"sizemode\":\"area\",\"sizeref\":11.0},\"mode\":\"markers\",\"name\":\"\",\"showlegend\":false,\"subplot\":\"mapbox\",\"type\":\"scattermapbox\"}],                        {\"template\":{\"data\":{\"histogram2dcontour\":[{\"type\":\"histogram2dcontour\",\"colorbar\":{\"outlinewidth\":0,\"ticks\":\"\"},\"colorscale\":[[0.0,\"#0d0887\"],[0.1111111111111111,\"#46039f\"],[0.2222222222222222,\"#7201a8\"],[0.3333333333333333,\"#9c179e\"],[0.4444444444444444,\"#bd3786\"],[0.5555555555555556,\"#d8576b\"],[0.6666666666666666,\"#ed7953\"],[0.7777777777777778,\"#fb9f3a\"],[0.8888888888888888,\"#fdca26\"],[1.0,\"#f0f921\"]]}],\"choropleth\":[{\"type\":\"choropleth\",\"colorbar\":{\"outlinewidth\":0,\"ticks\":\"\"}}],\"histogram2d\":[{\"type\":\"histogram2d\",\"colorbar\":{\"outlinewidth\":0,\"ticks\":\"\"},\"colorscale\":[[0.0,\"#0d0887\"],[0.1111111111111111,\"#46039f\"],[0.2222222222222222,\"#7201a8\"],[0.3333333333333333,\"#9c179e\"],[0.4444444444444444,\"#bd3786\"],[0.5555555555555556,\"#d8576b\"],[0.6666666666666666,\"#ed7953\"],[0.7777777777777778,\"#fb9f3a\"],[0.8888888888888888,\"#fdca26\"],[1.0,\"#f0f921\"]]}],\"heatmap\":[{\"type\":\"heatmap\",\"colorbar\":{\"outlinewidth\":0,\"ticks\":\"\"},\"colorscale\":[[0.0,\"#0d0887\"],[0.1111111111111111,\"#46039f\"],[0.2222222222222222,\"#7201a8\"],[0.3333333333333333,\"#9c179e\"],[0.4444444444444444,\"#bd3786\"],[0.5555555555555556,\"#d8576b\"],[0.6666666666666666,\"#ed7953\"],[0.7777777777777778,\"#fb9f3a\"],[0.8888888888888888,\"#fdca26\"],[1.0,\"#f0f921\"]]}],\"heatmapgl\":[{\"type\":\"heatmapgl\",\"colorbar\":{\"outlinewidth\":0,\"ticks\":\"\"},\"colorscale\":[[0.0,\"#0d0887\"],[0.1111111111111111,\"#46039f\"],[0.2222222222222222,\"#7201a8\"],[0.3333333333333333,\"#9c179e\"],[0.4444444444444444,\"#bd3786\"],[0.5555555555555556,\"#d8576b\"],[0.6666666666666666,\"#ed7953\"],[0.7777777777777778,\"#fb9f3a\"],[0.8888888888888888,\"#fdca26\"],[1.0,\"#f0f921\"]]}],\"contourcarpet\":[{\"type\":\"contourcarpet\",\"colorbar\":{\"outlinewidth\":0,\"ticks\":\"\"}}],\"contour\":[{\"type\":\"contour\",\"colorbar\":{\"outlinewidth\":0,\"ticks\":\"\"},\"colorscale\":[[0.0,\"#0d0887\"],[0.1111111111111111,\"#46039f\"],[0.2222222222222222,\"#7201a8\"],[0.3333333333333333,\"#9c179e\"],[0.4444444444444444,\"#bd3786\"],[0.5555555555555556,\"#d8576b\"],[0.6666666666666666,\"#ed7953\"],[0.7777777777777778,\"#fb9f3a\"],[0.8888888888888888,\"#fdca26\"],[1.0,\"#f0f921\"]]}],\"surface\":[{\"type\":\"surface\",\"colorbar\":{\"outlinewidth\":0,\"ticks\":\"\"},\"colorscale\":[[0.0,\"#0d0887\"],[0.1111111111111111,\"#46039f\"],[0.2222222222222222,\"#7201a8\"],[0.3333333333333333,\"#9c179e\"],[0.4444444444444444,\"#bd3786\"],[0.5555555555555556,\"#d8576b\"],[0.6666666666666666,\"#ed7953\"],[0.7777777777777778,\"#fb9f3a\"],[0.8888888888888888,\"#fdca26\"],[1.0,\"#f0f921\"]]}],\"mesh3d\":[{\"type\":\"mesh3d\",\"colorbar\":{\"outlinewidth\":0,\"ticks\":\"\"}}],\"scatter\":[{\"fillpattern\":{\"fillmode\":\"overlay\",\"size\":10,\"solidity\":0.2},\"type\":\"scatter\"}],\"parcoords\":[{\"type\":\"parcoords\",\"line\":{\"colorbar\":{\"outlinewidth\":0,\"ticks\":\"\"}}}],\"scatterpolargl\":[{\"type\":\"scatterpolargl\",\"marker\":{\"colorbar\":{\"outlinewidth\":0,\"ticks\":\"\"}}}],\"bar\":[{\"error_x\":{\"color\":\"#2a3f5f\"},\"error_y\":{\"color\":\"#2a3f5f\"},\"marker\":{\"line\":{\"color\":\"#E5ECF6\",\"width\":0.5},\"pattern\":{\"fillmode\":\"overlay\",\"size\":10,\"solidity\":0.2}},\"type\":\"bar\"}],\"scattergeo\":[{\"type\":\"scattergeo\",\"marker\":{\"colorbar\":{\"outlinewidth\":0,\"ticks\":\"\"}}}],\"scatterpolar\":[{\"type\":\"scatterpolar\",\"marker\":{\"colorbar\":{\"outlinewidth\":0,\"ticks\":\"\"}}}],\"histogram\":[{\"marker\":{\"pattern\":{\"fillmode\":\"overlay\",\"size\":10,\"solidity\":0.2}},\"type\":\"histogram\"}],\"scattergl\":[{\"type\":\"scattergl\",\"marker\":{\"colorbar\":{\"outlinewidth\":0,\"ticks\":\"\"}}}],\"scatter3d\":[{\"type\":\"scatter3d\",\"line\":{\"colorbar\":{\"outlinewidth\":0,\"ticks\":\"\"}},\"marker\":{\"colorbar\":{\"outlinewidth\":0,\"ticks\":\"\"}}}],\"scattermapbox\":[{\"type\":\"scattermapbox\",\"marker\":{\"colorbar\":{\"outlinewidth\":0,\"ticks\":\"\"}}}],\"scatterternary\":[{\"type\":\"scatterternary\",\"marker\":{\"colorbar\":{\"outlinewidth\":0,\"ticks\":\"\"}}}],\"scattercarpet\":[{\"type\":\"scattercarpet\",\"marker\":{\"colorbar\":{\"outlinewidth\":0,\"ticks\":\"\"}}}],\"carpet\":[{\"aaxis\":{\"endlinecolor\":\"#2a3f5f\",\"gridcolor\":\"white\",\"linecolor\":\"white\",\"minorgridcolor\":\"white\",\"startlinecolor\":\"#2a3f5f\"},\"baxis\":{\"endlinecolor\":\"#2a3f5f\",\"gridcolor\":\"white\",\"linecolor\":\"white\",\"minorgridcolor\":\"white\",\"startlinecolor\":\"#2a3f5f\"},\"type\":\"carpet\"}],\"table\":[{\"cells\":{\"fill\":{\"color\":\"#EBF0F8\"},\"line\":{\"color\":\"white\"}},\"header\":{\"fill\":{\"color\":\"#C8D4E3\"},\"line\":{\"color\":\"white\"}},\"type\":\"table\"}],\"barpolar\":[{\"marker\":{\"line\":{\"color\":\"#E5ECF6\",\"width\":0.5},\"pattern\":{\"fillmode\":\"overlay\",\"size\":10,\"solidity\":0.2}},\"type\":\"barpolar\"}],\"pie\":[{\"automargin\":true,\"type\":\"pie\"}]},\"layout\":{\"autotypenumbers\":\"strict\",\"colorway\":[\"#636efa\",\"#EF553B\",\"#00cc96\",\"#ab63fa\",\"#FFA15A\",\"#19d3f3\",\"#FF6692\",\"#B6E880\",\"#FF97FF\",\"#FECB52\"],\"font\":{\"color\":\"#2a3f5f\"},\"hovermode\":\"closest\",\"hoverlabel\":{\"align\":\"left\"},\"paper_bgcolor\":\"white\",\"plot_bgcolor\":\"#E5ECF6\",\"polar\":{\"bgcolor\":\"#E5ECF6\",\"angularaxis\":{\"gridcolor\":\"white\",\"linecolor\":\"white\",\"ticks\":\"\"},\"radialaxis\":{\"gridcolor\":\"white\",\"linecolor\":\"white\",\"ticks\":\"\"}},\"ternary\":{\"bgcolor\":\"#E5ECF6\",\"aaxis\":{\"gridcolor\":\"white\",\"linecolor\":\"white\",\"ticks\":\"\"},\"baxis\":{\"gridcolor\":\"white\",\"linecolor\":\"white\",\"ticks\":\"\"},\"caxis\":{\"gridcolor\":\"white\",\"linecolor\":\"white\",\"ticks\":\"\"}},\"coloraxis\":{\"colorbar\":{\"outlinewidth\":0,\"ticks\":\"\"}},\"colorscale\":{\"sequential\":[[0.0,\"#0d0887\"],[0.1111111111111111,\"#46039f\"],[0.2222222222222222,\"#7201a8\"],[0.3333333333333333,\"#9c179e\"],[0.4444444444444444,\"#bd3786\"],[0.5555555555555556,\"#d8576b\"],[0.6666666666666666,\"#ed7953\"],[0.7777777777777778,\"#fb9f3a\"],[0.8888888888888888,\"#fdca26\"],[1.0,\"#f0f921\"]],\"sequentialminus\":[[0.0,\"#0d0887\"],[0.1111111111111111,\"#46039f\"],[0.2222222222222222,\"#7201a8\"],[0.3333333333333333,\"#9c179e\"],[0.4444444444444444,\"#bd3786\"],[0.5555555555555556,\"#d8576b\"],[0.6666666666666666,\"#ed7953\"],[0.7777777777777778,\"#fb9f3a\"],[0.8888888888888888,\"#fdca26\"],[1.0,\"#f0f921\"]],\"diverging\":[[0,\"#8e0152\"],[0.1,\"#c51b7d\"],[0.2,\"#de77ae\"],[0.3,\"#f1b6da\"],[0.4,\"#fde0ef\"],[0.5,\"#f7f7f7\"],[0.6,\"#e6f5d0\"],[0.7,\"#b8e186\"],[0.8,\"#7fbc41\"],[0.9,\"#4d9221\"],[1,\"#276419\"]]},\"xaxis\":{\"gridcolor\":\"white\",\"linecolor\":\"white\",\"ticks\":\"\",\"title\":{\"standoff\":15},\"zerolinecolor\":\"white\",\"automargin\":true,\"zerolinewidth\":2},\"yaxis\":{\"gridcolor\":\"white\",\"linecolor\":\"white\",\"ticks\":\"\",\"title\":{\"standoff\":15},\"zerolinecolor\":\"white\",\"automargin\":true,\"zerolinewidth\":2},\"scene\":{\"xaxis\":{\"backgroundcolor\":\"#E5ECF6\",\"gridcolor\":\"white\",\"linecolor\":\"white\",\"showbackground\":true,\"ticks\":\"\",\"zerolinecolor\":\"white\",\"gridwidth\":2},\"yaxis\":{\"backgroundcolor\":\"#E5ECF6\",\"gridcolor\":\"white\",\"linecolor\":\"white\",\"showbackground\":true,\"ticks\":\"\",\"zerolinecolor\":\"white\",\"gridwidth\":2},\"zaxis\":{\"backgroundcolor\":\"#E5ECF6\",\"gridcolor\":\"white\",\"linecolor\":\"white\",\"showbackground\":true,\"ticks\":\"\",\"zerolinecolor\":\"white\",\"gridwidth\":2}},\"shapedefaults\":{\"line\":{\"color\":\"#2a3f5f\"}},\"annotationdefaults\":{\"arrowcolor\":\"#2a3f5f\",\"arrowhead\":0,\"arrowwidth\":1},\"geo\":{\"bgcolor\":\"white\",\"landcolor\":\"#E5ECF6\",\"subunitcolor\":\"white\",\"showland\":true,\"showlakes\":true,\"lakecolor\":\"white\"},\"title\":{\"x\":0.05},\"mapbox\":{\"style\":\"light\"}}},\"mapbox\":{\"domain\":{\"x\":[0.0,1.0],\"y\":[0.0,1.0]},\"center\":{\"lat\":37.919401718749995,\"lon\":-91.72353875},\"zoom\":3,\"style\":\"open-street-map\"},\"coloraxis\":{\"colorbar\":{\"title\":{\"text\":\"yr\"}},\"colorscale\":[[0,\"blue\"],[1,\"orange\"]]},\"legend\":{\"tracegroupgap\":0,\"itemsizing\":\"constant\"},\"margin\":{\"t\":0,\"r\":0,\"l\":0,\"b\":0},\"height\":800,\"width\":800},                        {\"responsive\": true}                    ).then(function(){\n",
       "                            \n",
       "var gd = document.getElementById('6b961cbf-5c22-4e27-abe7-01acc9f959af');\n",
       "var x = new MutationObserver(function (mutations, observer) {{\n",
       "        var display = window.getComputedStyle(gd).display;\n",
       "        if (!display || display === 'none') {{\n",
       "            console.log([gd, 'removed!']);\n",
       "            Plotly.purge(gd);\n",
       "            observer.disconnect();\n",
       "        }}\n",
       "}});\n",
       "\n",
       "// Listen for the removal of the full notebook cells\n",
       "var notebookContainer = gd.closest('#notebook-container');\n",
       "if (notebookContainer) {{\n",
       "    x.observe(notebookContainer, {childList: true});\n",
       "}}\n",
       "\n",
       "// Listen for the clearing of the current output cell\n",
       "var outputEl = gd.closest('.output');\n",
       "if (outputEl) {{\n",
       "    x.observe(outputEl, {childList: true});\n",
       "}}\n",
       "\n",
       "                        })                };                });            </script>        </div>"
      ]
     },
     "metadata": {},
     "output_type": "display_data"
    }
   ],
   "source": [
    "color_scale = [(0, 'blue'), (1,'orange')]\n",
    "\n",
    "fig = px.scatter_mapbox(df_EF45, \n",
    "                        lat=\"slat\", \n",
    "                        lon=\"slon\", \n",
    "                        hover_name=\"mag\", \n",
    "                        hover_data=[\"mag\", \"inj\",\"fat\"],\n",
    "                        color=\"yr\",\n",
    "                        color_continuous_scale=color_scale,\n",
    "                        size=\"wid\",\n",
    "                        zoom=3, \n",
    "                        height=800,\n",
    "                        width=800)\n",
    "\n",
    "fig.update_layout(mapbox_style=\"open-street-map\")\n",
    "fig.update_layout(margin={\"r\":0,\"t\":0,\"l\":0,\"b\":0})\n",
    "fig.show()"
   ]
  },
  {
   "cell_type": "markdown",
   "id": "bf7b27b5-2f77-4d39-8231-065a0586dbeb",
   "metadata": {},
   "source": [
    "Over time, tornado width looks like it's increasing and it looks like Tornado Alley has moved from the midwest to the south."
   ]
  },
  {
   "cell_type": "code",
   "execution_count": 16,
   "id": "e5b5e676-bf26-40c4-a320-d81632e718c5",
   "metadata": {},
   "outputs": [
    {
     "data": {
      "image/png": "[encoded data removed]",
      "text/plain": [
       "<Figure size 800x800 with 2 Axes>"
      ]
     },
     "metadata": {},
     "output_type": "display_data"
    }
   ],
   "source": [
    "df3[['mag','wid']].hist(figsize = (8,8))\n",
    "plt.show()"
   ]
  },
  {
   "cell_type": "markdown",
   "id": "cadf39f1-5cc2-4a35-a27b-8fba0cfd3236",
   "metadata": {},
   "source": [
    "Most tornados are low on the EF scale and are narrow. How has tornado width and intensity changed through time?"
   ]
  },
  {
   "cell_type": "code",
   "execution_count": 17,
   "id": "10b87503-f1df-466a-8198-3140dcf24761",
   "metadata": {},
   "outputs": [
    {
     "data": {
      "image/png": "[encoded data removed]",
      "text/plain": [
       "<Figure size 500x500 with 1 Axes>"
      ]
     },
     "metadata": {},
     "output_type": "display_data"
    }
   ],
   "source": [
    "sns.lmplot(\n",
    "    x = 'yr', \n",
    "    y =  'wid',\n",
    "    data = df3,\n",
    "    hue = 'mag',\n",
    "    legend = False,\n",
    "    fit_reg = False,\n",
    "    palette='magma'\n",
    "    )\n",
    "\n",
    "plt.title(\"Tornado intensity and width over time\")\n",
    "plt.xlabel(\"Year\")\n",
    "plt.ylabel(\"Tornado width (yards)\")\n",
    "plt.legend(title = 'Legend', loc = 'upper left', labels = ['0','1','2','3','4','5']);\n",
    "plt.show();"
   ]
  },
  {
   "cell_type": "markdown",
   "id": "19db433a-2367-42dc-8c46-87d991bd3aef",
   "metadata": {},
   "source": [
    "This scatterplot of all data has too much information to be very useful; the dots may be layered in a misleading way. Again, let's just look at EF 4 & 5 tornados over time. It does look like there's a lot of tornados with width = approximately 1750; perhaps this was used as a marker in the dataset. If I were cleaning this dataset I'd investigate some of the horizontal linear trends."
   ]
  },
  {
   "cell_type": "code",
   "execution_count": 18,
   "id": "a2cfd28b-43da-467a-9f68-3e18674b8666",
   "metadata": {},
   "outputs": [
    {
     "data": {
      "image/png": "[encoded data removed]",
      "text/plain": [
       "<Figure size 500x500 with 1 Axes>"
      ]
     },
     "metadata": {},
     "output_type": "display_data"
    }
   ],
   "source": [
    "sns.lmplot(\n",
    "    x = 'yr', \n",
    "    y =  'wid',\n",
    "    data = df_EF45,\n",
    "    hue = 'mag',\n",
    "    legend = False,\n",
    "    fit_reg = False,\n",
    "    palette='magma'\n",
    "    )\n",
    "\n",
    "plt.title(\"Tornado intensity and width over time (EF-4 and 5 only)\")\n",
    "plt.xlabel(\"Year\")\n",
    "plt.ylabel(\"Tornado width (yards)\")\n",
    "plt.legend(title = 'Legend', loc = 'upper left', labels = ['4','5']);\n",
    "plt.show();"
   ]
  },
  {
   "cell_type": "markdown",
   "id": "cc5512ea-91f4-44a4-b504-99f9ee57090b",
   "metadata": {},
   "source": [
    "More severe tornados appear to be getting wider over time. I'll pare down the data to just the most severe storms to see if I can clarify the trend further"
   ]
  },
  {
   "cell_type": "code",
   "execution_count": 19,
   "id": "9e0d95a0-6559-402c-bfcc-cdd7fcb56a9c",
   "metadata": {},
   "outputs": [
    {
     "data": {
      "text/plain": [
       "(59, 14)"
      ]
     },
     "execution_count": 19,
     "metadata": {},
     "output_type": "execute_result"
    }
   ],
   "source": [
    "df_EF5 = df3.loc[df3['mag'] == 5]\n",
    "df_EF5.shape"
   ]
  },
  {
   "cell_type": "code",
   "execution_count": 20,
   "id": "3fd4ef8f-b906-433a-b590-d85db6404b11",
   "metadata": {},
   "outputs": [
    {
     "data": {
      "image/png": "[encoded data removed]",
      "text/plain": [
       "<Figure size 500x500 with 1 Axes>"
      ]
     },
     "metadata": {},
     "output_type": "display_data"
    }
   ],
   "source": [
    "sns.lmplot(\n",
    "    x = 'yr', \n",
    "    y =  'wid',\n",
    "    data = df_EF5,\n",
    "    hue = 'mag',\n",
    "    legend = False,\n",
    "    fit_reg = False,\n",
    "    palette='magma'\n",
    "    )\n",
    "\n",
    "plt.title(\"Tornado width over time (EF-5 only)\")\n",
    "plt.xlabel(\"Year\")\n",
    "plt.ylabel(\"Tornado width (yards)\")\n",
    "plt.show();"
   ]
  },
  {
   "cell_type": "markdown",
   "id": "88b1f75a-a070-42e3-b3f8-f90221417ba8",
   "metadata": {},
   "source": [
    "F5 tornados show a clear positive size trend over time, noticeable after about 1990."
   ]
  },
  {
   "cell_type": "code",
   "execution_count": null,
   "id": "758d9a6f-c01d-43f8-bb1e-f1471088df33",
   "metadata": {},
   "outputs": [],
   "source": []
  }
 ],
 "metadata": {
  "kernelspec": {
   "display_name": "Python 3 (ipykernel)",
   "language": "python",
   "name": "python3"
  },
  "language_info": {
   "codemirror_mode": {
    "name": "ipython",
    "version": 3
   },
   "file_extension": ".py",
   "mimetype": "text/x-python",
   "name": "python",
   "nbconvert_exporter": "python",
   "pygments_lexer": "ipython3",
   "version": "3.11.7"
  }
 },
 "nbformat": 4,
 "nbformat_minor": 5
}
