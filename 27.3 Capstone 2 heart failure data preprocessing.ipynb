{
 "cells": [
  {
   "cell_type": "markdown",
   "id": "38b3fd35-2d68-4606-922e-21d9b1b5a698",
   "metadata": {},
   "source": [
    "The objective of this notebook is to prepare the Capstone 2 heart failure dataset for machine learning. Relevant preprocessing steps include scaling and splitting the data into training and test sets."
   ]
  },
  {
   "cell_type": "code",
   "execution_count": null,
   "id": "075b9f58-41fe-4694-93e8-8318cfde6830",
   "metadata": {},
   "outputs": [],
   "source": [
    "# import relevant libraries and packages\n",
    "import pandas as pd\n",
    "import matplotlib.pyplot as plt\n",
    "import numpy as np\n",
    "import math\n",
    "import seaborn as sns\n",
    "from sklearn.preprocessing import StandardScaler\n",
    "from sklearn.model_selection import train_test_split"
   ]
  },
  {
   "cell_type": "code",
   "execution_count": 4,
   "id": "f20b5613-4ff9-4c28-b8d6-c54a2ca3270e",
   "metadata": {},
   "outputs": [],
   "source": [
    "df = pd.read_csv('heart_failure_clinical_records_dataset.csv')"
   ]
  },
  {
   "cell_type": "code",
   "execution_count": 5,
   "id": "8a5a914f-24f4-4e0f-a68a-0d35e9842545",
   "metadata": {},
   "outputs": [
    {
     "data": {
      "text/plain": [
       "age                         float64\n",
       "anaemia                       int64\n",
       "creatinine_phosphokinase      int64\n",
       "diabetes                      int64\n",
       "ejection_fraction             int64\n",
       "high_blood_pressure           int64\n",
       "platelets                   float64\n",
       "serum_creatinine            float64\n",
       "serum_sodium                  int64\n",
       "sex                           int64\n",
       "smoking                       int64\n",
       "time                          int64\n",
       "DEATH_EVENT                   int64\n",
       "dtype: object"
      ]
     },
     "execution_count": 5,
     "metadata": {},
     "output_type": "execute_result"
    }
   ],
   "source": [
    "#Check dtypes\n",
    "df.dtypes"
   ]
  },
  {
   "cell_type": "code",
   "execution_count": 6,
   "id": "a1f03146-a35a-4d4c-a9bd-dfe08545f213",
   "metadata": {},
   "outputs": [
    {
     "data": {
      "text/html": [
       "<div>\n",
       "<style scoped>\n",
       "    .dataframe tbody tr th:only-of-type {\n",
       "        vertical-align: middle;\n",
       "    }\n",
       "\n",
       "    .dataframe tbody tr th {\n",
       "        vertical-align: top;\n",
       "    }\n",
       "\n",
       "    .dataframe thead th {\n",
       "        text-align: right;\n",
       "    }\n",
       "</style>\n",
       "<table border=\"1\" class=\"dataframe\">\n",
       "  <thead>\n",
       "    <tr style=\"text-align: right;\">\n",
       "      <th></th>\n",
       "      <th>age</th>\n",
       "      <th>anaemia</th>\n",
       "      <th>creatinine_phosphokinase</th>\n",
       "      <th>diabetes</th>\n",
       "      <th>ejection_fraction</th>\n",
       "      <th>high_blood_pressure</th>\n",
       "      <th>platelets</th>\n",
       "      <th>serum_creatinine</th>\n",
       "      <th>serum_sodium</th>\n",
       "      <th>sex</th>\n",
       "      <th>smoking</th>\n",
       "      <th>time</th>\n",
       "      <th>DEATH_EVENT</th>\n",
       "    </tr>\n",
       "  </thead>\n",
       "  <tbody>\n",
       "    <tr>\n",
       "      <th>0</th>\n",
       "      <td>75.0</td>\n",
       "      <td>0</td>\n",
       "      <td>582</td>\n",
       "      <td>0</td>\n",
       "      <td>20</td>\n",
       "      <td>1</td>\n",
       "      <td>265000.00</td>\n",
       "      <td>1.9</td>\n",
       "      <td>130</td>\n",
       "      <td>1</td>\n",
       "      <td>0</td>\n",
       "      <td>4</td>\n",
       "      <td>1</td>\n",
       "    </tr>\n",
       "    <tr>\n",
       "      <th>1</th>\n",
       "      <td>55.0</td>\n",
       "      <td>0</td>\n",
       "      <td>7861</td>\n",
       "      <td>0</td>\n",
       "      <td>38</td>\n",
       "      <td>0</td>\n",
       "      <td>263358.03</td>\n",
       "      <td>1.1</td>\n",
       "      <td>136</td>\n",
       "      <td>1</td>\n",
       "      <td>0</td>\n",
       "      <td>6</td>\n",
       "      <td>1</td>\n",
       "    </tr>\n",
       "    <tr>\n",
       "      <th>2</th>\n",
       "      <td>65.0</td>\n",
       "      <td>0</td>\n",
       "      <td>146</td>\n",
       "      <td>0</td>\n",
       "      <td>20</td>\n",
       "      <td>0</td>\n",
       "      <td>162000.00</td>\n",
       "      <td>1.3</td>\n",
       "      <td>129</td>\n",
       "      <td>1</td>\n",
       "      <td>1</td>\n",
       "      <td>7</td>\n",
       "      <td>1</td>\n",
       "    </tr>\n",
       "    <tr>\n",
       "      <th>3</th>\n",
       "      <td>50.0</td>\n",
       "      <td>1</td>\n",
       "      <td>111</td>\n",
       "      <td>0</td>\n",
       "      <td>20</td>\n",
       "      <td>0</td>\n",
       "      <td>210000.00</td>\n",
       "      <td>1.9</td>\n",
       "      <td>137</td>\n",
       "      <td>1</td>\n",
       "      <td>0</td>\n",
       "      <td>7</td>\n",
       "      <td>1</td>\n",
       "    </tr>\n",
       "    <tr>\n",
       "      <th>4</th>\n",
       "      <td>65.0</td>\n",
       "      <td>1</td>\n",
       "      <td>160</td>\n",
       "      <td>1</td>\n",
       "      <td>20</td>\n",
       "      <td>0</td>\n",
       "      <td>327000.00</td>\n",
       "      <td>2.7</td>\n",
       "      <td>116</td>\n",
       "      <td>0</td>\n",
       "      <td>0</td>\n",
       "      <td>8</td>\n",
       "      <td>1</td>\n",
       "    </tr>\n",
       "  </tbody>\n",
       "</table>\n",
       "</div>"
      ],
      "text/plain": [
       "    age  anaemia  creatinine_phosphokinase  diabetes  ejection_fraction  \\\n",
       "0  75.0        0                       582         0                 20   \n",
       "1  55.0        0                      7861         0                 38   \n",
       "2  65.0        0                       146         0                 20   \n",
       "3  50.0        1                       111         0                 20   \n",
       "4  65.0        1                       160         1                 20   \n",
       "\n",
       "   high_blood_pressure  platelets  serum_creatinine  serum_sodium  sex  \\\n",
       "0                    1  265000.00               1.9           130    1   \n",
       "1                    0  263358.03               1.1           136    1   \n",
       "2                    0  162000.00               1.3           129    1   \n",
       "3                    0  210000.00               1.9           137    1   \n",
       "4                    0  327000.00               2.7           116    0   \n",
       "\n",
       "   smoking  time  DEATH_EVENT  \n",
       "0        0     4            1  \n",
       "1        0     6            1  \n",
       "2        1     7            1  \n",
       "3        0     7            1  \n",
       "4        0     8            1  "
      ]
     },
     "execution_count": 6,
     "metadata": {},
     "output_type": "execute_result"
    }
   ],
   "source": [
    "df.head()"
   ]
  },
  {
   "cell_type": "markdown",
   "id": "fd677aec-11d4-435f-b276-1c858f9f5f43",
   "metadata": {},
   "source": [
    "Categorical variables (for example, diabetic and not diabetic) have already been converted to binary values."
   ]
  },
  {
   "cell_type": "code",
   "execution_count": 7,
   "id": "bd421ce9-3735-4df6-bd31-f39df6d51aa2",
   "metadata": {},
   "outputs": [
    {
     "data": {
      "image/png": "[encoded data removed]",
      "text/plain": [
       "<Figure size 1500x1000 with 16 Axes>"
      ]
     },
     "metadata": {},
     "output_type": "display_data"
    }
   ],
   "source": [
    "#Next, review histograms of the columns to check variable distribution.\n",
    "df.hist(bins=30, figsize=(15, 10));"
   ]
  },
  {
   "cell_type": "markdown",
   "id": "1ff93af8-cd22-4ecd-84fe-14eec4141bfb",
   "metadata": {},
   "source": [
    "Variables differ in magnitude and should have a scaler applied. Boolean/binary features do not require scaling. However, we will split the data prior to scaling to prevent data leakage."
   ]
  },
  {
   "cell_type": "markdown",
   "id": "e8d20178-5e64-4718-827a-5a8896a43cdf",
   "metadata": {},
   "source": [
    "A 70/30 train/test split will result in 209 records in the training set and 98 in the test set. We need to arrange the data into the features (X) and the value we wish to predict (y, 'DEATH_EVENT')."
   ]
  },
  {
   "cell_type": "markdown",
   "id": "061c1e71-e970-4216-9c48-bf825130bf28",
   "metadata": {},
   "source": [
    "# Perform test train split"
   ]
  },
  {
   "cell_type": "code",
   "execution_count": 8,
   "id": "7ae85012-2322-4871-b719-1266fe97250b",
   "metadata": {},
   "outputs": [],
   "source": [
    "# Create X (features only)\n",
    "X = df.drop(columns = 'DEATH_EVENT', axis = 1)"
   ]
  },
  {
   "cell_type": "code",
   "execution_count": 9,
   "id": "bd043b7a-e9c4-401c-82aa-26537dad3306",
   "metadata": {},
   "outputs": [],
   "source": [
    "# Create y (variable to predict)\n",
    "y = df['DEATH_EVENT']"
   ]
  },
  {
   "cell_type": "code",
   "execution_count": 10,
   "id": "3b1c9310-b9c4-40a6-bfe8-0e7c6ac5a5ed",
   "metadata": {},
   "outputs": [],
   "source": [
    "X_train, X_test, y_train, y_test = train_test_split(X, y, test_size=0.3, random_state=47)"
   ]
  },
  {
   "cell_type": "code",
   "execution_count": 11,
   "id": "53065802-bc3c-4bf2-bf9d-71ad70e7c3b1",
   "metadata": {},
   "outputs": [
    {
     "data": {
      "text/plain": [
       "((209, 12), (90, 12))"
      ]
     },
     "execution_count": 11,
     "metadata": {},
     "output_type": "execute_result"
    }
   ],
   "source": [
    "# Check size of training and test sets\n",
    "X_train.shape, X_test.shape"
   ]
  },
  {
   "cell_type": "code",
   "execution_count": 12,
   "id": "0d45ee54-6882-4f59-ad01-53407e55e584",
   "metadata": {},
   "outputs": [
    {
     "data": {
      "text/plain": [
       "((209,), (90,))"
      ]
     },
     "execution_count": 12,
     "metadata": {},
     "output_type": "execute_result"
    }
   ],
   "source": [
    "y_train.shape, y_test.shape"
   ]
  },
  {
   "cell_type": "code",
   "execution_count": 13,
   "id": "cae4dc61-e14f-4abd-8e32-1f5e556be406",
   "metadata": {},
   "outputs": [
    {
     "data": {
      "text/plain": [
       "count    209.000000\n",
       "mean       0.291866\n",
       "std        0.455713\n",
       "min        0.000000\n",
       "25%        0.000000\n",
       "50%        0.000000\n",
       "75%        1.000000\n",
       "max        1.000000\n",
       "Name: DEATH_EVENT, dtype: float64"
      ]
     },
     "execution_count": 13,
     "metadata": {},
     "output_type": "execute_result"
    }
   ],
   "source": [
    "y_train.describe()"
   ]
  },
  {
   "cell_type": "code",
   "execution_count": 14,
   "id": "94fb8173-799d-4163-8662-8547f65157d9",
   "metadata": {},
   "outputs": [
    {
     "data": {
      "text/plain": [
       "count    90.000000\n",
       "mean      0.388889\n",
       "std       0.490229\n",
       "min       0.000000\n",
       "25%       0.000000\n",
       "50%       0.000000\n",
       "75%       1.000000\n",
       "max       1.000000\n",
       "Name: DEATH_EVENT, dtype: float64"
      ]
     },
     "execution_count": 14,
     "metadata": {},
     "output_type": "execute_result"
    }
   ],
   "source": [
    "y_test.describe()"
   ]
  },
  {
   "cell_type": "markdown",
   "id": "e53d5073-5568-40a7-a061-91ef12bd64c5",
   "metadata": {},
   "source": [
    "In the training set, 30% of the population died, while in the test set, 39% died. "
   ]
  },
  {
   "cell_type": "markdown",
   "id": "1015845e-9d01-43fe-8d65-782c019efbd2",
   "metadata": {},
   "source": [
    "Time to isolate and scale all non Boolean features."
   ]
  },
  {
   "cell_type": "markdown",
   "id": "7d3b497d-1c24-41bb-8298-a536a3147a07",
   "metadata": {},
   "source": [
    "# Separate binary and non-binary features\n",
    "    Non-binary: X_train_to_scale and X_test_to_scale\n",
    "    Binary: X_train_other and X_test_other"
   ]
  },
  {
   "cell_type": "code",
   "execution_count": 15,
   "id": "05c26c7d-f1d0-4662-b4b5-69bd0c9c3109",
   "metadata": {},
   "outputs": [
    {
     "data": {
      "text/plain": [
       "Index(['age', 'anaemia', 'creatinine_phosphokinase', 'diabetes',\n",
       "       'ejection_fraction', 'high_blood_pressure', 'platelets',\n",
       "       'serum_creatinine', 'serum_sodium', 'sex', 'smoking', 'time'],\n",
       "      dtype='object')"
      ]
     },
     "execution_count": 15,
     "metadata": {},
     "output_type": "execute_result"
    }
   ],
   "source": [
    "X_train.columns"
   ]
  },
  {
   "cell_type": "code",
   "execution_count": 16,
   "id": "463238c7-f371-4f41-9543-052d97a95f85",
   "metadata": {},
   "outputs": [],
   "source": [
    "#Separate the features\n",
    "X_train_to_scale = X_train[['age', 'creatinine_phosphokinase', 'ejection_fraction', 'platelets',\n",
    "       'serum_creatinine', 'serum_sodium', 'time']]"
   ]
  },
  {
   "cell_type": "code",
   "execution_count": 22,
   "id": "a06815e6-f9f2-419b-9c2e-4f2f6379b2ed",
   "metadata": {},
   "outputs": [],
   "source": [
    "X_test_to_scale = X_test[['age', 'creatinine_phosphokinase', 'ejection_fraction', 'platelets',\n",
    "       'serum_creatinine', 'serum_sodium', 'time']]"
   ]
  },
  {
   "cell_type": "code",
   "execution_count": 37,
   "id": "4a46ba6b-a642-4fff-acaa-ad2d35ff48c7",
   "metadata": {},
   "outputs": [],
   "source": [
    "X_train_other = X_train[['anaemia', 'diabetes', 'high_blood_pressure', 'sex', 'smoking']]"
   ]
  },
  {
   "cell_type": "code",
   "execution_count": 38,
   "id": "56d51e2b-d8dd-4f66-b6af-08421c70fbd6",
   "metadata": {},
   "outputs": [],
   "source": [
    "X_test_other = X_test[['anaemia', 'diabetes', 'high_blood_pressure', 'sex', 'smoking']]"
   ]
  },
  {
   "cell_type": "code",
   "execution_count": 23,
   "id": "5504e16f-2506-4c45-ae40-aa51beef70d7",
   "metadata": {},
   "outputs": [
    {
     "data": {
      "text/html": [
       "<div>\n",
       "<style scoped>\n",
       "    .dataframe tbody tr th:only-of-type {\n",
       "        vertical-align: middle;\n",
       "    }\n",
       "\n",
       "    .dataframe tbody tr th {\n",
       "        vertical-align: top;\n",
       "    }\n",
       "\n",
       "    .dataframe thead th {\n",
       "        text-align: right;\n",
       "    }\n",
       "</style>\n",
       "<table border=\"1\" class=\"dataframe\">\n",
       "  <thead>\n",
       "    <tr style=\"text-align: right;\">\n",
       "      <th></th>\n",
       "      <th>age</th>\n",
       "      <th>creatinine_phosphokinase</th>\n",
       "      <th>ejection_fraction</th>\n",
       "      <th>platelets</th>\n",
       "      <th>serum_creatinine</th>\n",
       "      <th>serum_sodium</th>\n",
       "      <th>time</th>\n",
       "    </tr>\n",
       "  </thead>\n",
       "  <tbody>\n",
       "    <tr>\n",
       "      <th>189</th>\n",
       "      <td>40.0</td>\n",
       "      <td>244</td>\n",
       "      <td>45</td>\n",
       "      <td>275000.00</td>\n",
       "      <td>0.90</td>\n",
       "      <td>140</td>\n",
       "      <td>174</td>\n",
       "    </tr>\n",
       "    <tr>\n",
       "      <th>34</th>\n",
       "      <td>65.0</td>\n",
       "      <td>94</td>\n",
       "      <td>50</td>\n",
       "      <td>188000.00</td>\n",
       "      <td>1.00</td>\n",
       "      <td>140</td>\n",
       "      <td>29</td>\n",
       "    </tr>\n",
       "    <tr>\n",
       "      <th>45</th>\n",
       "      <td>50.0</td>\n",
       "      <td>582</td>\n",
       "      <td>38</td>\n",
       "      <td>310000.00</td>\n",
       "      <td>1.90</td>\n",
       "      <td>135</td>\n",
       "      <td>35</td>\n",
       "    </tr>\n",
       "    <tr>\n",
       "      <th>102</th>\n",
       "      <td>80.0</td>\n",
       "      <td>898</td>\n",
       "      <td>25</td>\n",
       "      <td>149000.00</td>\n",
       "      <td>1.10</td>\n",
       "      <td>144</td>\n",
       "      <td>87</td>\n",
       "    </tr>\n",
       "    <tr>\n",
       "      <th>219</th>\n",
       "      <td>55.0</td>\n",
       "      <td>582</td>\n",
       "      <td>35</td>\n",
       "      <td>371000.00</td>\n",
       "      <td>0.70</td>\n",
       "      <td>140</td>\n",
       "      <td>197</td>\n",
       "    </tr>\n",
       "    <tr>\n",
       "      <th>...</th>\n",
       "      <td>...</td>\n",
       "      <td>...</td>\n",
       "      <td>...</td>\n",
       "      <td>...</td>\n",
       "      <td>...</td>\n",
       "      <td>...</td>\n",
       "      <td>...</td>\n",
       "    </tr>\n",
       "    <tr>\n",
       "      <th>23</th>\n",
       "      <td>53.0</td>\n",
       "      <td>63</td>\n",
       "      <td>60</td>\n",
       "      <td>368000.00</td>\n",
       "      <td>0.80</td>\n",
       "      <td>135</td>\n",
       "      <td>22</td>\n",
       "    </tr>\n",
       "    <tr>\n",
       "      <th>179</th>\n",
       "      <td>55.0</td>\n",
       "      <td>835</td>\n",
       "      <td>40</td>\n",
       "      <td>279000.00</td>\n",
       "      <td>0.70</td>\n",
       "      <td>140</td>\n",
       "      <td>147</td>\n",
       "    </tr>\n",
       "    <tr>\n",
       "      <th>72</th>\n",
       "      <td>85.0</td>\n",
       "      <td>5882</td>\n",
       "      <td>35</td>\n",
       "      <td>243000.00</td>\n",
       "      <td>1.00</td>\n",
       "      <td>132</td>\n",
       "      <td>72</td>\n",
       "    </tr>\n",
       "    <tr>\n",
       "      <th>264</th>\n",
       "      <td>61.0</td>\n",
       "      <td>582</td>\n",
       "      <td>38</td>\n",
       "      <td>147000.00</td>\n",
       "      <td>1.20</td>\n",
       "      <td>141</td>\n",
       "      <td>237</td>\n",
       "    </tr>\n",
       "    <tr>\n",
       "      <th>135</th>\n",
       "      <td>75.0</td>\n",
       "      <td>582</td>\n",
       "      <td>40</td>\n",
       "      <td>263358.03</td>\n",
       "      <td>1.18</td>\n",
       "      <td>137</td>\n",
       "      <td>107</td>\n",
       "    </tr>\n",
       "  </tbody>\n",
       "</table>\n",
       "<p>209 rows × 7 columns</p>\n",
       "</div>"
      ],
      "text/plain": [
       "      age  creatinine_phosphokinase  ejection_fraction  platelets  \\\n",
       "189  40.0                       244                 45  275000.00   \n",
       "34   65.0                        94                 50  188000.00   \n",
       "45   50.0                       582                 38  310000.00   \n",
       "102  80.0                       898                 25  149000.00   \n",
       "219  55.0                       582                 35  371000.00   \n",
       "..    ...                       ...                ...        ...   \n",
       "23   53.0                        63                 60  368000.00   \n",
       "179  55.0                       835                 40  279000.00   \n",
       "72   85.0                      5882                 35  243000.00   \n",
       "264  61.0                       582                 38  147000.00   \n",
       "135  75.0                       582                 40  263358.03   \n",
       "\n",
       "     serum_creatinine  serum_sodium  time  \n",
       "189              0.90           140   174  \n",
       "34               1.00           140    29  \n",
       "45               1.90           135    35  \n",
       "102              1.10           144    87  \n",
       "219              0.70           140   197  \n",
       "..                ...           ...   ...  \n",
       "23               0.80           135    22  \n",
       "179              0.70           140   147  \n",
       "72               1.00           132    72  \n",
       "264              1.20           141   237  \n",
       "135              1.18           137   107  \n",
       "\n",
       "[209 rows x 7 columns]"
      ]
     },
     "execution_count": 23,
     "metadata": {},
     "output_type": "execute_result"
    }
   ],
   "source": [
    "X_train_to_scale"
   ]
  },
  {
   "cell_type": "code",
   "execution_count": 24,
   "id": "a0e49cb5-3277-4a9e-82c5-2463b2c4e7d7",
   "metadata": {},
   "outputs": [
    {
     "data": {
      "text/plain": [
       "Index([189,  34,  45, 102, 219, 121, 107, 297,   1, 231,\n",
       "       ...\n",
       "       173,  71, 263, 208,  59,  23, 179,  72, 264, 135],\n",
       "      dtype='int64', length=209)"
      ]
     },
     "execution_count": 24,
     "metadata": {},
     "output_type": "execute_result"
    }
   ],
   "source": [
    "#Take a look at the index values\n",
    "X_train_to_scale.index.unique()"
   ]
  },
  {
   "cell_type": "code",
   "execution_count": 35,
   "id": "c47e2540-c595-4fa1-aeb0-72dfcc3fdd8c",
   "metadata": {},
   "outputs": [
    {
     "data": {
      "text/plain": [
       "Index([212,  40, 128, 180,   5, 226, 145,  63, 122, 197, 268, 234,  64, 247,\n",
       "        39,  10, 241, 254, 246,  55, 272, 172,  42,  35,  32, 166, 131, 138,\n",
       "       252,  92,  69, 132, 127,  74, 182, 192, 164, 277,  25, 196, 133,  60,\n",
       "        13, 210,  16,  15,  43, 183,   8, 201,  96,  83,   0,  20,  14, 202,\n",
       "        68,   3,  19, 148, 281, 119,  47,  58, 191,   9, 204, 285,  22,  62,\n",
       "       239, 108,  33, 165,  26, 261, 215, 203, 295, 130, 294, 176,  82, 115,\n",
       "       284, 139, 230, 253,  81,  76],\n",
       "      dtype='int64')"
      ]
     },
     "execution_count": 35,
     "metadata": {},
     "output_type": "execute_result"
    }
   ],
   "source": [
    "#Get the expected index values for the test set too\n",
    "X_test_to_scale.index.unique()"
   ]
  },
  {
   "cell_type": "code",
   "execution_count": 34,
   "id": "6737c10f-2e45-4b90-ba54-7dd51f4b873f",
   "metadata": {},
   "outputs": [
    {
     "name": "stdout",
     "output_type": "stream",
     "text": [
      "<class 'pandas.core.frame.DataFrame'>\n",
      "Index: 209 entries, 189 to 135\n",
      "Data columns (total 7 columns):\n",
      " #   Column                    Non-Null Count  Dtype  \n",
      "---  ------                    --------------  -----  \n",
      " 0   age                       209 non-null    float64\n",
      " 1   creatinine_phosphokinase  209 non-null    int64  \n",
      " 2   ejection_fraction         209 non-null    int64  \n",
      " 3   platelets                 209 non-null    float64\n",
      " 4   serum_creatinine          209 non-null    float64\n",
      " 5   serum_sodium              209 non-null    int64  \n",
      " 6   time                      209 non-null    int64  \n",
      "dtypes: float64(3), int64(4)\n",
      "memory usage: 21.2 KB\n"
     ]
    }
   ],
   "source": [
    "X_train_to_scale.info()"
   ]
  },
  {
   "cell_type": "markdown",
   "id": "a5f3c9d7-c0a2-4ff2-ab70-cdd6510755e2",
   "metadata": {},
   "source": [
    "# Scale the non-binary features with StandardScaler"
   ]
  },
  {
   "cell_type": "code",
   "execution_count": 26,
   "id": "ee903268-3781-4568-82cc-751c45177e6e",
   "metadata": {},
   "outputs": [],
   "source": [
    "# Use StandardScaler() to transform the non-binary features. This will change the df into an array and drop the index\n",
    "scaler = StandardScaler()\n",
    "scaler.fit(X_train_to_scale)\n",
    "X_tr_scaled = scaler.transform(X_train_to_scale)\n",
    "X_te_scaled = scaler.transform(X_test_to_scale)"
   ]
  },
  {
   "cell_type": "code",
   "execution_count": 28,
   "id": "be67121c-43a6-4919-84a9-838fcd4e62c3",
   "metadata": {},
   "outputs": [],
   "source": [
    "#Change the array back to DataFrame; restore column names and index\n",
    "X_tr_scaled_df = pd.DataFrame(X_tr_scaled, index = X_train_to_scale.index, columns = X_train_to_scale.columns)"
   ]
  },
  {
   "cell_type": "code",
   "execution_count": 29,
   "id": "c264cbd0-c8fe-4431-b7dc-d243d4236151",
   "metadata": {},
   "outputs": [],
   "source": [
    "X_te_scaled_df = pd.DataFrame(X_te_scaled, index = X_test_to_scale.index, columns = X_test_to_scale.columns)"
   ]
  },
  {
   "cell_type": "code",
   "execution_count": 30,
   "id": "731854c2-2887-438b-93d6-a85b32eebd27",
   "metadata": {},
   "outputs": [
    {
     "name": "stdout",
     "output_type": "stream",
     "text": [
      "<class 'pandas.core.frame.DataFrame'>\n",
      "Index: 209 entries, 189 to 135\n",
      "Data columns (total 7 columns):\n",
      " #   Column                    Non-Null Count  Dtype  \n",
      "---  ------                    --------------  -----  \n",
      " 0   age                       209 non-null    float64\n",
      " 1   creatinine_phosphokinase  209 non-null    float64\n",
      " 2   ejection_fraction         209 non-null    float64\n",
      " 3   platelets                 209 non-null    float64\n",
      " 4   serum_creatinine          209 non-null    float64\n",
      " 5   serum_sodium              209 non-null    float64\n",
      " 6   time                      209 non-null    float64\n",
      "dtypes: float64(7)\n",
      "memory usage: 21.2 KB\n"
     ]
    }
   ],
   "source": [
    "X_tr_scaled_df.info()"
   ]
  },
  {
   "cell_type": "code",
   "execution_count": 31,
   "id": "5dd204c4-9c19-4b53-937b-f7e8c264a095",
   "metadata": {},
   "outputs": [
    {
     "data": {
      "text/plain": [
       "Index([189,  34,  45, 102, 219, 121, 107, 297,   1, 231,\n",
       "       ...\n",
       "       173,  71, 263, 208,  59,  23, 179,  72, 264, 135],\n",
       "      dtype='int64', length=209)"
      ]
     },
     "execution_count": 31,
     "metadata": {},
     "output_type": "execute_result"
    }
   ],
   "source": [
    "X_tr_scaled_df.index.unique()"
   ]
  },
  {
   "cell_type": "markdown",
   "id": "f700c56e-63fa-40f7-82ac-7d85df7a2e8c",
   "metadata": {},
   "source": [
    "Great, looks like the index matches the expected values."
   ]
  },
  {
   "cell_type": "code",
   "execution_count": 53,
   "id": "6eb200d4-21cc-476d-80a6-0317cc67b8d5",
   "metadata": {},
   "outputs": [
    {
     "data": {
      "text/html": [
       "<div>\n",
       "<style scoped>\n",
       "    .dataframe tbody tr th:only-of-type {\n",
       "        vertical-align: middle;\n",
       "    }\n",
       "\n",
       "    .dataframe tbody tr th {\n",
       "        vertical-align: top;\n",
       "    }\n",
       "\n",
       "    .dataframe thead th {\n",
       "        text-align: right;\n",
       "    }\n",
       "</style>\n",
       "<table border=\"1\" class=\"dataframe\">\n",
       "  <thead>\n",
       "    <tr style=\"text-align: right;\">\n",
       "      <th></th>\n",
       "      <th>age</th>\n",
       "      <th>creatinine_phosphokinase</th>\n",
       "      <th>ejection_fraction</th>\n",
       "      <th>platelets</th>\n",
       "      <th>serum_creatinine</th>\n",
       "      <th>serum_sodium</th>\n",
       "      <th>time</th>\n",
       "    </tr>\n",
       "  </thead>\n",
       "  <tbody>\n",
       "    <tr>\n",
       "      <th>0</th>\n",
       "      <td>-1.733590</td>\n",
       "      <td>-0.370687</td>\n",
       "      <td>0.624243</td>\n",
       "      <td>0.102121</td>\n",
       "      <td>-0.471101</td>\n",
       "      <td>0.700065</td>\n",
       "      <td>0.499511</td>\n",
       "    </tr>\n",
       "    <tr>\n",
       "      <th>1</th>\n",
       "      <td>0.427538</td>\n",
       "      <td>-0.520704</td>\n",
       "      <td>1.057400</td>\n",
       "      <td>-0.752545</td>\n",
       "      <td>-0.367589</td>\n",
       "      <td>0.700065</td>\n",
       "      <td>-1.415197</td>\n",
       "    </tr>\n",
       "    <tr>\n",
       "      <th>2</th>\n",
       "      <td>-0.869139</td>\n",
       "      <td>-0.032650</td>\n",
       "      <td>0.017824</td>\n",
       "      <td>0.445953</td>\n",
       "      <td>0.564014</td>\n",
       "      <td>-0.386960</td>\n",
       "      <td>-1.335968</td>\n",
       "    </tr>\n",
       "    <tr>\n",
       "      <th>3</th>\n",
       "      <td>1.724214</td>\n",
       "      <td>0.283386</td>\n",
       "      <td>-1.108384</td>\n",
       "      <td>-1.135672</td>\n",
       "      <td>-0.264078</td>\n",
       "      <td>1.569686</td>\n",
       "      <td>-0.649314</td>\n",
       "    </tr>\n",
       "    <tr>\n",
       "      <th>4</th>\n",
       "      <td>-0.436913</td>\n",
       "      <td>-0.032650</td>\n",
       "      <td>-0.242070</td>\n",
       "      <td>1.045202</td>\n",
       "      <td>-0.678124</td>\n",
       "      <td>0.700065</td>\n",
       "      <td>0.803223</td>\n",
       "    </tr>\n",
       "  </tbody>\n",
       "</table>\n",
       "</div>"
      ],
      "text/plain": [
       "        age  creatinine_phosphokinase  ejection_fraction  platelets  \\\n",
       "0 -1.733590                 -0.370687           0.624243   0.102121   \n",
       "1  0.427538                 -0.520704           1.057400  -0.752545   \n",
       "2 -0.869139                 -0.032650           0.017824   0.445953   \n",
       "3  1.724214                  0.283386          -1.108384  -1.135672   \n",
       "4 -0.436913                 -0.032650          -0.242070   1.045202   \n",
       "\n",
       "   serum_creatinine  serum_sodium      time  \n",
       "0         -0.471101      0.700065  0.499511  \n",
       "1         -0.367589      0.700065 -1.415197  \n",
       "2          0.564014     -0.386960 -1.335968  \n",
       "3         -0.264078      1.569686 -0.649314  \n",
       "4         -0.678124      0.700065  0.803223  "
      ]
     },
     "execution_count": 53,
     "metadata": {},
     "output_type": "execute_result"
    }
   ],
   "source": [
    "#Check that the dataframe looks as expected -- did it scale?\n",
    "X_tr_scaled_df.head()"
   ]
  },
  {
   "cell_type": "code",
   "execution_count": 32,
   "id": "8bc80729-c6a9-41c8-b780-b42fd3311254",
   "metadata": {},
   "outputs": [
    {
     "data": {
      "text/html": [
       "<div>\n",
       "<style scoped>\n",
       "    .dataframe tbody tr th:only-of-type {\n",
       "        vertical-align: middle;\n",
       "    }\n",
       "\n",
       "    .dataframe tbody tr th {\n",
       "        vertical-align: top;\n",
       "    }\n",
       "\n",
       "    .dataframe thead th {\n",
       "        text-align: right;\n",
       "    }\n",
       "</style>\n",
       "<table border=\"1\" class=\"dataframe\">\n",
       "  <thead>\n",
       "    <tr style=\"text-align: right;\">\n",
       "      <th></th>\n",
       "      <th>age</th>\n",
       "      <th>creatinine_phosphokinase</th>\n",
       "      <th>ejection_fraction</th>\n",
       "      <th>platelets</th>\n",
       "      <th>serum_creatinine</th>\n",
       "      <th>serum_sodium</th>\n",
       "      <th>time</th>\n",
       "    </tr>\n",
       "  </thead>\n",
       "  <tbody>\n",
       "    <tr>\n",
       "      <th>212</th>\n",
       "      <td>1.551324</td>\n",
       "      <td>-0.390689</td>\n",
       "      <td>1.057400</td>\n",
       "      <td>2.125815</td>\n",
       "      <td>0.046456</td>\n",
       "      <td>0.265255</td>\n",
       "      <td>0.737199</td>\n",
       "    </tr>\n",
       "    <tr>\n",
       "      <th>40</th>\n",
       "      <td>0.859763</td>\n",
       "      <td>-0.032650</td>\n",
       "      <td>-1.541540</td>\n",
       "      <td>-0.012246</td>\n",
       "      <td>0.491556</td>\n",
       "      <td>-0.604366</td>\n",
       "      <td>-1.388787</td>\n",
       "    </tr>\n",
       "    <tr>\n",
       "      <th>128</th>\n",
       "      <td>0.081757</td>\n",
       "      <td>-0.366687</td>\n",
       "      <td>-0.675227</td>\n",
       "      <td>0.023531</td>\n",
       "      <td>-0.678124</td>\n",
       "      <td>-0.169555</td>\n",
       "      <td>-0.424831</td>\n",
       "    </tr>\n",
       "    <tr>\n",
       "      <th>180</th>\n",
       "      <td>-1.733590</td>\n",
       "      <td>-0.136661</td>\n",
       "      <td>-0.675227</td>\n",
       "      <td>0.377187</td>\n",
       "      <td>-0.471101</td>\n",
       "      <td>-0.169555</td>\n",
       "      <td>0.156184</td>\n",
       "    </tr>\n",
       "    <tr>\n",
       "      <th>5</th>\n",
       "      <td>2.588665</td>\n",
       "      <td>-0.567709</td>\n",
       "      <td>0.191086</td>\n",
       "      <td>-0.595365</td>\n",
       "      <td>0.771036</td>\n",
       "      <td>-1.039176</td>\n",
       "      <td>-1.692500</td>\n",
       "    </tr>\n",
       "  </tbody>\n",
       "</table>\n",
       "</div>"
      ],
      "text/plain": [
       "          age  creatinine_phosphokinase  ejection_fraction  platelets  \\\n",
       "212  1.551324                 -0.390689           1.057400   2.125815   \n",
       "40   0.859763                 -0.032650          -1.541540  -0.012246   \n",
       "128  0.081757                 -0.366687          -0.675227   0.023531   \n",
       "180 -1.733590                 -0.136661          -0.675227   0.377187   \n",
       "5    2.588665                 -0.567709           0.191086  -0.595365   \n",
       "\n",
       "     serum_creatinine  serum_sodium      time  \n",
       "212          0.046456      0.265255  0.737199  \n",
       "40           0.491556     -0.604366 -1.388787  \n",
       "128         -0.678124     -0.169555 -0.424831  \n",
       "180         -0.471101     -0.169555  0.156184  \n",
       "5            0.771036     -1.039176 -1.692500  "
      ]
     },
     "execution_count": 32,
     "metadata": {},
     "output_type": "execute_result"
    }
   ],
   "source": [
    "X_te_scaled_df.head()"
   ]
  },
  {
   "cell_type": "code",
   "execution_count": 36,
   "id": "7e4d0622-7919-4c6b-8dc1-60cac5ad91f6",
   "metadata": {},
   "outputs": [
    {
     "data": {
      "text/plain": [
       "Index([212,  40, 128, 180,   5, 226, 145,  63, 122, 197, 268, 234,  64, 247,\n",
       "        39,  10, 241, 254, 246,  55, 272, 172,  42,  35,  32, 166, 131, 138,\n",
       "       252,  92,  69, 132, 127,  74, 182, 192, 164, 277,  25, 196, 133,  60,\n",
       "        13, 210,  16,  15,  43, 183,   8, 201,  96,  83,   0,  20,  14, 202,\n",
       "        68,   3,  19, 148, 281, 119,  47,  58, 191,   9, 204, 285,  22,  62,\n",
       "       239, 108,  33, 165,  26, 261, 215, 203, 295, 130, 294, 176,  82, 115,\n",
       "       284, 139, 230, 253,  81,  76],\n",
       "      dtype='int64')"
      ]
     },
     "execution_count": 36,
     "metadata": {},
     "output_type": "execute_result"
    }
   ],
   "source": [
    "#Check if the test set index values match the expected values\n",
    "X_te_scaled_df.index.unique()"
   ]
  },
  {
   "cell_type": "markdown",
   "id": "31ed9de1-111b-4c22-b88b-95bacbcfd172",
   "metadata": {},
   "source": [
    "X_train and X_test non-Boolean features are now scaled and need to be recombined with the Boolean features."
   ]
  },
  {
   "cell_type": "markdown",
   "id": "79d8d1e5-c305-487e-b9f1-b20a83ce2f93",
   "metadata": {},
   "source": [
    "# Recombine the scaled and non-scaled dataframes, check them, and export"
   ]
  },
  {
   "cell_type": "code",
   "execution_count": 39,
   "id": "e5737718-a62d-45e2-9f6c-3b8208cdaae7",
   "metadata": {},
   "outputs": [
    {
     "data": {
      "text/html": [
       "<div>\n",
       "<style scoped>\n",
       "    .dataframe tbody tr th:only-of-type {\n",
       "        vertical-align: middle;\n",
       "    }\n",
       "\n",
       "    .dataframe tbody tr th {\n",
       "        vertical-align: top;\n",
       "    }\n",
       "\n",
       "    .dataframe thead th {\n",
       "        text-align: right;\n",
       "    }\n",
       "</style>\n",
       "<table border=\"1\" class=\"dataframe\">\n",
       "  <thead>\n",
       "    <tr style=\"text-align: right;\">\n",
       "      <th></th>\n",
       "      <th>anaemia</th>\n",
       "      <th>diabetes</th>\n",
       "      <th>high_blood_pressure</th>\n",
       "      <th>sex</th>\n",
       "      <th>smoking</th>\n",
       "    </tr>\n",
       "  </thead>\n",
       "  <tbody>\n",
       "    <tr>\n",
       "      <th>189</th>\n",
       "      <td>0</td>\n",
       "      <td>0</td>\n",
       "      <td>1</td>\n",
       "      <td>0</td>\n",
       "      <td>0</td>\n",
       "    </tr>\n",
       "    <tr>\n",
       "      <th>34</th>\n",
       "      <td>0</td>\n",
       "      <td>1</td>\n",
       "      <td>1</td>\n",
       "      <td>1</td>\n",
       "      <td>0</td>\n",
       "    </tr>\n",
       "    <tr>\n",
       "      <th>45</th>\n",
       "      <td>0</td>\n",
       "      <td>1</td>\n",
       "      <td>0</td>\n",
       "      <td>1</td>\n",
       "      <td>1</td>\n",
       "    </tr>\n",
       "    <tr>\n",
       "      <th>102</th>\n",
       "      <td>0</td>\n",
       "      <td>0</td>\n",
       "      <td>0</td>\n",
       "      <td>1</td>\n",
       "      <td>1</td>\n",
       "    </tr>\n",
       "    <tr>\n",
       "      <th>219</th>\n",
       "      <td>0</td>\n",
       "      <td>1</td>\n",
       "      <td>1</td>\n",
       "      <td>0</td>\n",
       "      <td>0</td>\n",
       "    </tr>\n",
       "    <tr>\n",
       "      <th>...</th>\n",
       "      <td>...</td>\n",
       "      <td>...</td>\n",
       "      <td>...</td>\n",
       "      <td>...</td>\n",
       "      <td>...</td>\n",
       "    </tr>\n",
       "    <tr>\n",
       "      <th>23</th>\n",
       "      <td>0</td>\n",
       "      <td>1</td>\n",
       "      <td>0</td>\n",
       "      <td>1</td>\n",
       "      <td>0</td>\n",
       "    </tr>\n",
       "    <tr>\n",
       "      <th>179</th>\n",
       "      <td>0</td>\n",
       "      <td>0</td>\n",
       "      <td>0</td>\n",
       "      <td>1</td>\n",
       "      <td>1</td>\n",
       "    </tr>\n",
       "    <tr>\n",
       "      <th>72</th>\n",
       "      <td>0</td>\n",
       "      <td>0</td>\n",
       "      <td>0</td>\n",
       "      <td>1</td>\n",
       "      <td>1</td>\n",
       "    </tr>\n",
       "    <tr>\n",
       "      <th>264</th>\n",
       "      <td>0</td>\n",
       "      <td>1</td>\n",
       "      <td>0</td>\n",
       "      <td>1</td>\n",
       "      <td>0</td>\n",
       "    </tr>\n",
       "    <tr>\n",
       "      <th>135</th>\n",
       "      <td>0</td>\n",
       "      <td>0</td>\n",
       "      <td>0</td>\n",
       "      <td>1</td>\n",
       "      <td>0</td>\n",
       "    </tr>\n",
       "  </tbody>\n",
       "</table>\n",
       "<p>209 rows × 5 columns</p>\n",
       "</div>"
      ],
      "text/plain": [
       "     anaemia  diabetes  high_blood_pressure  sex  smoking\n",
       "189        0         0                    1    0        0\n",
       "34         0         1                    1    1        0\n",
       "45         0         1                    0    1        1\n",
       "102        0         0                    0    1        1\n",
       "219        0         1                    1    0        0\n",
       "..       ...       ...                  ...  ...      ...\n",
       "23         0         1                    0    1        0\n",
       "179        0         0                    0    1        1\n",
       "72         0         0                    0    1        1\n",
       "264        0         1                    0    1        0\n",
       "135        0         0                    0    1        0\n",
       "\n",
       "[209 rows x 5 columns]"
      ]
     },
     "execution_count": 39,
     "metadata": {},
     "output_type": "execute_result"
    }
   ],
   "source": [
    "X_train_other"
   ]
  },
  {
   "cell_type": "code",
   "execution_count": 40,
   "id": "12afce6a-2381-475c-82f4-3fdd6c06daaf",
   "metadata": {},
   "outputs": [
    {
     "name": "stdout",
     "output_type": "stream",
     "text": [
      "<class 'pandas.core.frame.DataFrame'>\n",
      "Index: 209 entries, 189 to 135\n",
      "Data columns (total 5 columns):\n",
      " #   Column               Non-Null Count  Dtype\n",
      "---  ------               --------------  -----\n",
      " 0   anaemia              209 non-null    int64\n",
      " 1   diabetes             209 non-null    int64\n",
      " 2   high_blood_pressure  209 non-null    int64\n",
      " 3   sex                  209 non-null    int64\n",
      " 4   smoking              209 non-null    int64\n",
      "dtypes: int64(5)\n",
      "memory usage: 17.9 KB\n"
     ]
    }
   ],
   "source": [
    "X_train_other.info()"
   ]
  },
  {
   "cell_type": "code",
   "execution_count": 41,
   "id": "05999ea5-e7bf-46d8-948e-e7f017118b2d",
   "metadata": {},
   "outputs": [
    {
     "data": {
      "text/plain": [
       "Index([189,  34,  45, 102, 219, 121, 107, 297,   1, 231,\n",
       "       ...\n",
       "       173,  71, 263, 208,  59,  23, 179,  72, 264, 135],\n",
       "      dtype='int64', length=209)"
      ]
     },
     "execution_count": 41,
     "metadata": {},
     "output_type": "execute_result"
    }
   ],
   "source": [
    "#Double check that X_train_other index matches X_tr_scaled_df\n",
    "X_train_other.index.unique()"
   ]
  },
  {
   "cell_type": "code",
   "execution_count": 45,
   "id": "9c4eedb1-187a-430e-823b-76be552958b9",
   "metadata": {},
   "outputs": [],
   "source": [
    "#Join the scaled training data with the unscaled binary features; join is index-on-index by default\n",
    "X_tr_final = X_tr_scaled_df.join(X_train_other, how = 'outer')"
   ]
  },
  {
   "cell_type": "code",
   "execution_count": 46,
   "id": "a90f754a-b9c2-41a1-ab5d-335a25ff70b3",
   "metadata": {},
   "outputs": [
    {
     "data": {
      "text/html": [
       "<div>\n",
       "<style scoped>\n",
       "    .dataframe tbody tr th:only-of-type {\n",
       "        vertical-align: middle;\n",
       "    }\n",
       "\n",
       "    .dataframe tbody tr th {\n",
       "        vertical-align: top;\n",
       "    }\n",
       "\n",
       "    .dataframe thead th {\n",
       "        text-align: right;\n",
       "    }\n",
       "</style>\n",
       "<table border=\"1\" class=\"dataframe\">\n",
       "  <thead>\n",
       "    <tr style=\"text-align: right;\">\n",
       "      <th></th>\n",
       "      <th>age</th>\n",
       "      <th>creatinine_phosphokinase</th>\n",
       "      <th>ejection_fraction</th>\n",
       "      <th>platelets</th>\n",
       "      <th>serum_creatinine</th>\n",
       "      <th>serum_sodium</th>\n",
       "      <th>time</th>\n",
       "      <th>anaemia</th>\n",
       "      <th>diabetes</th>\n",
       "      <th>high_blood_pressure</th>\n",
       "      <th>sex</th>\n",
       "      <th>smoking</th>\n",
       "    </tr>\n",
       "  </thead>\n",
       "  <tbody>\n",
       "    <tr>\n",
       "      <th>189</th>\n",
       "      <td>-1.733590</td>\n",
       "      <td>-0.370687</td>\n",
       "      <td>0.624243</td>\n",
       "      <td>0.102121</td>\n",
       "      <td>-0.471101</td>\n",
       "      <td>0.700065</td>\n",
       "      <td>0.499511</td>\n",
       "      <td>0</td>\n",
       "      <td>0</td>\n",
       "      <td>1</td>\n",
       "      <td>0</td>\n",
       "      <td>0</td>\n",
       "    </tr>\n",
       "    <tr>\n",
       "      <th>34</th>\n",
       "      <td>0.427538</td>\n",
       "      <td>-0.520704</td>\n",
       "      <td>1.057400</td>\n",
       "      <td>-0.752545</td>\n",
       "      <td>-0.367589</td>\n",
       "      <td>0.700065</td>\n",
       "      <td>-1.415197</td>\n",
       "      <td>0</td>\n",
       "      <td>1</td>\n",
       "      <td>1</td>\n",
       "      <td>1</td>\n",
       "      <td>0</td>\n",
       "    </tr>\n",
       "    <tr>\n",
       "      <th>45</th>\n",
       "      <td>-0.869139</td>\n",
       "      <td>-0.032650</td>\n",
       "      <td>0.017824</td>\n",
       "      <td>0.445953</td>\n",
       "      <td>0.564014</td>\n",
       "      <td>-0.386960</td>\n",
       "      <td>-1.335968</td>\n",
       "      <td>0</td>\n",
       "      <td>1</td>\n",
       "      <td>0</td>\n",
       "      <td>1</td>\n",
       "      <td>1</td>\n",
       "    </tr>\n",
       "    <tr>\n",
       "      <th>102</th>\n",
       "      <td>1.724214</td>\n",
       "      <td>0.283386</td>\n",
       "      <td>-1.108384</td>\n",
       "      <td>-1.135672</td>\n",
       "      <td>-0.264078</td>\n",
       "      <td>1.569686</td>\n",
       "      <td>-0.649314</td>\n",
       "      <td>0</td>\n",
       "      <td>0</td>\n",
       "      <td>0</td>\n",
       "      <td>1</td>\n",
       "      <td>1</td>\n",
       "    </tr>\n",
       "    <tr>\n",
       "      <th>219</th>\n",
       "      <td>-0.436913</td>\n",
       "      <td>-0.032650</td>\n",
       "      <td>-0.242070</td>\n",
       "      <td>1.045202</td>\n",
       "      <td>-0.678124</td>\n",
       "      <td>0.700065</td>\n",
       "      <td>0.803223</td>\n",
       "      <td>0</td>\n",
       "      <td>1</td>\n",
       "      <td>1</td>\n",
       "      <td>0</td>\n",
       "      <td>0</td>\n",
       "    </tr>\n",
       "    <tr>\n",
       "      <th>...</th>\n",
       "      <td>...</td>\n",
       "      <td>...</td>\n",
       "      <td>...</td>\n",
       "      <td>...</td>\n",
       "      <td>...</td>\n",
       "      <td>...</td>\n",
       "      <td>...</td>\n",
       "      <td>...</td>\n",
       "      <td>...</td>\n",
       "      <td>...</td>\n",
       "      <td>...</td>\n",
       "      <td>...</td>\n",
       "    </tr>\n",
       "    <tr>\n",
       "      <th>23</th>\n",
       "      <td>-0.609803</td>\n",
       "      <td>-0.551707</td>\n",
       "      <td>1.923713</td>\n",
       "      <td>1.015731</td>\n",
       "      <td>-0.574612</td>\n",
       "      <td>-0.386960</td>\n",
       "      <td>-1.507631</td>\n",
       "      <td>0</td>\n",
       "      <td>1</td>\n",
       "      <td>0</td>\n",
       "      <td>1</td>\n",
       "      <td>0</td>\n",
       "    </tr>\n",
       "    <tr>\n",
       "      <th>179</th>\n",
       "      <td>-0.436913</td>\n",
       "      <td>0.220379</td>\n",
       "      <td>0.191086</td>\n",
       "      <td>0.141416</td>\n",
       "      <td>-0.678124</td>\n",
       "      <td>0.700065</td>\n",
       "      <td>0.142979</td>\n",
       "      <td>0</td>\n",
       "      <td>0</td>\n",
       "      <td>0</td>\n",
       "      <td>1</td>\n",
       "      <td>1</td>\n",
       "    </tr>\n",
       "    <tr>\n",
       "      <th>72</th>\n",
       "      <td>2.156439</td>\n",
       "      <td>5.267941</td>\n",
       "      <td>-0.242070</td>\n",
       "      <td>-0.212239</td>\n",
       "      <td>-0.367589</td>\n",
       "      <td>-1.039176</td>\n",
       "      <td>-0.847387</td>\n",
       "      <td>0</td>\n",
       "      <td>0</td>\n",
       "      <td>0</td>\n",
       "      <td>1</td>\n",
       "      <td>1</td>\n",
       "    </tr>\n",
       "    <tr>\n",
       "      <th>264</th>\n",
       "      <td>0.081757</td>\n",
       "      <td>-0.032650</td>\n",
       "      <td>0.017824</td>\n",
       "      <td>-1.155319</td>\n",
       "      <td>-0.160567</td>\n",
       "      <td>0.917471</td>\n",
       "      <td>1.331419</td>\n",
       "      <td>0</td>\n",
       "      <td>1</td>\n",
       "      <td>0</td>\n",
       "      <td>1</td>\n",
       "      <td>0</td>\n",
       "    </tr>\n",
       "    <tr>\n",
       "      <th>135</th>\n",
       "      <td>1.291988</td>\n",
       "      <td>-0.032650</td>\n",
       "      <td>0.191086</td>\n",
       "      <td>-0.012246</td>\n",
       "      <td>-0.181269</td>\n",
       "      <td>0.047850</td>\n",
       "      <td>-0.385216</td>\n",
       "      <td>0</td>\n",
       "      <td>0</td>\n",
       "      <td>0</td>\n",
       "      <td>1</td>\n",
       "      <td>0</td>\n",
       "    </tr>\n",
       "  </tbody>\n",
       "</table>\n",
       "<p>209 rows × 12 columns</p>\n",
       "</div>"
      ],
      "text/plain": [
       "          age  creatinine_phosphokinase  ejection_fraction  platelets  \\\n",
       "189 -1.733590                 -0.370687           0.624243   0.102121   \n",
       "34   0.427538                 -0.520704           1.057400  -0.752545   \n",
       "45  -0.869139                 -0.032650           0.017824   0.445953   \n",
       "102  1.724214                  0.283386          -1.108384  -1.135672   \n",
       "219 -0.436913                 -0.032650          -0.242070   1.045202   \n",
       "..        ...                       ...                ...        ...   \n",
       "23  -0.609803                 -0.551707           1.923713   1.015731   \n",
       "179 -0.436913                  0.220379           0.191086   0.141416   \n",
       "72   2.156439                  5.267941          -0.242070  -0.212239   \n",
       "264  0.081757                 -0.032650           0.017824  -1.155319   \n",
       "135  1.291988                 -0.032650           0.191086  -0.012246   \n",
       "\n",
       "     serum_creatinine  serum_sodium      time  anaemia  diabetes  \\\n",
       "189         -0.471101      0.700065  0.499511        0         0   \n",
       "34          -0.367589      0.700065 -1.415197        0         1   \n",
       "45           0.564014     -0.386960 -1.335968        0         1   \n",
       "102         -0.264078      1.569686 -0.649314        0         0   \n",
       "219         -0.678124      0.700065  0.803223        0         1   \n",
       "..                ...           ...       ...      ...       ...   \n",
       "23          -0.574612     -0.386960 -1.507631        0         1   \n",
       "179         -0.678124      0.700065  0.142979        0         0   \n",
       "72          -0.367589     -1.039176 -0.847387        0         0   \n",
       "264         -0.160567      0.917471  1.331419        0         1   \n",
       "135         -0.181269      0.047850 -0.385216        0         0   \n",
       "\n",
       "     high_blood_pressure  sex  smoking  \n",
       "189                    1    0        0  \n",
       "34                     1    1        0  \n",
       "45                     0    1        1  \n",
       "102                    0    1        1  \n",
       "219                    1    0        0  \n",
       "..                   ...  ...      ...  \n",
       "23                     0    1        0  \n",
       "179                    0    1        1  \n",
       "72                     0    1        1  \n",
       "264                    0    1        0  \n",
       "135                    0    1        0  \n",
       "\n",
       "[209 rows x 12 columns]"
      ]
     },
     "execution_count": 46,
     "metadata": {},
     "output_type": "execute_result"
    }
   ],
   "source": [
    "X_tr_final"
   ]
  },
  {
   "cell_type": "code",
   "execution_count": 47,
   "id": "30333cd9-16a6-44c9-84d3-88b2aad01158",
   "metadata": {},
   "outputs": [],
   "source": [
    "#Join the scaled test data with the unscaled binary features\n",
    "X_te_final = X_te_scaled_df.join(X_test_other, how = 'outer')"
   ]
  },
  {
   "cell_type": "code",
   "execution_count": 48,
   "id": "4ad7431f-0c52-4d2e-b975-49633d3a16b1",
   "metadata": {},
   "outputs": [
    {
     "data": {
      "text/html": [
       "<div>\n",
       "<style scoped>\n",
       "    .dataframe tbody tr th:only-of-type {\n",
       "        vertical-align: middle;\n",
       "    }\n",
       "\n",
       "    .dataframe tbody tr th {\n",
       "        vertical-align: top;\n",
       "    }\n",
       "\n",
       "    .dataframe thead th {\n",
       "        text-align: right;\n",
       "    }\n",
       "</style>\n",
       "<table border=\"1\" class=\"dataframe\">\n",
       "  <thead>\n",
       "    <tr style=\"text-align: right;\">\n",
       "      <th></th>\n",
       "      <th>age</th>\n",
       "      <th>creatinine_phosphokinase</th>\n",
       "      <th>ejection_fraction</th>\n",
       "      <th>platelets</th>\n",
       "      <th>serum_creatinine</th>\n",
       "      <th>serum_sodium</th>\n",
       "      <th>time</th>\n",
       "      <th>anaemia</th>\n",
       "      <th>diabetes</th>\n",
       "      <th>high_blood_pressure</th>\n",
       "      <th>sex</th>\n",
       "      <th>smoking</th>\n",
       "    </tr>\n",
       "  </thead>\n",
       "  <tbody>\n",
       "    <tr>\n",
       "      <th>212</th>\n",
       "      <td>1.551324</td>\n",
       "      <td>-0.390689</td>\n",
       "      <td>1.057400</td>\n",
       "      <td>2.125815</td>\n",
       "      <td>0.046456</td>\n",
       "      <td>0.265255</td>\n",
       "      <td>0.737199</td>\n",
       "      <td>0</td>\n",
       "      <td>0</td>\n",
       "      <td>0</td>\n",
       "      <td>1</td>\n",
       "      <td>1</td>\n",
       "    </tr>\n",
       "    <tr>\n",
       "      <th>40</th>\n",
       "      <td>0.859763</td>\n",
       "      <td>-0.032650</td>\n",
       "      <td>-1.541540</td>\n",
       "      <td>-0.012246</td>\n",
       "      <td>0.491556</td>\n",
       "      <td>-0.604366</td>\n",
       "      <td>-1.388787</td>\n",
       "      <td>0</td>\n",
       "      <td>0</td>\n",
       "      <td>1</td>\n",
       "      <td>1</td>\n",
       "      <td>1</td>\n",
       "    </tr>\n",
       "    <tr>\n",
       "      <th>128</th>\n",
       "      <td>0.081757</td>\n",
       "      <td>-0.366687</td>\n",
       "      <td>-0.675227</td>\n",
       "      <td>0.023531</td>\n",
       "      <td>-0.678124</td>\n",
       "      <td>-0.169555</td>\n",
       "      <td>-0.424831</td>\n",
       "      <td>0</td>\n",
       "      <td>0</td>\n",
       "      <td>1</td>\n",
       "      <td>1</td>\n",
       "      <td>1</td>\n",
       "    </tr>\n",
       "    <tr>\n",
       "      <th>180</th>\n",
       "      <td>-1.733590</td>\n",
       "      <td>-0.136661</td>\n",
       "      <td>-0.675227</td>\n",
       "      <td>0.377187</td>\n",
       "      <td>-0.471101</td>\n",
       "      <td>-0.169555</td>\n",
       "      <td>0.156184</td>\n",
       "      <td>0</td>\n",
       "      <td>1</td>\n",
       "      <td>0</td>\n",
       "      <td>1</td>\n",
       "      <td>0</td>\n",
       "    </tr>\n",
       "    <tr>\n",
       "      <th>5</th>\n",
       "      <td>2.588665</td>\n",
       "      <td>-0.567709</td>\n",
       "      <td>0.191086</td>\n",
       "      <td>-0.595365</td>\n",
       "      <td>0.771036</td>\n",
       "      <td>-1.039176</td>\n",
       "      <td>-1.692500</td>\n",
       "      <td>1</td>\n",
       "      <td>0</td>\n",
       "      <td>1</td>\n",
       "      <td>1</td>\n",
       "      <td>1</td>\n",
       "    </tr>\n",
       "    <tr>\n",
       "      <th>...</th>\n",
       "      <td>...</td>\n",
       "      <td>...</td>\n",
       "      <td>...</td>\n",
       "      <td>...</td>\n",
       "      <td>...</td>\n",
       "      <td>...</td>\n",
       "      <td>...</td>\n",
       "      <td>...</td>\n",
       "      <td>...</td>\n",
       "      <td>...</td>\n",
       "      <td>...</td>\n",
       "      <td>...</td>\n",
       "    </tr>\n",
       "    <tr>\n",
       "      <th>139</th>\n",
       "      <td>-0.869139</td>\n",
       "      <td>0.933458</td>\n",
       "      <td>-0.675227</td>\n",
       "      <td>-0.526599</td>\n",
       "      <td>-0.574612</td>\n",
       "      <td>0.265255</td>\n",
       "      <td>-0.372011</td>\n",
       "      <td>0</td>\n",
       "      <td>0</td>\n",
       "      <td>1</td>\n",
       "      <td>1</td>\n",
       "      <td>0</td>\n",
       "    </tr>\n",
       "    <tr>\n",
       "      <th>230</th>\n",
       "      <td>-0.004688</td>\n",
       "      <td>-0.448696</td>\n",
       "      <td>-0.675227</td>\n",
       "      <td>-1.990339</td>\n",
       "      <td>0.356991</td>\n",
       "      <td>-2.126202</td>\n",
       "      <td>0.935272</td>\n",
       "      <td>0</td>\n",
       "      <td>0</td>\n",
       "      <td>0</td>\n",
       "      <td>0</td>\n",
       "      <td>0</td>\n",
       "    </tr>\n",
       "    <tr>\n",
       "      <th>253</th>\n",
       "      <td>0.859763</td>\n",
       "      <td>-0.526705</td>\n",
       "      <td>-0.242070</td>\n",
       "      <td>-0.281005</td>\n",
       "      <td>-0.160567</td>\n",
       "      <td>-1.039176</td>\n",
       "      <td>1.040911</td>\n",
       "      <td>0</td>\n",
       "      <td>1</td>\n",
       "      <td>1</td>\n",
       "      <td>0</td>\n",
       "      <td>0</td>\n",
       "    </tr>\n",
       "    <tr>\n",
       "      <th>81</th>\n",
       "      <td>0.600428</td>\n",
       "      <td>-0.032650</td>\n",
       "      <td>1.057400</td>\n",
       "      <td>-0.012246</td>\n",
       "      <td>-0.181269</td>\n",
       "      <td>0.047850</td>\n",
       "      <td>-0.794568</td>\n",
       "      <td>0</td>\n",
       "      <td>0</td>\n",
       "      <td>0</td>\n",
       "      <td>1</td>\n",
       "      <td>1</td>\n",
       "    </tr>\n",
       "    <tr>\n",
       "      <th>76</th>\n",
       "      <td>0.859763</td>\n",
       "      <td>-0.522704</td>\n",
       "      <td>1.923713</td>\n",
       "      <td>0.514719</td>\n",
       "      <td>-0.574612</td>\n",
       "      <td>0.700065</td>\n",
       "      <td>-0.820977</td>\n",
       "      <td>0</td>\n",
       "      <td>0</td>\n",
       "      <td>1</td>\n",
       "      <td>0</td>\n",
       "      <td>1</td>\n",
       "    </tr>\n",
       "  </tbody>\n",
       "</table>\n",
       "<p>90 rows × 12 columns</p>\n",
       "</div>"
      ],
      "text/plain": [
       "          age  creatinine_phosphokinase  ejection_fraction  platelets  \\\n",
       "212  1.551324                 -0.390689           1.057400   2.125815   \n",
       "40   0.859763                 -0.032650          -1.541540  -0.012246   \n",
       "128  0.081757                 -0.366687          -0.675227   0.023531   \n",
       "180 -1.733590                 -0.136661          -0.675227   0.377187   \n",
       "5    2.588665                 -0.567709           0.191086  -0.595365   \n",
       "..        ...                       ...                ...        ...   \n",
       "139 -0.869139                  0.933458          -0.675227  -0.526599   \n",
       "230 -0.004688                 -0.448696          -0.675227  -1.990339   \n",
       "253  0.859763                 -0.526705          -0.242070  -0.281005   \n",
       "81   0.600428                 -0.032650           1.057400  -0.012246   \n",
       "76   0.859763                 -0.522704           1.923713   0.514719   \n",
       "\n",
       "     serum_creatinine  serum_sodium      time  anaemia  diabetes  \\\n",
       "212          0.046456      0.265255  0.737199        0         0   \n",
       "40           0.491556     -0.604366 -1.388787        0         0   \n",
       "128         -0.678124     -0.169555 -0.424831        0         0   \n",
       "180         -0.471101     -0.169555  0.156184        0         1   \n",
       "5            0.771036     -1.039176 -1.692500        1         0   \n",
       "..                ...           ...       ...      ...       ...   \n",
       "139         -0.574612      0.265255 -0.372011        0         0   \n",
       "230          0.356991     -2.126202  0.935272        0         0   \n",
       "253         -0.160567     -1.039176  1.040911        0         1   \n",
       "81          -0.181269      0.047850 -0.794568        0         0   \n",
       "76          -0.574612      0.700065 -0.820977        0         0   \n",
       "\n",
       "     high_blood_pressure  sex  smoking  \n",
       "212                    0    1        1  \n",
       "40                     1    1        1  \n",
       "128                    1    1        1  \n",
       "180                    0    1        0  \n",
       "5                      1    1        1  \n",
       "..                   ...  ...      ...  \n",
       "139                    1    1        0  \n",
       "230                    0    0        0  \n",
       "253                    1    0        0  \n",
       "81                     0    1        1  \n",
       "76                     1    0        1  \n",
       "\n",
       "[90 rows x 12 columns]"
      ]
     },
     "execution_count": 48,
     "metadata": {},
     "output_type": "execute_result"
    }
   ],
   "source": [
    "X_te_final"
   ]
  },
  {
   "cell_type": "code",
   "execution_count": 49,
   "id": "c128a1e3-b819-4986-b31b-ba0e51a22c1b",
   "metadata": {},
   "outputs": [
    {
     "data": {
      "text/plain": [
       "age                         0\n",
       "creatinine_phosphokinase    0\n",
       "ejection_fraction           0\n",
       "platelets                   0\n",
       "serum_creatinine            0\n",
       "serum_sodium                0\n",
       "time                        0\n",
       "anaemia                     0\n",
       "diabetes                    0\n",
       "high_blood_pressure         0\n",
       "sex                         0\n",
       "smoking                     0\n",
       "dtype: int64"
      ]
     },
     "execution_count": 49,
     "metadata": {},
     "output_type": "execute_result"
    }
   ],
   "source": [
    "#X test and train sets are looking good! Do a final check to make sure no nulls snuck in\n",
    "X_tr_final.isnull().sum()"
   ]
  },
  {
   "cell_type": "code",
   "execution_count": 50,
   "id": "69cdd950-4d36-4fd7-8f27-51cb17e9c41f",
   "metadata": {},
   "outputs": [
    {
     "data": {
      "text/plain": [
       "age                         0\n",
       "creatinine_phosphokinase    0\n",
       "ejection_fraction           0\n",
       "platelets                   0\n",
       "serum_creatinine            0\n",
       "serum_sodium                0\n",
       "time                        0\n",
       "anaemia                     0\n",
       "diabetes                    0\n",
       "high_blood_pressure         0\n",
       "sex                         0\n",
       "smoking                     0\n",
       "dtype: int64"
      ]
     },
     "execution_count": 50,
     "metadata": {},
     "output_type": "execute_result"
    }
   ],
   "source": [
    "X_te_final.isnull().sum()"
   ]
  },
  {
   "cell_type": "code",
   "execution_count": 53,
   "id": "df18b210-30b3-4ce2-aa79-2682f69e6805",
   "metadata": {},
   "outputs": [],
   "source": [
    "#Export the preprocessed datasets to CSV\n",
    "X_tr_final.to_csv('X_tr.csv')\n",
    "X_te_final.to_csv('X_te.csv')\n",
    "y_train.to_csv('y_tr.csv')\n",
    "y_test.to_csv('y_te.csv')"
   ]
  }
 ],
 "metadata": {
  "kernelspec": {
   "display_name": "Python 3 (ipykernel)",
   "language": "python",
   "name": "python3"
  },
  "language_info": {
   "codemirror_mode": {
    "name": "ipython",
    "version": 3
   },
   "file_extension": ".py",
   "mimetype": "text/x-python",
   "name": "python",
   "nbconvert_exporter": "python",
   "pygments_lexer": "ipython3",
   "version": "3.11.7"
  }
 },
 "nbformat": 4,
 "nbformat_minor": 5
}
