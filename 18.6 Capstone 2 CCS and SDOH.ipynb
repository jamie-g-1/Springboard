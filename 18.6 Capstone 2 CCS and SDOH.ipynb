{
 "cells": [
  {
   "cell_type": "markdown",
   "metadata": {},
   "source": [
    "In this notebook I will perform initial wrangling and cleaning of data for a capstone project investigating correlations between Cascade Care Savings uptake (a Washington state health insurance premium subsidy newly implemented in 2023), area deprivation index, and social determinants of health at the county level."
   ]
  },
  {
   "cell_type": "code",
   "execution_count": 1,
   "metadata": {},
   "outputs": [],
   "source": [
    "# import relevant libraries and packages\n",
    "import pandas as pd\n",
    "import matplotlib.pyplot as plt\n",
    "import seaborn as sns\n",
    "import numpy as np\n",
    "import math"
   ]
  },
  {
   "cell_type": "code",
   "execution_count": 2,
   "metadata": {},
   "outputs": [],
   "source": [
    "# import spring 2023 WA state Cascade Care Savings data by county\n",
    "# Data source: https://www.wahbexchange.org/about-the-exchange/reports-data/enrollment-reports-data/\n",
    "# See \"2023 Spring Enrollment (Excel)\"\n",
    "ccs = pd.read_csv('CCS_uptake_by_county.csv', index_col = 0, thousands = ',')"
   ]
  },
  {
   "cell_type": "code",
   "execution_count": 3,
   "metadata": {},
   "outputs": [
    {
     "data": {
      "text/html": [
       "<div>\n",
       "<style scoped>\n",
       "    .dataframe tbody tr th:only-of-type {\n",
       "        vertical-align: middle;\n",
       "    }\n",
       "\n",
       "    .dataframe tbody tr th {\n",
       "        vertical-align: top;\n",
       "    }\n",
       "\n",
       "    .dataframe thead th {\n",
       "        text-align: right;\n",
       "    }\n",
       "</style>\n",
       "<table border=\"1\" class=\"dataframe\">\n",
       "  <thead>\n",
       "    <tr style=\"text-align: right;\">\n",
       "      <th></th>\n",
       "      <th>CCS enrollees</th>\n",
       "      <th>Total QHP enrollees</th>\n",
       "      <th>Percent uptake</th>\n",
       "    </tr>\n",
       "    <tr>\n",
       "      <th>County</th>\n",
       "      <th></th>\n",
       "      <th></th>\n",
       "      <th></th>\n",
       "    </tr>\n",
       "  </thead>\n",
       "  <tbody>\n",
       "    <tr>\n",
       "      <th>ADAMS</th>\n",
       "      <td>77</td>\n",
       "      <td>294</td>\n",
       "      <td>0.261905</td>\n",
       "    </tr>\n",
       "    <tr>\n",
       "      <th>ASOTIN</th>\n",
       "      <td>94</td>\n",
       "      <td>405</td>\n",
       "      <td>0.232099</td>\n",
       "    </tr>\n",
       "    <tr>\n",
       "      <th>BENTON</th>\n",
       "      <td>911</td>\n",
       "      <td>3941</td>\n",
       "      <td>0.231160</td>\n",
       "    </tr>\n",
       "    <tr>\n",
       "      <th>CHELAN</th>\n",
       "      <td>533</td>\n",
       "      <td>2596</td>\n",
       "      <td>0.205316</td>\n",
       "    </tr>\n",
       "    <tr>\n",
       "      <th>CLALLAM</th>\n",
       "      <td>516</td>\n",
       "      <td>2687</td>\n",
       "      <td>0.192036</td>\n",
       "    </tr>\n",
       "  </tbody>\n",
       "</table>\n",
       "</div>"
      ],
      "text/plain": [
       "         CCS enrollees  Total QHP enrollees  Percent uptake\n",
       "County                                                     \n",
       "ADAMS               77                  294        0.261905\n",
       "ASOTIN              94                  405        0.232099\n",
       "BENTON             911                 3941        0.231160\n",
       "CHELAN             533                 2596        0.205316\n",
       "CLALLAM            516                 2687        0.192036"
      ]
     },
     "execution_count": 3,
     "metadata": {},
     "output_type": "execute_result"
    }
   ],
   "source": [
    "# view first few lines of data\n",
    "ccs.head()"
   ]
  },
  {
   "cell_type": "code",
   "execution_count": 4,
   "metadata": {},
   "outputs": [
    {
     "name": "stdout",
     "output_type": "stream",
     "text": [
      "<class 'pandas.core.frame.DataFrame'>\n",
      "Index: 39 entries, ADAMS to YAKIMA\n",
      "Data columns (total 3 columns):\n",
      " #   Column               Non-Null Count  Dtype  \n",
      "---  ------               --------------  -----  \n",
      " 0   CCS enrollees        39 non-null     int64  \n",
      " 1   Total QHP enrollees  39 non-null     int64  \n",
      " 2   Percent uptake       39 non-null     float64\n",
      "dtypes: float64(1), int64(2)\n",
      "memory usage: 1.2+ KB\n"
     ]
    }
   ],
   "source": [
    "# View info\n",
    "ccs.info()"
   ]
  },
  {
   "cell_type": "markdown",
   "metadata": {},
   "source": [
    "Great. This spreadsheet contains the index column (county names), CCS enrollee count, total number of people in a qualified health plan, and percent uptake. There are 39 rows for the 39 counties. Dtypes are correct."
   ]
  },
  {
   "cell_type": "code",
   "execution_count": 5,
   "metadata": {},
   "outputs": [],
   "source": [
    "# Change county names to title case\n",
    "ccs.index = ccs.index.str.title()"
   ]
  },
  {
   "cell_type": "code",
   "execution_count": 6,
   "metadata": {},
   "outputs": [
    {
     "data": {
      "text/html": [
       "<div>\n",
       "<style scoped>\n",
       "    .dataframe tbody tr th:only-of-type {\n",
       "        vertical-align: middle;\n",
       "    }\n",
       "\n",
       "    .dataframe tbody tr th {\n",
       "        vertical-align: top;\n",
       "    }\n",
       "\n",
       "    .dataframe thead th {\n",
       "        text-align: right;\n",
       "    }\n",
       "</style>\n",
       "<table border=\"1\" class=\"dataframe\">\n",
       "  <thead>\n",
       "    <tr style=\"text-align: right;\">\n",
       "      <th></th>\n",
       "      <th>CCS enrollees</th>\n",
       "      <th>Total QHP enrollees</th>\n",
       "      <th>Percent uptake</th>\n",
       "    </tr>\n",
       "    <tr>\n",
       "      <th>County</th>\n",
       "      <th></th>\n",
       "      <th></th>\n",
       "      <th></th>\n",
       "    </tr>\n",
       "  </thead>\n",
       "  <tbody>\n",
       "    <tr>\n",
       "      <th>Adams</th>\n",
       "      <td>77</td>\n",
       "      <td>294</td>\n",
       "      <td>0.261905</td>\n",
       "    </tr>\n",
       "    <tr>\n",
       "      <th>Asotin</th>\n",
       "      <td>94</td>\n",
       "      <td>405</td>\n",
       "      <td>0.232099</td>\n",
       "    </tr>\n",
       "    <tr>\n",
       "      <th>Benton</th>\n",
       "      <td>911</td>\n",
       "      <td>3941</td>\n",
       "      <td>0.231160</td>\n",
       "    </tr>\n",
       "    <tr>\n",
       "      <th>Chelan</th>\n",
       "      <td>533</td>\n",
       "      <td>2596</td>\n",
       "      <td>0.205316</td>\n",
       "    </tr>\n",
       "    <tr>\n",
       "      <th>Clallam</th>\n",
       "      <td>516</td>\n",
       "      <td>2687</td>\n",
       "      <td>0.192036</td>\n",
       "    </tr>\n",
       "  </tbody>\n",
       "</table>\n",
       "</div>"
      ],
      "text/plain": [
       "         CCS enrollees  Total QHP enrollees  Percent uptake\n",
       "County                                                     \n",
       "Adams               77                  294        0.261905\n",
       "Asotin              94                  405        0.232099\n",
       "Benton             911                 3941        0.231160\n",
       "Chelan             533                 2596        0.205316\n",
       "Clallam            516                 2687        0.192036"
      ]
     },
     "execution_count": 6,
     "metadata": {},
     "output_type": "execute_result"
    }
   ],
   "source": [
    "# Check to ensure it worked\n",
    "ccs.head()"
   ]
  },
  {
   "cell_type": "code",
   "execution_count": 7,
   "metadata": {},
   "outputs": [
    {
     "data": {
      "text/html": [
       "<div>\n",
       "<style scoped>\n",
       "    .dataframe tbody tr th:only-of-type {\n",
       "        vertical-align: middle;\n",
       "    }\n",
       "\n",
       "    .dataframe tbody tr th {\n",
       "        vertical-align: top;\n",
       "    }\n",
       "\n",
       "    .dataframe thead th {\n",
       "        text-align: right;\n",
       "    }\n",
       "</style>\n",
       "<table border=\"1\" class=\"dataframe\">\n",
       "  <thead>\n",
       "    <tr style=\"text-align: right;\">\n",
       "      <th></th>\n",
       "      <th>STATE</th>\n",
       "      <th>STATEFP</th>\n",
       "      <th>COUNTYFP</th>\n",
       "      <th>COUNTYNS</th>\n",
       "      <th>COUNTYNAME</th>\n",
       "      <th>CLASSFP</th>\n",
       "      <th>FUNCSTAT</th>\n",
       "    </tr>\n",
       "  </thead>\n",
       "  <tbody>\n",
       "    <tr>\n",
       "      <th>0</th>\n",
       "      <td>WA</td>\n",
       "      <td>53</td>\n",
       "      <td>1</td>\n",
       "      <td>1531601</td>\n",
       "      <td>Adams County</td>\n",
       "      <td>H1</td>\n",
       "      <td>A</td>\n",
       "    </tr>\n",
       "    <tr>\n",
       "      <th>1</th>\n",
       "      <td>WA</td>\n",
       "      <td>53</td>\n",
       "      <td>3</td>\n",
       "      <td>1533502</td>\n",
       "      <td>Asotin County</td>\n",
       "      <td>H1</td>\n",
       "      <td>A</td>\n",
       "    </tr>\n",
       "    <tr>\n",
       "      <th>2</th>\n",
       "      <td>WA</td>\n",
       "      <td>53</td>\n",
       "      <td>5</td>\n",
       "      <td>1513302</td>\n",
       "      <td>Benton County</td>\n",
       "      <td>H1</td>\n",
       "      <td>A</td>\n",
       "    </tr>\n",
       "    <tr>\n",
       "      <th>3</th>\n",
       "      <td>WA</td>\n",
       "      <td>53</td>\n",
       "      <td>7</td>\n",
       "      <td>1531932</td>\n",
       "      <td>Chelan County</td>\n",
       "      <td>H1</td>\n",
       "      <td>A</td>\n",
       "    </tr>\n",
       "    <tr>\n",
       "      <th>4</th>\n",
       "      <td>WA</td>\n",
       "      <td>53</td>\n",
       "      <td>9</td>\n",
       "      <td>1531341</td>\n",
       "      <td>Clallam County</td>\n",
       "      <td>H1</td>\n",
       "      <td>A</td>\n",
       "    </tr>\n",
       "    <tr>\n",
       "      <th>5</th>\n",
       "      <td>WA</td>\n",
       "      <td>53</td>\n",
       "      <td>11</td>\n",
       "      <td>1531820</td>\n",
       "      <td>Clark County</td>\n",
       "      <td>H1</td>\n",
       "      <td>A</td>\n",
       "    </tr>\n",
       "  </tbody>\n",
       "</table>\n",
       "</div>"
      ],
      "text/plain": [
       "  STATE  STATEFP  COUNTYFP  COUNTYNS      COUNTYNAME CLASSFP FUNCSTAT\n",
       "0    WA       53         1   1531601    Adams County      H1        A\n",
       "1    WA       53         3   1533502   Asotin County      H1        A\n",
       "2    WA       53         5   1513302   Benton County      H1        A\n",
       "3    WA       53         7   1531932   Chelan County      H1        A\n",
       "4    WA       53         9   1531341  Clallam County      H1        A\n",
       "5    WA       53        11   1531820    Clark County      H1        A"
      ]
     },
     "execution_count": 7,
     "metadata": {},
     "output_type": "execute_result"
    }
   ],
   "source": [
    "# Load the next spreadsheet: county FIPS. Check out the data\n",
    "# Data source: https://www2.census.gov/geo/docs/reference/codes2020/cou/st53_wa_cou2020.txt\n",
    "fips = pd.read_csv('county_FIPS.csv')\n",
    "fips.head(6)"
   ]
  },
  {
   "cell_type": "markdown",
   "metadata": {},
   "source": [
    "This csv requires more cleaning. FIPS (Federal Information Processing Series) codes are 5 digits in length; the \"STATEFP\" and \"COUNTYFP\" fields above will need to be combined to create the final, standardized FIPS code."
   ]
  },
  {
   "cell_type": "code",
   "execution_count": 8,
   "metadata": {},
   "outputs": [
    {
     "name": "stdout",
     "output_type": "stream",
     "text": [
      "<class 'pandas.core.frame.DataFrame'>\n",
      "RangeIndex: 39 entries, 0 to 38\n",
      "Data columns (total 7 columns):\n",
      " #   Column      Non-Null Count  Dtype \n",
      "---  ------      --------------  ----- \n",
      " 0   STATE       39 non-null     object\n",
      " 1   STATEFP     39 non-null     int64 \n",
      " 2   COUNTYFP    39 non-null     int64 \n",
      " 3   COUNTYNS    39 non-null     int64 \n",
      " 4   COUNTYNAME  39 non-null     object\n",
      " 5   CLASSFP     39 non-null     object\n",
      " 6   FUNCSTAT    39 non-null     object\n",
      "dtypes: int64(3), object(4)\n",
      "memory usage: 2.3+ KB\n"
     ]
    }
   ],
   "source": [
    "fips.info()"
   ]
  },
  {
   "cell_type": "code",
   "execution_count": 9,
   "metadata": {},
   "outputs": [],
   "source": [
    "fips['COUNTYFP'] = fips['COUNTYFP'].astype(str)"
   ]
  },
  {
   "cell_type": "code",
   "execution_count": 10,
   "metadata": {},
   "outputs": [],
   "source": [
    "# Need to create the correct number of zeros to create the appropriate 5-digit FIPS code\n",
    "fips['zeros'] = np.where(\n",
    "    fips['COUNTYFP'].str.len() == 1, '00', '0')"
   ]
  },
  {
   "cell_type": "code",
   "execution_count": 11,
   "metadata": {},
   "outputs": [
    {
     "data": {
      "text/html": [
       "<div>\n",
       "<style scoped>\n",
       "    .dataframe tbody tr th:only-of-type {\n",
       "        vertical-align: middle;\n",
       "    }\n",
       "\n",
       "    .dataframe tbody tr th {\n",
       "        vertical-align: top;\n",
       "    }\n",
       "\n",
       "    .dataframe thead th {\n",
       "        text-align: right;\n",
       "    }\n",
       "</style>\n",
       "<table border=\"1\" class=\"dataframe\">\n",
       "  <thead>\n",
       "    <tr style=\"text-align: right;\">\n",
       "      <th></th>\n",
       "      <th>STATE</th>\n",
       "      <th>STATEFP</th>\n",
       "      <th>COUNTYFP</th>\n",
       "      <th>COUNTYNS</th>\n",
       "      <th>COUNTYNAME</th>\n",
       "      <th>CLASSFP</th>\n",
       "      <th>FUNCSTAT</th>\n",
       "      <th>zeros</th>\n",
       "    </tr>\n",
       "  </thead>\n",
       "  <tbody>\n",
       "    <tr>\n",
       "      <th>0</th>\n",
       "      <td>WA</td>\n",
       "      <td>53</td>\n",
       "      <td>1</td>\n",
       "      <td>1531601</td>\n",
       "      <td>Adams County</td>\n",
       "      <td>H1</td>\n",
       "      <td>A</td>\n",
       "      <td>00</td>\n",
       "    </tr>\n",
       "    <tr>\n",
       "      <th>1</th>\n",
       "      <td>WA</td>\n",
       "      <td>53</td>\n",
       "      <td>3</td>\n",
       "      <td>1533502</td>\n",
       "      <td>Asotin County</td>\n",
       "      <td>H1</td>\n",
       "      <td>A</td>\n",
       "      <td>00</td>\n",
       "    </tr>\n",
       "    <tr>\n",
       "      <th>2</th>\n",
       "      <td>WA</td>\n",
       "      <td>53</td>\n",
       "      <td>5</td>\n",
       "      <td>1513302</td>\n",
       "      <td>Benton County</td>\n",
       "      <td>H1</td>\n",
       "      <td>A</td>\n",
       "      <td>00</td>\n",
       "    </tr>\n",
       "    <tr>\n",
       "      <th>3</th>\n",
       "      <td>WA</td>\n",
       "      <td>53</td>\n",
       "      <td>7</td>\n",
       "      <td>1531932</td>\n",
       "      <td>Chelan County</td>\n",
       "      <td>H1</td>\n",
       "      <td>A</td>\n",
       "      <td>00</td>\n",
       "    </tr>\n",
       "    <tr>\n",
       "      <th>4</th>\n",
       "      <td>WA</td>\n",
       "      <td>53</td>\n",
       "      <td>9</td>\n",
       "      <td>1531341</td>\n",
       "      <td>Clallam County</td>\n",
       "      <td>H1</td>\n",
       "      <td>A</td>\n",
       "      <td>00</td>\n",
       "    </tr>\n",
       "    <tr>\n",
       "      <th>5</th>\n",
       "      <td>WA</td>\n",
       "      <td>53</td>\n",
       "      <td>11</td>\n",
       "      <td>1531820</td>\n",
       "      <td>Clark County</td>\n",
       "      <td>H1</td>\n",
       "      <td>A</td>\n",
       "      <td>0</td>\n",
       "    </tr>\n",
       "  </tbody>\n",
       "</table>\n",
       "</div>"
      ],
      "text/plain": [
       "  STATE  STATEFP COUNTYFP  COUNTYNS      COUNTYNAME CLASSFP FUNCSTAT zeros\n",
       "0    WA       53        1   1531601    Adams County      H1        A    00\n",
       "1    WA       53        3   1533502   Asotin County      H1        A    00\n",
       "2    WA       53        5   1513302   Benton County      H1        A    00\n",
       "3    WA       53        7   1531932   Chelan County      H1        A    00\n",
       "4    WA       53        9   1531341  Clallam County      H1        A    00\n",
       "5    WA       53       11   1531820    Clark County      H1        A     0"
      ]
     },
     "execution_count": 11,
     "metadata": {},
     "output_type": "execute_result"
    }
   ],
   "source": [
    "fips.head(6)"
   ]
  },
  {
   "cell_type": "code",
   "execution_count": 12,
   "metadata": {},
   "outputs": [
    {
     "data": {
      "text/html": [
       "<div>\n",
       "<style scoped>\n",
       "    .dataframe tbody tr th:only-of-type {\n",
       "        vertical-align: middle;\n",
       "    }\n",
       "\n",
       "    .dataframe tbody tr th {\n",
       "        vertical-align: top;\n",
       "    }\n",
       "\n",
       "    .dataframe thead th {\n",
       "        text-align: right;\n",
       "    }\n",
       "</style>\n",
       "<table border=\"1\" class=\"dataframe\">\n",
       "  <thead>\n",
       "    <tr style=\"text-align: right;\">\n",
       "      <th></th>\n",
       "      <th>STATE</th>\n",
       "      <th>STATEFP</th>\n",
       "      <th>COUNTYFP</th>\n",
       "      <th>COUNTYNS</th>\n",
       "      <th>COUNTYNAME</th>\n",
       "      <th>CLASSFP</th>\n",
       "      <th>FUNCSTAT</th>\n",
       "      <th>zeros</th>\n",
       "      <th>FIPS</th>\n",
       "    </tr>\n",
       "  </thead>\n",
       "  <tbody>\n",
       "    <tr>\n",
       "      <th>0</th>\n",
       "      <td>WA</td>\n",
       "      <td>53</td>\n",
       "      <td>1</td>\n",
       "      <td>1531601</td>\n",
       "      <td>Adams County</td>\n",
       "      <td>H1</td>\n",
       "      <td>A</td>\n",
       "      <td>00</td>\n",
       "      <td>53001</td>\n",
       "    </tr>\n",
       "    <tr>\n",
       "      <th>1</th>\n",
       "      <td>WA</td>\n",
       "      <td>53</td>\n",
       "      <td>3</td>\n",
       "      <td>1533502</td>\n",
       "      <td>Asotin County</td>\n",
       "      <td>H1</td>\n",
       "      <td>A</td>\n",
       "      <td>00</td>\n",
       "      <td>53003</td>\n",
       "    </tr>\n",
       "    <tr>\n",
       "      <th>2</th>\n",
       "      <td>WA</td>\n",
       "      <td>53</td>\n",
       "      <td>5</td>\n",
       "      <td>1513302</td>\n",
       "      <td>Benton County</td>\n",
       "      <td>H1</td>\n",
       "      <td>A</td>\n",
       "      <td>00</td>\n",
       "      <td>53005</td>\n",
       "    </tr>\n",
       "    <tr>\n",
       "      <th>3</th>\n",
       "      <td>WA</td>\n",
       "      <td>53</td>\n",
       "      <td>7</td>\n",
       "      <td>1531932</td>\n",
       "      <td>Chelan County</td>\n",
       "      <td>H1</td>\n",
       "      <td>A</td>\n",
       "      <td>00</td>\n",
       "      <td>53007</td>\n",
       "    </tr>\n",
       "    <tr>\n",
       "      <th>4</th>\n",
       "      <td>WA</td>\n",
       "      <td>53</td>\n",
       "      <td>9</td>\n",
       "      <td>1531341</td>\n",
       "      <td>Clallam County</td>\n",
       "      <td>H1</td>\n",
       "      <td>A</td>\n",
       "      <td>00</td>\n",
       "      <td>53009</td>\n",
       "    </tr>\n",
       "    <tr>\n",
       "      <th>5</th>\n",
       "      <td>WA</td>\n",
       "      <td>53</td>\n",
       "      <td>11</td>\n",
       "      <td>1531820</td>\n",
       "      <td>Clark County</td>\n",
       "      <td>H1</td>\n",
       "      <td>A</td>\n",
       "      <td>0</td>\n",
       "      <td>53011</td>\n",
       "    </tr>\n",
       "  </tbody>\n",
       "</table>\n",
       "</div>"
      ],
      "text/plain": [
       "  STATE  STATEFP COUNTYFP  COUNTYNS      COUNTYNAME CLASSFP FUNCSTAT zeros  \\\n",
       "0    WA       53        1   1531601    Adams County      H1        A    00   \n",
       "1    WA       53        3   1533502   Asotin County      H1        A    00   \n",
       "2    WA       53        5   1513302   Benton County      H1        A    00   \n",
       "3    WA       53        7   1531932   Chelan County      H1        A    00   \n",
       "4    WA       53        9   1531341  Clallam County      H1        A    00   \n",
       "5    WA       53       11   1531820    Clark County      H1        A     0   \n",
       "\n",
       "    FIPS  \n",
       "0  53001  \n",
       "1  53003  \n",
       "2  53005  \n",
       "3  53007  \n",
       "4  53009  \n",
       "5  53011  "
      ]
     },
     "execution_count": 12,
     "metadata": {},
     "output_type": "execute_result"
    }
   ],
   "source": [
    "# Lambda function to create 5-digit county FIPS code\n",
    "fips['FIPS'] = fips[['STATEFP','zeros','COUNTYFP']].astype(str).apply(lambda x: ''.join(x), axis = 1)\n",
    "fips.head(6)"
   ]
  },
  {
   "cell_type": "code",
   "execution_count": 13,
   "metadata": {},
   "outputs": [],
   "source": [
    "# Clean key column\n",
    "fips['County'] = fips['COUNTYNAME'].str.replace(' County', '')"
   ]
  },
  {
   "cell_type": "code",
   "execution_count": 15,
   "metadata": {},
   "outputs": [],
   "source": [
    "# Drop unnecessary columns\n",
    "fips = fips[['County', 'FIPS']]"
   ]
  },
  {
   "cell_type": "code",
   "execution_count": 16,
   "metadata": {},
   "outputs": [
    {
     "data": {
      "text/html": [
       "<div>\n",
       "<style scoped>\n",
       "    .dataframe tbody tr th:only-of-type {\n",
       "        vertical-align: middle;\n",
       "    }\n",
       "\n",
       "    .dataframe tbody tr th {\n",
       "        vertical-align: top;\n",
       "    }\n",
       "\n",
       "    .dataframe thead th {\n",
       "        text-align: right;\n",
       "    }\n",
       "</style>\n",
       "<table border=\"1\" class=\"dataframe\">\n",
       "  <thead>\n",
       "    <tr style=\"text-align: right;\">\n",
       "      <th></th>\n",
       "      <th>County</th>\n",
       "      <th>FIPS</th>\n",
       "    </tr>\n",
       "  </thead>\n",
       "  <tbody>\n",
       "    <tr>\n",
       "      <th>0</th>\n",
       "      <td>Adams</td>\n",
       "      <td>53001</td>\n",
       "    </tr>\n",
       "    <tr>\n",
       "      <th>1</th>\n",
       "      <td>Asotin</td>\n",
       "      <td>53003</td>\n",
       "    </tr>\n",
       "    <tr>\n",
       "      <th>2</th>\n",
       "      <td>Benton</td>\n",
       "      <td>53005</td>\n",
       "    </tr>\n",
       "    <tr>\n",
       "      <th>3</th>\n",
       "      <td>Chelan</td>\n",
       "      <td>53007</td>\n",
       "    </tr>\n",
       "    <tr>\n",
       "      <th>4</th>\n",
       "      <td>Clallam</td>\n",
       "      <td>53009</td>\n",
       "    </tr>\n",
       "  </tbody>\n",
       "</table>\n",
       "</div>"
      ],
      "text/plain": [
       "    County   FIPS\n",
       "0    Adams  53001\n",
       "1   Asotin  53003\n",
       "2   Benton  53005\n",
       "3   Chelan  53007\n",
       "4  Clallam  53009"
      ]
     },
     "execution_count": 16,
     "metadata": {},
     "output_type": "execute_result"
    }
   ],
   "source": [
    "fips.head()"
   ]
  },
  {
   "cell_type": "code",
   "execution_count": 17,
   "metadata": {},
   "outputs": [
    {
     "name": "stdout",
     "output_type": "stream",
     "text": [
      "<class 'pandas.core.frame.DataFrame'>\n",
      "RangeIndex: 39 entries, 0 to 38\n",
      "Data columns (total 2 columns):\n",
      " #   Column  Non-Null Count  Dtype \n",
      "---  ------  --------------  ----- \n",
      " 0   County  39 non-null     object\n",
      " 1   FIPS    39 non-null     object\n",
      "dtypes: object(2)\n",
      "memory usage: 752.0+ bytes\n"
     ]
    }
   ],
   "source": [
    "fips.info()"
   ]
  },
  {
   "cell_type": "code",
   "execution_count": 18,
   "metadata": {},
   "outputs": [],
   "source": [
    "fips['FIPS'] = pd.to_numeric(fips['FIPS'])"
   ]
  },
  {
   "cell_type": "code",
   "execution_count": 19,
   "metadata": {},
   "outputs": [
    {
     "name": "stdout",
     "output_type": "stream",
     "text": [
      "<class 'pandas.core.frame.DataFrame'>\n",
      "RangeIndex: 39 entries, 0 to 38\n",
      "Data columns (total 2 columns):\n",
      " #   Column  Non-Null Count  Dtype \n",
      "---  ------  --------------  ----- \n",
      " 0   County  39 non-null     object\n",
      " 1   FIPS    39 non-null     int64 \n",
      "dtypes: int64(1), object(1)\n",
      "memory usage: 752.0+ bytes\n"
     ]
    }
   ],
   "source": [
    "fips.info()"
   ]
  },
  {
   "cell_type": "code",
   "execution_count": 20,
   "metadata": {},
   "outputs": [],
   "source": [
    "# merge dataframes\n",
    "merged = pd.merge(ccs, fips, how = 'left', on = ['County','County'])"
   ]
  },
  {
   "cell_type": "code",
   "execution_count": 21,
   "metadata": {},
   "outputs": [
    {
     "data": {
      "text/html": [
       "<div>\n",
       "<style scoped>\n",
       "    .dataframe tbody tr th:only-of-type {\n",
       "        vertical-align: middle;\n",
       "    }\n",
       "\n",
       "    .dataframe tbody tr th {\n",
       "        vertical-align: top;\n",
       "    }\n",
       "\n",
       "    .dataframe thead th {\n",
       "        text-align: right;\n",
       "    }\n",
       "</style>\n",
       "<table border=\"1\" class=\"dataframe\">\n",
       "  <thead>\n",
       "    <tr style=\"text-align: right;\">\n",
       "      <th></th>\n",
       "      <th>County</th>\n",
       "      <th>CCS enrollees</th>\n",
       "      <th>Total QHP enrollees</th>\n",
       "      <th>Percent uptake</th>\n",
       "      <th>FIPS</th>\n",
       "    </tr>\n",
       "  </thead>\n",
       "  <tbody>\n",
       "    <tr>\n",
       "      <th>0</th>\n",
       "      <td>Adams</td>\n",
       "      <td>77</td>\n",
       "      <td>294</td>\n",
       "      <td>0.261905</td>\n",
       "      <td>53001</td>\n",
       "    </tr>\n",
       "    <tr>\n",
       "      <th>1</th>\n",
       "      <td>Asotin</td>\n",
       "      <td>94</td>\n",
       "      <td>405</td>\n",
       "      <td>0.232099</td>\n",
       "      <td>53003</td>\n",
       "    </tr>\n",
       "    <tr>\n",
       "      <th>2</th>\n",
       "      <td>Benton</td>\n",
       "      <td>911</td>\n",
       "      <td>3941</td>\n",
       "      <td>0.231160</td>\n",
       "      <td>53005</td>\n",
       "    </tr>\n",
       "    <tr>\n",
       "      <th>3</th>\n",
       "      <td>Chelan</td>\n",
       "      <td>533</td>\n",
       "      <td>2596</td>\n",
       "      <td>0.205316</td>\n",
       "      <td>53007</td>\n",
       "    </tr>\n",
       "    <tr>\n",
       "      <th>4</th>\n",
       "      <td>Clallam</td>\n",
       "      <td>516</td>\n",
       "      <td>2687</td>\n",
       "      <td>0.192036</td>\n",
       "      <td>53009</td>\n",
       "    </tr>\n",
       "  </tbody>\n",
       "</table>\n",
       "</div>"
      ],
      "text/plain": [
       "    County  CCS enrollees  Total QHP enrollees  Percent uptake   FIPS\n",
       "0    Adams             77                  294        0.261905  53001\n",
       "1   Asotin             94                  405        0.232099  53003\n",
       "2   Benton            911                 3941        0.231160  53005\n",
       "3   Chelan            533                 2596        0.205316  53007\n",
       "4  Clallam            516                 2687        0.192036  53009"
      ]
     },
     "execution_count": 21,
     "metadata": {},
     "output_type": "execute_result"
    }
   ],
   "source": [
    "merged.head()"
   ]
  },
  {
   "cell_type": "code",
   "execution_count": 22,
   "metadata": {},
   "outputs": [
    {
     "data": {
      "text/html": [
       "<div>\n",
       "<style scoped>\n",
       "    .dataframe tbody tr th:only-of-type {\n",
       "        vertical-align: middle;\n",
       "    }\n",
       "\n",
       "    .dataframe tbody tr th {\n",
       "        vertical-align: top;\n",
       "    }\n",
       "\n",
       "    .dataframe thead th {\n",
       "        text-align: right;\n",
       "    }\n",
       "</style>\n",
       "<table border=\"1\" class=\"dataframe\">\n",
       "  <thead>\n",
       "    <tr style=\"text-align: right;\">\n",
       "      <th></th>\n",
       "      <th>GISJOIN</th>\n",
       "      <th>FIPS</th>\n",
       "      <th>ADI_NATRANK</th>\n",
       "      <th>ADI_STATERNK</th>\n",
       "    </tr>\n",
       "  </thead>\n",
       "  <tbody>\n",
       "    <tr>\n",
       "      <th>0</th>\n",
       "      <td>G53000109501001</td>\n",
       "      <td>530019501001</td>\n",
       "      <td>43</td>\n",
       "      <td>8</td>\n",
       "    </tr>\n",
       "    <tr>\n",
       "      <th>1</th>\n",
       "      <td>G53000109501002</td>\n",
       "      <td>530019501002</td>\n",
       "      <td>71</td>\n",
       "      <td>10</td>\n",
       "    </tr>\n",
       "    <tr>\n",
       "      <th>2</th>\n",
       "      <td>G53000109501003</td>\n",
       "      <td>530019501003</td>\n",
       "      <td>94</td>\n",
       "      <td>10</td>\n",
       "    </tr>\n",
       "    <tr>\n",
       "      <th>3</th>\n",
       "      <td>G53000109502001</td>\n",
       "      <td>530019502001</td>\n",
       "      <td>83</td>\n",
       "      <td>10</td>\n",
       "    </tr>\n",
       "    <tr>\n",
       "      <th>4</th>\n",
       "      <td>G53000109502002</td>\n",
       "      <td>530019502002</td>\n",
       "      <td>71</td>\n",
       "      <td>10</td>\n",
       "    </tr>\n",
       "  </tbody>\n",
       "</table>\n",
       "</div>"
      ],
      "text/plain": [
       "           GISJOIN          FIPS ADI_NATRANK ADI_STATERNK\n",
       "0  G53000109501001  530019501001          43            8\n",
       "1  G53000109501002  530019501002          71           10\n",
       "2  G53000109501003  530019501003          94           10\n",
       "3  G53000109502001  530019502001          83           10\n",
       "4  G53000109502002  530019502002          71           10"
      ]
     },
     "execution_count": 22,
     "metadata": {},
     "output_type": "execute_result"
    }
   ],
   "source": [
    "# Load the next CSV, which contains 2021 area deprivation index by Census block group.\n",
    "# Data source: https://www.neighborhoodatlas.medicine.wisc.edu/download (need to sign in to access)\n",
    "adi = pd.read_csv('WA_2021_ADI_Census_Block_Group_v4_0_1.csv')\n",
    "adi.head()"
   ]
  },
  {
   "cell_type": "markdown",
   "metadata": {},
   "source": [
    "ADI_STATERNK is a decile that ranks Census block groups from most advantaged (1) to most disadvantaged (10) within the state of Washington. ADI_NATRANK is a percentile that compares Census block groups nationally from most advantaged (1-10) to most disadvantaged (100)."
   ]
  },
  {
   "cell_type": "code",
   "execution_count": 23,
   "metadata": {},
   "outputs": [
    {
     "data": {
      "text/html": [
       "<div>\n",
       "<style scoped>\n",
       "    .dataframe tbody tr th:only-of-type {\n",
       "        vertical-align: middle;\n",
       "    }\n",
       "\n",
       "    .dataframe tbody tr th {\n",
       "        vertical-align: top;\n",
       "    }\n",
       "\n",
       "    .dataframe thead th {\n",
       "        text-align: right;\n",
       "    }\n",
       "</style>\n",
       "<table border=\"1\" class=\"dataframe\">\n",
       "  <thead>\n",
       "    <tr style=\"text-align: right;\">\n",
       "      <th></th>\n",
       "      <th>GISJOIN</th>\n",
       "      <th>ADI_NATRANK</th>\n",
       "      <th>ADI_STATERNK</th>\n",
       "      <th>FIPS_Census_block</th>\n",
       "    </tr>\n",
       "  </thead>\n",
       "  <tbody>\n",
       "    <tr>\n",
       "      <th>0</th>\n",
       "      <td>G53000109501001</td>\n",
       "      <td>43</td>\n",
       "      <td>8</td>\n",
       "      <td>530019501001</td>\n",
       "    </tr>\n",
       "    <tr>\n",
       "      <th>1</th>\n",
       "      <td>G53000109501002</td>\n",
       "      <td>71</td>\n",
       "      <td>10</td>\n",
       "      <td>530019501002</td>\n",
       "    </tr>\n",
       "    <tr>\n",
       "      <th>2</th>\n",
       "      <td>G53000109501003</td>\n",
       "      <td>94</td>\n",
       "      <td>10</td>\n",
       "      <td>530019501003</td>\n",
       "    </tr>\n",
       "    <tr>\n",
       "      <th>3</th>\n",
       "      <td>G53000109502001</td>\n",
       "      <td>83</td>\n",
       "      <td>10</td>\n",
       "      <td>530019502001</td>\n",
       "    </tr>\n",
       "    <tr>\n",
       "      <th>4</th>\n",
       "      <td>G53000109502002</td>\n",
       "      <td>71</td>\n",
       "      <td>10</td>\n",
       "      <td>530019502002</td>\n",
       "    </tr>\n",
       "  </tbody>\n",
       "</table>\n",
       "</div>"
      ],
      "text/plain": [
       "           GISJOIN ADI_NATRANK ADI_STATERNK  FIPS_Census_block\n",
       "0  G53000109501001          43            8       530019501001\n",
       "1  G53000109501002          71           10       530019501002\n",
       "2  G53000109501003          94           10       530019501003\n",
       "3  G53000109502001          83           10       530019502001\n",
       "4  G53000109502002          71           10       530019502002"
      ]
     },
     "execution_count": 23,
     "metadata": {},
     "output_type": "execute_result"
    }
   ],
   "source": [
    "# Rename FIPS column to Census block FIPS\n",
    "adi['FIPS_Census_block'] = adi['FIPS']\n",
    "adi = adi.drop(['FIPS'], axis = 1)\n",
    "adi.head()"
   ]
  },
  {
   "cell_type": "code",
   "execution_count": 24,
   "metadata": {},
   "outputs": [
    {
     "data": {
      "text/html": [
       "<div>\n",
       "<style scoped>\n",
       "    .dataframe tbody tr th:only-of-type {\n",
       "        vertical-align: middle;\n",
       "    }\n",
       "\n",
       "    .dataframe tbody tr th {\n",
       "        vertical-align: top;\n",
       "    }\n",
       "\n",
       "    .dataframe thead th {\n",
       "        text-align: right;\n",
       "    }\n",
       "</style>\n",
       "<table border=\"1\" class=\"dataframe\">\n",
       "  <thead>\n",
       "    <tr style=\"text-align: right;\">\n",
       "      <th></th>\n",
       "      <th>GISJOIN</th>\n",
       "      <th>ADI_NATRANK</th>\n",
       "      <th>ADI_STATERNK</th>\n",
       "      <th>FIPS_Census_block</th>\n",
       "      <th>County_fips</th>\n",
       "    </tr>\n",
       "  </thead>\n",
       "  <tbody>\n",
       "    <tr>\n",
       "      <th>0</th>\n",
       "      <td>G53000109501001</td>\n",
       "      <td>43</td>\n",
       "      <td>8</td>\n",
       "      <td>530019501001</td>\n",
       "      <td>53001</td>\n",
       "    </tr>\n",
       "    <tr>\n",
       "      <th>1</th>\n",
       "      <td>G53000109501002</td>\n",
       "      <td>71</td>\n",
       "      <td>10</td>\n",
       "      <td>530019501002</td>\n",
       "      <td>53001</td>\n",
       "    </tr>\n",
       "    <tr>\n",
       "      <th>2</th>\n",
       "      <td>G53000109501003</td>\n",
       "      <td>94</td>\n",
       "      <td>10</td>\n",
       "      <td>530019501003</td>\n",
       "      <td>53001</td>\n",
       "    </tr>\n",
       "    <tr>\n",
       "      <th>3</th>\n",
       "      <td>G53000109502001</td>\n",
       "      <td>83</td>\n",
       "      <td>10</td>\n",
       "      <td>530019502001</td>\n",
       "      <td>53001</td>\n",
       "    </tr>\n",
       "    <tr>\n",
       "      <th>4</th>\n",
       "      <td>G53000109502002</td>\n",
       "      <td>71</td>\n",
       "      <td>10</td>\n",
       "      <td>530019502002</td>\n",
       "      <td>53001</td>\n",
       "    </tr>\n",
       "  </tbody>\n",
       "</table>\n",
       "</div>"
      ],
      "text/plain": [
       "           GISJOIN ADI_NATRANK ADI_STATERNK  FIPS_Census_block County_fips\n",
       "0  G53000109501001          43            8       530019501001       53001\n",
       "1  G53000109501002          71           10       530019501002       53001\n",
       "2  G53000109501003          94           10       530019501003       53001\n",
       "3  G53000109502001          83           10       530019502001       53001\n",
       "4  G53000109502002          71           10       530019502002       53001"
      ]
     },
     "execution_count": 24,
     "metadata": {},
     "output_type": "execute_result"
    }
   ],
   "source": [
    "#Create 5-digit county level FIPS code\n",
    "adi['County_fips'] = adi['FIPS_Census_block'].astype(str).str[:5]\n",
    "adi.head()"
   ]
  },
  {
   "cell_type": "code",
   "execution_count": 25,
   "metadata": {},
   "outputs": [
    {
     "data": {
      "text/html": [
       "<div>\n",
       "<style scoped>\n",
       "    .dataframe tbody tr th:only-of-type {\n",
       "        vertical-align: middle;\n",
       "    }\n",
       "\n",
       "    .dataframe tbody tr th {\n",
       "        vertical-align: top;\n",
       "    }\n",
       "\n",
       "    .dataframe thead th {\n",
       "        text-align: right;\n",
       "    }\n",
       "</style>\n",
       "<table border=\"1\" class=\"dataframe\">\n",
       "  <thead>\n",
       "    <tr style=\"text-align: right;\">\n",
       "      <th></th>\n",
       "      <th>GISJOIN</th>\n",
       "      <th>ADI_NATRANK</th>\n",
       "      <th>ADI_STATERNK</th>\n",
       "      <th>County_fips</th>\n",
       "    </tr>\n",
       "  </thead>\n",
       "  <tbody>\n",
       "    <tr>\n",
       "      <th>0</th>\n",
       "      <td>G53000109501001</td>\n",
       "      <td>43</td>\n",
       "      <td>8</td>\n",
       "      <td>53001</td>\n",
       "    </tr>\n",
       "    <tr>\n",
       "      <th>1</th>\n",
       "      <td>G53000109501002</td>\n",
       "      <td>71</td>\n",
       "      <td>10</td>\n",
       "      <td>53001</td>\n",
       "    </tr>\n",
       "    <tr>\n",
       "      <th>2</th>\n",
       "      <td>G53000109501003</td>\n",
       "      <td>94</td>\n",
       "      <td>10</td>\n",
       "      <td>53001</td>\n",
       "    </tr>\n",
       "    <tr>\n",
       "      <th>3</th>\n",
       "      <td>G53000109502001</td>\n",
       "      <td>83</td>\n",
       "      <td>10</td>\n",
       "      <td>53001</td>\n",
       "    </tr>\n",
       "    <tr>\n",
       "      <th>4</th>\n",
       "      <td>G53000109502002</td>\n",
       "      <td>71</td>\n",
       "      <td>10</td>\n",
       "      <td>53001</td>\n",
       "    </tr>\n",
       "  </tbody>\n",
       "</table>\n",
       "</div>"
      ],
      "text/plain": [
       "           GISJOIN ADI_NATRANK ADI_STATERNK County_fips\n",
       "0  G53000109501001          43            8       53001\n",
       "1  G53000109501002          71           10       53001\n",
       "2  G53000109501003          94           10       53001\n",
       "3  G53000109502001          83           10       53001\n",
       "4  G53000109502002          71           10       53001"
      ]
     },
     "execution_count": 25,
     "metadata": {},
     "output_type": "execute_result"
    }
   ],
   "source": [
    "# Now can drop FIPS Census block column\n",
    "adi = adi.drop(['FIPS_Census_block'], axis = 1)\n",
    "adi.head()"
   ]
  },
  {
   "cell_type": "code",
   "execution_count": 26,
   "metadata": {},
   "outputs": [
    {
     "name": "stdout",
     "output_type": "stream",
     "text": [
      "<class 'pandas.core.frame.DataFrame'>\n",
      "RangeIndex: 5311 entries, 0 to 5310\n",
      "Data columns (total 4 columns):\n",
      " #   Column        Non-Null Count  Dtype \n",
      "---  ------        --------------  ----- \n",
      " 0   GISJOIN       5311 non-null   object\n",
      " 1   ADI_NATRANK   5311 non-null   object\n",
      " 2   ADI_STATERNK  5311 non-null   object\n",
      " 3   County_fips   5311 non-null   object\n",
      "dtypes: object(4)\n",
      "memory usage: 166.1+ KB\n"
     ]
    }
   ],
   "source": [
    "adi.info()"
   ]
  },
  {
   "cell_type": "code",
   "execution_count": 27,
   "metadata": {},
   "outputs": [
    {
     "data": {
      "text/plain": [
       "array(['43', '71', '94', '83', '86', '46', '84', '59', '55', '56', '57',\n",
       "       '42', '41', '32', '44', '51', '40', '47', '78', '79', '74', '73',\n",
       "       '66', '69', '30', '28', '23', '19', '52', '54', '62', '50', '45',\n",
       "       '70', '49', '61', '25', '13', '21', '38', '14', '29', '22', '18',\n",
       "       '35', '8', '15', '26', '33', '37', '27', '60', '16', '39', 'GQ',\n",
       "       '68', '63', '53', '58', '64', '48', '65', '77', '34', 'PH', '9',\n",
       "       '24', '20', '31', '11', '36', '17', '12', '88', '82', '6', '93',\n",
       "       '96', '10', '80', '90', '67', '76', '100', '92', '75', '99', '72',\n",
       "       '98', 'QDI', '85', '7', '3', '4', '2', '5', '1', 'GQ-PH', '97',\n",
       "       '87', '91', '95', '81', '89'], dtype=object)"
      ]
     },
     "execution_count": 27,
     "metadata": {},
     "output_type": "execute_result"
    }
   ],
   "source": [
    "adi['ADI_NATRANK'].unique()"
   ]
  },
  {
   "cell_type": "markdown",
   "metadata": {},
   "source": [
    "Definitions from https://www.neighborhoodatlas.medicine.wisc.edu: \\\n",
    "PH: for suppression due to low population and/or housing \\\n",
    "GQ: for suppression due to a high group quarters population \\\n",
    "PH-GQ: for suppression due to both types of suppression criteria \\\n",
    "QDI: designates block groups without an ADI due to Questionable Data Integrity, stemming from missing data in the source ACS data."
   ]
  },
  {
   "cell_type": "code",
   "execution_count": 28,
   "metadata": {},
   "outputs": [
    {
     "data": {
      "text/plain": [
       "12"
      ]
     },
     "execution_count": 28,
     "metadata": {},
     "output_type": "execute_result"
    }
   ],
   "source": [
    "# Next step is to check how common these strings are\n",
    "gqph = adi.loc[adi['ADI_NATRANK'] == 'GQ-PH']\n",
    "gqph['GISJOIN'].nunique()"
   ]
  },
  {
   "cell_type": "code",
   "execution_count": 29,
   "metadata": {},
   "outputs": [
    {
     "data": {
      "text/plain": [
       "22"
      ]
     },
     "execution_count": 29,
     "metadata": {},
     "output_type": "execute_result"
    }
   ],
   "source": [
    "ph = adi.loc[adi['ADI_NATRANK'] == 'PH']\n",
    "ph['GISJOIN'].nunique()"
   ]
  },
  {
   "cell_type": "code",
   "execution_count": 30,
   "metadata": {},
   "outputs": [
    {
     "data": {
      "text/plain": [
       "48"
      ]
     },
     "execution_count": 30,
     "metadata": {},
     "output_type": "execute_result"
    }
   ],
   "source": [
    "gq = adi.loc[adi['ADI_NATRANK'] == 'GQ']\n",
    "gq['GISJOIN'].nunique()"
   ]
  },
  {
   "cell_type": "code",
   "execution_count": 31,
   "metadata": {},
   "outputs": [
    {
     "data": {
      "text/plain": [
       "5"
      ]
     },
     "execution_count": 31,
     "metadata": {},
     "output_type": "execute_result"
    }
   ],
   "source": [
    "qdi = adi.loc[adi['ADI_NATRANK'] == 'QDI']\n",
    "qdi['GISJOIN'].nunique()"
   ]
  },
  {
   "cell_type": "markdown",
   "metadata": {},
   "source": [
    "The total number of Census blocks that have string values for ADI_NATRANK is 87. With 5311 unique Census blocks available for analysis, they constitute 1.6% of data."
   ]
  },
  {
   "cell_type": "code",
   "execution_count": 32,
   "metadata": {},
   "outputs": [
    {
     "data": {
      "text/plain": [
       "array(['8', '10', '9', '7', '6', '5', '4', '3', '2', 'GQ', 'PH', '1',\n",
       "       'QDI', 'GQ-PH'], dtype=object)"
      ]
     },
     "execution_count": 32,
     "metadata": {},
     "output_type": "execute_result"
    }
   ],
   "source": [
    "# Repeat the process for ADI_STATERNK\n",
    "adi['ADI_STATERNK'].unique()"
   ]
  },
  {
   "cell_type": "code",
   "execution_count": 33,
   "metadata": {},
   "outputs": [
    {
     "data": {
      "text/plain": [
       "12"
      ]
     },
     "execution_count": 33,
     "metadata": {},
     "output_type": "execute_result"
    }
   ],
   "source": [
    "gqph_s = adi.loc[adi['ADI_STATERNK'] == 'GQ-PH']\n",
    "gqph_s['GISJOIN'].nunique()"
   ]
  },
  {
   "cell_type": "code",
   "execution_count": 34,
   "metadata": {},
   "outputs": [
    {
     "data": {
      "text/plain": [
       "22"
      ]
     },
     "execution_count": 34,
     "metadata": {},
     "output_type": "execute_result"
    }
   ],
   "source": [
    "ph_s = adi.loc[adi['ADI_STATERNK'] == 'PH']\n",
    "ph_s['GISJOIN'].nunique()"
   ]
  },
  {
   "cell_type": "code",
   "execution_count": 35,
   "metadata": {},
   "outputs": [
    {
     "data": {
      "text/plain": [
       "48"
      ]
     },
     "execution_count": 35,
     "metadata": {},
     "output_type": "execute_result"
    }
   ],
   "source": [
    "gq_s = adi.loc[adi['ADI_STATERNK'] == 'GQ']\n",
    "gq_s['GISJOIN'].nunique()"
   ]
  },
  {
   "cell_type": "code",
   "execution_count": 36,
   "metadata": {},
   "outputs": [
    {
     "data": {
      "text/plain": [
       "5"
      ]
     },
     "execution_count": 36,
     "metadata": {},
     "output_type": "execute_result"
    }
   ],
   "source": [
    "qdi_s = adi.loc[adi['ADI_STATERNK'] == 'QDI']\n",
    "qdi_s['GISJOIN'].nunique()"
   ]
  },
  {
   "cell_type": "markdown",
   "metadata": {},
   "source": [
    "Looks like Census blocks that lack national ranking data lack state ranking data as well. This makes sense given that these strings are present to mark problems with source data from which the rankings are calculated. From the map at https://www.neighborhoodatlas.medicine.wisc.edu/mapping, some of these problem areas are quite large (e.g., most of Skamania County is not represented) and were suppressed due to low population/low housing. Areas that were suppressed for high group quarters are usually very small. I will drop the affected rows, knowing that other nearby Census blocks will compensate for those small areas dropped due to high group quarters."
   ]
  },
  {
   "cell_type": "code",
   "execution_count": 37,
   "metadata": {},
   "outputs": [],
   "source": [
    "# Create list of values to remove & remove them\n",
    "filter_list = ['GQ-PH','GQ', 'PH', 'QDI']\n",
    "adi = adi.loc[~adi['ADI_NATRANK'].isin(filter_list)]"
   ]
  },
  {
   "cell_type": "code",
   "execution_count": 38,
   "metadata": {},
   "outputs": [
    {
     "data": {
      "text/plain": [
       "array(['43', '71', '94', '83', '86', '46', '84', '59', '55', '56', '57',\n",
       "       '42', '41', '32', '44', '51', '40', '47', '78', '79', '74', '73',\n",
       "       '66', '69', '30', '28', '23', '19', '52', '54', '62', '50', '45',\n",
       "       '70', '49', '61', '25', '13', '21', '38', '14', '29', '22', '18',\n",
       "       '35', '8', '15', '26', '33', '37', '27', '60', '16', '39', '68',\n",
       "       '63', '53', '58', '64', '48', '65', '77', '34', '9', '24', '20',\n",
       "       '31', '11', '36', '17', '12', '88', '82', '6', '93', '96', '10',\n",
       "       '80', '90', '67', '76', '100', '92', '75', '99', '72', '98', '85',\n",
       "       '7', '3', '4', '2', '5', '1', '97', '87', '91', '95', '81', '89'],\n",
       "      dtype=object)"
      ]
     },
     "execution_count": 38,
     "metadata": {},
     "output_type": "execute_result"
    }
   ],
   "source": [
    "adi['ADI_NATRANK'].unique()"
   ]
  },
  {
   "cell_type": "code",
   "execution_count": 39,
   "metadata": {},
   "outputs": [
    {
     "data": {
      "text/plain": [
       "array(['8', '10', '9', '7', '6', '5', '4', '3', '2', '1'], dtype=object)"
      ]
     },
     "execution_count": 39,
     "metadata": {},
     "output_type": "execute_result"
    }
   ],
   "source": [
    "# Make sure this removed all problematic values from STATERNK too\n",
    "adi['ADI_STATERNK'].unique()"
   ]
  },
  {
   "cell_type": "code",
   "execution_count": 40,
   "metadata": {},
   "outputs": [],
   "source": [
    "# Now convert dtype to numeric from object\n",
    "adi['ADI_NATRANK'] = pd.to_numeric(adi['ADI_NATRANK'])"
   ]
  },
  {
   "cell_type": "code",
   "execution_count": 41,
   "metadata": {},
   "outputs": [],
   "source": [
    "adi['ADI_STATERNK'] = pd.to_numeric(adi['ADI_STATERNK'])"
   ]
  },
  {
   "cell_type": "code",
   "execution_count": 42,
   "metadata": {},
   "outputs": [],
   "source": [
    "adi['County_fips'] = pd.to_numeric(adi['County_fips'])"
   ]
  },
  {
   "cell_type": "code",
   "execution_count": 43,
   "metadata": {},
   "outputs": [],
   "source": [
    "# Drop unnecessary column\n",
    "adi = adi[['County_fips', 'ADI_NATRANK', 'ADI_STATERNK']]"
   ]
  },
  {
   "cell_type": "code",
   "execution_count": 44,
   "metadata": {},
   "outputs": [
    {
     "name": "stdout",
     "output_type": "stream",
     "text": [
      "<class 'pandas.core.frame.DataFrame'>\n",
      "Int64Index: 5224 entries, 0 to 5310\n",
      "Data columns (total 3 columns):\n",
      " #   Column        Non-Null Count  Dtype\n",
      "---  ------        --------------  -----\n",
      " 0   County_fips   5224 non-null   int64\n",
      " 1   ADI_NATRANK   5224 non-null   int64\n",
      " 2   ADI_STATERNK  5224 non-null   int64\n",
      "dtypes: int64(3)\n",
      "memory usage: 163.2 KB\n"
     ]
    }
   ],
   "source": [
    "adi.info()"
   ]
  },
  {
   "cell_type": "code",
   "execution_count": 45,
   "metadata": {},
   "outputs": [],
   "source": [
    "# Need to aggregate Census blocks to the county level to match the CCS uptake data\n",
    "grouped = adi.groupby(['County_fips'], as_index = False).mean()"
   ]
  },
  {
   "cell_type": "code",
   "execution_count": 46,
   "metadata": {},
   "outputs": [
    {
     "data": {
      "text/html": [
       "<div>\n",
       "<style scoped>\n",
       "    .dataframe tbody tr th:only-of-type {\n",
       "        vertical-align: middle;\n",
       "    }\n",
       "\n",
       "    .dataframe tbody tr th {\n",
       "        vertical-align: top;\n",
       "    }\n",
       "\n",
       "    .dataframe thead th {\n",
       "        text-align: right;\n",
       "    }\n",
       "</style>\n",
       "<table border=\"1\" class=\"dataframe\">\n",
       "  <thead>\n",
       "    <tr style=\"text-align: right;\">\n",
       "      <th></th>\n",
       "      <th>County_fips</th>\n",
       "      <th>ADI_NATRANK</th>\n",
       "      <th>ADI_STATERNK</th>\n",
       "    </tr>\n",
       "  </thead>\n",
       "  <tbody>\n",
       "    <tr>\n",
       "      <th>0</th>\n",
       "      <td>53001</td>\n",
       "      <td>65.200000</td>\n",
       "      <td>9.466667</td>\n",
       "    </tr>\n",
       "    <tr>\n",
       "      <th>1</th>\n",
       "      <td>53003</td>\n",
       "      <td>58.285714</td>\n",
       "      <td>9.142857</td>\n",
       "    </tr>\n",
       "    <tr>\n",
       "      <th>2</th>\n",
       "      <td>53005</td>\n",
       "      <td>44.671642</td>\n",
       "      <td>7.858209</td>\n",
       "    </tr>\n",
       "    <tr>\n",
       "      <th>3</th>\n",
       "      <td>53007</td>\n",
       "      <td>33.838710</td>\n",
       "      <td>6.483871</td>\n",
       "    </tr>\n",
       "    <tr>\n",
       "      <th>4</th>\n",
       "      <td>53009</td>\n",
       "      <td>43.492308</td>\n",
       "      <td>7.784615</td>\n",
       "    </tr>\n",
       "  </tbody>\n",
       "</table>\n",
       "</div>"
      ],
      "text/plain": [
       "   County_fips  ADI_NATRANK  ADI_STATERNK\n",
       "0        53001    65.200000      9.466667\n",
       "1        53003    58.285714      9.142857\n",
       "2        53005    44.671642      7.858209\n",
       "3        53007    33.838710      6.483871\n",
       "4        53009    43.492308      7.784615"
      ]
     },
     "execution_count": 46,
     "metadata": {},
     "output_type": "execute_result"
    }
   ],
   "source": [
    "grouped.head()"
   ]
  },
  {
   "cell_type": "code",
   "execution_count": 47,
   "metadata": {},
   "outputs": [],
   "source": [
    "# Combine the dataframes\n",
    "frames = [merged, grouped]\n",
    "df = pd.concat(frames, axis = 1, join = 'inner')"
   ]
  },
  {
   "cell_type": "code",
   "execution_count": 48,
   "metadata": {},
   "outputs": [],
   "source": [
    "df = df.drop('County_fips', axis = 1)"
   ]
  },
  {
   "cell_type": "code",
   "execution_count": 49,
   "metadata": {},
   "outputs": [
    {
     "data": {
      "text/html": [
       "<div>\n",
       "<style scoped>\n",
       "    .dataframe tbody tr th:only-of-type {\n",
       "        vertical-align: middle;\n",
       "    }\n",
       "\n",
       "    .dataframe tbody tr th {\n",
       "        vertical-align: top;\n",
       "    }\n",
       "\n",
       "    .dataframe thead th {\n",
       "        text-align: right;\n",
       "    }\n",
       "</style>\n",
       "<table border=\"1\" class=\"dataframe\">\n",
       "  <thead>\n",
       "    <tr style=\"text-align: right;\">\n",
       "      <th></th>\n",
       "      <th>County</th>\n",
       "      <th>CCS enrollees</th>\n",
       "      <th>Total QHP enrollees</th>\n",
       "      <th>Percent uptake</th>\n",
       "      <th>FIPS</th>\n",
       "      <th>ADI_NATRANK</th>\n",
       "      <th>ADI_STATERNK</th>\n",
       "    </tr>\n",
       "  </thead>\n",
       "  <tbody>\n",
       "    <tr>\n",
       "      <th>0</th>\n",
       "      <td>Adams</td>\n",
       "      <td>77</td>\n",
       "      <td>294</td>\n",
       "      <td>0.261905</td>\n",
       "      <td>53001</td>\n",
       "      <td>65.200000</td>\n",
       "      <td>9.466667</td>\n",
       "    </tr>\n",
       "    <tr>\n",
       "      <th>1</th>\n",
       "      <td>Asotin</td>\n",
       "      <td>94</td>\n",
       "      <td>405</td>\n",
       "      <td>0.232099</td>\n",
       "      <td>53003</td>\n",
       "      <td>58.285714</td>\n",
       "      <td>9.142857</td>\n",
       "    </tr>\n",
       "    <tr>\n",
       "      <th>2</th>\n",
       "      <td>Benton</td>\n",
       "      <td>911</td>\n",
       "      <td>3941</td>\n",
       "      <td>0.231160</td>\n",
       "      <td>53005</td>\n",
       "      <td>44.671642</td>\n",
       "      <td>7.858209</td>\n",
       "    </tr>\n",
       "    <tr>\n",
       "      <th>3</th>\n",
       "      <td>Chelan</td>\n",
       "      <td>533</td>\n",
       "      <td>2596</td>\n",
       "      <td>0.205316</td>\n",
       "      <td>53007</td>\n",
       "      <td>33.838710</td>\n",
       "      <td>6.483871</td>\n",
       "    </tr>\n",
       "    <tr>\n",
       "      <th>4</th>\n",
       "      <td>Clallam</td>\n",
       "      <td>516</td>\n",
       "      <td>2687</td>\n",
       "      <td>0.192036</td>\n",
       "      <td>53009</td>\n",
       "      <td>43.492308</td>\n",
       "      <td>7.784615</td>\n",
       "    </tr>\n",
       "  </tbody>\n",
       "</table>\n",
       "</div>"
      ],
      "text/plain": [
       "    County  CCS enrollees  Total QHP enrollees  Percent uptake   FIPS  \\\n",
       "0    Adams             77                  294        0.261905  53001   \n",
       "1   Asotin             94                  405        0.232099  53003   \n",
       "2   Benton            911                 3941        0.231160  53005   \n",
       "3   Chelan            533                 2596        0.205316  53007   \n",
       "4  Clallam            516                 2687        0.192036  53009   \n",
       "\n",
       "   ADI_NATRANK  ADI_STATERNK  \n",
       "0    65.200000      9.466667  \n",
       "1    58.285714      9.142857  \n",
       "2    44.671642      7.858209  \n",
       "3    33.838710      6.483871  \n",
       "4    43.492308      7.784615  "
      ]
     },
     "execution_count": 49,
     "metadata": {},
     "output_type": "execute_result"
    }
   ],
   "source": [
    "df.head()"
   ]
  },
  {
   "cell_type": "code",
   "execution_count": 50,
   "metadata": {},
   "outputs": [
    {
     "data": {
      "text/html": [
       "<div>\n",
       "<style scoped>\n",
       "    .dataframe tbody tr th:only-of-type {\n",
       "        vertical-align: middle;\n",
       "    }\n",
       "\n",
       "    .dataframe tbody tr th {\n",
       "        vertical-align: top;\n",
       "    }\n",
       "\n",
       "    .dataframe thead th {\n",
       "        text-align: right;\n",
       "    }\n",
       "</style>\n",
       "<table border=\"1\" class=\"dataframe\">\n",
       "  <thead>\n",
       "    <tr style=\"text-align: right;\">\n",
       "      <th></th>\n",
       "      <th>Year</th>\n",
       "      <th>StateAbbr</th>\n",
       "      <th>StateDesc</th>\n",
       "      <th>CountyName</th>\n",
       "      <th>CountyFIPS</th>\n",
       "      <th>LocationName</th>\n",
       "      <th>DataSource</th>\n",
       "      <th>Category</th>\n",
       "      <th>Measure</th>\n",
       "      <th>Data_Value_Unit</th>\n",
       "      <th>Data_Value_Type</th>\n",
       "      <th>Data_Value</th>\n",
       "      <th>MOE</th>\n",
       "      <th>TotalPopulation</th>\n",
       "      <th>LocationID</th>\n",
       "      <th>CategoryID</th>\n",
       "      <th>MeasureID</th>\n",
       "      <th>DataValueTypeID</th>\n",
       "      <th>Short_Question_Text</th>\n",
       "      <th>Geolocation</th>\n",
       "    </tr>\n",
       "  </thead>\n",
       "  <tbody>\n",
       "    <tr>\n",
       "      <th>0</th>\n",
       "      <td>2017-2021</td>\n",
       "      <td>WA</td>\n",
       "      <td>Washington</td>\n",
       "      <td>Thurston County</td>\n",
       "      <td>53067</td>\n",
       "      <td>53067010100</td>\n",
       "      <td>5-year ACS</td>\n",
       "      <td>SDOH</td>\n",
       "      <td>Unemployment among people 16 years and older i...</td>\n",
       "      <td>%</td>\n",
       "      <td>Percentage</td>\n",
       "      <td>4.7</td>\n",
       "      <td>2.8</td>\n",
       "      <td>3263</td>\n",
       "      <td>53067010100</td>\n",
       "      <td>SDOH</td>\n",
       "      <td>UNEMP</td>\n",
       "      <td>Percent</td>\n",
       "      <td>Unemployment</td>\n",
       "      <td>POINT (-122.9023537 47.0452755)</td>\n",
       "    </tr>\n",
       "    <tr>\n",
       "      <th>1</th>\n",
       "      <td>2017-2021</td>\n",
       "      <td>WA</td>\n",
       "      <td>Washington</td>\n",
       "      <td>Cowlitz County</td>\n",
       "      <td>53015</td>\n",
       "      <td>53015000902</td>\n",
       "      <td>5-year ACS</td>\n",
       "      <td>SDOH</td>\n",
       "      <td>No broadband internet subscription among house...</td>\n",
       "      <td>%</td>\n",
       "      <td>Percentage</td>\n",
       "      <td>8.7</td>\n",
       "      <td>11.3</td>\n",
       "      <td>3601</td>\n",
       "      <td>53015000902</td>\n",
       "      <td>SDOH</td>\n",
       "      <td>BROAD</td>\n",
       "      <td>Percent</td>\n",
       "      <td>No broadband</td>\n",
       "      <td>POINT (-122.9276715 46.1799796)</td>\n",
       "    </tr>\n",
       "    <tr>\n",
       "      <th>2</th>\n",
       "      <td>2017-2021</td>\n",
       "      <td>WA</td>\n",
       "      <td>Washington</td>\n",
       "      <td>Lewis County</td>\n",
       "      <td>53041</td>\n",
       "      <td>53041971502</td>\n",
       "      <td>5-year ACS</td>\n",
       "      <td>SDOH</td>\n",
       "      <td>No broadband internet subscription among house...</td>\n",
       "      <td>%</td>\n",
       "      <td>Percentage</td>\n",
       "      <td>9.1</td>\n",
       "      <td>8.4</td>\n",
       "      <td>5142</td>\n",
       "      <td>53041971502</td>\n",
       "      <td>SDOH</td>\n",
       "      <td>BROAD</td>\n",
       "      <td>Percent</td>\n",
       "      <td>No broadband</td>\n",
       "      <td>POINT (-123.1896203 46.504057)</td>\n",
       "    </tr>\n",
       "    <tr>\n",
       "      <th>3</th>\n",
       "      <td>2017-2021</td>\n",
       "      <td>WA</td>\n",
       "      <td>Washington</td>\n",
       "      <td>Chelan County</td>\n",
       "      <td>53007</td>\n",
       "      <td>53007960303</td>\n",
       "      <td>5-year ACS</td>\n",
       "      <td>SDOH</td>\n",
       "      <td>No high school diploma among adults aged 25 ye...</td>\n",
       "      <td>%</td>\n",
       "      <td>Percentage</td>\n",
       "      <td>11.9</td>\n",
       "      <td>9.5</td>\n",
       "      <td>1827</td>\n",
       "      <td>53007960303</td>\n",
       "      <td>SDOH</td>\n",
       "      <td>NOHSDP</td>\n",
       "      <td>Percent</td>\n",
       "      <td>No high school diploma</td>\n",
       "      <td>POINT (-120.0562004 47.8541793)</td>\n",
       "    </tr>\n",
       "    <tr>\n",
       "      <th>4</th>\n",
       "      <td>2017-2021</td>\n",
       "      <td>WA</td>\n",
       "      <td>Washington</td>\n",
       "      <td>Spokane County</td>\n",
       "      <td>53063</td>\n",
       "      <td>53063013401</td>\n",
       "      <td>5-year ACS</td>\n",
       "      <td>SDOH</td>\n",
       "      <td>Single-parent households</td>\n",
       "      <td>%</td>\n",
       "      <td>Percentage</td>\n",
       "      <td>1.4</td>\n",
       "      <td>1.6</td>\n",
       "      <td>5755</td>\n",
       "      <td>53063013401</td>\n",
       "      <td>SDOH</td>\n",
       "      <td>SNGPNT</td>\n",
       "      <td>Percent</td>\n",
       "      <td>Single-parent households</td>\n",
       "      <td>POINT (-117.3260677 47.6142731)</td>\n",
       "    </tr>\n",
       "  </tbody>\n",
       "</table>\n",
       "</div>"
      ],
      "text/plain": [
       "        Year StateAbbr   StateDesc       CountyName  CountyFIPS  LocationName  \\\n",
       "0  2017-2021        WA  Washington  Thurston County       53067   53067010100   \n",
       "1  2017-2021        WA  Washington   Cowlitz County       53015   53015000902   \n",
       "2  2017-2021        WA  Washington     Lewis County       53041   53041971502   \n",
       "3  2017-2021        WA  Washington    Chelan County       53007   53007960303   \n",
       "4  2017-2021        WA  Washington   Spokane County       53063   53063013401   \n",
       "\n",
       "   DataSource Category                                            Measure  \\\n",
       "0  5-year ACS     SDOH  Unemployment among people 16 years and older i...   \n",
       "1  5-year ACS     SDOH  No broadband internet subscription among house...   \n",
       "2  5-year ACS     SDOH  No broadband internet subscription among house...   \n",
       "3  5-year ACS     SDOH  No high school diploma among adults aged 25 ye...   \n",
       "4  5-year ACS     SDOH                           Single-parent households   \n",
       "\n",
       "  Data_Value_Unit Data_Value_Type  Data_Value   MOE  TotalPopulation  \\\n",
       "0               %      Percentage         4.7   2.8             3263   \n",
       "1               %      Percentage         8.7  11.3             3601   \n",
       "2               %      Percentage         9.1   8.4             5142   \n",
       "3               %      Percentage        11.9   9.5             1827   \n",
       "4               %      Percentage         1.4   1.6             5755   \n",
       "\n",
       "    LocationID CategoryID MeasureID DataValueTypeID       Short_Question_Text  \\\n",
       "0  53067010100       SDOH     UNEMP         Percent              Unemployment   \n",
       "1  53015000902       SDOH     BROAD         Percent              No broadband   \n",
       "2  53041971502       SDOH     BROAD         Percent              No broadband   \n",
       "3  53007960303       SDOH    NOHSDP         Percent    No high school diploma   \n",
       "4  53063013401       SDOH    SNGPNT         Percent  Single-parent households   \n",
       "\n",
       "                       Geolocation  \n",
       "0  POINT (-122.9023537 47.0452755)  \n",
       "1  POINT (-122.9276715 46.1799796)  \n",
       "2   POINT (-123.1896203 46.504057)  \n",
       "3  POINT (-120.0562004 47.8541793)  \n",
       "4  POINT (-117.3260677 47.6142731)  "
      ]
     },
     "execution_count": 50,
     "metadata": {},
     "output_type": "execute_result"
    }
   ],
   "source": [
    "# Get social determinants of health dataset. This version contains WA data only by Census tract.\n",
    "# Source: https://data.cdc.gov/500-Cities-Places/SDOH-Measures-for-County-ACS-2017-2021/i6u4-y3g4/about_data\n",
    "sdoh = pd.read_csv('SDOH_Measures_for_Census_Tract__ACS_2017-2021_20240223.csv')\n",
    "sdoh.head()"
   ]
  },
  {
   "cell_type": "code",
   "execution_count": 51,
   "metadata": {},
   "outputs": [
    {
     "data": {
      "text/plain": [
       "array(['Percentage'], dtype=object)"
      ]
     },
     "execution_count": 51,
     "metadata": {},
     "output_type": "execute_result"
    }
   ],
   "source": [
    "# Check if there are kinds of data present other than percentages\n",
    "sdoh['Data_Value_Type'].unique()"
   ]
  },
  {
   "cell_type": "code",
   "execution_count": 52,
   "metadata": {},
   "outputs": [
    {
     "name": "stdout",
     "output_type": "stream",
     "text": [
      "['Unemployment among people 16 years and older in the labor force'\n",
      " 'No broadband internet subscription among households'\n",
      " 'No high school diploma among adults aged 25 years or older'\n",
      " 'Single-parent households' 'Crowding among housing units'\n",
      " 'Persons living below 150% of the poverty level'\n",
      " 'Housing cost burden among households' 'Persons aged 65 years or older'\n",
      " 'Persons of racial or ethnic minority status']\n"
     ]
    }
   ],
   "source": [
    "# Get full descriptions of measures and store them\n",
    "sdoh_measures = sdoh['Measure'].unique()\n",
    "print(sdoh_measures)"
   ]
  },
  {
   "cell_type": "code",
   "execution_count": 53,
   "metadata": {},
   "outputs": [
    {
     "data": {
      "text/html": [
       "<div>\n",
       "<style scoped>\n",
       "    .dataframe tbody tr th:only-of-type {\n",
       "        vertical-align: middle;\n",
       "    }\n",
       "\n",
       "    .dataframe tbody tr th {\n",
       "        vertical-align: top;\n",
       "    }\n",
       "\n",
       "    .dataframe thead th {\n",
       "        text-align: right;\n",
       "    }\n",
       "</style>\n",
       "<table border=\"1\" class=\"dataframe\">\n",
       "  <thead>\n",
       "    <tr style=\"text-align: right;\">\n",
       "      <th></th>\n",
       "      <th>CountyFIPS</th>\n",
       "      <th>MeasureID</th>\n",
       "      <th>Data_Value</th>\n",
       "    </tr>\n",
       "  </thead>\n",
       "  <tbody>\n",
       "    <tr>\n",
       "      <th>0</th>\n",
       "      <td>53067</td>\n",
       "      <td>UNEMP</td>\n",
       "      <td>4.7</td>\n",
       "    </tr>\n",
       "    <tr>\n",
       "      <th>1</th>\n",
       "      <td>53015</td>\n",
       "      <td>BROAD</td>\n",
       "      <td>8.7</td>\n",
       "    </tr>\n",
       "    <tr>\n",
       "      <th>2</th>\n",
       "      <td>53041</td>\n",
       "      <td>BROAD</td>\n",
       "      <td>9.1</td>\n",
       "    </tr>\n",
       "    <tr>\n",
       "      <th>3</th>\n",
       "      <td>53007</td>\n",
       "      <td>NOHSDP</td>\n",
       "      <td>11.9</td>\n",
       "    </tr>\n",
       "    <tr>\n",
       "      <th>4</th>\n",
       "      <td>53063</td>\n",
       "      <td>SNGPNT</td>\n",
       "      <td>1.4</td>\n",
       "    </tr>\n",
       "  </tbody>\n",
       "</table>\n",
       "</div>"
      ],
      "text/plain": [
       "   CountyFIPS MeasureID  Data_Value\n",
       "0       53067     UNEMP         4.7\n",
       "1       53015     BROAD         8.7\n",
       "2       53041     BROAD         9.1\n",
       "3       53007    NOHSDP        11.9\n",
       "4       53063    SNGPNT         1.4"
      ]
     },
     "execution_count": 53,
     "metadata": {},
     "output_type": "execute_result"
    }
   ],
   "source": [
    "sdoh = sdoh[['CountyFIPS','MeasureID','Data_Value']]\n",
    "sdoh.head()"
   ]
  },
  {
   "cell_type": "code",
   "execution_count": 54,
   "metadata": {},
   "outputs": [
    {
     "name": "stdout",
     "output_type": "stream",
     "text": [
      "<class 'pandas.core.frame.DataFrame'>\n",
      "RangeIndex: 15930 entries, 0 to 15929\n",
      "Data columns (total 3 columns):\n",
      " #   Column      Non-Null Count  Dtype  \n",
      "---  ------      --------------  -----  \n",
      " 0   CountyFIPS  15930 non-null  int64  \n",
      " 1   MeasureID   15930 non-null  object \n",
      " 2   Data_Value  15924 non-null  float64\n",
      "dtypes: float64(1), int64(1), object(1)\n",
      "memory usage: 373.5+ KB\n"
     ]
    }
   ],
   "source": [
    "sdoh.info()"
   ]
  },
  {
   "cell_type": "code",
   "execution_count": 55,
   "metadata": {},
   "outputs": [],
   "source": [
    "# Pivot data to prepare to join to other df\n",
    "pivot = pd.pivot_table(sdoh, values = ['Data_Value'], index = ['CountyFIPS'], columns = ['MeasureID'])"
   ]
  },
  {
   "cell_type": "code",
   "execution_count": 56,
   "metadata": {},
   "outputs": [
    {
     "data": {
      "text/html": [
       "<div>\n",
       "<style scoped>\n",
       "    .dataframe tbody tr th:only-of-type {\n",
       "        vertical-align: middle;\n",
       "    }\n",
       "\n",
       "    .dataframe tbody tr th {\n",
       "        vertical-align: top;\n",
       "    }\n",
       "\n",
       "    .dataframe thead tr th {\n",
       "        text-align: left;\n",
       "    }\n",
       "\n",
       "    .dataframe thead tr:last-of-type th {\n",
       "        text-align: right;\n",
       "    }\n",
       "</style>\n",
       "<table border=\"1\" class=\"dataframe\">\n",
       "  <thead>\n",
       "    <tr>\n",
       "      <th></th>\n",
       "      <th colspan=\"9\" halign=\"left\">Data_Value</th>\n",
       "    </tr>\n",
       "    <tr>\n",
       "      <th>MeasureID</th>\n",
       "      <th>AGE65</th>\n",
       "      <th>BROAD</th>\n",
       "      <th>CROWD</th>\n",
       "      <th>HCOST</th>\n",
       "      <th>NOHSDP</th>\n",
       "      <th>POV150</th>\n",
       "      <th>REMNRTY</th>\n",
       "      <th>SNGPNT</th>\n",
       "      <th>UNEMP</th>\n",
       "    </tr>\n",
       "    <tr>\n",
       "      <th>CountyFIPS</th>\n",
       "      <th></th>\n",
       "      <th></th>\n",
       "      <th></th>\n",
       "      <th></th>\n",
       "      <th></th>\n",
       "      <th></th>\n",
       "      <th></th>\n",
       "      <th></th>\n",
       "      <th></th>\n",
       "    </tr>\n",
       "  </thead>\n",
       "  <tbody>\n",
       "    <tr>\n",
       "      <th>53001</th>\n",
       "      <td>12.171429</td>\n",
       "      <td>18.114286</td>\n",
       "      <td>11.485714</td>\n",
       "      <td>24.171429</td>\n",
       "      <td>32.428571</td>\n",
       "      <td>32.785714</td>\n",
       "      <td>63.914286</td>\n",
       "      <td>7.385714</td>\n",
       "      <td>6.514286</td>\n",
       "    </tr>\n",
       "    <tr>\n",
       "      <th>53003</th>\n",
       "      <td>22.483333</td>\n",
       "      <td>14.666667</td>\n",
       "      <td>2.083333</td>\n",
       "      <td>25.566667</td>\n",
       "      <td>8.833333</td>\n",
       "      <td>27.500000</td>\n",
       "      <td>11.816667</td>\n",
       "      <td>4.533333</td>\n",
       "      <td>6.066667</td>\n",
       "    </tr>\n",
       "    <tr>\n",
       "      <th>53005</th>\n",
       "      <td>14.586364</td>\n",
       "      <td>11.843182</td>\n",
       "      <td>3.088636</td>\n",
       "      <td>22.490909</td>\n",
       "      <td>10.522727</td>\n",
       "      <td>18.088636</td>\n",
       "      <td>32.372727</td>\n",
       "      <td>7.443182</td>\n",
       "      <td>5.093182</td>\n",
       "    </tr>\n",
       "    <tr>\n",
       "      <th>53007</th>\n",
       "      <td>21.447826</td>\n",
       "      <td>13.282609</td>\n",
       "      <td>3.591304</td>\n",
       "      <td>22.243478</td>\n",
       "      <td>13.891304</td>\n",
       "      <td>19.630435</td>\n",
       "      <td>29.178261</td>\n",
       "      <td>5.526087</td>\n",
       "      <td>3.952174</td>\n",
       "    </tr>\n",
       "    <tr>\n",
       "      <th>53009</th>\n",
       "      <td>30.512500</td>\n",
       "      <td>11.195833</td>\n",
       "      <td>1.979167</td>\n",
       "      <td>26.241667</td>\n",
       "      <td>7.433333</td>\n",
       "      <td>21.079167</td>\n",
       "      <td>19.983333</td>\n",
       "      <td>4.670833</td>\n",
       "      <td>5.908333</td>\n",
       "    </tr>\n",
       "  </tbody>\n",
       "</table>\n",
       "</div>"
      ],
      "text/plain": [
       "           Data_Value                                                         \\\n",
       "MeasureID       AGE65      BROAD      CROWD      HCOST     NOHSDP     POV150   \n",
       "CountyFIPS                                                                     \n",
       "53001       12.171429  18.114286  11.485714  24.171429  32.428571  32.785714   \n",
       "53003       22.483333  14.666667   2.083333  25.566667   8.833333  27.500000   \n",
       "53005       14.586364  11.843182   3.088636  22.490909  10.522727  18.088636   \n",
       "53007       21.447826  13.282609   3.591304  22.243478  13.891304  19.630435   \n",
       "53009       30.512500  11.195833   1.979167  26.241667   7.433333  21.079167   \n",
       "\n",
       "                                           \n",
       "MeasureID     REMNRTY    SNGPNT     UNEMP  \n",
       "CountyFIPS                                 \n",
       "53001       63.914286  7.385714  6.514286  \n",
       "53003       11.816667  4.533333  6.066667  \n",
       "53005       32.372727  7.443182  5.093182  \n",
       "53007       29.178261  5.526087  3.952174  \n",
       "53009       19.983333  4.670833  5.908333  "
      ]
     },
     "execution_count": 56,
     "metadata": {},
     "output_type": "execute_result"
    }
   ],
   "source": [
    "pivot.head()"
   ]
  },
  {
   "cell_type": "code",
   "execution_count": 57,
   "metadata": {},
   "outputs": [],
   "source": [
    "pivot.columns = pivot.columns.droplevel(0)"
   ]
  },
  {
   "cell_type": "code",
   "execution_count": 58,
   "metadata": {},
   "outputs": [],
   "source": [
    "pivot = pivot.reset_index().rename_axis(None, axis=1)"
   ]
  },
  {
   "cell_type": "code",
   "execution_count": 59,
   "metadata": {},
   "outputs": [
    {
     "data": {
      "text/html": [
       "<div>\n",
       "<style scoped>\n",
       "    .dataframe tbody tr th:only-of-type {\n",
       "        vertical-align: middle;\n",
       "    }\n",
       "\n",
       "    .dataframe tbody tr th {\n",
       "        vertical-align: top;\n",
       "    }\n",
       "\n",
       "    .dataframe thead th {\n",
       "        text-align: right;\n",
       "    }\n",
       "</style>\n",
       "<table border=\"1\" class=\"dataframe\">\n",
       "  <thead>\n",
       "    <tr style=\"text-align: right;\">\n",
       "      <th></th>\n",
       "      <th>CountyFIPS</th>\n",
       "      <th>AGE65</th>\n",
       "      <th>BROAD</th>\n",
       "      <th>CROWD</th>\n",
       "      <th>HCOST</th>\n",
       "      <th>NOHSDP</th>\n",
       "      <th>POV150</th>\n",
       "      <th>REMNRTY</th>\n",
       "      <th>SNGPNT</th>\n",
       "      <th>UNEMP</th>\n",
       "    </tr>\n",
       "  </thead>\n",
       "  <tbody>\n",
       "    <tr>\n",
       "      <th>0</th>\n",
       "      <td>53001</td>\n",
       "      <td>12.171429</td>\n",
       "      <td>18.114286</td>\n",
       "      <td>11.485714</td>\n",
       "      <td>24.171429</td>\n",
       "      <td>32.428571</td>\n",
       "      <td>32.785714</td>\n",
       "      <td>63.914286</td>\n",
       "      <td>7.385714</td>\n",
       "      <td>6.514286</td>\n",
       "    </tr>\n",
       "    <tr>\n",
       "      <th>1</th>\n",
       "      <td>53003</td>\n",
       "      <td>22.483333</td>\n",
       "      <td>14.666667</td>\n",
       "      <td>2.083333</td>\n",
       "      <td>25.566667</td>\n",
       "      <td>8.833333</td>\n",
       "      <td>27.500000</td>\n",
       "      <td>11.816667</td>\n",
       "      <td>4.533333</td>\n",
       "      <td>6.066667</td>\n",
       "    </tr>\n",
       "    <tr>\n",
       "      <th>2</th>\n",
       "      <td>53005</td>\n",
       "      <td>14.586364</td>\n",
       "      <td>11.843182</td>\n",
       "      <td>3.088636</td>\n",
       "      <td>22.490909</td>\n",
       "      <td>10.522727</td>\n",
       "      <td>18.088636</td>\n",
       "      <td>32.372727</td>\n",
       "      <td>7.443182</td>\n",
       "      <td>5.093182</td>\n",
       "    </tr>\n",
       "    <tr>\n",
       "      <th>3</th>\n",
       "      <td>53007</td>\n",
       "      <td>21.447826</td>\n",
       "      <td>13.282609</td>\n",
       "      <td>3.591304</td>\n",
       "      <td>22.243478</td>\n",
       "      <td>13.891304</td>\n",
       "      <td>19.630435</td>\n",
       "      <td>29.178261</td>\n",
       "      <td>5.526087</td>\n",
       "      <td>3.952174</td>\n",
       "    </tr>\n",
       "    <tr>\n",
       "      <th>4</th>\n",
       "      <td>53009</td>\n",
       "      <td>30.512500</td>\n",
       "      <td>11.195833</td>\n",
       "      <td>1.979167</td>\n",
       "      <td>26.241667</td>\n",
       "      <td>7.433333</td>\n",
       "      <td>21.079167</td>\n",
       "      <td>19.983333</td>\n",
       "      <td>4.670833</td>\n",
       "      <td>5.908333</td>\n",
       "    </tr>\n",
       "  </tbody>\n",
       "</table>\n",
       "</div>"
      ],
      "text/plain": [
       "   CountyFIPS      AGE65      BROAD      CROWD      HCOST     NOHSDP  \\\n",
       "0       53001  12.171429  18.114286  11.485714  24.171429  32.428571   \n",
       "1       53003  22.483333  14.666667   2.083333  25.566667   8.833333   \n",
       "2       53005  14.586364  11.843182   3.088636  22.490909  10.522727   \n",
       "3       53007  21.447826  13.282609   3.591304  22.243478  13.891304   \n",
       "4       53009  30.512500  11.195833   1.979167  26.241667   7.433333   \n",
       "\n",
       "      POV150    REMNRTY    SNGPNT     UNEMP  \n",
       "0  32.785714  63.914286  7.385714  6.514286  \n",
       "1  27.500000  11.816667  4.533333  6.066667  \n",
       "2  18.088636  32.372727  7.443182  5.093182  \n",
       "3  19.630435  29.178261  5.526087  3.952174  \n",
       "4  21.079167  19.983333  4.670833  5.908333  "
      ]
     },
     "execution_count": 59,
     "metadata": {},
     "output_type": "execute_result"
    }
   ],
   "source": [
    "pivot.head()"
   ]
  },
  {
   "cell_type": "code",
   "execution_count": 60,
   "metadata": {},
   "outputs": [
    {
     "data": {
      "text/html": [
       "<div>\n",
       "<style scoped>\n",
       "    .dataframe tbody tr th:only-of-type {\n",
       "        vertical-align: middle;\n",
       "    }\n",
       "\n",
       "    .dataframe tbody tr th {\n",
       "        vertical-align: top;\n",
       "    }\n",
       "\n",
       "    .dataframe thead th {\n",
       "        text-align: right;\n",
       "    }\n",
       "</style>\n",
       "<table border=\"1\" class=\"dataframe\">\n",
       "  <thead>\n",
       "    <tr style=\"text-align: right;\">\n",
       "      <th></th>\n",
       "      <th>County</th>\n",
       "      <th>CCS enrollees</th>\n",
       "      <th>Total QHP enrollees</th>\n",
       "      <th>Percent uptake</th>\n",
       "      <th>FIPS</th>\n",
       "      <th>ADI_NATRANK</th>\n",
       "      <th>ADI_STATERNK</th>\n",
       "      <th>CountyFIPS</th>\n",
       "      <th>AGE65</th>\n",
       "      <th>BROAD</th>\n",
       "      <th>CROWD</th>\n",
       "      <th>HCOST</th>\n",
       "      <th>NOHSDP</th>\n",
       "      <th>POV150</th>\n",
       "      <th>REMNRTY</th>\n",
       "      <th>SNGPNT</th>\n",
       "      <th>UNEMP</th>\n",
       "    </tr>\n",
       "  </thead>\n",
       "  <tbody>\n",
       "    <tr>\n",
       "      <th>0</th>\n",
       "      <td>Adams</td>\n",
       "      <td>77</td>\n",
       "      <td>294</td>\n",
       "      <td>0.261905</td>\n",
       "      <td>53001</td>\n",
       "      <td>65.200000</td>\n",
       "      <td>9.466667</td>\n",
       "      <td>53001</td>\n",
       "      <td>12.171429</td>\n",
       "      <td>18.114286</td>\n",
       "      <td>11.485714</td>\n",
       "      <td>24.171429</td>\n",
       "      <td>32.428571</td>\n",
       "      <td>32.785714</td>\n",
       "      <td>63.914286</td>\n",
       "      <td>7.385714</td>\n",
       "      <td>6.514286</td>\n",
       "    </tr>\n",
       "    <tr>\n",
       "      <th>1</th>\n",
       "      <td>Asotin</td>\n",
       "      <td>94</td>\n",
       "      <td>405</td>\n",
       "      <td>0.232099</td>\n",
       "      <td>53003</td>\n",
       "      <td>58.285714</td>\n",
       "      <td>9.142857</td>\n",
       "      <td>53003</td>\n",
       "      <td>22.483333</td>\n",
       "      <td>14.666667</td>\n",
       "      <td>2.083333</td>\n",
       "      <td>25.566667</td>\n",
       "      <td>8.833333</td>\n",
       "      <td>27.500000</td>\n",
       "      <td>11.816667</td>\n",
       "      <td>4.533333</td>\n",
       "      <td>6.066667</td>\n",
       "    </tr>\n",
       "    <tr>\n",
       "      <th>2</th>\n",
       "      <td>Benton</td>\n",
       "      <td>911</td>\n",
       "      <td>3941</td>\n",
       "      <td>0.231160</td>\n",
       "      <td>53005</td>\n",
       "      <td>44.671642</td>\n",
       "      <td>7.858209</td>\n",
       "      <td>53005</td>\n",
       "      <td>14.586364</td>\n",
       "      <td>11.843182</td>\n",
       "      <td>3.088636</td>\n",
       "      <td>22.490909</td>\n",
       "      <td>10.522727</td>\n",
       "      <td>18.088636</td>\n",
       "      <td>32.372727</td>\n",
       "      <td>7.443182</td>\n",
       "      <td>5.093182</td>\n",
       "    </tr>\n",
       "    <tr>\n",
       "      <th>3</th>\n",
       "      <td>Chelan</td>\n",
       "      <td>533</td>\n",
       "      <td>2596</td>\n",
       "      <td>0.205316</td>\n",
       "      <td>53007</td>\n",
       "      <td>33.838710</td>\n",
       "      <td>6.483871</td>\n",
       "      <td>53007</td>\n",
       "      <td>21.447826</td>\n",
       "      <td>13.282609</td>\n",
       "      <td>3.591304</td>\n",
       "      <td>22.243478</td>\n",
       "      <td>13.891304</td>\n",
       "      <td>19.630435</td>\n",
       "      <td>29.178261</td>\n",
       "      <td>5.526087</td>\n",
       "      <td>3.952174</td>\n",
       "    </tr>\n",
       "    <tr>\n",
       "      <th>4</th>\n",
       "      <td>Clallam</td>\n",
       "      <td>516</td>\n",
       "      <td>2687</td>\n",
       "      <td>0.192036</td>\n",
       "      <td>53009</td>\n",
       "      <td>43.492308</td>\n",
       "      <td>7.784615</td>\n",
       "      <td>53009</td>\n",
       "      <td>30.512500</td>\n",
       "      <td>11.195833</td>\n",
       "      <td>1.979167</td>\n",
       "      <td>26.241667</td>\n",
       "      <td>7.433333</td>\n",
       "      <td>21.079167</td>\n",
       "      <td>19.983333</td>\n",
       "      <td>4.670833</td>\n",
       "      <td>5.908333</td>\n",
       "    </tr>\n",
       "  </tbody>\n",
       "</table>\n",
       "</div>"
      ],
      "text/plain": [
       "    County  CCS enrollees  Total QHP enrollees  Percent uptake   FIPS  \\\n",
       "0    Adams             77                  294        0.261905  53001   \n",
       "1   Asotin             94                  405        0.232099  53003   \n",
       "2   Benton            911                 3941        0.231160  53005   \n",
       "3   Chelan            533                 2596        0.205316  53007   \n",
       "4  Clallam            516                 2687        0.192036  53009   \n",
       "\n",
       "   ADI_NATRANK  ADI_STATERNK  CountyFIPS      AGE65      BROAD      CROWD  \\\n",
       "0    65.200000      9.466667       53001  12.171429  18.114286  11.485714   \n",
       "1    58.285714      9.142857       53003  22.483333  14.666667   2.083333   \n",
       "2    44.671642      7.858209       53005  14.586364  11.843182   3.088636   \n",
       "3    33.838710      6.483871       53007  21.447826  13.282609   3.591304   \n",
       "4    43.492308      7.784615       53009  30.512500  11.195833   1.979167   \n",
       "\n",
       "       HCOST     NOHSDP     POV150    REMNRTY    SNGPNT     UNEMP  \n",
       "0  24.171429  32.428571  32.785714  63.914286  7.385714  6.514286  \n",
       "1  25.566667   8.833333  27.500000  11.816667  4.533333  6.066667  \n",
       "2  22.490909  10.522727  18.088636  32.372727  7.443182  5.093182  \n",
       "3  22.243478  13.891304  19.630435  29.178261  5.526087  3.952174  \n",
       "4  26.241667   7.433333  21.079167  19.983333  4.670833  5.908333  "
      ]
     },
     "execution_count": 60,
     "metadata": {},
     "output_type": "execute_result"
    }
   ],
   "source": [
    "# Combine dataframes\n",
    "frames = [df,pivot]\n",
    "df2 = pd.concat(frames, axis = 1, join = 'inner')\n",
    "df2.head()"
   ]
  },
  {
   "cell_type": "code",
   "execution_count": 61,
   "metadata": {},
   "outputs": [],
   "source": [
    "# Drop redundant column\n",
    "df2 = df2.drop('CountyFIPS', axis = 1)"
   ]
  },
  {
   "cell_type": "code",
   "execution_count": 62,
   "metadata": {},
   "outputs": [
    {
     "data": {
      "text/html": [
       "<div>\n",
       "<style scoped>\n",
       "    .dataframe tbody tr th:only-of-type {\n",
       "        vertical-align: middle;\n",
       "    }\n",
       "\n",
       "    .dataframe tbody tr th {\n",
       "        vertical-align: top;\n",
       "    }\n",
       "\n",
       "    .dataframe thead th {\n",
       "        text-align: right;\n",
       "    }\n",
       "</style>\n",
       "<table border=\"1\" class=\"dataframe\">\n",
       "  <thead>\n",
       "    <tr style=\"text-align: right;\">\n",
       "      <th></th>\n",
       "      <th>County</th>\n",
       "      <th>CCS enrollees</th>\n",
       "      <th>Total QHP enrollees</th>\n",
       "      <th>Percent uptake</th>\n",
       "      <th>FIPS</th>\n",
       "      <th>ADI_NATRANK</th>\n",
       "      <th>ADI_STATERNK</th>\n",
       "      <th>AGE65</th>\n",
       "      <th>BROAD</th>\n",
       "      <th>CROWD</th>\n",
       "      <th>HCOST</th>\n",
       "      <th>NOHSDP</th>\n",
       "      <th>POV150</th>\n",
       "      <th>REMNRTY</th>\n",
       "      <th>SNGPNT</th>\n",
       "      <th>UNEMP</th>\n",
       "    </tr>\n",
       "  </thead>\n",
       "  <tbody>\n",
       "    <tr>\n",
       "      <th>0</th>\n",
       "      <td>Adams</td>\n",
       "      <td>77</td>\n",
       "      <td>294</td>\n",
       "      <td>26.190476</td>\n",
       "      <td>53001</td>\n",
       "      <td>65.200000</td>\n",
       "      <td>9.466667</td>\n",
       "      <td>12.171429</td>\n",
       "      <td>18.114286</td>\n",
       "      <td>11.485714</td>\n",
       "      <td>24.171429</td>\n",
       "      <td>32.428571</td>\n",
       "      <td>32.785714</td>\n",
       "      <td>63.914286</td>\n",
       "      <td>7.385714</td>\n",
       "      <td>6.514286</td>\n",
       "    </tr>\n",
       "    <tr>\n",
       "      <th>1</th>\n",
       "      <td>Asotin</td>\n",
       "      <td>94</td>\n",
       "      <td>405</td>\n",
       "      <td>23.209877</td>\n",
       "      <td>53003</td>\n",
       "      <td>58.285714</td>\n",
       "      <td>9.142857</td>\n",
       "      <td>22.483333</td>\n",
       "      <td>14.666667</td>\n",
       "      <td>2.083333</td>\n",
       "      <td>25.566667</td>\n",
       "      <td>8.833333</td>\n",
       "      <td>27.500000</td>\n",
       "      <td>11.816667</td>\n",
       "      <td>4.533333</td>\n",
       "      <td>6.066667</td>\n",
       "    </tr>\n",
       "    <tr>\n",
       "      <th>2</th>\n",
       "      <td>Benton</td>\n",
       "      <td>911</td>\n",
       "      <td>3941</td>\n",
       "      <td>23.115960</td>\n",
       "      <td>53005</td>\n",
       "      <td>44.671642</td>\n",
       "      <td>7.858209</td>\n",
       "      <td>14.586364</td>\n",
       "      <td>11.843182</td>\n",
       "      <td>3.088636</td>\n",
       "      <td>22.490909</td>\n",
       "      <td>10.522727</td>\n",
       "      <td>18.088636</td>\n",
       "      <td>32.372727</td>\n",
       "      <td>7.443182</td>\n",
       "      <td>5.093182</td>\n",
       "    </tr>\n",
       "    <tr>\n",
       "      <th>3</th>\n",
       "      <td>Chelan</td>\n",
       "      <td>533</td>\n",
       "      <td>2596</td>\n",
       "      <td>20.531587</td>\n",
       "      <td>53007</td>\n",
       "      <td>33.838710</td>\n",
       "      <td>6.483871</td>\n",
       "      <td>21.447826</td>\n",
       "      <td>13.282609</td>\n",
       "      <td>3.591304</td>\n",
       "      <td>22.243478</td>\n",
       "      <td>13.891304</td>\n",
       "      <td>19.630435</td>\n",
       "      <td>29.178261</td>\n",
       "      <td>5.526087</td>\n",
       "      <td>3.952174</td>\n",
       "    </tr>\n",
       "    <tr>\n",
       "      <th>4</th>\n",
       "      <td>Clallam</td>\n",
       "      <td>516</td>\n",
       "      <td>2687</td>\n",
       "      <td>19.203573</td>\n",
       "      <td>53009</td>\n",
       "      <td>43.492308</td>\n",
       "      <td>7.784615</td>\n",
       "      <td>30.512500</td>\n",
       "      <td>11.195833</td>\n",
       "      <td>1.979167</td>\n",
       "      <td>26.241667</td>\n",
       "      <td>7.433333</td>\n",
       "      <td>21.079167</td>\n",
       "      <td>19.983333</td>\n",
       "      <td>4.670833</td>\n",
       "      <td>5.908333</td>\n",
       "    </tr>\n",
       "  </tbody>\n",
       "</table>\n",
       "</div>"
      ],
      "text/plain": [
       "    County  CCS enrollees  Total QHP enrollees  Percent uptake   FIPS  \\\n",
       "0    Adams             77                  294       26.190476  53001   \n",
       "1   Asotin             94                  405       23.209877  53003   \n",
       "2   Benton            911                 3941       23.115960  53005   \n",
       "3   Chelan            533                 2596       20.531587  53007   \n",
       "4  Clallam            516                 2687       19.203573  53009   \n",
       "\n",
       "   ADI_NATRANK  ADI_STATERNK      AGE65      BROAD      CROWD      HCOST  \\\n",
       "0    65.200000      9.466667  12.171429  18.114286  11.485714  24.171429   \n",
       "1    58.285714      9.142857  22.483333  14.666667   2.083333  25.566667   \n",
       "2    44.671642      7.858209  14.586364  11.843182   3.088636  22.490909   \n",
       "3    33.838710      6.483871  21.447826  13.282609   3.591304  22.243478   \n",
       "4    43.492308      7.784615  30.512500  11.195833   1.979167  26.241667   \n",
       "\n",
       "      NOHSDP     POV150    REMNRTY    SNGPNT     UNEMP  \n",
       "0  32.428571  32.785714  63.914286  7.385714  6.514286  \n",
       "1   8.833333  27.500000  11.816667  4.533333  6.066667  \n",
       "2  10.522727  18.088636  32.372727  7.443182  5.093182  \n",
       "3  13.891304  19.630435  29.178261  5.526087  3.952174  \n",
       "4   7.433333  21.079167  19.983333  4.670833  5.908333  "
      ]
     },
     "execution_count": 62,
     "metadata": {},
     "output_type": "execute_result"
    }
   ],
   "source": [
    "# The \"Percent uptake\" field is a percentage, like most of the other fields. Multiply by 100 to match others\n",
    "df2['Percent uptake'] = df2['Percent uptake']*100\n",
    "df2.head()"
   ]
  },
  {
   "cell_type": "code",
   "execution_count": 63,
   "metadata": {},
   "outputs": [
    {
     "name": "stdout",
     "output_type": "stream",
     "text": [
      "<class 'pandas.core.frame.DataFrame'>\n",
      "Int64Index: 39 entries, 0 to 38\n",
      "Data columns (total 16 columns):\n",
      " #   Column               Non-Null Count  Dtype  \n",
      "---  ------               --------------  -----  \n",
      " 0   County               39 non-null     object \n",
      " 1   CCS enrollees        39 non-null     int64  \n",
      " 2   Total QHP enrollees  39 non-null     int64  \n",
      " 3   Percent uptake       39 non-null     float64\n",
      " 4   FIPS                 39 non-null     int64  \n",
      " 5   ADI_NATRANK          39 non-null     float64\n",
      " 6   ADI_STATERNK         39 non-null     float64\n",
      " 7   AGE65                39 non-null     float64\n",
      " 8   BROAD                39 non-null     float64\n",
      " 9   CROWD                39 non-null     float64\n",
      " 10  HCOST                39 non-null     float64\n",
      " 11  NOHSDP               39 non-null     float64\n",
      " 12  POV150               39 non-null     float64\n",
      " 13  REMNRTY              39 non-null     float64\n",
      " 14  SNGPNT               39 non-null     float64\n",
      " 15  UNEMP                39 non-null     float64\n",
      "dtypes: float64(12), int64(3), object(1)\n",
      "memory usage: 5.2+ KB\n"
     ]
    }
   ],
   "source": [
    "# Double check dtypes before getting into analysis\n",
    "df2.info()"
   ]
  }
 ],
 "metadata": {
  "kernelspec": {
   "display_name": "Python 3",
   "language": "python",
   "name": "python3"
  },
  "language_info": {
   "codemirror_mode": {
    "name": "ipython",
    "version": 3
   },
   "file_extension": ".py",
   "mimetype": "text/x-python",
   "name": "python",
   "nbconvert_exporter": "python",
   "pygments_lexer": "ipython3",
   "version": "3.8.5"
  }
 },
 "nbformat": 4,
 "nbformat_minor": 4
}
