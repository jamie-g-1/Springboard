{
 "cells": [
  {
   "cell_type": "markdown",
   "metadata": {
    "colab_type": "text",
    "id": "Tia3MP1SJpgj"
   },
   "source": [
    "# Springboard Data Science Career Track Unit 4 Challenge - Tier 3 Complete\n",
    "\n",
    "## Objectives\n",
    "Hey! Great job getting through those challenging DataCamp courses. You're learning a lot in a short span of time. \n",
    "\n",
    "In this notebook, you're going to apply the skills you've been learning, bridging the gap between the controlled environment of DataCamp and the *slightly* messier work that data scientists do with actual datasets!\n",
    "\n",
    "Here’s the mystery we’re going to solve: ***which boroughs of London have seen the greatest increase in housing prices, on average, over the last two decades?***\n",
    "\n",
    "\n",
    "A borough is just a fancy word for district. You may be familiar with the five boroughs of New York… well, there are 32 boroughs within Greater London [(here's some info for the curious)](https://en.wikipedia.org/wiki/London_boroughs). Some of them are more desirable areas to live in, and the data will reflect that with a greater rise in housing prices.\n",
    "\n",
    "***This is the Tier 3 notebook, which means it's not filled in at all: we'll just give you the skeleton of a project, the brief and the data. It's up to you to play around with it and see what you can find out! Good luck! If you struggle, feel free to look at easier tiers for help; but try to dip in and out of them, as the more independent work you do, the better it is for your learning!***\n",
    "\n",
    "This challenge will make use of only what you learned in the following DataCamp courses: \n",
    "- Prework courses (Introduction to Python for Data Science, Intermediate Python for Data Science)\n",
    "- Data Types for Data Science\n",
    "- Python Data Science Toolbox (Part One) \n",
    "- pandas Foundations\n",
    "- Manipulating DataFrames with pandas\n",
    "- Merging DataFrames with pandas\n",
    "\n",
    "Of the tools, techniques and concepts in the above DataCamp courses, this challenge should require the application of the following: \n",
    "- **pandas**\n",
    "    - **data ingestion and inspection** (pandas Foundations, Module One) \n",
    "    - **exploratory data analysis** (pandas Foundations, Module Two)\n",
    "    - **tidying and cleaning** (Manipulating DataFrames with pandas, Module Three) \n",
    "    - **transforming DataFrames** (Manipulating DataFrames with pandas, Module One)\n",
    "    - **subsetting DataFrames with lists** (Manipulating DataFrames with pandas, Module One) \n",
    "    - **filtering DataFrames** (Manipulating DataFrames with pandas, Module One) \n",
    "    - **grouping data** (Manipulating DataFrames with pandas, Module Four) \n",
    "    - **melting data** (Manipulating DataFrames with pandas, Module Three) \n",
    "    - **advanced indexing** (Manipulating DataFrames with pandas, Module Four) \n",
    "- **matplotlib** (Intermediate Python for Data Science, Module One)\n",
    "- **fundamental data types** (Data Types for Data Science, Module One) \n",
    "- **dictionaries** (Intermediate Python for Data Science, Module Two)\n",
    "- **handling dates and times** (Data Types for Data Science, Module Four)\n",
    "- **function definition** (Python Data Science Toolbox - Part One, Module One)\n",
    "- **default arguments, variable length, and scope** (Python Data Science Toolbox - Part One, Module Two) \n",
    "- **lambda functions and error handling** (Python Data Science Toolbox - Part One, Module Four) "
   ]
  },
  {
   "cell_type": "markdown",
   "metadata": {
    "colab_type": "text",
    "id": "Ipgd2nV8Jpgl"
   },
   "source": [
    "## The Data Science Pipeline\n",
    "\n",
    "This is Tier Three, so we'll get you started. But after that, it's all in your hands! When you feel done with your investigations, look back over what you've accomplished, and prepare a quick presentation of your findings for the next mentor meeting. \n",
    "\n",
    "Data Science is magical. In this case study, you'll get to apply some complex machine learning algorithms. But as  [David Spiegelhalter](https://www.youtube.com/watch?v=oUs1uvsz0Ok) reminds us, there is no substitute for simply **taking a really, really good look at the data.** Sometimes, this is all we need to answer our question.\n",
    "\n",
    "Data Science projects generally adhere to the four stages of Data Science Pipeline:\n",
    "1. Sourcing and loading \n",
    "2. Cleaning, transforming, and visualizing \n",
    "3. Modeling \n",
    "4. Evaluating and concluding \n"
   ]
  },
  {
   "cell_type": "markdown",
   "metadata": {
    "colab_type": "text",
    "id": "zswDqbefJpgm"
   },
   "source": [
    "### 1. Sourcing and Loading \n",
    "\n",
    "Any Data Science project kicks off by importing  ***pandas***. The documentation of this wonderful library can be found [here](https://pandas.pydata.org/). As you've seen, pandas is conveniently connected to the [Numpy](http://www.numpy.org/) and [Matplotlib](https://matplotlib.org/) libraries. \n",
    "\n",
    "***Hint:*** This part of the data science pipeline will test those skills you acquired in the pandas Foundations course, Module One. "
   ]
  },
  {
   "cell_type": "markdown",
   "metadata": {
    "colab_type": "text",
    "id": "aEau5nEvJpgm"
   },
   "source": [
    "#### 1.1. Importing Libraries"
   ]
  },
  {
   "cell_type": "code",
   "execution_count": 2,
   "metadata": {
    "colab": {},
    "colab_type": "code",
    "id": "7Bt_Q_oPJpgn"
   },
   "outputs": [],
   "source": [
    "# Let's import the pandas, numpy libraries as pd, and np respectively. \n",
    "import pandas as pd\n",
    "import numpy as np\n",
    "\n",
    "# Load the pyplot collection of functions from matplotlib, as plt \n",
    "import matplotlib.pyplot as plt\n"
   ]
  },
  {
   "cell_type": "markdown",
   "metadata": {
    "colab_type": "text",
    "id": "koUrawxsJpgq"
   },
   "source": [
    "#### 1.2.  Loading the data\n",
    "Your data comes from the [London Datastore](https://data.london.gov.uk/): a free, open-source data-sharing portal for London-oriented datasets. "
   ]
  },
  {
   "cell_type": "code",
   "execution_count": 3,
   "metadata": {
    "colab": {},
    "colab_type": "code",
    "id": "AiLiD4v3Jpgr"
   },
   "outputs": [],
   "source": [
    "# First, make a variable called url_LondonHousePrices, and assign it the following link, enclosed in quotation-marks as a string:\n",
    "# https://data.london.gov.uk/download/uk-house-price-index/70ac0766-8902-4eb5-aab5-01951aaed773/UK%20House%20price%20index.xls\n",
    "\n",
    "url_LondonHousePrices = \"https://data.london.gov.uk/download/uk-house-price-index/70ac0766-8902-4eb5-aab5-01951aaed773/UK%20House%20price%20index.xls\"\n",
    "\n",
    "# The dataset we're interested in contains the Average prices of the houses, and is actually on a particular sheet of the Excel file. \n",
    "# As a result, we need to specify the sheet name in the read_excel() method.\n",
    "# Put this data into a variable called properties.  \n",
    "properties = pd.read_excel(url_LondonHousePrices, sheet_name='Average price', index_col= None)"
   ]
  },
  {
   "cell_type": "markdown",
   "metadata": {
    "colab_type": "text",
    "id": "POukEJXgJpgu"
   },
   "source": [
    "### 2. Cleaning, transforming, and visualizing\n",
    "This second stage is arguably the most important part of any Data Science project. The first thing to do is take a proper look at the data. Cleaning forms the majority of this stage, and can be done both before or after Transformation.\n",
    "\n",
    "The end goal of data cleaning is to have tidy data. When data is tidy: \n",
    "\n",
    "1. Each variable has a column.\n",
    "2. Each observation forms a row.\n",
    "\n",
    "Keep the end goal in mind as you move through this process, every step will take you closer. \n",
    "\n",
    "\n",
    "\n",
    "***Hint:*** This part of the data science pipeline should test those skills you acquired in: \n",
    "- Intermediate Python for data science, all modules.\n",
    "- pandas Foundations, all modules. \n",
    "- Manipulating DataFrames with pandas, all modules.\n",
    "- Data Types for Data Science, Module Four.\n",
    "- Python Data Science Toolbox - Part One, all modules"
   ]
  },
  {
   "cell_type": "markdown",
   "metadata": {
    "colab_type": "text",
    "id": "Te0Q548tnzZa"
   },
   "source": [
    "**2.1. Exploring your data** \n",
    "\n",
    "Think about your pandas functions for checking out a dataframe. "
   ]
  },
  {
   "cell_type": "code",
   "execution_count": 52,
   "metadata": {
    "colab": {},
    "colab_type": "code",
    "id": "Rxirxw_qoAJa"
   },
   "outputs": [
    {
     "name": "stdout",
     "output_type": "stream",
     "text": [
      "  Unnamed: 0 City of London Barking & Dagenham     Barnet     Bexley  \\\n",
      "0        NaT      E09000001          E09000002  E09000003  E09000004   \n",
      "1 1995-01-01          91449            50460.2    93284.5    64958.1   \n",
      "2 1995-02-01        82202.8            51085.8    93190.2    64787.9   \n",
      "3 1995-03-01        79120.7              51269    92247.5    64367.5   \n",
      "4 1995-04-01        77101.2            53133.5    90762.9    64277.7   \n",
      "\n",
      "       Brent    Bromley     Camden    Croydon     Ealing  ... NORTH WEST  \\\n",
      "0  E09000005  E09000006  E09000007  E09000008  E09000009  ...  E12000002   \n",
      "1    71306.6    81671.5     120933    69158.2    79885.9  ...    43958.5   \n",
      "2    72022.3    81657.6     119509    68951.1    80897.1  ...    43925.4   \n",
      "3    72015.8    81449.3     120282    68712.4    81379.9  ...    44434.9   \n",
      "4    72965.6    81124.4     120098      68610    82188.9  ...    44267.8   \n",
      "\n",
      "  YORKS & THE HUMBER EAST MIDLANDS WEST MIDLANDS EAST OF ENGLAND     LONDON  \\\n",
      "0          E12000003     E12000004     E12000005       E12000006  E12000007   \n",
      "1            44803.4       45544.5       48527.5         56701.6    74435.8   \n",
      "2            44528.8       46051.6       49341.3         56593.6    72777.9   \n",
      "3            45200.5       45383.8       49442.2         56171.2    73896.8   \n",
      "4            45614.3       46124.2       49455.9         56567.9    74455.3   \n",
      "\n",
      "  SOUTH EAST SOUTH WEST Unnamed: 47    England  \n",
      "0  E12000008  E12000009         NaN  E92000001  \n",
      "1    64018.9    54705.2         NaN    53202.8  \n",
      "2      63715    54356.1         NaN    53096.2  \n",
      "3    64113.6    53583.1         NaN    53201.3  \n",
      "4    64623.2      54786         NaN    53590.9  \n",
      "\n",
      "[5 rows x 49 columns]\n",
      "<class 'pandas.core.frame.DataFrame'>\n",
      "RangeIndex: 346 entries, 0 to 345\n",
      "Data columns (total 49 columns):\n",
      " #   Column                Non-Null Count  Dtype         \n",
      "---  ------                --------------  -----         \n",
      " 0   Unnamed: 0            345 non-null    datetime64[ns]\n",
      " 1   City of London        346 non-null    object        \n",
      " 2   Barking & Dagenham    346 non-null    object        \n",
      " 3   Barnet                346 non-null    object        \n",
      " 4   Bexley                346 non-null    object        \n",
      " 5   Brent                 346 non-null    object        \n",
      " 6   Bromley               346 non-null    object        \n",
      " 7   Camden                346 non-null    object        \n",
      " 8   Croydon               346 non-null    object        \n",
      " 9   Ealing                346 non-null    object        \n",
      " 10  Enfield               346 non-null    object        \n",
      " 11  Greenwich             346 non-null    object        \n",
      " 12  Hackney               346 non-null    object        \n",
      " 13  Hammersmith & Fulham  346 non-null    object        \n",
      " 14  Haringey              346 non-null    object        \n",
      " 15  Harrow                346 non-null    object        \n",
      " 16  Havering              346 non-null    object        \n",
      " 17  Hillingdon            346 non-null    object        \n",
      " 18  Hounslow              346 non-null    object        \n",
      " 19  Islington             346 non-null    object        \n",
      " 20  Kensington & Chelsea  346 non-null    object        \n",
      " 21  Kingston upon Thames  346 non-null    object        \n",
      " 22  Lambeth               346 non-null    object        \n",
      " 23  Lewisham              346 non-null    object        \n",
      " 24  Merton                346 non-null    object        \n",
      " 25  Newham                346 non-null    object        \n",
      " 26  Redbridge             346 non-null    object        \n",
      " 27  Richmond upon Thames  346 non-null    object        \n",
      " 28  Southwark             346 non-null    object        \n",
      " 29  Sutton                346 non-null    object        \n",
      " 30  Tower Hamlets         346 non-null    object        \n",
      " 31  Waltham Forest        346 non-null    object        \n",
      " 32  Wandsworth            346 non-null    object        \n",
      " 33  Westminster           346 non-null    object        \n",
      " 34  Unnamed: 34           0 non-null      float64       \n",
      " 35  Inner London          346 non-null    object        \n",
      " 36  Outer London          346 non-null    object        \n",
      " 37  Unnamed: 37           0 non-null      float64       \n",
      " 38  NORTH EAST            346 non-null    object        \n",
      " 39  NORTH WEST            346 non-null    object        \n",
      " 40  YORKS & THE HUMBER    346 non-null    object        \n",
      " 41  EAST MIDLANDS         346 non-null    object        \n",
      " 42  WEST MIDLANDS         346 non-null    object        \n",
      " 43  EAST OF ENGLAND       346 non-null    object        \n",
      " 44  LONDON                346 non-null    object        \n",
      " 45  SOUTH EAST            346 non-null    object        \n",
      " 46  SOUTH WEST            346 non-null    object        \n",
      " 47  Unnamed: 47           0 non-null      float64       \n",
      " 48  England               346 non-null    object        \n",
      "dtypes: datetime64[ns](1), float64(3), object(45)\n",
      "memory usage: 132.6+ KB\n",
      "None\n"
     ]
    },
    {
     "data": {
      "text/plain": [
       "(346, 49)"
      ]
     },
     "execution_count": 52,
     "metadata": {},
     "output_type": "execute_result"
    }
   ],
   "source": [
    "# Look at first 5 rows of data\n",
    "print(properties.head())\n",
    "\n",
    "# Get info about dataframe\n",
    "print(properties.info())\n",
    "properties.shape"
   ]
  },
  {
   "cell_type": "markdown",
   "metadata": {
    "colab_type": "text",
    "id": "tE9Sqt9-oAta"
   },
   "source": [
    "**2.2. Cleaning the data**\n",
    "\n",
    "You might find you need to transpose your dataframe, check out what its row indexes are, and reset the index. You  also might find you need to assign the values of the first row to your column headings  . (Hint: recall the .columns feature of DataFrames, as well as the iloc[] method).\n",
    "\n",
    "Don't be afraid to use StackOverflow for help  with this."
   ]
  },
  {
   "cell_type": "code",
   "execution_count": 12,
   "metadata": {
    "colab": {},
    "colab_type": "code",
    "id": "cdAu1A3YoH_r"
   },
   "outputs": [
    {
     "name": "stdout",
     "output_type": "stream",
     "text": [
      "                          0                    1                    2    \\\n",
      "Unnamed: 0                NaT  1995-01-01 00:00:00  1995-02-01 00:00:00   \n",
      "City of London      E09000001                91449              82202.8   \n",
      "Barking & Dagenham  E09000002              50460.2              51085.8   \n",
      "Barnet              E09000003              93284.5              93190.2   \n",
      "Bexley              E09000004              64958.1              64787.9   \n",
      "\n",
      "                                    3                    4    \\\n",
      "Unnamed: 0          1995-03-01 00:00:00  1995-04-01 00:00:00   \n",
      "City of London                  79120.7              77101.2   \n",
      "Barking & Dagenham                51269              53133.5   \n",
      "Barnet                          92247.5              90762.9   \n",
      "Bexley                          64367.5              64277.7   \n",
      "\n",
      "                                    5                    6    \\\n",
      "Unnamed: 0          1995-05-01 00:00:00  1995-06-01 00:00:00   \n",
      "City of London                  84409.1              94900.5   \n",
      "Barking & Dagenham              53042.2              53700.3   \n",
      "Barnet                            90258              90107.2   \n",
      "Bexley                          63997.1              64252.3   \n",
      "\n",
      "                                    7                    8    \\\n",
      "Unnamed: 0          1995-07-01 00:00:00  1995-08-01 00:00:00   \n",
      "City of London                   110128               112329   \n",
      "Barking & Dagenham              52113.1              52232.2   \n",
      "Barnet                          91441.2              92361.3   \n",
      "Bexley                          63722.7              64432.6   \n",
      "\n",
      "                                    9    ...                  336  \\\n",
      "Unnamed: 0          1995-09-01 00:00:00  ...  2022-12-01 00:00:00   \n",
      "City of London                   104473  ...               975240   \n",
      "Barking & Dagenham              51471.6  ...               355596   \n",
      "Barnet                          93273.1  ...               592328   \n",
      "Bexley                          64509.5  ...               409059   \n",
      "\n",
      "                                    337                  338  \\\n",
      "Unnamed: 0          2023-01-01 00:00:00  2023-02-01 00:00:00   \n",
      "City of London                   963094               869039   \n",
      "Barking & Dagenham               353429               346193   \n",
      "Barnet                           596085               602336   \n",
      "Bexley                           402365               403398   \n",
      "\n",
      "                                    339                  340  \\\n",
      "Unnamed: 0          2023-03-01 00:00:00  2023-04-01 00:00:00   \n",
      "City of London                   930986               903718   \n",
      "Barking & Dagenham               345288               348254   \n",
      "Barnet                           596064               587132   \n",
      "Bexley                           399796               398544   \n",
      "\n",
      "                                    341                  342  \\\n",
      "Unnamed: 0          2023-05-01 00:00:00  2023-06-01 00:00:00   \n",
      "City of London                   958418               951649   \n",
      "Barking & Dagenham               349590               346099   \n",
      "Barnet                           575141               575829   \n",
      "Bexley                           391077               390880   \n",
      "\n",
      "                                    343                  344  \\\n",
      "Unnamed: 0          2023-07-01 00:00:00  2023-08-01 00:00:00   \n",
      "City of London                   931176               861107   \n",
      "Barking & Dagenham               343430               344171   \n",
      "Barnet                           583479               597591   \n",
      "Bexley                           396718               396278   \n",
      "\n",
      "                                    345  \n",
      "Unnamed: 0          2023-09-01 00:00:00  \n",
      "City of London                   807475  \n",
      "Barking & Dagenham               345614  \n",
      "Barnet                           584740  \n",
      "Bexley                           396292  \n",
      "\n",
      "[5 rows x 346 columns]\n"
     ]
    }
   ],
   "source": [
    "# Transpose the dataframe and view head\n",
    "transposed = properties.transpose()\n",
    "print(transposed.head())\n"
   ]
  },
  {
   "cell_type": "code",
   "execution_count": 13,
   "metadata": {},
   "outputs": [
    {
     "data": {
      "text/plain": [
       "Index(['Unnamed: 0', 'City of London', 'Barking & Dagenham', 'Barnet',\n",
       "       'Bexley', 'Brent', 'Bromley', 'Camden', 'Croydon', 'Ealing', 'Enfield',\n",
       "       'Greenwich', 'Hackney', 'Hammersmith & Fulham', 'Haringey', 'Harrow',\n",
       "       'Havering', 'Hillingdon', 'Hounslow', 'Islington',\n",
       "       'Kensington & Chelsea', 'Kingston upon Thames', 'Lambeth', 'Lewisham',\n",
       "       'Merton', 'Newham', 'Redbridge', 'Richmond upon Thames', 'Southwark',\n",
       "       'Sutton', 'Tower Hamlets', 'Waltham Forest', 'Wandsworth',\n",
       "       'Westminster', 'Unnamed: 34', 'Inner London', 'Outer London',\n",
       "       'Unnamed: 37', 'NORTH EAST', 'NORTH WEST', 'YORKS & THE HUMBER',\n",
       "       'EAST MIDLANDS', 'WEST MIDLANDS', 'EAST OF ENGLAND', 'LONDON',\n",
       "       'SOUTH EAST', 'SOUTH WEST', 'Unnamed: 47', 'England'],\n",
       "      dtype='object')"
      ]
     },
     "execution_count": 13,
     "metadata": {},
     "output_type": "execute_result"
    }
   ],
   "source": [
    "# Examine row indexes\n",
    "transposed.index\n"
   ]
  },
  {
   "cell_type": "code",
   "execution_count": 15,
   "metadata": {},
   "outputs": [
    {
     "data": {
      "text/plain": [
       "RangeIndex(start=0, stop=49, step=1)"
      ]
     },
     "execution_count": 15,
     "metadata": {},
     "output_type": "execute_result"
    }
   ],
   "source": [
    "#Index is borough names; need to change to number. Reset index & examine\n",
    "reset_indx = transposed.reset_index()\n",
    "reset_indx.index"
   ]
  },
  {
   "cell_type": "code",
   "execution_count": 16,
   "metadata": {},
   "outputs": [
    {
     "name": "stdout",
     "output_type": "stream",
     "text": [
      "                index          0                    1                    2  \\\n",
      "0          Unnamed: 0        NaT  1995-01-01 00:00:00  1995-02-01 00:00:00   \n",
      "1      City of London  E09000001                91449              82202.8   \n",
      "2  Barking & Dagenham  E09000002              50460.2              51085.8   \n",
      "3              Barnet  E09000003              93284.5              93190.2   \n",
      "4              Bexley  E09000004              64958.1              64787.9   \n",
      "\n",
      "                     3                    4                    5  \\\n",
      "0  1995-03-01 00:00:00  1995-04-01 00:00:00  1995-05-01 00:00:00   \n",
      "1              79120.7              77101.2              84409.1   \n",
      "2                51269              53133.5              53042.2   \n",
      "3              92247.5              90762.9                90258   \n",
      "4              64367.5              64277.7              63997.1   \n",
      "\n",
      "                     6                    7                    8  ...  \\\n",
      "0  1995-06-01 00:00:00  1995-07-01 00:00:00  1995-08-01 00:00:00  ...   \n",
      "1              94900.5               110128               112329  ...   \n",
      "2              53700.3              52113.1              52232.2  ...   \n",
      "3              90107.2              91441.2              92361.3  ...   \n",
      "4              64252.3              63722.7              64432.6  ...   \n",
      "\n",
      "                   336                  337                  338  \\\n",
      "0  2022-12-01 00:00:00  2023-01-01 00:00:00  2023-02-01 00:00:00   \n",
      "1               975240               963094               869039   \n",
      "2               355596               353429               346193   \n",
      "3               592328               596085               602336   \n",
      "4               409059               402365               403398   \n",
      "\n",
      "                   339                  340                  341  \\\n",
      "0  2023-03-01 00:00:00  2023-04-01 00:00:00  2023-05-01 00:00:00   \n",
      "1               930986               903718               958418   \n",
      "2               345288               348254               349590   \n",
      "3               596064               587132               575141   \n",
      "4               399796               398544               391077   \n",
      "\n",
      "                   342                  343                  344  \\\n",
      "0  2023-06-01 00:00:00  2023-07-01 00:00:00  2023-08-01 00:00:00   \n",
      "1               951649               931176               861107   \n",
      "2               346099               343430               344171   \n",
      "3               575829               583479               597591   \n",
      "4               390880               396718               396278   \n",
      "\n",
      "                   345  \n",
      "0  2023-09-01 00:00:00  \n",
      "1               807475  \n",
      "2               345614  \n",
      "3               584740  \n",
      "4               396292  \n",
      "\n",
      "[5 rows x 347 columns]\n"
     ]
    }
   ],
   "source": [
    "#Assign values of first row to column names: reexamine dataframe\n",
    "print(reset_indx.head())"
   ]
  },
  {
   "cell_type": "code",
   "execution_count": 18,
   "metadata": {},
   "outputs": [
    {
     "data": {
      "text/plain": [
       "Index(['index',       0,       1,       2,       3,       4,       5,       6,\n",
       "             7,       8,\n",
       "       ...\n",
       "           336,     337,     338,     339,     340,     341,     342,     343,\n",
       "           344,     345],\n",
       "      dtype='object', length=347)"
      ]
     },
     "execution_count": 18,
     "metadata": {},
     "output_type": "execute_result"
    }
   ],
   "source": [
    "#Verify that column names are \"index\" and numbers: don't want to cause data loss by renaming columns\n",
    "reset_indx.columns"
   ]
  },
  {
   "cell_type": "code",
   "execution_count": 26,
   "metadata": {},
   "outputs": [
    {
     "name": "stdout",
     "output_type": "stream",
     "text": [
      "index             Unnamed: 0\n",
      "0                        NaT\n",
      "1        1995-01-01 00:00:00\n",
      "2        1995-02-01 00:00:00\n",
      "3        1995-03-01 00:00:00\n",
      "                ...         \n",
      "341      2023-05-01 00:00:00\n",
      "342      2023-06-01 00:00:00\n",
      "343      2023-07-01 00:00:00\n",
      "344      2023-08-01 00:00:00\n",
      "345      2023-09-01 00:00:00\n",
      "Name: 0, Length: 347, dtype: object\n"
     ]
    }
   ],
   "source": [
    "#Get first row to be new column names\n",
    "new_col_names = reset_indx.iloc[0]\n",
    "print(new_col_names)"
   ]
  },
  {
   "cell_type": "code",
   "execution_count": 27,
   "metadata": {},
   "outputs": [
    {
     "name": "stdout",
     "output_type": "stream",
     "text": [
      "                index          0        1        2        3        4        5  \\\n",
      "1      City of London  E09000001    91449  82202.8  79120.7  77101.2  84409.1   \n",
      "2  Barking & Dagenham  E09000002  50460.2  51085.8    51269  53133.5  53042.2   \n",
      "3              Barnet  E09000003  93284.5  93190.2  92247.5  90762.9    90258   \n",
      "4              Bexley  E09000004  64958.1  64787.9  64367.5  64277.7  63997.1   \n",
      "5               Brent  E09000005  71306.6  72022.3  72015.8  72965.6    73704   \n",
      "\n",
      "         6        7        8  ...     336     337     338     339     340  \\\n",
      "1  94900.5   110128   112329  ...  975240  963094  869039  930986  903718   \n",
      "2  53700.3  52113.1  52232.2  ...  355596  353429  346193  345288  348254   \n",
      "3  90107.2  91441.2  92361.3  ...  592328  596085  602336  596064  587132   \n",
      "4  64252.3  63722.7  64432.6  ...  409059  402365  403398  399796  398544   \n",
      "5  74310.5    74127    73547  ...  552767  551093  534129  525561  523992   \n",
      "\n",
      "      341     342     343     344     345  \n",
      "1  958418  951649  931176  861107  807475  \n",
      "2  349590  346099  343430  344171  345614  \n",
      "3  575141  575829  583479  597591  584740  \n",
      "4  391077  390880  396718  396278  396292  \n",
      "5  524452  531478  531425  557552  565929  \n",
      "\n",
      "[5 rows x 347 columns]\n"
     ]
    }
   ],
   "source": [
    "#Get the rest of the data without the row of dates\n",
    "reset_indx_new = reset_indx[1:]\n",
    "print(reset_indx_new.head())"
   ]
  },
  {
   "cell_type": "code",
   "execution_count": 28,
   "metadata": {},
   "outputs": [
    {
     "name": "stdout",
     "output_type": "stream",
     "text": [
      "0          Unnamed: 0        NaN 1995-01-01 00:00:00 1995-02-01 00:00:00  \\\n",
      "1      City of London  E09000001               91449             82202.8   \n",
      "2  Barking & Dagenham  E09000002             50460.2             51085.8   \n",
      "3              Barnet  E09000003             93284.5             93190.2   \n",
      "4              Bexley  E09000004             64958.1             64787.9   \n",
      "5               Brent  E09000005             71306.6             72022.3   \n",
      "\n",
      "0 1995-03-01 00:00:00 1995-04-01 00:00:00 1995-05-01 00:00:00  \\\n",
      "1             79120.7             77101.2             84409.1   \n",
      "2               51269             53133.5             53042.2   \n",
      "3             92247.5             90762.9               90258   \n",
      "4             64367.5             64277.7             63997.1   \n",
      "5             72015.8             72965.6               73704   \n",
      "\n",
      "0 1995-06-01 00:00:00 1995-07-01 00:00:00 1995-08-01 00:00:00  ...  \\\n",
      "1             94900.5              110128              112329  ...   \n",
      "2             53700.3             52113.1             52232.2  ...   \n",
      "3             90107.2             91441.2             92361.3  ...   \n",
      "4             64252.3             63722.7             64432.6  ...   \n",
      "5             74310.5               74127               73547  ...   \n",
      "\n",
      "0 2022-12-01 00:00:00 2023-01-01 00:00:00 2023-02-01 00:00:00  \\\n",
      "1              975240              963094              869039   \n",
      "2              355596              353429              346193   \n",
      "3              592328              596085              602336   \n",
      "4              409059              402365              403398   \n",
      "5              552767              551093              534129   \n",
      "\n",
      "0 2023-03-01 00:00:00 2023-04-01 00:00:00 2023-05-01 00:00:00  \\\n",
      "1              930986              903718              958418   \n",
      "2              345288              348254              349590   \n",
      "3              596064              587132              575141   \n",
      "4              399796              398544              391077   \n",
      "5              525561              523992              524452   \n",
      "\n",
      "0 2023-06-01 00:00:00 2023-07-01 00:00:00 2023-08-01 00:00:00  \\\n",
      "1              951649              931176              861107   \n",
      "2              346099              343430              344171   \n",
      "3              575829              583479              597591   \n",
      "4              390880              396718              396278   \n",
      "5              531478              531425              557552   \n",
      "\n",
      "0 2023-09-01 00:00:00  \n",
      "1              807475  \n",
      "2              345614  \n",
      "3              584740  \n",
      "4              396292  \n",
      "5              565929  \n",
      "\n",
      "[5 rows x 347 columns]\n"
     ]
    }
   ],
   "source": [
    "#Use the columns function to rename the columns and print to check result\n",
    "reset_indx_new.columns = new_col_names\n",
    "print(reset_indx_new.head())"
   ]
  },
  {
   "cell_type": "markdown",
   "metadata": {
    "colab_type": "text",
    "id": "o1uLbJAsoIjK"
   },
   "source": [
    "**2.3. Cleaning the data (part 2)**\n",
    "\n",
    "You might we have to **rename** a couple columns. How do you do this? The clue's pretty bold..."
   ]
  },
  {
   "cell_type": "code",
   "execution_count": 36,
   "metadata": {
    "colab": {},
    "colab_type": "code",
    "id": "GKkmn1AnoVZS"
   },
   "outputs": [
    {
     "name": "stdout",
     "output_type": "stream",
     "text": [
      "0             Borough       Code 1995-01-01 00:00:00 1995-02-01 00:00:00  \\\n",
      "1      City of London  E09000001               91449             82202.8   \n",
      "2  Barking & Dagenham  E09000002             50460.2             51085.8   \n",
      "3              Barnet  E09000003             93284.5             93190.2   \n",
      "4              Bexley  E09000004             64958.1             64787.9   \n",
      "5               Brent  E09000005             71306.6             72022.3   \n",
      "\n",
      "0 1995-03-01 00:00:00 1995-04-01 00:00:00 1995-05-01 00:00:00  \\\n",
      "1             79120.7             77101.2             84409.1   \n",
      "2               51269             53133.5             53042.2   \n",
      "3             92247.5             90762.9               90258   \n",
      "4             64367.5             64277.7             63997.1   \n",
      "5             72015.8             72965.6               73704   \n",
      "\n",
      "0 1995-06-01 00:00:00 1995-07-01 00:00:00 1995-08-01 00:00:00  ...  \\\n",
      "1             94900.5              110128              112329  ...   \n",
      "2             53700.3             52113.1             52232.2  ...   \n",
      "3             90107.2             91441.2             92361.3  ...   \n",
      "4             64252.3             63722.7             64432.6  ...   \n",
      "5             74310.5               74127               73547  ...   \n",
      "\n",
      "0 2022-12-01 00:00:00 2023-01-01 00:00:00 2023-02-01 00:00:00  \\\n",
      "1              975240              963094              869039   \n",
      "2              355596              353429              346193   \n",
      "3              592328              596085              602336   \n",
      "4              409059              402365              403398   \n",
      "5              552767              551093              534129   \n",
      "\n",
      "0 2023-03-01 00:00:00 2023-04-01 00:00:00 2023-05-01 00:00:00  \\\n",
      "1              930986              903718              958418   \n",
      "2              345288              348254              349590   \n",
      "3              596064              587132              575141   \n",
      "4              399796              398544              391077   \n",
      "5              525561              523992              524452   \n",
      "\n",
      "0 2023-06-01 00:00:00 2023-07-01 00:00:00 2023-08-01 00:00:00  \\\n",
      "1              951649              931176              861107   \n",
      "2              346099              343430              344171   \n",
      "3              575829              583479              597591   \n",
      "4              390880              396718              396278   \n",
      "5              531478              531425              557552   \n",
      "\n",
      "0 2023-09-01 00:00:00  \n",
      "1              807475  \n",
      "2              345614  \n",
      "3              584740  \n",
      "4              396292  \n",
      "5              565929  \n",
      "\n",
      "[5 rows x 347 columns]\n"
     ]
    }
   ],
   "source": [
    "#Goal: rename columns \"Unnamed: 0\" as \"Borough\" and \"NaN\" as \"Code\"\n",
    "#NaN cannot be renamed using \"NaN;\" Stack Overflow suggests accessing via pd.NaN (pd.NaT worked here)\n",
    "renamed = reset_indx_new.rename(columns={\"Unnamed: 0\" : \"Borough\", pd.NaT : \"Code\"})\n",
    "print(renamed.head())"
   ]
  },
  {
   "cell_type": "markdown",
   "metadata": {
    "colab_type": "text",
    "id": "jy8BzXHmoWEw"
   },
   "source": [
    "**2.4.Transforming the data**\n",
    "\n",
    "Remember what Wes McKinney said about tidy data? \n",
    "\n",
    "You might need to **melt** your DataFrame here. "
   ]
  },
  {
   "cell_type": "code",
   "execution_count": 37,
   "metadata": {
    "colab": {},
    "colab_type": "code",
    "id": "S2wM0qLuo2Zt"
   },
   "outputs": [
    {
     "name": "stdout",
     "output_type": "stream",
     "text": [
      "              Borough       Code          0    value\n",
      "0      City of London  E09000001 1995-01-01    91449\n",
      "1  Barking & Dagenham  E09000002 1995-01-01  50460.2\n",
      "2              Barnet  E09000003 1995-01-01  93284.5\n",
      "3              Bexley  E09000004 1995-01-01  64958.1\n",
      "4               Brent  E09000005 1995-01-01  71306.6\n",
      "5             Bromley  E09000006 1995-01-01  81671.5\n",
      "6              Camden  E09000007 1995-01-01   120933\n",
      "7             Croydon  E09000008 1995-01-01  69158.2\n",
      "8              Ealing  E09000009 1995-01-01  79885.9\n",
      "9             Enfield  E09000010 1995-01-01  72514.7\n"
     ]
    }
   ],
   "source": [
    "#Melt dataframe to reduce number of columns\n",
    "melted = pd.melt(renamed, id_vars = ['Borough', 'Code'])\n",
    "print(melted.head(10))"
   ]
  },
  {
   "cell_type": "code",
   "execution_count": 40,
   "metadata": {},
   "outputs": [
    {
     "name": "stdout",
     "output_type": "stream",
     "text": [
      "              Borough       Code    Dt_time Avg_price\n",
      "0      City of London  E09000001 1995-01-01     91449\n",
      "1  Barking & Dagenham  E09000002 1995-01-01   50460.2\n",
      "2              Barnet  E09000003 1995-01-01   93284.5\n",
      "3              Bexley  E09000004 1995-01-01   64958.1\n",
      "4               Brent  E09000005 1995-01-01   71306.6\n"
     ]
    }
   ],
   "source": [
    "#Rename columns\n",
    "melted_rename = melted.rename(columns={0 : \"Dt_time\", \"value\" : \"Avg_price\"})\n",
    "print(melted_rename.head())"
   ]
  },
  {
   "cell_type": "markdown",
   "metadata": {
    "colab_type": "text",
    "id": "7kIsgAo7o3mf"
   },
   "source": [
    "Remember to make sure your column data types are all correct. Average prices, for example, should be floating point numbers... "
   ]
  },
  {
   "cell_type": "code",
   "execution_count": 44,
   "metadata": {
    "colab": {},
    "colab_type": "code",
    "id": "ZcR4IHbcpOaq"
   },
   "outputs": [
    {
     "data": {
      "text/plain": [
       "Borough              object\n",
       "Code                 object\n",
       "Dt_time      datetime64[ns]\n",
       "Avg_price            object\n",
       "dtype: object"
      ]
     },
     "execution_count": 44,
     "metadata": {},
     "output_type": "execute_result"
    }
   ],
   "source": [
    "#Check column data types\n",
    "melted_rename.dtypes"
   ]
  },
  {
   "cell_type": "code",
   "execution_count": 46,
   "metadata": {},
   "outputs": [
    {
     "data": {
      "text/plain": [
       "Borough              object\n",
       "Code                 object\n",
       "Dt_time      datetime64[ns]\n",
       "Avg_price           float64\n",
       "dtype: object"
      ]
     },
     "execution_count": 46,
     "metadata": {},
     "output_type": "execute_result"
    }
   ],
   "source": [
    "#Change \"Avg_price\" type to float and check result\n",
    "melted_rename[\"Avg_price\"] = pd.to_numeric(melted_rename['Avg_price'])\n",
    "melted_rename.dtypes"
   ]
  },
  {
   "cell_type": "markdown",
   "metadata": {
    "colab_type": "text",
    "id": "knLUXHLypOtw"
   },
   "source": [
    "**2.5. Cleaning the data (part 3)**\n",
    "\n",
    "Do we have an equal number of observations in the ID, Average Price, Month, and London Borough columns? Remember that there are only 32 London Boroughs. How many entries do you have in that column? \n",
    "\n",
    "Check out the contents of the London Borough column, and if you find null values, get rid of them however you see fit. "
   ]
  },
  {
   "cell_type": "code",
   "execution_count": 50,
   "metadata": {
    "colab": {},
    "colab_type": "code",
    "id": "BnvTW5a3p0fC"
   },
   "outputs": [
    {
     "name": "stdout",
     "output_type": "stream",
     "text": [
      "['City of London' 'Barking & Dagenham' 'Barnet' 'Bexley' 'Brent' 'Bromley'\n",
      " 'Camden' 'Croydon' 'Ealing' 'Enfield' 'Greenwich' 'Hackney'\n",
      " 'Hammersmith & Fulham' 'Haringey' 'Harrow' 'Havering' 'Hillingdon'\n",
      " 'Hounslow' 'Islington' 'Kensington & Chelsea' 'Kingston upon Thames'\n",
      " 'Lambeth' 'Lewisham' 'Merton' 'Newham' 'Redbridge' 'Richmond upon Thames'\n",
      " 'Southwark' 'Sutton' 'Tower Hamlets' 'Waltham Forest' 'Wandsworth'\n",
      " 'Westminster' 'Unnamed: 34' 'Inner London' 'Outer London' 'Unnamed: 37'\n",
      " 'NORTH EAST' 'NORTH WEST' 'YORKS & THE HUMBER' 'EAST MIDLANDS'\n",
      " 'WEST MIDLANDS' 'EAST OF ENGLAND' 'LONDON' 'SOUTH EAST' 'SOUTH WEST'\n",
      " 'Unnamed: 47' 'England']\n",
      "Borough      16560\n",
      "Code         15525\n",
      "Dt_time      16560\n",
      "Avg_price    15525\n",
      "dtype: int64\n"
     ]
    }
   ],
   "source": [
    "#Take a look at column names and count entries in each column\n",
    "print(melted_rename['Borough'].unique())\n",
    "print(melted_rename.count())"
   ]
  },
  {
   "cell_type": "code",
   "execution_count": 53,
   "metadata": {},
   "outputs": [
    {
     "data": {
      "text/html": [
       "<div>\n",
       "<style scoped>\n",
       "    .dataframe tbody tr th:only-of-type {\n",
       "        vertical-align: middle;\n",
       "    }\n",
       "\n",
       "    .dataframe tbody tr th {\n",
       "        vertical-align: top;\n",
       "    }\n",
       "\n",
       "    .dataframe thead th {\n",
       "        text-align: right;\n",
       "    }\n",
       "</style>\n",
       "<table border=\"1\" class=\"dataframe\">\n",
       "  <thead>\n",
       "    <tr style=\"text-align: right;\">\n",
       "      <th></th>\n",
       "      <th>Borough</th>\n",
       "      <th>Code</th>\n",
       "      <th>Dt_time</th>\n",
       "      <th>Avg_price</th>\n",
       "    </tr>\n",
       "  </thead>\n",
       "  <tbody>\n",
       "    <tr>\n",
       "      <th>36</th>\n",
       "      <td>Unnamed: 37</td>\n",
       "      <td>NaN</td>\n",
       "      <td>1995-01-01</td>\n",
       "      <td>NaN</td>\n",
       "    </tr>\n",
       "    <tr>\n",
       "      <th>84</th>\n",
       "      <td>Unnamed: 37</td>\n",
       "      <td>NaN</td>\n",
       "      <td>1995-02-01</td>\n",
       "      <td>NaN</td>\n",
       "    </tr>\n",
       "    <tr>\n",
       "      <th>132</th>\n",
       "      <td>Unnamed: 37</td>\n",
       "      <td>NaN</td>\n",
       "      <td>1995-03-01</td>\n",
       "      <td>NaN</td>\n",
       "    </tr>\n",
       "    <tr>\n",
       "      <th>180</th>\n",
       "      <td>Unnamed: 37</td>\n",
       "      <td>NaN</td>\n",
       "      <td>1995-04-01</td>\n",
       "      <td>NaN</td>\n",
       "    </tr>\n",
       "    <tr>\n",
       "      <th>228</th>\n",
       "      <td>Unnamed: 37</td>\n",
       "      <td>NaN</td>\n",
       "      <td>1995-05-01</td>\n",
       "      <td>NaN</td>\n",
       "    </tr>\n",
       "    <tr>\n",
       "      <th>...</th>\n",
       "      <td>...</td>\n",
       "      <td>...</td>\n",
       "      <td>...</td>\n",
       "      <td>...</td>\n",
       "    </tr>\n",
       "    <tr>\n",
       "      <th>16356</th>\n",
       "      <td>Unnamed: 37</td>\n",
       "      <td>NaN</td>\n",
       "      <td>2023-05-01</td>\n",
       "      <td>NaN</td>\n",
       "    </tr>\n",
       "    <tr>\n",
       "      <th>16404</th>\n",
       "      <td>Unnamed: 37</td>\n",
       "      <td>NaN</td>\n",
       "      <td>2023-06-01</td>\n",
       "      <td>NaN</td>\n",
       "    </tr>\n",
       "    <tr>\n",
       "      <th>16452</th>\n",
       "      <td>Unnamed: 37</td>\n",
       "      <td>NaN</td>\n",
       "      <td>2023-07-01</td>\n",
       "      <td>NaN</td>\n",
       "    </tr>\n",
       "    <tr>\n",
       "      <th>16500</th>\n",
       "      <td>Unnamed: 37</td>\n",
       "      <td>NaN</td>\n",
       "      <td>2023-08-01</td>\n",
       "      <td>NaN</td>\n",
       "    </tr>\n",
       "    <tr>\n",
       "      <th>16548</th>\n",
       "      <td>Unnamed: 37</td>\n",
       "      <td>NaN</td>\n",
       "      <td>2023-09-01</td>\n",
       "      <td>NaN</td>\n",
       "    </tr>\n",
       "  </tbody>\n",
       "</table>\n",
       "<p>345 rows × 4 columns</p>\n",
       "</div>"
      ],
      "text/plain": [
       "           Borough Code    Dt_time  Avg_price\n",
       "36     Unnamed: 37  NaN 1995-01-01        NaN\n",
       "84     Unnamed: 37  NaN 1995-02-01        NaN\n",
       "132    Unnamed: 37  NaN 1995-03-01        NaN\n",
       "180    Unnamed: 37  NaN 1995-04-01        NaN\n",
       "228    Unnamed: 37  NaN 1995-05-01        NaN\n",
       "...            ...  ...        ...        ...\n",
       "16356  Unnamed: 37  NaN 2023-05-01        NaN\n",
       "16404  Unnamed: 37  NaN 2023-06-01        NaN\n",
       "16452  Unnamed: 37  NaN 2023-07-01        NaN\n",
       "16500  Unnamed: 37  NaN 2023-08-01        NaN\n",
       "16548  Unnamed: 37  NaN 2023-09-01        NaN\n",
       "\n",
       "[345 rows x 4 columns]"
      ]
     },
     "execution_count": 53,
     "metadata": {},
     "output_type": "execute_result"
    }
   ],
   "source": [
    "#Look at the \"Unnamed\" columns; looks like no data present\n",
    "melted_rename[melted_rename['Borough'] == 'Unnamed: 34']"
   ]
  },
  {
   "cell_type": "code",
   "execution_count": 56,
   "metadata": {},
   "outputs": [
    {
     "data": {
      "text/html": [
       "<div>\n",
       "<style scoped>\n",
       "    .dataframe tbody tr th:only-of-type {\n",
       "        vertical-align: middle;\n",
       "    }\n",
       "\n",
       "    .dataframe tbody tr th {\n",
       "        vertical-align: top;\n",
       "    }\n",
       "\n",
       "    .dataframe thead th {\n",
       "        text-align: right;\n",
       "    }\n",
       "</style>\n",
       "<table border=\"1\" class=\"dataframe\">\n",
       "  <thead>\n",
       "    <tr style=\"text-align: right;\">\n",
       "      <th></th>\n",
       "      <th>Borough</th>\n",
       "      <th>Code</th>\n",
       "      <th>Dt_time</th>\n",
       "      <th>Avg_price</th>\n",
       "    </tr>\n",
       "  </thead>\n",
       "  <tbody>\n",
       "    <tr>\n",
       "      <th>33</th>\n",
       "      <td>Unnamed: 34</td>\n",
       "      <td>NaN</td>\n",
       "      <td>1995-01-01</td>\n",
       "      <td>NaN</td>\n",
       "    </tr>\n",
       "    <tr>\n",
       "      <th>36</th>\n",
       "      <td>Unnamed: 37</td>\n",
       "      <td>NaN</td>\n",
       "      <td>1995-01-01</td>\n",
       "      <td>NaN</td>\n",
       "    </tr>\n",
       "    <tr>\n",
       "      <th>46</th>\n",
       "      <td>Unnamed: 47</td>\n",
       "      <td>NaN</td>\n",
       "      <td>1995-01-01</td>\n",
       "      <td>NaN</td>\n",
       "    </tr>\n",
       "    <tr>\n",
       "      <th>81</th>\n",
       "      <td>Unnamed: 34</td>\n",
       "      <td>NaN</td>\n",
       "      <td>1995-02-01</td>\n",
       "      <td>NaN</td>\n",
       "    </tr>\n",
       "    <tr>\n",
       "      <th>84</th>\n",
       "      <td>Unnamed: 37</td>\n",
       "      <td>NaN</td>\n",
       "      <td>1995-02-01</td>\n",
       "      <td>NaN</td>\n",
       "    </tr>\n",
       "    <tr>\n",
       "      <th>...</th>\n",
       "      <td>...</td>\n",
       "      <td>...</td>\n",
       "      <td>...</td>\n",
       "      <td>...</td>\n",
       "    </tr>\n",
       "    <tr>\n",
       "      <th>16500</th>\n",
       "      <td>Unnamed: 37</td>\n",
       "      <td>NaN</td>\n",
       "      <td>2023-08-01</td>\n",
       "      <td>NaN</td>\n",
       "    </tr>\n",
       "    <tr>\n",
       "      <th>16510</th>\n",
       "      <td>Unnamed: 47</td>\n",
       "      <td>NaN</td>\n",
       "      <td>2023-08-01</td>\n",
       "      <td>NaN</td>\n",
       "    </tr>\n",
       "    <tr>\n",
       "      <th>16545</th>\n",
       "      <td>Unnamed: 34</td>\n",
       "      <td>NaN</td>\n",
       "      <td>2023-09-01</td>\n",
       "      <td>NaN</td>\n",
       "    </tr>\n",
       "    <tr>\n",
       "      <th>16548</th>\n",
       "      <td>Unnamed: 37</td>\n",
       "      <td>NaN</td>\n",
       "      <td>2023-09-01</td>\n",
       "      <td>NaN</td>\n",
       "    </tr>\n",
       "    <tr>\n",
       "      <th>16558</th>\n",
       "      <td>Unnamed: 47</td>\n",
       "      <td>NaN</td>\n",
       "      <td>2023-09-01</td>\n",
       "      <td>NaN</td>\n",
       "    </tr>\n",
       "  </tbody>\n",
       "</table>\n",
       "<p>1035 rows × 4 columns</p>\n",
       "</div>"
      ],
      "text/plain": [
       "           Borough Code    Dt_time  Avg_price\n",
       "33     Unnamed: 34  NaN 1995-01-01        NaN\n",
       "36     Unnamed: 37  NaN 1995-01-01        NaN\n",
       "46     Unnamed: 47  NaN 1995-01-01        NaN\n",
       "81     Unnamed: 34  NaN 1995-02-01        NaN\n",
       "84     Unnamed: 37  NaN 1995-02-01        NaN\n",
       "...            ...  ...        ...        ...\n",
       "16500  Unnamed: 37  NaN 2023-08-01        NaN\n",
       "16510  Unnamed: 47  NaN 2023-08-01        NaN\n",
       "16545  Unnamed: 34  NaN 2023-09-01        NaN\n",
       "16548  Unnamed: 37  NaN 2023-09-01        NaN\n",
       "16558  Unnamed: 47  NaN 2023-09-01        NaN\n",
       "\n",
       "[1035 rows x 4 columns]"
      ]
     },
     "execution_count": 56,
     "metadata": {},
     "output_type": "execute_result"
    }
   ],
   "source": [
    "#\"Unnamed\" Boroughs share NaN entries in \"Code\" and \"Avg_price\" and can be selected using those features\n",
    "melted_rename[melted_rename['Code'].isna()]"
   ]
  },
  {
   "cell_type": "code",
   "execution_count": 61,
   "metadata": {},
   "outputs": [
    {
     "data": {
      "text/html": [
       "<div>\n",
       "<style scoped>\n",
       "    .dataframe tbody tr th:only-of-type {\n",
       "        vertical-align: middle;\n",
       "    }\n",
       "\n",
       "    .dataframe tbody tr th {\n",
       "        vertical-align: top;\n",
       "    }\n",
       "\n",
       "    .dataframe thead th {\n",
       "        text-align: right;\n",
       "    }\n",
       "</style>\n",
       "<table border=\"1\" class=\"dataframe\">\n",
       "  <thead>\n",
       "    <tr style=\"text-align: right;\">\n",
       "      <th></th>\n",
       "      <th>Borough</th>\n",
       "      <th>Code</th>\n",
       "      <th>Dt_time</th>\n",
       "      <th>Avg_price</th>\n",
       "    </tr>\n",
       "  </thead>\n",
       "  <tbody>\n",
       "    <tr>\n",
       "      <th>0</th>\n",
       "      <td>City of London</td>\n",
       "      <td>E09000001</td>\n",
       "      <td>1995-01-01</td>\n",
       "      <td>91448.98487</td>\n",
       "    </tr>\n",
       "    <tr>\n",
       "      <th>1</th>\n",
       "      <td>Barking &amp; Dagenham</td>\n",
       "      <td>E09000002</td>\n",
       "      <td>1995-01-01</td>\n",
       "      <td>50460.22660</td>\n",
       "    </tr>\n",
       "    <tr>\n",
       "      <th>2</th>\n",
       "      <td>Barnet</td>\n",
       "      <td>E09000003</td>\n",
       "      <td>1995-01-01</td>\n",
       "      <td>93284.51832</td>\n",
       "    </tr>\n",
       "    <tr>\n",
       "      <th>3</th>\n",
       "      <td>Bexley</td>\n",
       "      <td>E09000004</td>\n",
       "      <td>1995-01-01</td>\n",
       "      <td>64958.09036</td>\n",
       "    </tr>\n",
       "    <tr>\n",
       "      <th>4</th>\n",
       "      <td>Brent</td>\n",
       "      <td>E09000005</td>\n",
       "      <td>1995-01-01</td>\n",
       "      <td>71306.56698</td>\n",
       "    </tr>\n",
       "    <tr>\n",
       "      <th>5</th>\n",
       "      <td>Bromley</td>\n",
       "      <td>E09000006</td>\n",
       "      <td>1995-01-01</td>\n",
       "      <td>81671.47692</td>\n",
       "    </tr>\n",
       "    <tr>\n",
       "      <th>6</th>\n",
       "      <td>Camden</td>\n",
       "      <td>E09000007</td>\n",
       "      <td>1995-01-01</td>\n",
       "      <td>120932.88810</td>\n",
       "    </tr>\n",
       "    <tr>\n",
       "      <th>7</th>\n",
       "      <td>Croydon</td>\n",
       "      <td>E09000008</td>\n",
       "      <td>1995-01-01</td>\n",
       "      <td>69158.16225</td>\n",
       "    </tr>\n",
       "    <tr>\n",
       "      <th>8</th>\n",
       "      <td>Ealing</td>\n",
       "      <td>E09000009</td>\n",
       "      <td>1995-01-01</td>\n",
       "      <td>79885.89069</td>\n",
       "    </tr>\n",
       "    <tr>\n",
       "      <th>9</th>\n",
       "      <td>Enfield</td>\n",
       "      <td>E09000010</td>\n",
       "      <td>1995-01-01</td>\n",
       "      <td>72514.69096</td>\n",
       "    </tr>\n",
       "    <tr>\n",
       "      <th>10</th>\n",
       "      <td>Greenwich</td>\n",
       "      <td>E09000011</td>\n",
       "      <td>1995-01-01</td>\n",
       "      <td>62300.10169</td>\n",
       "    </tr>\n",
       "    <tr>\n",
       "      <th>11</th>\n",
       "      <td>Hackney</td>\n",
       "      <td>E09000012</td>\n",
       "      <td>1995-01-01</td>\n",
       "      <td>61296.52637</td>\n",
       "    </tr>\n",
       "    <tr>\n",
       "      <th>12</th>\n",
       "      <td>Hammersmith &amp; Fulham</td>\n",
       "      <td>E09000013</td>\n",
       "      <td>1995-01-01</td>\n",
       "      <td>124902.86020</td>\n",
       "    </tr>\n",
       "    <tr>\n",
       "      <th>13</th>\n",
       "      <td>Haringey</td>\n",
       "      <td>E09000014</td>\n",
       "      <td>1995-01-01</td>\n",
       "      <td>76287.56947</td>\n",
       "    </tr>\n",
       "    <tr>\n",
       "      <th>14</th>\n",
       "      <td>Harrow</td>\n",
       "      <td>E09000015</td>\n",
       "      <td>1995-01-01</td>\n",
       "      <td>84769.52599</td>\n",
       "    </tr>\n",
       "    <tr>\n",
       "      <th>15</th>\n",
       "      <td>Havering</td>\n",
       "      <td>E09000016</td>\n",
       "      <td>1995-01-01</td>\n",
       "      <td>68000.13774</td>\n",
       "    </tr>\n",
       "    <tr>\n",
       "      <th>16</th>\n",
       "      <td>Hillingdon</td>\n",
       "      <td>E09000017</td>\n",
       "      <td>1995-01-01</td>\n",
       "      <td>73834.82964</td>\n",
       "    </tr>\n",
       "    <tr>\n",
       "      <th>17</th>\n",
       "      <td>Hounslow</td>\n",
       "      <td>E09000018</td>\n",
       "      <td>1995-01-01</td>\n",
       "      <td>72231.70537</td>\n",
       "    </tr>\n",
       "    <tr>\n",
       "      <th>18</th>\n",
       "      <td>Islington</td>\n",
       "      <td>E09000019</td>\n",
       "      <td>1995-01-01</td>\n",
       "      <td>92516.48557</td>\n",
       "    </tr>\n",
       "    <tr>\n",
       "      <th>19</th>\n",
       "      <td>Kensington &amp; Chelsea</td>\n",
       "      <td>E09000020</td>\n",
       "      <td>1995-01-01</td>\n",
       "      <td>182694.83260</td>\n",
       "    </tr>\n",
       "    <tr>\n",
       "      <th>20</th>\n",
       "      <td>Kingston upon Thames</td>\n",
       "      <td>E09000021</td>\n",
       "      <td>1995-01-01</td>\n",
       "      <td>80875.84843</td>\n",
       "    </tr>\n",
       "    <tr>\n",
       "      <th>21</th>\n",
       "      <td>Lambeth</td>\n",
       "      <td>E09000022</td>\n",
       "      <td>1995-01-01</td>\n",
       "      <td>67770.98843</td>\n",
       "    </tr>\n",
       "    <tr>\n",
       "      <th>22</th>\n",
       "      <td>Lewisham</td>\n",
       "      <td>E09000023</td>\n",
       "      <td>1995-01-01</td>\n",
       "      <td>60491.26109</td>\n",
       "    </tr>\n",
       "    <tr>\n",
       "      <th>23</th>\n",
       "      <td>Merton</td>\n",
       "      <td>E09000024</td>\n",
       "      <td>1995-01-01</td>\n",
       "      <td>82070.61330</td>\n",
       "    </tr>\n",
       "    <tr>\n",
       "      <th>24</th>\n",
       "      <td>Newham</td>\n",
       "      <td>E09000025</td>\n",
       "      <td>1995-01-01</td>\n",
       "      <td>53539.31919</td>\n",
       "    </tr>\n",
       "    <tr>\n",
       "      <th>25</th>\n",
       "      <td>Redbridge</td>\n",
       "      <td>E09000026</td>\n",
       "      <td>1995-01-01</td>\n",
       "      <td>72189.58437</td>\n",
       "    </tr>\n",
       "    <tr>\n",
       "      <th>26</th>\n",
       "      <td>Richmond upon Thames</td>\n",
       "      <td>E09000027</td>\n",
       "      <td>1995-01-01</td>\n",
       "      <td>109326.12450</td>\n",
       "    </tr>\n",
       "    <tr>\n",
       "      <th>27</th>\n",
       "      <td>Southwark</td>\n",
       "      <td>E09000028</td>\n",
       "      <td>1995-01-01</td>\n",
       "      <td>67885.20344</td>\n",
       "    </tr>\n",
       "    <tr>\n",
       "      <th>28</th>\n",
       "      <td>Sutton</td>\n",
       "      <td>E09000029</td>\n",
       "      <td>1995-01-01</td>\n",
       "      <td>71536.97357</td>\n",
       "    </tr>\n",
       "    <tr>\n",
       "      <th>29</th>\n",
       "      <td>Tower Hamlets</td>\n",
       "      <td>E09000030</td>\n",
       "      <td>1995-01-01</td>\n",
       "      <td>59865.18995</td>\n",
       "    </tr>\n",
       "    <tr>\n",
       "      <th>30</th>\n",
       "      <td>Waltham Forest</td>\n",
       "      <td>E09000031</td>\n",
       "      <td>1995-01-01</td>\n",
       "      <td>61319.44913</td>\n",
       "    </tr>\n",
       "    <tr>\n",
       "      <th>31</th>\n",
       "      <td>Wandsworth</td>\n",
       "      <td>E09000032</td>\n",
       "      <td>1995-01-01</td>\n",
       "      <td>88559.04381</td>\n",
       "    </tr>\n",
       "    <tr>\n",
       "      <th>32</th>\n",
       "      <td>Westminster</td>\n",
       "      <td>E09000033</td>\n",
       "      <td>1995-01-01</td>\n",
       "      <td>133025.27720</td>\n",
       "    </tr>\n",
       "    <tr>\n",
       "      <th>34</th>\n",
       "      <td>Inner London</td>\n",
       "      <td>E13000001</td>\n",
       "      <td>1995-01-01</td>\n",
       "      <td>78251.97650</td>\n",
       "    </tr>\n",
       "    <tr>\n",
       "      <th>35</th>\n",
       "      <td>Outer London</td>\n",
       "      <td>E13000002</td>\n",
       "      <td>1995-01-01</td>\n",
       "      <td>72958.79836</td>\n",
       "    </tr>\n",
       "    <tr>\n",
       "      <th>37</th>\n",
       "      <td>NORTH EAST</td>\n",
       "      <td>E12000001</td>\n",
       "      <td>1995-01-01</td>\n",
       "      <td>42076.35411</td>\n",
       "    </tr>\n",
       "    <tr>\n",
       "      <th>38</th>\n",
       "      <td>NORTH WEST</td>\n",
       "      <td>E12000002</td>\n",
       "      <td>1995-01-01</td>\n",
       "      <td>43958.48001</td>\n",
       "    </tr>\n",
       "  </tbody>\n",
       "</table>\n",
       "</div>"
      ],
      "text/plain": [
       "                 Borough       Code    Dt_time     Avg_price\n",
       "0         City of London  E09000001 1995-01-01   91448.98487\n",
       "1     Barking & Dagenham  E09000002 1995-01-01   50460.22660\n",
       "2                 Barnet  E09000003 1995-01-01   93284.51832\n",
       "3                 Bexley  E09000004 1995-01-01   64958.09036\n",
       "4                  Brent  E09000005 1995-01-01   71306.56698\n",
       "5                Bromley  E09000006 1995-01-01   81671.47692\n",
       "6                 Camden  E09000007 1995-01-01  120932.88810\n",
       "7                Croydon  E09000008 1995-01-01   69158.16225\n",
       "8                 Ealing  E09000009 1995-01-01   79885.89069\n",
       "9                Enfield  E09000010 1995-01-01   72514.69096\n",
       "10             Greenwich  E09000011 1995-01-01   62300.10169\n",
       "11               Hackney  E09000012 1995-01-01   61296.52637\n",
       "12  Hammersmith & Fulham  E09000013 1995-01-01  124902.86020\n",
       "13              Haringey  E09000014 1995-01-01   76287.56947\n",
       "14                Harrow  E09000015 1995-01-01   84769.52599\n",
       "15              Havering  E09000016 1995-01-01   68000.13774\n",
       "16            Hillingdon  E09000017 1995-01-01   73834.82964\n",
       "17              Hounslow  E09000018 1995-01-01   72231.70537\n",
       "18             Islington  E09000019 1995-01-01   92516.48557\n",
       "19  Kensington & Chelsea  E09000020 1995-01-01  182694.83260\n",
       "20  Kingston upon Thames  E09000021 1995-01-01   80875.84843\n",
       "21               Lambeth  E09000022 1995-01-01   67770.98843\n",
       "22              Lewisham  E09000023 1995-01-01   60491.26109\n",
       "23                Merton  E09000024 1995-01-01   82070.61330\n",
       "24                Newham  E09000025 1995-01-01   53539.31919\n",
       "25             Redbridge  E09000026 1995-01-01   72189.58437\n",
       "26  Richmond upon Thames  E09000027 1995-01-01  109326.12450\n",
       "27             Southwark  E09000028 1995-01-01   67885.20344\n",
       "28                Sutton  E09000029 1995-01-01   71536.97357\n",
       "29         Tower Hamlets  E09000030 1995-01-01   59865.18995\n",
       "30        Waltham Forest  E09000031 1995-01-01   61319.44913\n",
       "31            Wandsworth  E09000032 1995-01-01   88559.04381\n",
       "32           Westminster  E09000033 1995-01-01  133025.27720\n",
       "34          Inner London  E13000001 1995-01-01   78251.97650\n",
       "35          Outer London  E13000002 1995-01-01   72958.79836\n",
       "37            NORTH EAST  E12000001 1995-01-01   42076.35411\n",
       "38            NORTH WEST  E12000002 1995-01-01   43958.48001"
      ]
     },
     "execution_count": 61,
     "metadata": {},
     "output_type": "execute_result"
    }
   ],
   "source": [
    "#Drop entries where \"Code\" = NaN; check that 'Unnamed: 34' has dropped\n",
    "dropped_nan = melted_rename.dropna()\n",
    "dropped_nan.head(37)"
   ]
  },
  {
   "cell_type": "code",
   "execution_count": 63,
   "metadata": {},
   "outputs": [
    {
     "data": {
      "text/plain": [
       "Borough      15525\n",
       "Code         15525\n",
       "Dt_time      15525\n",
       "Avg_price    15525\n",
       "dtype: int64"
      ]
     },
     "execution_count": 63,
     "metadata": {},
     "output_type": "execute_result"
    }
   ],
   "source": [
    "#Check that counts are same for all columns\n",
    "dropped_nan.count()"
   ]
  },
  {
   "cell_type": "code",
   "execution_count": 65,
   "metadata": {},
   "outputs": [
    {
     "name": "stdout",
     "output_type": "stream",
     "text": [
      "['City of London' 'Barking & Dagenham' 'Barnet' 'Bexley' 'Brent' 'Bromley'\n",
      " 'Camden' 'Croydon' 'Ealing' 'Enfield' 'Greenwich' 'Hackney'\n",
      " 'Hammersmith & Fulham' 'Haringey' 'Harrow' 'Havering' 'Hillingdon'\n",
      " 'Hounslow' 'Islington' 'Kensington & Chelsea' 'Kingston upon Thames'\n",
      " 'Lambeth' 'Lewisham' 'Merton' 'Newham' 'Redbridge' 'Richmond upon Thames'\n",
      " 'Southwark' 'Sutton' 'Tower Hamlets' 'Waltham Forest' 'Wandsworth'\n",
      " 'Westminster' 'Inner London' 'Outer London' 'NORTH EAST' 'NORTH WEST'\n",
      " 'YORKS & THE HUMBER' 'EAST MIDLANDS' 'WEST MIDLANDS' 'EAST OF ENGLAND'\n",
      " 'LONDON' 'SOUTH EAST' 'SOUTH WEST' 'England']\n"
     ]
    }
   ],
   "source": [
    "#Take a look at column names and check which aren't real Boroughs\n",
    "print(dropped_nan['Borough'].unique())\n",
    "#Will have to drop everything after and including \"Inner London\""
   ]
  },
  {
   "cell_type": "code",
   "execution_count": 72,
   "metadata": {},
   "outputs": [
    {
     "name": "stdout",
     "output_type": "stream",
     "text": [
      "              Borough       Code    Dt_time    Avg_price\n",
      "0      City of London  E09000001 1995-01-01  91448.98487\n",
      "1  Barking & Dagenham  E09000002 1995-01-01  50460.22660\n",
      "2              Barnet  E09000003 1995-01-01  93284.51832\n",
      "3              Bexley  E09000004 1995-01-01  64958.09036\n",
      "4               Brent  E09000005 1995-01-01  71306.56698\n",
      "['City of London' 'Barking & Dagenham' 'Barnet' 'Bexley' 'Brent' 'Bromley'\n",
      " 'Camden' 'Croydon' 'Ealing' 'Enfield' 'Greenwich' 'Hackney'\n",
      " 'Hammersmith & Fulham' 'Haringey' 'Harrow' 'Havering' 'Hillingdon'\n",
      " 'Hounslow' 'Islington' 'Kensington & Chelsea' 'Kingston upon Thames'\n",
      " 'Lambeth' 'Lewisham' 'Merton' 'Newham' 'Redbridge' 'Richmond upon Thames'\n",
      " 'Southwark' 'Sutton' 'Tower Hamlets' 'Waltham Forest' 'Wandsworth'\n",
      " 'Westminster']\n"
     ]
    }
   ],
   "source": [
    "#Select the desired boroughs, then check unique values. Rename \"boroughs_slxn\"\n",
    "boroughs_slxn = dropped_nan.loc[dropped_nan['Borough'].isin(['City of London', 'Barking & Dagenham', 'Barnet', 'Bexley', \n",
    "                                                            'Brent', 'Bromley', 'Camden', 'Croydon', 'Ealing', 'Enfield', \n",
    "                                                             'Greenwich', 'Hackney', 'Hammersmith & Fulham', 'Haringey', \n",
    "                                                             'Harrow', 'Havering', 'Hillingdon', 'Hounslow', 'Islington', \n",
    "                                                             'Kensington & Chelsea', 'Kingston upon Thames', 'Lambeth',\n",
    "                                                             'Lewisham', 'Merton', 'Newham', 'Redbridge', 'Richmond upon Thames',\n",
    "                                                             'Southwark', 'Sutton', 'Tower Hamlets', 'Waltham Forest', \n",
    "                                                             'Wandsworth', 'Westminster'])]\n",
    "print(boroughs_slxn.head())\n",
    "print(boroughs_slxn['Borough'].unique())\n",
    "df = boroughs_slxn"
   ]
  },
  {
   "cell_type": "markdown",
   "metadata": {
    "colab_type": "text",
    "id": "PGEx6mJsp6dG"
   },
   "source": [
    "**2.6. Visualizing the data**\n",
    "\n",
    "To visualize the data, why not subset on a particular London Borough? Maybe do a line plot of Month against Average Price?"
   ]
  },
  {
   "cell_type": "code",
   "execution_count": 76,
   "metadata": {
    "colab": {},
    "colab_type": "code",
    "id": "nAg5pT9cqHAR"
   },
   "outputs": [],
   "source": [
    "#Subset a borough\n",
    "brent_avg_price = df[df['Borough'] == 'Brent']"
   ]
  },
  {
   "cell_type": "code",
   "execution_count": 85,
   "metadata": {},
   "outputs": [
    {
     "data": {
      "text/plain": [
       "Text(0, 0.5, 'Average price')"
      ]
     },
     "execution_count": 85,
     "metadata": {},
     "output_type": "execute_result"
    },
    {
     "data": {
      "image/png": "[encoded data removed]",
      "text/plain": [
       "<Figure size 432x288 with 1 Axes>"
      ]
     },
     "metadata": {
      "needs_background": "light"
     },
     "output_type": "display_data"
    }
   ],
   "source": [
    "ax = brent_avg_price.plot(kind = 'line', x = 'Dt_time', y = 'Avg_price')\n",
    "ax.set_ylabel(\"Price\")\n",
    "plt.xlabel('Year')\n",
    "plt.ylabel('Average price')"
   ]
  },
  {
   "cell_type": "markdown",
   "metadata": {
    "colab_type": "text",
    "id": "aWTPqSJeqHnC"
   },
   "source": [
    "To limit the number of data points you have, you might want to extract the year from every month value your *Month* column. \n",
    "\n",
    "To this end, you *could* apply a ***lambda function***. Your logic could work as follows:\n",
    "1. look through the `Month` column\n",
    "2. extract the year from each individual value in that column \n",
    "3. store that corresponding year as separate column. \n",
    "\n",
    "Whether you go ahead with this is up to you. Just so long as you answer our initial brief: which boroughs of London have seen the greatest house price increase, on average, over the past two decades? "
   ]
  },
  {
   "cell_type": "code",
   "execution_count": 82,
   "metadata": {
    "colab": {},
    "colab_type": "code",
    "id": "e0DF92cyqnu8"
   },
   "outputs": [
    {
     "name": "stderr",
     "output_type": "stream",
     "text": [
      "<ipython-input-82-4159c4193625>:1: SettingWithCopyWarning: \n",
      "A value is trying to be set on a copy of a slice from a DataFrame.\n",
      "Try using .loc[row_indexer,col_indexer] = value instead\n",
      "\n",
      "See the caveats in the documentation: https://pandas.pydata.org/pandas-docs/stable/user_guide/indexing.html#returning-a-view-versus-a-copy\n",
      "  df['year'] = df['Dt_time'].apply(lambda p: p.year)\n"
     ]
    },
    {
     "data": {
      "text/html": [
       "<div>\n",
       "<style scoped>\n",
       "    .dataframe tbody tr th:only-of-type {\n",
       "        vertical-align: middle;\n",
       "    }\n",
       "\n",
       "    .dataframe tbody tr th {\n",
       "        vertical-align: top;\n",
       "    }\n",
       "\n",
       "    .dataframe thead th {\n",
       "        text-align: right;\n",
       "    }\n",
       "</style>\n",
       "<table border=\"1\" class=\"dataframe\">\n",
       "  <thead>\n",
       "    <tr style=\"text-align: right;\">\n",
       "      <th></th>\n",
       "      <th>Borough</th>\n",
       "      <th>Code</th>\n",
       "      <th>Dt_time</th>\n",
       "      <th>Avg_price</th>\n",
       "      <th>year</th>\n",
       "      <th>month</th>\n",
       "    </tr>\n",
       "  </thead>\n",
       "  <tbody>\n",
       "    <tr>\n",
       "      <th>0</th>\n",
       "      <td>City of London</td>\n",
       "      <td>E09000001</td>\n",
       "      <td>1995-01-01</td>\n",
       "      <td>91448.98487</td>\n",
       "      <td>1995</td>\n",
       "      <td>1</td>\n",
       "    </tr>\n",
       "    <tr>\n",
       "      <th>1</th>\n",
       "      <td>Barking &amp; Dagenham</td>\n",
       "      <td>E09000002</td>\n",
       "      <td>1995-01-01</td>\n",
       "      <td>50460.22660</td>\n",
       "      <td>1995</td>\n",
       "      <td>1</td>\n",
       "    </tr>\n",
       "    <tr>\n",
       "      <th>2</th>\n",
       "      <td>Barnet</td>\n",
       "      <td>E09000003</td>\n",
       "      <td>1995-01-01</td>\n",
       "      <td>93284.51832</td>\n",
       "      <td>1995</td>\n",
       "      <td>1</td>\n",
       "    </tr>\n",
       "    <tr>\n",
       "      <th>3</th>\n",
       "      <td>Bexley</td>\n",
       "      <td>E09000004</td>\n",
       "      <td>1995-01-01</td>\n",
       "      <td>64958.09036</td>\n",
       "      <td>1995</td>\n",
       "      <td>1</td>\n",
       "    </tr>\n",
       "    <tr>\n",
       "      <th>4</th>\n",
       "      <td>Brent</td>\n",
       "      <td>E09000005</td>\n",
       "      <td>1995-01-01</td>\n",
       "      <td>71306.56698</td>\n",
       "      <td>1995</td>\n",
       "      <td>1</td>\n",
       "    </tr>\n",
       "    <tr>\n",
       "      <th>...</th>\n",
       "      <td>...</td>\n",
       "      <td>...</td>\n",
       "      <td>...</td>\n",
       "      <td>...</td>\n",
       "      <td>...</td>\n",
       "      <td>...</td>\n",
       "    </tr>\n",
       "    <tr>\n",
       "      <th>16540</th>\n",
       "      <td>Sutton</td>\n",
       "      <td>E09000029</td>\n",
       "      <td>2023-09-01</td>\n",
       "      <td>437958.00000</td>\n",
       "      <td>2023</td>\n",
       "      <td>9</td>\n",
       "    </tr>\n",
       "    <tr>\n",
       "      <th>16541</th>\n",
       "      <td>Tower Hamlets</td>\n",
       "      <td>E09000030</td>\n",
       "      <td>2023-09-01</td>\n",
       "      <td>509454.00000</td>\n",
       "      <td>2023</td>\n",
       "      <td>9</td>\n",
       "    </tr>\n",
       "    <tr>\n",
       "      <th>16542</th>\n",
       "      <td>Waltham Forest</td>\n",
       "      <td>E09000031</td>\n",
       "      <td>2023-09-01</td>\n",
       "      <td>510471.00000</td>\n",
       "      <td>2023</td>\n",
       "      <td>9</td>\n",
       "    </tr>\n",
       "    <tr>\n",
       "      <th>16543</th>\n",
       "      <td>Wandsworth</td>\n",
       "      <td>E09000032</td>\n",
       "      <td>2023-09-01</td>\n",
       "      <td>637929.00000</td>\n",
       "      <td>2023</td>\n",
       "      <td>9</td>\n",
       "    </tr>\n",
       "    <tr>\n",
       "      <th>16544</th>\n",
       "      <td>Westminster</td>\n",
       "      <td>E09000033</td>\n",
       "      <td>2023-09-01</td>\n",
       "      <td>967277.00000</td>\n",
       "      <td>2023</td>\n",
       "      <td>9</td>\n",
       "    </tr>\n",
       "  </tbody>\n",
       "</table>\n",
       "<p>11385 rows × 6 columns</p>\n",
       "</div>"
      ],
      "text/plain": [
       "                  Borough       Code    Dt_time     Avg_price  year  month\n",
       "0          City of London  E09000001 1995-01-01   91448.98487  1995      1\n",
       "1      Barking & Dagenham  E09000002 1995-01-01   50460.22660  1995      1\n",
       "2                  Barnet  E09000003 1995-01-01   93284.51832  1995      1\n",
       "3                  Bexley  E09000004 1995-01-01   64958.09036  1995      1\n",
       "4                   Brent  E09000005 1995-01-01   71306.56698  1995      1\n",
       "...                   ...        ...        ...           ...   ...    ...\n",
       "16540              Sutton  E09000029 2023-09-01  437958.00000  2023      9\n",
       "16541       Tower Hamlets  E09000030 2023-09-01  509454.00000  2023      9\n",
       "16542      Waltham Forest  E09000031 2023-09-01  510471.00000  2023      9\n",
       "16543          Wandsworth  E09000032 2023-09-01  637929.00000  2023      9\n",
       "16544         Westminster  E09000033 2023-09-01  967277.00000  2023      9\n",
       "\n",
       "[11385 rows x 6 columns]"
      ]
     },
     "execution_count": 82,
     "metadata": {},
     "output_type": "execute_result"
    }
   ],
   "source": [
    "#create year and month columns with a lambda function\n",
    "df['year'] = df['Dt_time'].apply(lambda p: p.year)\n",
    "df"
   ]
  },
  {
   "cell_type": "code",
   "execution_count": 93,
   "metadata": {},
   "outputs": [
    {
     "data": {
      "text/html": [
       "<div>\n",
       "<style scoped>\n",
       "    .dataframe tbody tr th:only-of-type {\n",
       "        vertical-align: middle;\n",
       "    }\n",
       "\n",
       "    .dataframe tbody tr th {\n",
       "        vertical-align: top;\n",
       "    }\n",
       "\n",
       "    .dataframe thead th {\n",
       "        text-align: right;\n",
       "    }\n",
       "</style>\n",
       "<table border=\"1\" class=\"dataframe\">\n",
       "  <thead>\n",
       "    <tr style=\"text-align: right;\">\n",
       "      <th></th>\n",
       "      <th></th>\n",
       "      <th>Avg_price</th>\n",
       "      <th>month</th>\n",
       "    </tr>\n",
       "    <tr>\n",
       "      <th>Borough</th>\n",
       "      <th>year</th>\n",
       "      <th></th>\n",
       "      <th></th>\n",
       "    </tr>\n",
       "  </thead>\n",
       "  <tbody>\n",
       "    <tr>\n",
       "      <th>Croydon</th>\n",
       "      <th>2005</th>\n",
       "      <td>204407.333817</td>\n",
       "      <td>6.5</td>\n",
       "    </tr>\n",
       "    <tr>\n",
       "      <th>Wandsworth</th>\n",
       "      <th>2022</th>\n",
       "      <td>633794.667028</td>\n",
       "      <td>6.5</td>\n",
       "    </tr>\n",
       "    <tr>\n",
       "      <th>Southwark</th>\n",
       "      <th>2017</th>\n",
       "      <td>515883.332175</td>\n",
       "      <td>6.5</td>\n",
       "    </tr>\n",
       "    <tr>\n",
       "      <th>Merton</th>\n",
       "      <th>2022</th>\n",
       "      <td>566936.207776</td>\n",
       "      <td>6.5</td>\n",
       "    </tr>\n",
       "    <tr>\n",
       "      <th>Southwark</th>\n",
       "      <th>2014</th>\n",
       "      <td>427767.413767</td>\n",
       "      <td>6.5</td>\n",
       "    </tr>\n",
       "    <tr>\n",
       "      <th>Hillingdon</th>\n",
       "      <th>2020</th>\n",
       "      <td>409823.588358</td>\n",
       "      <td>6.5</td>\n",
       "    </tr>\n",
       "    <tr>\n",
       "      <th>Harrow</th>\n",
       "      <th>2006</th>\n",
       "      <td>265447.963683</td>\n",
       "      <td>6.5</td>\n",
       "    </tr>\n",
       "    <tr>\n",
       "      <th>Richmond upon Thames</th>\n",
       "      <th>2003</th>\n",
       "      <td>294167.994608</td>\n",
       "      <td>6.5</td>\n",
       "    </tr>\n",
       "    <tr>\n",
       "      <th>Hillingdon</th>\n",
       "      <th>2011</th>\n",
       "      <td>251781.663308</td>\n",
       "      <td>6.5</td>\n",
       "    </tr>\n",
       "    <tr>\n",
       "      <th>Kingston upon Thames</th>\n",
       "      <th>2006</th>\n",
       "      <td>264667.037392</td>\n",
       "      <td>6.5</td>\n",
       "    </tr>\n",
       "  </tbody>\n",
       "</table>\n",
       "</div>"
      ],
      "text/plain": [
       "                               Avg_price  month\n",
       "Borough              year                      \n",
       "Croydon              2005  204407.333817    6.5\n",
       "Wandsworth           2022  633794.667028    6.5\n",
       "Southwark            2017  515883.332175    6.5\n",
       "Merton               2022  566936.207776    6.5\n",
       "Southwark            2014  427767.413767    6.5\n",
       "Hillingdon           2020  409823.588358    6.5\n",
       "Harrow               2006  265447.963683    6.5\n",
       "Richmond upon Thames 2003  294167.994608    6.5\n",
       "Hillingdon           2011  251781.663308    6.5\n",
       "Kingston upon Thames 2006  264667.037392    6.5"
      ]
     },
     "execution_count": 93,
     "metadata": {},
     "output_type": "execute_result"
    }
   ],
   "source": [
    "#Use groupby to help examine data. \n",
    "dfg = df.groupby(by=['Borough', 'year']).mean()\n",
    "dfg.sample(10)"
   ]
  },
  {
   "cell_type": "code",
   "execution_count": 95,
   "metadata": {},
   "outputs": [],
   "source": [
    "#Reset index\n",
    "dfg = dfg.reset_index()"
   ]
  },
  {
   "cell_type": "markdown",
   "metadata": {
    "colab_type": "text",
    "id": "2knuTxAEqoJ4"
   },
   "source": [
    "**3. Modeling**\n",
    "\n",
    "Consider creating a function that will calculate a ratio of house prices, comparing the price of a house in 2018 to the price in 1998.\n",
    "\n",
    "Consider calling this function create_price_ratio.\n",
    "\n",
    "You'd want this function to:\n",
    "1. Take a filter of dfg, specifically where this filter constrains the London_Borough, as an argument. For example, one admissible argument should be: dfg[dfg['London_Borough']=='Camden'].\n",
    "2. Get the Average Price for that Borough, for the years 1998 and 2018.\n",
    "4. Calculate the ratio of the Average Price for 1998 divided by the Average Price for 2018.\n",
    "5. Return that ratio.\n",
    "\n",
    "Once you've written this function, you ultimately want to use it to iterate through all the unique London_Boroughs and work out the ratio capturing the difference of house prices between 1998 and 2018.\n",
    "\n",
    "Bear in mind: you don't have to write a function like this if you don't want to. If you can solve the brief otherwise, then great! \n",
    "\n",
    "***Hint***: This section should test the skills you acquired in:\n",
    "- Python Data Science Toolbox - Part One, all modules"
   ]
  },
  {
   "cell_type": "code",
   "execution_count": 119,
   "metadata": {
    "colab": {},
    "colab_type": "code",
    "id": "cKTyr437UgDa"
   },
   "outputs": [],
   "source": [
    "#Define create price ratio function\n",
    "def create_price_ratio(df) :\n",
    "    avg_price_1998 = df[df['year'] == 1998]['Avg_price'].mean()\n",
    "    avg_price_2018 = df[df['year'] == 2018]['Avg_price'].mean()\n",
    "    ratio = [avg_price_2018 / avg_price_1998]\n",
    "    return ratio"
   ]
  },
  {
   "cell_type": "code",
   "execution_count": 120,
   "metadata": {},
   "outputs": [
    {
     "data": {
      "text/plain": [
       "[4.118522608573157]"
      ]
     },
     "execution_count": 120,
     "metadata": {},
     "output_type": "execute_result"
    }
   ],
   "source": [
    "#Try out function\n",
    "create_price_ratio(dfg[dfg['Borough'] == 'Sutton'])"
   ]
  },
  {
   "cell_type": "code",
   "execution_count": 121,
   "metadata": {},
   "outputs": [],
   "source": [
    "#Make empty dictionary to fill\n",
    "price_ratio = {}"
   ]
  },
  {
   "cell_type": "code",
   "execution_count": 122,
   "metadata": {},
   "outputs": [
    {
     "name": "stdout",
     "output_type": "stream",
     "text": [
      "{'Barking & Dagenham': [4.89661861291754], 'Barnet': [4.358195917538044], 'Bexley': [4.248977046127877], 'Brent': [4.8945544971392865], 'Bromley': [4.0947846853338765], 'Camden': [4.935353408884261], 'City of London': [5.301620377587609], 'Croydon': [4.201100280024767], 'Ealing': [4.311450902121834], 'Enfield': [4.26347158349581], 'Greenwich': [4.763036347329193], 'Hackney': [6.198285561008662], 'Hammersmith & Fulham': [4.137798101936229], 'Haringey': [5.134624964136042], 'Harrow': [4.0591964329643195], 'Havering': [4.325230371335308], 'Hillingdon': [4.2002730803844575], 'Hounslow': [3.976409106143329], 'Islington': [4.844048012802298], 'Kensington & Chelsea': [5.082465066092464], 'Kingston upon Thames': [4.270549521484271], 'Lambeth': [4.957751163514063], 'Lewisham': [5.449221041059685], 'Merton': [4.741273313294604], 'Newham': [5.305390437201879], 'Redbridge': [4.471182006097364], 'Richmond upon Thames': [4.005161895721457], 'Southwark': [5.516485302379376], 'Sutton': [4.118522608573157], 'Tower Hamlets': [4.62670104006116], 'Waltham Forest': [5.83475580932281], 'Wandsworth': [4.757709347739269], 'Westminster': [5.353565392605413]}\n"
     ]
    }
   ],
   "source": [
    "#Iterate over boroughs\n",
    "for b in dfg['Borough'].unique():\n",
    "    boroughs = dfg[dfg['Borough'] == b]\n",
    "    price_ratio[b] = create_price_ratio(boroughs)\n",
    "print(price_ratio)\n"
   ]
  },
  {
   "cell_type": "code",
   "execution_count": 125,
   "metadata": {},
   "outputs": [
    {
     "data": {
      "text/html": [
       "<div>\n",
       "<style scoped>\n",
       "    .dataframe tbody tr th:only-of-type {\n",
       "        vertical-align: middle;\n",
       "    }\n",
       "\n",
       "    .dataframe tbody tr th {\n",
       "        vertical-align: top;\n",
       "    }\n",
       "\n",
       "    .dataframe thead th {\n",
       "        text-align: right;\n",
       "    }\n",
       "</style>\n",
       "<table border=\"1\" class=\"dataframe\">\n",
       "  <thead>\n",
       "    <tr style=\"text-align: right;\">\n",
       "      <th></th>\n",
       "      <th>Barking &amp; Dagenham</th>\n",
       "      <th>Barnet</th>\n",
       "      <th>Bexley</th>\n",
       "      <th>Brent</th>\n",
       "      <th>Bromley</th>\n",
       "      <th>Camden</th>\n",
       "      <th>City of London</th>\n",
       "      <th>Croydon</th>\n",
       "      <th>Ealing</th>\n",
       "      <th>Enfield</th>\n",
       "      <th>...</th>\n",
       "      <th>Merton</th>\n",
       "      <th>Newham</th>\n",
       "      <th>Redbridge</th>\n",
       "      <th>Richmond upon Thames</th>\n",
       "      <th>Southwark</th>\n",
       "      <th>Sutton</th>\n",
       "      <th>Tower Hamlets</th>\n",
       "      <th>Waltham Forest</th>\n",
       "      <th>Wandsworth</th>\n",
       "      <th>Westminster</th>\n",
       "    </tr>\n",
       "  </thead>\n",
       "  <tbody>\n",
       "    <tr>\n",
       "      <th>0</th>\n",
       "      <td>4.896619</td>\n",
       "      <td>4.358196</td>\n",
       "      <td>4.248977</td>\n",
       "      <td>4.894554</td>\n",
       "      <td>4.094785</td>\n",
       "      <td>4.935353</td>\n",
       "      <td>5.30162</td>\n",
       "      <td>4.2011</td>\n",
       "      <td>4.311451</td>\n",
       "      <td>4.263472</td>\n",
       "      <td>...</td>\n",
       "      <td>4.741273</td>\n",
       "      <td>5.30539</td>\n",
       "      <td>4.471182</td>\n",
       "      <td>4.005162</td>\n",
       "      <td>5.516485</td>\n",
       "      <td>4.118523</td>\n",
       "      <td>4.626701</td>\n",
       "      <td>5.834756</td>\n",
       "      <td>4.757709</td>\n",
       "      <td>5.353565</td>\n",
       "    </tr>\n",
       "  </tbody>\n",
       "</table>\n",
       "<p>1 rows × 33 columns</p>\n",
       "</div>"
      ],
      "text/plain": [
       "   Barking & Dagenham    Barnet    Bexley     Brent   Bromley    Camden  \\\n",
       "0            4.896619  4.358196  4.248977  4.894554  4.094785  4.935353   \n",
       "\n",
       "   City of London  Croydon    Ealing   Enfield  ...    Merton   Newham  \\\n",
       "0         5.30162   4.2011  4.311451  4.263472  ...  4.741273  5.30539   \n",
       "\n",
       "   Redbridge  Richmond upon Thames  Southwark    Sutton  Tower Hamlets  \\\n",
       "0   4.471182              4.005162   5.516485  4.118523       4.626701   \n",
       "\n",
       "   Waltham Forest  Wandsworth  Westminster  \n",
       "0        5.834756    4.757709     5.353565  \n",
       "\n",
       "[1 rows x 33 columns]"
      ]
     },
     "execution_count": 125,
     "metadata": {},
     "output_type": "execute_result"
    }
   ],
   "source": [
    "#Create DataFrame from dictionary and examine. Needs to be transposed!\n",
    "df_price_ratios = pd.DataFrame(price_ratio)\n",
    "df_price_ratios.head()"
   ]
  },
  {
   "cell_type": "code",
   "execution_count": 126,
   "metadata": {},
   "outputs": [
    {
     "data": {
      "text/html": [
       "<div>\n",
       "<style scoped>\n",
       "    .dataframe tbody tr th:only-of-type {\n",
       "        vertical-align: middle;\n",
       "    }\n",
       "\n",
       "    .dataframe tbody tr th {\n",
       "        vertical-align: top;\n",
       "    }\n",
       "\n",
       "    .dataframe thead th {\n",
       "        text-align: right;\n",
       "    }\n",
       "</style>\n",
       "<table border=\"1\" class=\"dataframe\">\n",
       "  <thead>\n",
       "    <tr style=\"text-align: right;\">\n",
       "      <th></th>\n",
       "      <th>index</th>\n",
       "      <th>0</th>\n",
       "    </tr>\n",
       "  </thead>\n",
       "  <tbody>\n",
       "    <tr>\n",
       "      <th>0</th>\n",
       "      <td>Barking &amp; Dagenham</td>\n",
       "      <td>4.896619</td>\n",
       "    </tr>\n",
       "    <tr>\n",
       "      <th>1</th>\n",
       "      <td>Barnet</td>\n",
       "      <td>4.358196</td>\n",
       "    </tr>\n",
       "    <tr>\n",
       "      <th>2</th>\n",
       "      <td>Bexley</td>\n",
       "      <td>4.248977</td>\n",
       "    </tr>\n",
       "    <tr>\n",
       "      <th>3</th>\n",
       "      <td>Brent</td>\n",
       "      <td>4.894554</td>\n",
       "    </tr>\n",
       "    <tr>\n",
       "      <th>4</th>\n",
       "      <td>Bromley</td>\n",
       "      <td>4.094785</td>\n",
       "    </tr>\n",
       "  </tbody>\n",
       "</table>\n",
       "</div>"
      ],
      "text/plain": [
       "                index         0\n",
       "0  Barking & Dagenham  4.896619\n",
       "1              Barnet  4.358196\n",
       "2              Bexley  4.248977\n",
       "3               Brent  4.894554\n",
       "4             Bromley  4.094785"
      ]
     },
     "execution_count": 126,
     "metadata": {},
     "output_type": "execute_result"
    }
   ],
   "source": [
    "#Transpose and reset index.\n",
    "T_df_ratios = df_price_ratios.T\n",
    "df_ratios = T_df_ratios.reset_index()\n",
    "df_ratios.head()"
   ]
  },
  {
   "cell_type": "code",
   "execution_count": 127,
   "metadata": {},
   "outputs": [
    {
     "data": {
      "text/html": [
       "<div>\n",
       "<style scoped>\n",
       "    .dataframe tbody tr th:only-of-type {\n",
       "        vertical-align: middle;\n",
       "    }\n",
       "\n",
       "    .dataframe tbody tr th {\n",
       "        vertical-align: top;\n",
       "    }\n",
       "\n",
       "    .dataframe thead th {\n",
       "        text-align: right;\n",
       "    }\n",
       "</style>\n",
       "<table border=\"1\" class=\"dataframe\">\n",
       "  <thead>\n",
       "    <tr style=\"text-align: right;\">\n",
       "      <th></th>\n",
       "      <th>Borough</th>\n",
       "      <th>2018_over_1998</th>\n",
       "    </tr>\n",
       "  </thead>\n",
       "  <tbody>\n",
       "    <tr>\n",
       "      <th>0</th>\n",
       "      <td>Barking &amp; Dagenham</td>\n",
       "      <td>4.896619</td>\n",
       "    </tr>\n",
       "    <tr>\n",
       "      <th>1</th>\n",
       "      <td>Barnet</td>\n",
       "      <td>4.358196</td>\n",
       "    </tr>\n",
       "    <tr>\n",
       "      <th>2</th>\n",
       "      <td>Bexley</td>\n",
       "      <td>4.248977</td>\n",
       "    </tr>\n",
       "    <tr>\n",
       "      <th>3</th>\n",
       "      <td>Brent</td>\n",
       "      <td>4.894554</td>\n",
       "    </tr>\n",
       "    <tr>\n",
       "      <th>4</th>\n",
       "      <td>Bromley</td>\n",
       "      <td>4.094785</td>\n",
       "    </tr>\n",
       "  </tbody>\n",
       "</table>\n",
       "</div>"
      ],
      "text/plain": [
       "              Borough  2018_over_1998\n",
       "0  Barking & Dagenham        4.896619\n",
       "1              Barnet        4.358196\n",
       "2              Bexley        4.248977\n",
       "3               Brent        4.894554\n",
       "4             Bromley        4.094785"
      ]
     },
     "execution_count": 127,
     "metadata": {},
     "output_type": "execute_result"
    }
   ],
   "source": [
    "#Rename columns\n",
    "df_ratios.rename(columns = {'index' : 'Borough', 0 : '2018_over_1998'}, inplace = True)\n",
    "df_ratios.head()"
   ]
  },
  {
   "cell_type": "code",
   "execution_count": 128,
   "metadata": {},
   "outputs": [
    {
     "name": "stdout",
     "output_type": "stream",
     "text": [
      "                 Borough  2018_over_1998\n",
      "11               Hackney        6.198286\n",
      "30        Waltham Forest        5.834756\n",
      "27             Southwark        5.516485\n",
      "22              Lewisham        5.449221\n",
      "32           Westminster        5.353565\n",
      "24                Newham        5.305390\n",
      "6         City of London        5.301620\n",
      "13              Haringey        5.134625\n",
      "19  Kensington & Chelsea        5.082465\n",
      "21               Lambeth        4.957751\n",
      "5                 Camden        4.935353\n",
      "0     Barking & Dagenham        4.896619\n",
      "3                  Brent        4.894554\n",
      "18             Islington        4.844048\n",
      "10             Greenwich        4.763036\n",
      "31            Wandsworth        4.757709\n",
      "23                Merton        4.741273\n",
      "29         Tower Hamlets        4.626701\n",
      "25             Redbridge        4.471182\n",
      "1                 Barnet        4.358196\n",
      "15              Havering        4.325230\n",
      "8                 Ealing        4.311451\n",
      "20  Kingston upon Thames        4.270550\n",
      "9                Enfield        4.263472\n",
      "2                 Bexley        4.248977\n",
      "7                Croydon        4.201100\n",
      "16            Hillingdon        4.200273\n",
      "12  Hammersmith & Fulham        4.137798\n",
      "28                Sutton        4.118523\n",
      "4                Bromley        4.094785\n",
      "14                Harrow        4.059196\n",
      "26  Richmond upon Thames        4.005162\n",
      "17              Hounslow        3.976409\n"
     ]
    }
   ],
   "source": [
    "#Sort in descending order\n",
    "boroughs_desc = df_ratios.sort_values(by = '2018_over_1998', ascending = False)\n",
    "print(boroughs_desc)"
   ]
  },
  {
   "cell_type": "code",
   "execution_count": 130,
   "metadata": {},
   "outputs": [
    {
     "data": {
      "image/png": "[encoded data removed]",
      "text/plain": [
       "<Figure size 432x288 with 1 Axes>"
      ]
     },
     "metadata": {
      "needs_background": "light"
     },
     "output_type": "display_data"
    }
   ],
   "source": [
    "#Plot results\n",
    "ax = boroughs_desc[['Borough','2018_over_1998']].plot(kind = 'bar')"
   ]
  },
  {
   "cell_type": "code",
   "execution_count": 132,
   "metadata": {},
   "outputs": [
    {
     "data": {
      "text/plain": [
       "[Text(0, 0, 'Hackney'),\n",
       " Text(1, 0, 'Waltham Forest'),\n",
       " Text(2, 0, 'Southwark'),\n",
       " Text(3, 0, 'Lewisham'),\n",
       " Text(4, 0, 'Westminster'),\n",
       " Text(5, 0, 'Newham'),\n",
       " Text(6, 0, 'City of London'),\n",
       " Text(7, 0, 'Haringey'),\n",
       " Text(8, 0, 'Kensington & Chelsea'),\n",
       " Text(9, 0, 'Lambeth'),\n",
       " Text(10, 0, 'Camden'),\n",
       " Text(11, 0, 'Barking & Dagenham'),\n",
       " Text(12, 0, 'Brent'),\n",
       " Text(13, 0, 'Islington'),\n",
       " Text(14, 0, 'Greenwich'),\n",
       " Text(15, 0, 'Wandsworth'),\n",
       " Text(16, 0, 'Merton'),\n",
       " Text(17, 0, 'Tower Hamlets'),\n",
       " Text(18, 0, 'Redbridge'),\n",
       " Text(19, 0, 'Barnet'),\n",
       " Text(20, 0, 'Havering'),\n",
       " Text(21, 0, 'Ealing'),\n",
       " Text(22, 0, 'Kingston upon Thames'),\n",
       " Text(23, 0, 'Enfield'),\n",
       " Text(24, 0, 'Bexley'),\n",
       " Text(25, 0, 'Croydon'),\n",
       " Text(26, 0, 'Hillingdon'),\n",
       " Text(27, 0, 'Hammersmith & Fulham'),\n",
       " Text(28, 0, 'Sutton'),\n",
       " Text(29, 0, 'Bromley'),\n",
       " Text(30, 0, 'Harrow'),\n",
       " Text(31, 0, 'Richmond upon Thames'),\n",
       " Text(32, 0, 'Hounslow')]"
      ]
     },
     "execution_count": 132,
     "metadata": {},
     "output_type": "execute_result"
    },
    {
     "data": {
      "image/png": "[encoded data removed]",
      "text/plain": [
       "<Figure size 432x288 with 1 Axes>"
      ]
     },
     "metadata": {
      "needs_background": "light"
     },
     "output_type": "display_data"
    }
   ],
   "source": [
    "#rename x ticks\n",
    "ax = boroughs_desc[['Borough','2018_over_1998']].plot(kind = 'bar')\n",
    "ax.set_xticklabels(boroughs_desc.Borough)"
   ]
  },
  {
   "cell_type": "markdown",
   "metadata": {
    "colab_type": "text",
    "id": "NzYUI7FxJpgv"
   },
   "source": [
    "### 4. Conclusion\n",
    "What can you conclude? Type out your conclusion below. \n",
    "\n",
    "Look back at your notebook. Think about how you might summarize what you have done, and prepare a quick presentation on it to your mentor at your next meeting. \n",
    "\n",
    "We hope you enjoyed this practical project. It should have consolidated your data hygiene and pandas skills by looking at a real-world problem involving just the kind of dataset you might encounter as a budding data scientist. Congratulations, and looking forward to seeing you at the next step in the course! \n",
    "\n",
    "\n",
    "CONCLUSION:\n",
    "London housing prices have experienced the greatest average increase between 1998 and 2018 in the boroughs Hackney, Waltham Forest, Southwark, Lewisham, and Westminster. The maximum increase was 620% in Hackney; the minimum increase was 398% in Hounslow. Mapping this data may provide additional insights."
   ]
  }
 ],
 "metadata": {
  "colab": {
   "collapsed_sections": [],
   "name": "Springboard Data Science Career Track Unit 4 Challenge - Tier 3 Complete .ipynb",
   "provenance": []
  },
  "kernelspec": {
   "display_name": "Python 3",
   "language": "python",
   "name": "python3"
  },
  "language_info": {
   "codemirror_mode": {
    "name": "ipython",
    "version": 3
   },
   "file_extension": ".py",
   "mimetype": "text/x-python",
   "name": "python",
   "nbconvert_exporter": "python",
   "pygments_lexer": "ipython3",
   "version": "3.8.5"
  }
 },
 "nbformat": 4,
 "nbformat_minor": 4
}
